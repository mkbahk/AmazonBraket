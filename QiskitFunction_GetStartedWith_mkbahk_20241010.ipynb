{
  "nbformat": 4,
  "nbformat_minor": 0,
  "metadata": {
    "colab": {
      "provenance": [],
      "authorship_tag": "ABX9TyPMOdYK8cdSNK0rROR6/Vqj",
      "include_colab_link": true
    },
    "kernelspec": {
      "name": "python3",
      "display_name": "Python 3"
    },
    "language_info": {
      "name": "python"
    }
  },
  "cells": [
    {
      "cell_type": "markdown",
      "metadata": {
        "id": "view-in-github",
        "colab_type": "text"
      },
      "source": [
        "<a href=\"https://colab.research.google.com/github/mkbahk/AmazonBraket/blob/main/QiskitFunction_GetStartedWith_mkbahk_20241010.ipynb\" target=\"_parent\"><img src=\"https://colab.research.google.com/assets/colab-badge.svg\" alt=\"Open In Colab\"/></a>"
      ]
    },
    {
      "cell_type": "markdown",
      "source": [
        "[Qiskit Functions](https://docs.quantum.ibm.com/guides/functions)"
      ],
      "metadata": {
        "id": "s-PRzVNmH-Rx"
      }
    },
    {
      "cell_type": "code",
      "execution_count": 21,
      "metadata": {
        "colab": {
          "base_uri": "https://localhost:8080/"
        },
        "id": "tNqJK6YcDa7d",
        "outputId": "0aca0041-3d3d-4d5b-e236-bdab8cb46d3d"
      },
      "outputs": [
        {
          "output_type": "stream",
          "name": "stdout",
          "text": [
            "Requirement already satisfied: qiskit==1.2.4 in /usr/local/lib/python3.10/dist-packages (from qiskit[visualization]==1.2.4) (1.2.4)\n",
            "Requirement already satisfied: rustworkx>=0.15.0 in /usr/local/lib/python3.10/dist-packages (from qiskit==1.2.4->qiskit[visualization]==1.2.4) (0.15.1)\n",
            "Requirement already satisfied: numpy<3,>=1.17 in /usr/local/lib/python3.10/dist-packages (from qiskit==1.2.4->qiskit[visualization]==1.2.4) (1.26.4)\n",
            "Requirement already satisfied: scipy>=1.5 in /usr/local/lib/python3.10/dist-packages (from qiskit==1.2.4->qiskit[visualization]==1.2.4) (1.13.1)\n",
            "Requirement already satisfied: sympy>=1.3 in /usr/local/lib/python3.10/dist-packages (from qiskit==1.2.4->qiskit[visualization]==1.2.4) (1.13.1)\n",
            "Requirement already satisfied: dill>=0.3 in /usr/local/lib/python3.10/dist-packages (from qiskit==1.2.4->qiskit[visualization]==1.2.4) (0.3.9)\n",
            "Requirement already satisfied: python-dateutil>=2.8.0 in /usr/local/lib/python3.10/dist-packages (from qiskit==1.2.4->qiskit[visualization]==1.2.4) (2.8.2)\n",
            "Requirement already satisfied: stevedore>=3.0.0 in /usr/local/lib/python3.10/dist-packages (from qiskit==1.2.4->qiskit[visualization]==1.2.4) (5.3.0)\n",
            "Requirement already satisfied: typing-extensions in /usr/local/lib/python3.10/dist-packages (from qiskit==1.2.4->qiskit[visualization]==1.2.4) (4.12.2)\n",
            "Requirement already satisfied: symengine<0.14,>=0.11 in /usr/local/lib/python3.10/dist-packages (from qiskit==1.2.4->qiskit[visualization]==1.2.4) (0.13.0)\n",
            "Requirement already satisfied: matplotlib>=3.3 in /usr/local/lib/python3.10/dist-packages (from qiskit[visualization]==1.2.4) (3.8.0)\n",
            "Requirement already satisfied: pydot in /usr/local/lib/python3.10/dist-packages (from qiskit[visualization]==1.2.4) (3.0.2)\n",
            "Requirement already satisfied: Pillow>=4.2.1 in /usr/local/lib/python3.10/dist-packages (from qiskit[visualization]==1.2.4) (10.4.0)\n",
            "Requirement already satisfied: pylatexenc>=1.4 in /usr/local/lib/python3.10/dist-packages (from qiskit[visualization]==1.2.4) (2.10)\n",
            "Requirement already satisfied: seaborn>=0.9.0 in /usr/local/lib/python3.10/dist-packages (from qiskit[visualization]==1.2.4) (0.13.2)\n",
            "Requirement already satisfied: contourpy>=1.0.1 in /usr/local/lib/python3.10/dist-packages (from matplotlib>=3.3->qiskit[visualization]==1.2.4) (1.3.0)\n",
            "Requirement already satisfied: cycler>=0.10 in /usr/local/lib/python3.10/dist-packages (from matplotlib>=3.3->qiskit[visualization]==1.2.4) (0.12.1)\n",
            "Requirement already satisfied: fonttools>=4.22.0 in /usr/local/lib/python3.10/dist-packages (from matplotlib>=3.3->qiskit[visualization]==1.2.4) (4.54.1)\n",
            "Requirement already satisfied: kiwisolver>=1.0.1 in /usr/local/lib/python3.10/dist-packages (from matplotlib>=3.3->qiskit[visualization]==1.2.4) (1.4.7)\n",
            "Requirement already satisfied: packaging>=20.0 in /usr/local/lib/python3.10/dist-packages (from matplotlib>=3.3->qiskit[visualization]==1.2.4) (24.1)\n",
            "Requirement already satisfied: pyparsing>=2.3.1 in /usr/local/lib/python3.10/dist-packages (from matplotlib>=3.3->qiskit[visualization]==1.2.4) (3.2.0)\n",
            "Requirement already satisfied: six>=1.5 in /usr/local/lib/python3.10/dist-packages (from python-dateutil>=2.8.0->qiskit==1.2.4->qiskit[visualization]==1.2.4) (1.16.0)\n",
            "Requirement already satisfied: pandas>=1.2 in /usr/local/lib/python3.10/dist-packages (from seaborn>=0.9.0->qiskit[visualization]==1.2.4) (2.2.2)\n",
            "Requirement already satisfied: pbr>=2.0.0 in /usr/local/lib/python3.10/dist-packages (from stevedore>=3.0.0->qiskit==1.2.4->qiskit[visualization]==1.2.4) (6.1.0)\n",
            "Requirement already satisfied: mpmath<1.4,>=1.1.0 in /usr/local/lib/python3.10/dist-packages (from sympy>=1.3->qiskit==1.2.4->qiskit[visualization]==1.2.4) (1.3.0)\n",
            "Requirement already satisfied: pytz>=2020.1 in /usr/local/lib/python3.10/dist-packages (from pandas>=1.2->seaborn>=0.9.0->qiskit[visualization]==1.2.4) (2024.2)\n",
            "Requirement already satisfied: tzdata>=2022.7 in /usr/local/lib/python3.10/dist-packages (from pandas>=1.2->seaborn>=0.9.0->qiskit[visualization]==1.2.4) (2024.2)\n",
            "Requirement already satisfied: qiskit-ibm-runtime==0.30.0 in /usr/local/lib/python3.10/dist-packages (0.30.0)\n",
            "Requirement already satisfied: requests>=2.19 in /usr/local/lib/python3.10/dist-packages (from qiskit-ibm-runtime==0.30.0) (2.32.3)\n",
            "Requirement already satisfied: requests-ntlm>=1.1.0 in /usr/local/lib/python3.10/dist-packages (from qiskit-ibm-runtime==0.30.0) (1.3.0)\n",
            "Requirement already satisfied: numpy>=1.13 in /usr/local/lib/python3.10/dist-packages (from qiskit-ibm-runtime==0.30.0) (1.26.4)\n",
            "Requirement already satisfied: urllib3>=1.21.1 in /usr/local/lib/python3.10/dist-packages (from qiskit-ibm-runtime==0.30.0) (2.2.3)\n",
            "Requirement already satisfied: python-dateutil>=2.8.0 in /usr/local/lib/python3.10/dist-packages (from qiskit-ibm-runtime==0.30.0) (2.8.2)\n",
            "Requirement already satisfied: websocket-client>=1.5.1 in /usr/local/lib/python3.10/dist-packages (from qiskit-ibm-runtime==0.30.0) (1.8.0)\n",
            "Requirement already satisfied: ibm-platform-services>=0.22.6 in /usr/local/lib/python3.10/dist-packages (from qiskit-ibm-runtime==0.30.0) (0.59.0)\n",
            "Requirement already satisfied: pydantic>=2.5.0 in /usr/local/lib/python3.10/dist-packages (from qiskit-ibm-runtime==0.30.0) (2.9.2)\n",
            "Requirement already satisfied: qiskit>=1.1.0 in /usr/local/lib/python3.10/dist-packages (from qiskit-ibm-runtime==0.30.0) (1.2.4)\n",
            "Requirement already satisfied: ibm-cloud-sdk-core<4.0.0,>=3.22.0 in /usr/local/lib/python3.10/dist-packages (from ibm-platform-services>=0.22.6->qiskit-ibm-runtime==0.30.0) (3.22.0)\n",
            "Requirement already satisfied: annotated-types>=0.6.0 in /usr/local/lib/python3.10/dist-packages (from pydantic>=2.5.0->qiskit-ibm-runtime==0.30.0) (0.7.0)\n",
            "Requirement already satisfied: pydantic-core==2.23.4 in /usr/local/lib/python3.10/dist-packages (from pydantic>=2.5.0->qiskit-ibm-runtime==0.30.0) (2.23.4)\n",
            "Requirement already satisfied: typing-extensions>=4.6.1 in /usr/local/lib/python3.10/dist-packages (from pydantic>=2.5.0->qiskit-ibm-runtime==0.30.0) (4.12.2)\n",
            "Requirement already satisfied: six>=1.5 in /usr/local/lib/python3.10/dist-packages (from python-dateutil>=2.8.0->qiskit-ibm-runtime==0.30.0) (1.16.0)\n",
            "Requirement already satisfied: rustworkx>=0.15.0 in /usr/local/lib/python3.10/dist-packages (from qiskit>=1.1.0->qiskit-ibm-runtime==0.30.0) (0.15.1)\n",
            "Requirement already satisfied: scipy>=1.5 in /usr/local/lib/python3.10/dist-packages (from qiskit>=1.1.0->qiskit-ibm-runtime==0.30.0) (1.13.1)\n",
            "Requirement already satisfied: sympy>=1.3 in /usr/local/lib/python3.10/dist-packages (from qiskit>=1.1.0->qiskit-ibm-runtime==0.30.0) (1.13.1)\n",
            "Requirement already satisfied: dill>=0.3 in /usr/local/lib/python3.10/dist-packages (from qiskit>=1.1.0->qiskit-ibm-runtime==0.30.0) (0.3.9)\n",
            "Requirement already satisfied: stevedore>=3.0.0 in /usr/local/lib/python3.10/dist-packages (from qiskit>=1.1.0->qiskit-ibm-runtime==0.30.0) (5.3.0)\n",
            "Requirement already satisfied: symengine<0.14,>=0.11 in /usr/local/lib/python3.10/dist-packages (from qiskit>=1.1.0->qiskit-ibm-runtime==0.30.0) (0.13.0)\n",
            "Requirement already satisfied: charset-normalizer<4,>=2 in /usr/local/lib/python3.10/dist-packages (from requests>=2.19->qiskit-ibm-runtime==0.30.0) (3.4.0)\n",
            "Requirement already satisfied: idna<4,>=2.5 in /usr/local/lib/python3.10/dist-packages (from requests>=2.19->qiskit-ibm-runtime==0.30.0) (3.10)\n",
            "Requirement already satisfied: certifi>=2017.4.17 in /usr/local/lib/python3.10/dist-packages (from requests>=2.19->qiskit-ibm-runtime==0.30.0) (2024.8.30)\n",
            "Requirement already satisfied: cryptography>=1.3 in /usr/local/lib/python3.10/dist-packages (from requests-ntlm>=1.1.0->qiskit-ibm-runtime==0.30.0) (43.0.3)\n",
            "Requirement already satisfied: pyspnego>=0.4.0 in /usr/local/lib/python3.10/dist-packages (from requests-ntlm>=1.1.0->qiskit-ibm-runtime==0.30.0) (0.11.1)\n",
            "Requirement already satisfied: cffi>=1.12 in /usr/local/lib/python3.10/dist-packages (from cryptography>=1.3->requests-ntlm>=1.1.0->qiskit-ibm-runtime==0.30.0) (1.17.1)\n",
            "Requirement already satisfied: PyJWT<3.0.0,>=2.8.0 in /usr/local/lib/python3.10/dist-packages (from ibm-cloud-sdk-core<4.0.0,>=3.22.0->ibm-platform-services>=0.22.6->qiskit-ibm-runtime==0.30.0) (2.9.0)\n",
            "Requirement already satisfied: pbr>=2.0.0 in /usr/local/lib/python3.10/dist-packages (from stevedore>=3.0.0->qiskit>=1.1.0->qiskit-ibm-runtime==0.30.0) (6.1.0)\n",
            "Requirement already satisfied: mpmath<1.4,>=1.1.0 in /usr/local/lib/python3.10/dist-packages (from sympy>=1.3->qiskit>=1.1.0->qiskit-ibm-runtime==0.30.0) (1.3.0)\n",
            "Requirement already satisfied: pycparser in /usr/local/lib/python3.10/dist-packages (from cffi>=1.12->cryptography>=1.3->requests-ntlm>=1.1.0->qiskit-ibm-runtime==0.30.0) (2.22)\n",
            "Requirement already satisfied: qiskit-transpiler-service==0.4.10 in /usr/local/lib/python3.10/dist-packages (0.4.10)\n",
            "Requirement already satisfied: qiskit~=1.0 in /usr/local/lib/python3.10/dist-packages (from qiskit-transpiler-service==0.4.10) (1.2.4)\n",
            "Requirement already satisfied: backoff~=2.0 in /usr/local/lib/python3.10/dist-packages (from qiskit-transpiler-service==0.4.10) (2.2.1)\n",
            "Requirement already satisfied: qiskit-qasm3-import~=0.4 in /usr/local/lib/python3.10/dist-packages (from qiskit-transpiler-service==0.4.10) (0.5.0)\n",
            "Requirement already satisfied: requests~=2.0 in /usr/local/lib/python3.10/dist-packages (from qiskit-transpiler-service==0.4.10) (2.32.3)\n",
            "Requirement already satisfied: rustworkx>=0.15.0 in /usr/local/lib/python3.10/dist-packages (from qiskit~=1.0->qiskit-transpiler-service==0.4.10) (0.15.1)\n",
            "Requirement already satisfied: numpy<3,>=1.17 in /usr/local/lib/python3.10/dist-packages (from qiskit~=1.0->qiskit-transpiler-service==0.4.10) (1.26.4)\n",
            "Requirement already satisfied: scipy>=1.5 in /usr/local/lib/python3.10/dist-packages (from qiskit~=1.0->qiskit-transpiler-service==0.4.10) (1.13.1)\n",
            "Requirement already satisfied: sympy>=1.3 in /usr/local/lib/python3.10/dist-packages (from qiskit~=1.0->qiskit-transpiler-service==0.4.10) (1.13.1)\n",
            "Requirement already satisfied: dill>=0.3 in /usr/local/lib/python3.10/dist-packages (from qiskit~=1.0->qiskit-transpiler-service==0.4.10) (0.3.9)\n",
            "Requirement already satisfied: python-dateutil>=2.8.0 in /usr/local/lib/python3.10/dist-packages (from qiskit~=1.0->qiskit-transpiler-service==0.4.10) (2.8.2)\n",
            "Requirement already satisfied: stevedore>=3.0.0 in /usr/local/lib/python3.10/dist-packages (from qiskit~=1.0->qiskit-transpiler-service==0.4.10) (5.3.0)\n",
            "Requirement already satisfied: typing-extensions in /usr/local/lib/python3.10/dist-packages (from qiskit~=1.0->qiskit-transpiler-service==0.4.10) (4.12.2)\n",
            "Requirement already satisfied: symengine<0.14,>=0.11 in /usr/local/lib/python3.10/dist-packages (from qiskit~=1.0->qiskit-transpiler-service==0.4.10) (0.13.0)\n",
            "Requirement already satisfied: openqasm3<0.6,>=0.4 in /usr/local/lib/python3.10/dist-packages (from openqasm3[parser]<0.6,>=0.4->qiskit-qasm3-import~=0.4->qiskit-transpiler-service==0.4.10) (0.5.0)\n",
            "Requirement already satisfied: charset-normalizer<4,>=2 in /usr/local/lib/python3.10/dist-packages (from requests~=2.0->qiskit-transpiler-service==0.4.10) (3.4.0)\n",
            "Requirement already satisfied: idna<4,>=2.5 in /usr/local/lib/python3.10/dist-packages (from requests~=2.0->qiskit-transpiler-service==0.4.10) (3.10)\n",
            "Requirement already satisfied: urllib3<3,>=1.21.1 in /usr/local/lib/python3.10/dist-packages (from requests~=2.0->qiskit-transpiler-service==0.4.10) (2.2.3)\n",
            "Requirement already satisfied: certifi>=2017.4.17 in /usr/local/lib/python3.10/dist-packages (from requests~=2.0->qiskit-transpiler-service==0.4.10) (2024.8.30)\n",
            "Requirement already satisfied: antlr4-python3-runtime<4.14,>=4.7 in /usr/local/lib/python3.10/dist-packages (from openqasm3[parser]<0.6,>=0.4->qiskit-qasm3-import~=0.4->qiskit-transpiler-service==0.4.10) (4.13.2)\n",
            "Requirement already satisfied: six>=1.5 in /usr/local/lib/python3.10/dist-packages (from python-dateutil>=2.8.0->qiskit~=1.0->qiskit-transpiler-service==0.4.10) (1.16.0)\n",
            "Requirement already satisfied: pbr>=2.0.0 in /usr/local/lib/python3.10/dist-packages (from stevedore>=3.0.0->qiskit~=1.0->qiskit-transpiler-service==0.4.10) (6.1.0)\n",
            "Requirement already satisfied: mpmath<1.4,>=1.1.0 in /usr/local/lib/python3.10/dist-packages (from sympy>=1.3->qiskit~=1.0->qiskit-transpiler-service==0.4.10) (1.3.0)\n",
            "Requirement already satisfied: qiskit-aer==0.15.1 in /usr/local/lib/python3.10/dist-packages (0.15.1)\n",
            "Requirement already satisfied: qiskit>=1.1.0 in /usr/local/lib/python3.10/dist-packages (from qiskit-aer==0.15.1) (1.2.4)\n",
            "Requirement already satisfied: numpy>=1.16.3 in /usr/local/lib/python3.10/dist-packages (from qiskit-aer==0.15.1) (1.26.4)\n",
            "Requirement already satisfied: scipy>=1.0 in /usr/local/lib/python3.10/dist-packages (from qiskit-aer==0.15.1) (1.13.1)\n",
            "Requirement already satisfied: psutil>=5 in /usr/local/lib/python3.10/dist-packages (from qiskit-aer==0.15.1) (5.9.5)\n",
            "Requirement already satisfied: rustworkx>=0.15.0 in /usr/local/lib/python3.10/dist-packages (from qiskit>=1.1.0->qiskit-aer==0.15.1) (0.15.1)\n",
            "Requirement already satisfied: sympy>=1.3 in /usr/local/lib/python3.10/dist-packages (from qiskit>=1.1.0->qiskit-aer==0.15.1) (1.13.1)\n",
            "Requirement already satisfied: dill>=0.3 in /usr/local/lib/python3.10/dist-packages (from qiskit>=1.1.0->qiskit-aer==0.15.1) (0.3.9)\n",
            "Requirement already satisfied: python-dateutil>=2.8.0 in /usr/local/lib/python3.10/dist-packages (from qiskit>=1.1.0->qiskit-aer==0.15.1) (2.8.2)\n",
            "Requirement already satisfied: stevedore>=3.0.0 in /usr/local/lib/python3.10/dist-packages (from qiskit>=1.1.0->qiskit-aer==0.15.1) (5.3.0)\n",
            "Requirement already satisfied: typing-extensions in /usr/local/lib/python3.10/dist-packages (from qiskit>=1.1.0->qiskit-aer==0.15.1) (4.12.2)\n",
            "Requirement already satisfied: symengine<0.14,>=0.11 in /usr/local/lib/python3.10/dist-packages (from qiskit>=1.1.0->qiskit-aer==0.15.1) (0.13.0)\n",
            "Requirement already satisfied: six>=1.5 in /usr/local/lib/python3.10/dist-packages (from python-dateutil>=2.8.0->qiskit>=1.1.0->qiskit-aer==0.15.1) (1.16.0)\n",
            "Requirement already satisfied: pbr>=2.0.0 in /usr/local/lib/python3.10/dist-packages (from stevedore>=3.0.0->qiskit>=1.1.0->qiskit-aer==0.15.1) (6.1.0)\n",
            "Requirement already satisfied: mpmath<1.4,>=1.1.0 in /usr/local/lib/python3.10/dist-packages (from sympy>=1.3->qiskit>=1.1.0->qiskit-aer==0.15.1) (1.3.0)\n",
            "\u001b[31mERROR: Ignored the following versions that require a different python version: 0.1.0 Requires-Python >=3.11\u001b[0m\u001b[31m\n",
            "\u001b[0m\u001b[31mERROR: Could not find a version that satisfies the requirement qiskit-ibm-catalog==0.1.0 (from versions: 0.0.0)\u001b[0m\u001b[31m\n",
            "\u001b[0m\u001b[31mERROR: No matching distribution found for qiskit-ibm-catalog==0.1.0\u001b[0m\u001b[31m\n",
            "\u001b[0m"
          ]
        }
      ],
      "source": [
        "### Qiskit 설치: Windows, 클라우드 환경 ###\n",
        "%pip install qiskit[visualization]==1.2.4\n",
        "%pip install qiskit-ibm-runtime==0.30.0\n",
        "%pip install qiskit-transpiler-service==0.4.10\n",
        "%pip install qiskit-aer==0.15.1\n",
        "%pip install qiskit-ibm-catalog==0.1.0"
      ]
    },
    {
      "cell_type": "code",
      "source": [
        "%pip show qiskit qiskit-ibm-runtime qiskit-transpiler-service qiskit-aer qiskit-ibm-catalog"
      ],
      "metadata": {
        "colab": {
          "base_uri": "https://localhost:8080/"
        },
        "id": "GHXY7H4YDo3Z",
        "outputId": "e005cacd-e183-494b-f2a9-610ad86c4d4d"
      },
      "execution_count": 22,
      "outputs": [
        {
          "output_type": "stream",
          "name": "stdout",
          "text": [
            "Name: qiskit\n",
            "Version: 1.2.4\n",
            "Summary: An open-source SDK for working with quantum computers at the level of extended quantum circuits, operators, and primitives.\n",
            "Home-page: https://www.ibm.com/quantum/qiskit\n",
            "Author: \n",
            "Author-email: Qiskit Development Team <qiskit@us.ibm.com>\n",
            "License: Apache 2.0\n",
            "Location: /usr/local/lib/python3.10/dist-packages\n",
            "Requires: dill, numpy, python-dateutil, rustworkx, scipy, stevedore, symengine, sympy, typing-extensions\n",
            "Required-by: qiskit-aer, qiskit-ibm-runtime, qiskit-qasm3-import, qiskit-serverless, qiskit-transpiler-service\n",
            "---\n",
            "Name: qiskit-ibm-runtime\n",
            "Version: 0.30.0\n",
            "Summary: IBM Quantum client for Qiskit Runtime.\n",
            "Home-page: https://github.com/Qiskit/qiskit-ibm-runtime\n",
            "Author: Qiskit Development Team\n",
            "Author-email: qiskit@us.ibm.com\n",
            "License: Apache 2.0\n",
            "Location: /usr/local/lib/python3.10/dist-packages\n",
            "Requires: ibm-platform-services, numpy, pydantic, python-dateutil, qiskit, requests, requests-ntlm, urllib3, websocket-client\n",
            "Required-by: qiskit-serverless\n",
            "---\n",
            "Name: qiskit-transpiler-service\n",
            "Version: 0.4.10\n",
            "Summary: Deprecated: use qiskit-ibm-transpiler (https://pypi.org/project/qiskit-ibm-transpiler/) instead. A library to use Qiskit Transpiler service (https://docs.quantum.ibm.com/transpile/qiskit-transpiler-service) and the AI transpiler passes (https://docs.quantum.ibm.com/transpile/ai-transpiler-passes)\n",
            "Home-page: https://github.com/Qiskit/qiskit-transpiler-service\n",
            "Author: Qiskit Development Team\n",
            "Author-email: \n",
            "License: Apache 2.0\n",
            "Location: /usr/local/lib/python3.10/dist-packages\n",
            "Requires: backoff, qiskit, qiskit-qasm3-import, requests\n",
            "Required-by: \n",
            "---\n",
            "Name: qiskit-aer\n",
            "Version: 0.15.1\n",
            "Summary: Aer - High performance simulators for Qiskit\n",
            "Home-page: https://github.com/Qiskit/qiskit-aer\n",
            "Author: AER Development Team\n",
            "Author-email: qiskit@us.ibm.com\n",
            "License: Apache 2.0\n",
            "Location: /usr/local/lib/python3.10/dist-packages\n",
            "Requires: numpy, psutil, qiskit, scipy\n",
            "Required-by: \n",
            "---\n",
            "Name: qiskit-ibm-catalog\n",
            "Version: 0.0.0\n",
            "Summary: \n",
            "Home-page: https://github.com/Qiskit/qiskit-ibm-catalog\n",
            "Author: \n",
            "Author-email: \n",
            "License: Copyright 2021 IBM and its contributors\n",
            "        \n",
            "                                         Apache License\n",
            "                                   Version 2.0, January 2004\n",
            "                                http://www.apache.org/licenses/\n",
            "        \n",
            "           TERMS AND CONDITIONS FOR USE, REPRODUCTION, AND DISTRIBUTION\n",
            "        \n",
            "           1. Definitions.\n",
            "        \n",
            "              \"License\" shall mean the terms and conditions for use, reproduction,\n",
            "              and distribution as defined by Sections 1 through 9 of this document.\n",
            "        \n",
            "              \"Licensor\" shall mean the copyright owner or entity authorized by\n",
            "              the copyright owner that is granting the License.\n",
            "        \n",
            "              \"Legal Entity\" shall mean the union of the acting entity and all\n",
            "              other entities that control, are controlled by, or are under common\n",
            "              control with that entity. For the purposes of this definition,\n",
            "              \"control\" means (i) the power, direct or indirect, to cause the\n",
            "              direction or management of such entity, whether by contract or\n",
            "              otherwise, or (ii) ownership of fifty percent (50%) or more of the\n",
            "              outstanding shares, or (iii) beneficial ownership of such entity.\n",
            "        \n",
            "              \"You\" (or \"Your\") shall mean an individual or Legal Entity\n",
            "              exercising permissions granted by this License.\n",
            "        \n",
            "              \"Source\" form shall mean the preferred form for making modifications,\n",
            "              including but not limited to software source code, documentation\n",
            "              source, and configuration files.\n",
            "        \n",
            "              \"Object\" form shall mean any form resulting from mechanical\n",
            "              transformation or translation of a Source form, including but\n",
            "              not limited to compiled object code, generated documentation,\n",
            "              and conversions to other media types.\n",
            "        \n",
            "              \"Work\" shall mean the work of authorship, whether in Source or\n",
            "              Object form, made available under the License, as indicated by a\n",
            "              copyright notice that is included in or attached to the work\n",
            "              (an example is provided in the Appendix below).\n",
            "        \n",
            "              \"Derivative Works\" shall mean any work, whether in Source or Object\n",
            "              form, that is based on (or derived from) the Work and for which the\n",
            "              editorial revisions, annotations, elaborations, or other modifications\n",
            "              represent, as a whole, an original work of authorship. For the purposes\n",
            "              of this License, Derivative Works shall not include works that remain\n",
            "              separable from, or merely link (or bind by name) to the interfaces of,\n",
            "              the Work and Derivative Works thereof.\n",
            "        \n",
            "              \"Contribution\" shall mean any work of authorship, including\n",
            "              the original version of the Work and any modifications or additions\n",
            "              to that Work or Derivative Works thereof, that is intentionally\n",
            "              submitted to Licensor for inclusion in the Work by the copyright owner\n",
            "              or by an individual or Legal Entity authorized to submit on behalf of\n",
            "              the copyright owner. For the purposes of this definition, \"submitted\"\n",
            "              means any form of electronic, verbal, or written communication sent\n",
            "              to the Licensor or its representatives, including but not limited to\n",
            "              communication on electronic mailing lists, source code control systems,\n",
            "              and issue tracking systems that are managed by, or on behalf of, the\n",
            "              Licensor for the purpose of discussing and improving the Work, but\n",
            "              excluding communication that is conspicuously marked or otherwise\n",
            "              designated in writing by the copyright owner as \"Not a Contribution.\"\n",
            "        \n",
            "              \"Contributor\" shall mean Licensor and any individual or Legal Entity\n",
            "              on behalf of whom a Contribution has been received by Licensor and\n",
            "              subsequently incorporated within the Work.\n",
            "        \n",
            "           2. Grant of Copyright License. Subject to the terms and conditions of\n",
            "              this License, each Contributor hereby grants to You a perpetual,\n",
            "              worldwide, non-exclusive, no-charge, royalty-free, irrevocable\n",
            "              copyright license to reproduce, prepare Derivative Works of,\n",
            "              publicly display, publicly perform, sublicense, and distribute the\n",
            "              Work and such Derivative Works in Source or Object form.\n",
            "        \n",
            "           3. Grant of Patent License. Subject to the terms and conditions of\n",
            "              this License, each Contributor hereby grants to You a perpetual,\n",
            "              worldwide, non-exclusive, no-charge, royalty-free, irrevocable\n",
            "              (except as stated in this section) patent license to make, have made,\n",
            "              use, offer to sell, sell, import, and otherwise transfer the Work,\n",
            "              where such license applies only to those patent claims licensable\n",
            "              by such Contributor that are necessarily infringed by their\n",
            "              Contribution(s) alone or by combination of their Contribution(s)\n",
            "              with the Work to which such Contribution(s) was submitted. If You\n",
            "              institute patent litigation against any entity (including a\n",
            "              cross-claim or counterclaim in a lawsuit) alleging that the Work\n",
            "              or a Contribution incorporated within the Work constitutes direct\n",
            "              or contributory patent infringement, then any patent licenses\n",
            "              granted to You under this License for that Work shall terminate\n",
            "              as of the date such litigation is filed.\n",
            "        \n",
            "           4. Redistribution. You may reproduce and distribute copies of the\n",
            "              Work or Derivative Works thereof in any medium, with or without\n",
            "              modifications, and in Source or Object form, provided that You\n",
            "              meet the following conditions:\n",
            "        \n",
            "              (a) You must give any other recipients of the Work or\n",
            "                  Derivative Works a copy of this License; and\n",
            "        \n",
            "              (b) You must cause any modified files to carry prominent notices\n",
            "                  stating that You changed the files; and\n",
            "        \n",
            "              (c) You must retain, in the Source form of any Derivative Works\n",
            "                  that You distribute, all copyright, patent, trademark, and\n",
            "                  attribution notices from the Source form of the Work,\n",
            "                  excluding those notices that do not pertain to any part of\n",
            "                  the Derivative Works; and\n",
            "        \n",
            "              (d) If the Work includes a \"NOTICE\" text file as part of its\n",
            "                  distribution, then any Derivative Works that You distribute must\n",
            "                  include a readable copy of the attribution notices contained\n",
            "                  within such NOTICE file, excluding those notices that do not\n",
            "                  pertain to any part of the Derivative Works, in at least one\n",
            "                  of the following places: within a NOTICE text file distributed\n",
            "                  as part of the Derivative Works; within the Source form or\n",
            "                  documentation, if provided along with the Derivative Works; or,\n",
            "                  within a display generated by the Derivative Works, if and\n",
            "                  wherever such third-party notices normally appear. The contents\n",
            "                  of the NOTICE file are for informational purposes only and\n",
            "                  do not modify the License. You may add Your own attribution\n",
            "                  notices within Derivative Works that You distribute, alongside\n",
            "                  or as an addendum to the NOTICE text from the Work, provided\n",
            "                  that such additional attribution notices cannot be construed\n",
            "                  as modifying the License.\n",
            "        \n",
            "              You may add Your own copyright statement to Your modifications and\n",
            "              may provide additional or different license terms and conditions\n",
            "              for use, reproduction, or distribution of Your modifications, or\n",
            "              for any such Derivative Works as a whole, provided Your use,\n",
            "              reproduction, and distribution of the Work otherwise complies with\n",
            "              the conditions stated in this License.\n",
            "        \n",
            "           5. Submission of Contributions. Unless You explicitly state otherwise,\n",
            "              any Contribution intentionally submitted for inclusion in the Work\n",
            "              by You to the Licensor shall be under the terms and conditions of\n",
            "              this License, without any additional terms or conditions.\n",
            "              Notwithstanding the above, nothing herein shall supersede or modify\n",
            "              the terms of any separate license agreement you may have executed\n",
            "              with Licensor regarding such Contributions.\n",
            "        \n",
            "           6. Trademarks. This License does not grant permission to use the trade\n",
            "              names, trademarks, service marks, or product names of the Licensor,\n",
            "              except as required for reasonable and customary use in describing the\n",
            "              origin of the Work and reproducing the content of the NOTICE file.\n",
            "        \n",
            "           7. Disclaimer of Warranty. Unless required by applicable law or\n",
            "              agreed to in writing, Licensor provides the Work (and each\n",
            "              Contributor provides its Contributions) on an \"AS IS\" BASIS,\n",
            "              WITHOUT WARRANTIES OR CONDITIONS OF ANY KIND, either express or\n",
            "              implied, including, without limitation, any warranties or conditions\n",
            "              of TITLE, NON-INFRINGEMENT, MERCHANTABILITY, or FITNESS FOR A\n",
            "              PARTICULAR PURPOSE. You are solely responsible for determining the\n",
            "              appropriateness of using or redistributing the Work and assume any\n",
            "              risks associated with Your exercise of permissions under this License.\n",
            "        \n",
            "           8. Limitation of Liability. In no event and under no legal theory,\n",
            "              whether in tort (including negligence), contract, or otherwise,\n",
            "              unless required by applicable law (such as deliberate and grossly\n",
            "              negligent acts) or agreed to in writing, shall any Contributor be\n",
            "              liable to You for damages, including any direct, indirect, special,\n",
            "              incidental, or consequential damages of any character arising as a\n",
            "              result of this License or out of the use or inability to use the\n",
            "              Work (including but not limited to damages for loss of goodwill,\n",
            "              work stoppage, computer failure or malfunction, or any and all\n",
            "              other commercial damages or losses), even if such Contributor\n",
            "              has been advised of the possibility of such damages.\n",
            "        \n",
            "           9. Accepting Warranty or Additional Liability. While redistributing\n",
            "              the Work or Derivative Works thereof, You may choose to offer,\n",
            "              and charge a fee for, acceptance of support, warranty, indemnity,\n",
            "              or other liability obligations and/or rights consistent with this\n",
            "              License. However, in accepting such obligations, You may act only\n",
            "              on Your own behalf and on Your sole responsibility, not on behalf\n",
            "              of any other Contributor, and only if You agree to indemnify,\n",
            "              defend, and hold each Contributor harmless for any liability\n",
            "              incurred by, or claims asserted against, such Contributor by reason\n",
            "              of your accepting any such warranty or additional liability.\n",
            "        \n",
            "           END OF TERMS AND CONDITIONS\n",
            "        \n",
            "           APPENDIX: How to apply the Apache License to your work.\n",
            "        \n",
            "              To apply the Apache License to your work, attach the following\n",
            "              boilerplate notice, with the fields enclosed by brackets \"[]\"\n",
            "              replaced with your own identifying information. (Don't include\n",
            "              the brackets!)  The text should be enclosed in the appropriate\n",
            "              comment syntax for the file format. We also recommend that a\n",
            "              file or class name and description of purpose be included on the\n",
            "              same \"printed page\" as the copyright notice for easier\n",
            "              identification within third-party archives.\n",
            "        \n",
            "           Copyright 2017 IBM and its contributors.\n",
            "        \n",
            "           Licensed under the Apache License, Version 2.0 (the \"License\");\n",
            "           you may not use this file except in compliance with the License.\n",
            "           You may obtain a copy of the License at\n",
            "        \n",
            "               http://www.apache.org/licenses/LICENSE-2.0\n",
            "        \n",
            "           Unless required by applicable law or agreed to in writing, software\n",
            "           distributed under the License is distributed on an \"AS IS\" BASIS,\n",
            "           WITHOUT WARRANTIES OR CONDITIONS OF ANY KIND, either express or implied.\n",
            "           See the License for the specific language governing permissions and\n",
            "           limitations under the License.\n",
            "        \n",
            "Location: /usr/local/lib/python3.10/dist-packages\n",
            "Requires: certifi, importlib-metadata, qiskit-serverless\n",
            "Required-by: \n"
          ]
        }
      ]
    },
    {
      "cell_type": "code",
      "source": [
        "from qiskit_ibm_catalog import QiskitFunctionsCatalog\n",
        "\n",
        "tem_function_name = \"algorithmiq/tem\"\n",
        "\n",
        "catalog = QiskitFunctionsCatalog(token=\"<YOUR_IQP_API_TOKEN>\")\n",
        "\n",
        "# Load your function\n",
        "tem = catalog.load(tem_function_name)"
      ],
      "metadata": {
        "id": "AZvkYWPrvNTG"
      },
      "execution_count": null,
      "outputs": []
    },
    {
      "cell_type": "code",
      "source": [
        "from qiskit import QuantumCircuit\n",
        "from qiskit.quantum_info import SparsePauliOp\n",
        "from qiskit_ibm_runtime import QiskitRuntimeService"
      ],
      "metadata": {
        "id": "R7ZP6cvouI-d"
      },
      "execution_count": 15,
      "outputs": []
    },
    {
      "cell_type": "code",
      "source": [
        "#Create a quantum circuit\n",
        "qc = QuantumCircuit(3)\n",
        "qc.u(0.4, 0.9, -0.3, 0)\n",
        "qc.u(-0.4, 0.2, 1.3, 1)\n",
        "qc.u(-1.2, -1.2, 0.3, 2)\n",
        "for _ in range(2):\n",
        "    qc.barrier()\n",
        "    qc.cx(0, 1)\n",
        "    qc.cx(2, 1)\n",
        "    qc.barrier()\n",
        "    qc.u(0.4, 0.9, -0.3, 0)\n",
        "    qc.u(-0.4, 0.2, 1.3, 1)\n",
        "    qc.u(-1.2, -1.2, 0.3, 2)\n",
        "###"
      ],
      "metadata": {
        "id": "zA-sESGGuI0w"
      },
      "execution_count": 16,
      "outputs": []
    },
    {
      "cell_type": "code",
      "source": [
        "qc.draw(\"mpl\")"
      ],
      "metadata": {
        "colab": {
          "base_uri": "https://localhost:8080/",
          "height": 255
        },
        "id": "eCJDkZdKuZ7b",
        "outputId": "b2bf1ec1-2d22-44b3-e70e-db389ba0b22a"
      },
      "execution_count": 17,
      "outputs": [
        {
          "output_type": "execute_result",
          "data": {
            "text/plain": [
              "<Figure size 1290.83x284.278 with 1 Axes>"
            ],
            "image/png": "[encoded data removed]"
          },
          "metadata": {},
          "execution_count": 17
        }
      ]
    },
    {
      "cell_type": "code",
      "source": [
        "# Define the observables\n",
        "observable = SparsePauliOp(\"IYX\", 1.0)"
      ],
      "metadata": {
        "id": "9SaYNpgBuIoz"
      },
      "execution_count": 18,
      "outputs": []
    },
    {
      "cell_type": "code",
      "source": [
        "#Define the execution options\n",
        "QiskitRuntimeService.save_account(channel=\"ibm_quantum\", token=\"\")\n",
        "\n",
        "service = QiskitRuntimeService()\n",
        "backend_name = service.least_busy(operational=True).name\n",
        "\n",
        "instance = \"<IQP_HUB/IQP_GROUP/IQP_PROJECT>\"\n",
        "\n",
        "pub = (qc, [observable])\n",
        "options = {\"default_precision\": 0.02}\n",
        "\n",
        "job = tem.run(pubs=[pub], instance=instance, backend_name=backend_name, options=options)"
      ],
      "metadata": {
        "colab": {
          "base_uri": "https://localhost:8080/",
          "height": 180
        },
        "id": "mvPutygWuIbo",
        "outputId": "741146f0-3775-469a-abcb-2cefdf844cbc"
      },
      "execution_count": 20,
      "outputs": [
        {
          "output_type": "error",
          "ename": "NameError",
          "evalue": "name 'tem' is not defined",
          "traceback": [
            "\u001b[0;31m---------------------------------------------------------------------------\u001b[0m",
            "\u001b[0;31mNameError\u001b[0m                                 Traceback (most recent call last)",
            "\u001b[0;32m<ipython-input-20-330d036d8a95>\u001b[0m in \u001b[0;36m<cell line: 12>\u001b[0;34m()\u001b[0m\n\u001b[1;32m     10\u001b[0m \u001b[0moptions\u001b[0m \u001b[0;34m=\u001b[0m \u001b[0;34m{\u001b[0m\u001b[0;34m\"default_precision\"\u001b[0m\u001b[0;34m:\u001b[0m \u001b[0;36m0.02\u001b[0m\u001b[0;34m}\u001b[0m\u001b[0;34m\u001b[0m\u001b[0;34m\u001b[0m\u001b[0m\n\u001b[1;32m     11\u001b[0m \u001b[0;34m\u001b[0m\u001b[0m\n\u001b[0;32m---> 12\u001b[0;31m \u001b[0mjob\u001b[0m \u001b[0;34m=\u001b[0m \u001b[0mtem\u001b[0m\u001b[0;34m.\u001b[0m\u001b[0mrun\u001b[0m\u001b[0;34m(\u001b[0m\u001b[0mpubs\u001b[0m\u001b[0;34m=\u001b[0m\u001b[0;34m[\u001b[0m\u001b[0mpub\u001b[0m\u001b[0;34m]\u001b[0m\u001b[0;34m,\u001b[0m \u001b[0minstance\u001b[0m\u001b[0;34m=\u001b[0m\u001b[0minstance\u001b[0m\u001b[0;34m,\u001b[0m \u001b[0mbackend_name\u001b[0m\u001b[0;34m=\u001b[0m\u001b[0mbackend_name\u001b[0m\u001b[0;34m,\u001b[0m \u001b[0moptions\u001b[0m\u001b[0;34m=\u001b[0m\u001b[0moptions\u001b[0m\u001b[0;34m)\u001b[0m\u001b[0;34m\u001b[0m\u001b[0;34m\u001b[0m\u001b[0m\n\u001b[0m",
            "\u001b[0;31mNameError\u001b[0m: name 'tem' is not defined"
          ]
        }
      ]
    },
    {
      "cell_type": "code",
      "source": [
        "print(job.status())"
      ],
      "metadata": {
        "id": "1hSLO06rvHik"
      },
      "execution_count": null,
      "outputs": []
    },
    {
      "cell_type": "code",
      "source": [
        "result = job.result()\n",
        "evs = result[0].data.evs"
      ],
      "metadata": {
        "id": "6Mz8nLlLvJRA"
      },
      "execution_count": null,
      "outputs": []
    },
    {
      "cell_type": "code",
      "source": [
        "from qiskit.visualization import plot_histogram\n",
        "plot_histogram(counts)"
      ],
      "metadata": {
        "colab": {
          "base_uri": "https://localhost:8080/",
          "height": 446
        },
        "id": "B79nEVBGeKt2",
        "outputId": "6903b62d-d68c-4758-e085-3425ccdc95c2"
      },
      "execution_count": null,
      "outputs": [
        {
          "output_type": "execute_result",
          "data": {
            "text/plain": [
              "<Figure size 640x480 with 1 Axes>"
            ],
            "image/png": "[encoded data removed]"
          },
          "metadata": {},
          "execution_count": 15
        }
      ]
    }
  ]
}