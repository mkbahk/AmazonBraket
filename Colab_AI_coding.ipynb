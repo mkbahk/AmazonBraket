{
  "nbformat": 4,
  "nbformat_minor": 0,
  "metadata": {
    "colab": {
      "provenance": [],
      "authorship_tag": "ABX9TyNSmXXJ9BWB4P3sEgc5zjHc",
      "include_colab_link": true
    },
    "kernelspec": {
      "name": "python3",
      "display_name": "Python 3"
    },
    "language_info": {
      "name": "python"
    }
  },
  "cells": [
    {
      "cell_type": "markdown",
      "metadata": {
        "id": "view-in-github",
        "colab_type": "text"
      },
      "source": [
        "<a href=\"https://colab.research.google.com/github/mkbahk/AmazonBraket/blob/main/Colab_AI_coding.ipynb\" target=\"_parent\"><img src=\"https://colab.research.google.com/assets/colab-badge.svg\" alt=\"Open In Colab\"/></a>"
      ]
    },
    {
      "cell_type": "code",
      "source": [
        "absent = [2, 5]\n",
        "\n",
        "for student in range(1, 11, 1):\n",
        "  if student in absent:\n",
        "    continue\n",
        "  ###if\n",
        "  print(f\"{student}, 책을 읽어봐라 잉\")\n",
        "###for"
      ],
      "metadata": {
        "colab": {
          "base_uri": "https://localhost:8080/"
        },
        "id": "pA3eve-i4Pzy",
        "outputId": "ce06c468-6010-4f6b-cee8-b6789362bca8"
      },
      "execution_count": 10,
      "outputs": [
        {
          "output_type": "stream",
          "name": "stdout",
          "text": [
            "1, 책을 읽어봐라 잉\n",
            "3, 책을 읽어봐라 잉\n",
            "4, 책을 읽어봐라 잉\n",
            "6, 책을 읽어봐라 잉\n",
            "7, 책을 읽어봐라 잉\n",
            "8, 책을 읽어봐라 잉\n",
            "9, 책을 읽어봐라 잉\n",
            "10, 책을 읽어봐라 잉\n"
          ]
        }
      ]
    },
    {
      "cell_type": "code",
      "source": [
        "# prompt: 위의 결과를 보면 1에서 9까지는 한자리인데 10이면 두자리가 되어 정렬이 맞지 않습니다. format 기능을 이용해 1~9는 01~09로 출력할 수 있도록 코드를 짜주세요\n",
        "\n",
        "absent = [2, 5]\n",
        "\n",
        "for student in range(1, 11, 1):\n",
        "  if student in absent:\n",
        "    continue\n",
        "  ###if\n",
        "  print(f\"{student:02}, 책을 읽어봐라 잉\")  # 출력 형식 지정: 02는 두 자리로 출력하고, 앞에 빈 자리는 0으로 채움\n",
        "###for"
      ],
      "metadata": {
        "colab": {
          "base_uri": "https://localhost:8080/"
        },
        "id": "7Myg8jrUACQ1",
        "outputId": "55f6c370-fa09-4420-dae4-4e181871766b"
      },
      "execution_count": 11,
      "outputs": [
        {
          "output_type": "stream",
          "name": "stdout",
          "text": [
            "01, 책을 읽어봐라 잉\n",
            "03, 책을 읽어봐라 잉\n",
            "04, 책을 읽어봐라 잉\n",
            "06, 책을 읽어봐라 잉\n",
            "07, 책을 읽어봐라 잉\n",
            "08, 책을 읽어봐라 잉\n",
            "09, 책을 읽어봐라 잉\n",
            "10, 책을 읽어봐라 잉\n"
          ]
        }
      ]
    },
    {
      "cell_type": "code",
      "source": [],
      "metadata": {
        "id": "lmwLbRboAtHr"
      },
      "execution_count": null,
      "outputs": []
    }
  ]
}