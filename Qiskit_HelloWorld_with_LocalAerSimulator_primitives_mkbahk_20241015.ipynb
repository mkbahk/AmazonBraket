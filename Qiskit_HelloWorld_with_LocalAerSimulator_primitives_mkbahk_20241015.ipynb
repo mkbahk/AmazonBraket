{
  "nbformat": 4,
  "nbformat_minor": 0,
  "metadata": {
    "colab": {
      "provenance": [],
      "authorship_tag": "ABX9TyOtVxcfV3JVgNjzv4+MN5Wf",
      "include_colab_link": true
    },
    "kernelspec": {
      "name": "python3",
      "display_name": "Python 3"
    },
    "language_info": {
      "name": "python"
    }
  },
  "cells": [
    {
      "cell_type": "markdown",
      "metadata": {
        "id": "view-in-github",
        "colab_type": "text"
      },
      "source": [
        "<a href=\"https://colab.research.google.com/github/mkbahk/AmazonBraket/blob/main/Qiskit_HelloWorld_with_LocalAerSimulator_primitives_mkbahk_20241015.ipynb\" target=\"_parent\"><img src=\"https://colab.research.google.com/assets/colab-badge.svg\" alt=\"Open In Colab\"/></a>"
      ]
    },
    {
      "cell_type": "code",
      "execution_count": 30,
      "metadata": {
        "colab": {
          "base_uri": "https://localhost:8080/"
        },
        "id": "0McEX1m4807U",
        "outputId": "15f4b0db-78b3-41ab-fa4c-1ac7e754858a"
      },
      "outputs": [
        {
          "output_type": "stream",
          "name": "stdout",
          "text": [
            "Requirement already satisfied: qiskit==1.2.4 in /usr/local/lib/python3.10/dist-packages (from qiskit[visualization]==1.2.4) (1.2.4)\n",
            "Requirement already satisfied: rustworkx>=0.15.0 in /usr/local/lib/python3.10/dist-packages (from qiskit==1.2.4->qiskit[visualization]==1.2.4) (0.15.1)\n",
            "Requirement already satisfied: numpy<3,>=1.17 in /usr/local/lib/python3.10/dist-packages (from qiskit==1.2.4->qiskit[visualization]==1.2.4) (1.26.4)\n",
            "Requirement already satisfied: scipy>=1.5 in /usr/local/lib/python3.10/dist-packages (from qiskit==1.2.4->qiskit[visualization]==1.2.4) (1.13.1)\n",
            "Requirement already satisfied: sympy>=1.3 in /usr/local/lib/python3.10/dist-packages (from qiskit==1.2.4->qiskit[visualization]==1.2.4) (1.13.3)\n",
            "Requirement already satisfied: dill>=0.3 in /usr/local/lib/python3.10/dist-packages (from qiskit==1.2.4->qiskit[visualization]==1.2.4) (0.3.9)\n",
            "Requirement already satisfied: python-dateutil>=2.8.0 in /usr/local/lib/python3.10/dist-packages (from qiskit==1.2.4->qiskit[visualization]==1.2.4) (2.8.2)\n",
            "Requirement already satisfied: stevedore>=3.0.0 in /usr/local/lib/python3.10/dist-packages (from qiskit==1.2.4->qiskit[visualization]==1.2.4) (5.3.0)\n",
            "Requirement already satisfied: typing-extensions in /usr/local/lib/python3.10/dist-packages (from qiskit==1.2.4->qiskit[visualization]==1.2.4) (4.12.2)\n",
            "Requirement already satisfied: symengine<0.14,>=0.11 in /usr/local/lib/python3.10/dist-packages (from qiskit==1.2.4->qiskit[visualization]==1.2.4) (0.13.0)\n",
            "Requirement already satisfied: matplotlib>=3.3 in /usr/local/lib/python3.10/dist-packages (from qiskit[visualization]==1.2.4) (3.7.1)\n",
            "Requirement already satisfied: pydot in /usr/local/lib/python3.10/dist-packages (from qiskit[visualization]==1.2.4) (3.0.2)\n",
            "Requirement already satisfied: Pillow>=4.2.1 in /usr/local/lib/python3.10/dist-packages (from qiskit[visualization]==1.2.4) (10.4.0)\n",
            "Requirement already satisfied: pylatexenc>=1.4 in /usr/local/lib/python3.10/dist-packages (from qiskit[visualization]==1.2.4) (2.10)\n",
            "Requirement already satisfied: seaborn>=0.9.0 in /usr/local/lib/python3.10/dist-packages (from qiskit[visualization]==1.2.4) (0.13.2)\n",
            "Requirement already satisfied: contourpy>=1.0.1 in /usr/local/lib/python3.10/dist-packages (from matplotlib>=3.3->qiskit[visualization]==1.2.4) (1.3.0)\n",
            "Requirement already satisfied: cycler>=0.10 in /usr/local/lib/python3.10/dist-packages (from matplotlib>=3.3->qiskit[visualization]==1.2.4) (0.12.1)\n",
            "Requirement already satisfied: fonttools>=4.22.0 in /usr/local/lib/python3.10/dist-packages (from matplotlib>=3.3->qiskit[visualization]==1.2.4) (4.54.1)\n",
            "Requirement already satisfied: kiwisolver>=1.0.1 in /usr/local/lib/python3.10/dist-packages (from matplotlib>=3.3->qiskit[visualization]==1.2.4) (1.4.7)\n",
            "Requirement already satisfied: packaging>=20.0 in /usr/local/lib/python3.10/dist-packages (from matplotlib>=3.3->qiskit[visualization]==1.2.4) (24.1)\n",
            "Requirement already satisfied: pyparsing>=2.3.1 in /usr/local/lib/python3.10/dist-packages (from matplotlib>=3.3->qiskit[visualization]==1.2.4) (3.1.4)\n",
            "Requirement already satisfied: six>=1.5 in /usr/local/lib/python3.10/dist-packages (from python-dateutil>=2.8.0->qiskit==1.2.4->qiskit[visualization]==1.2.4) (1.16.0)\n",
            "Requirement already satisfied: pandas>=1.2 in /usr/local/lib/python3.10/dist-packages (from seaborn>=0.9.0->qiskit[visualization]==1.2.4) (2.2.2)\n",
            "Requirement already satisfied: pbr>=2.0.0 in /usr/local/lib/python3.10/dist-packages (from stevedore>=3.0.0->qiskit==1.2.4->qiskit[visualization]==1.2.4) (6.1.0)\n",
            "Requirement already satisfied: mpmath<1.4,>=1.1.0 in /usr/local/lib/python3.10/dist-packages (from sympy>=1.3->qiskit==1.2.4->qiskit[visualization]==1.2.4) (1.3.0)\n",
            "Requirement already satisfied: pytz>=2020.1 in /usr/local/lib/python3.10/dist-packages (from pandas>=1.2->seaborn>=0.9.0->qiskit[visualization]==1.2.4) (2024.2)\n",
            "Requirement already satisfied: tzdata>=2022.7 in /usr/local/lib/python3.10/dist-packages (from pandas>=1.2->seaborn>=0.9.0->qiskit[visualization]==1.2.4) (2024.2)\n",
            "Requirement already satisfied: qiskit_aer==0.15.1 in /usr/local/lib/python3.10/dist-packages (0.15.1)\n",
            "Requirement already satisfied: qiskit>=1.1.0 in /usr/local/lib/python3.10/dist-packages (from qiskit_aer==0.15.1) (1.2.4)\n",
            "Requirement already satisfied: numpy>=1.16.3 in /usr/local/lib/python3.10/dist-packages (from qiskit_aer==0.15.1) (1.26.4)\n",
            "Requirement already satisfied: scipy>=1.0 in /usr/local/lib/python3.10/dist-packages (from qiskit_aer==0.15.1) (1.13.1)\n",
            "Requirement already satisfied: psutil>=5 in /usr/local/lib/python3.10/dist-packages (from qiskit_aer==0.15.1) (5.9.5)\n",
            "Requirement already satisfied: rustworkx>=0.15.0 in /usr/local/lib/python3.10/dist-packages (from qiskit>=1.1.0->qiskit_aer==0.15.1) (0.15.1)\n",
            "Requirement already satisfied: sympy>=1.3 in /usr/local/lib/python3.10/dist-packages (from qiskit>=1.1.0->qiskit_aer==0.15.1) (1.13.3)\n",
            "Requirement already satisfied: dill>=0.3 in /usr/local/lib/python3.10/dist-packages (from qiskit>=1.1.0->qiskit_aer==0.15.1) (0.3.9)\n",
            "Requirement already satisfied: python-dateutil>=2.8.0 in /usr/local/lib/python3.10/dist-packages (from qiskit>=1.1.0->qiskit_aer==0.15.1) (2.8.2)\n",
            "Requirement already satisfied: stevedore>=3.0.0 in /usr/local/lib/python3.10/dist-packages (from qiskit>=1.1.0->qiskit_aer==0.15.1) (5.3.0)\n",
            "Requirement already satisfied: typing-extensions in /usr/local/lib/python3.10/dist-packages (from qiskit>=1.1.0->qiskit_aer==0.15.1) (4.12.2)\n",
            "Requirement already satisfied: symengine<0.14,>=0.11 in /usr/local/lib/python3.10/dist-packages (from qiskit>=1.1.0->qiskit_aer==0.15.1) (0.13.0)\n",
            "Requirement already satisfied: six>=1.5 in /usr/local/lib/python3.10/dist-packages (from python-dateutil>=2.8.0->qiskit>=1.1.0->qiskit_aer==0.15.1) (1.16.0)\n",
            "Requirement already satisfied: pbr>=2.0.0 in /usr/local/lib/python3.10/dist-packages (from stevedore>=3.0.0->qiskit>=1.1.0->qiskit_aer==0.15.1) (6.1.0)\n",
            "Requirement already satisfied: mpmath<1.4,>=1.1.0 in /usr/local/lib/python3.10/dist-packages (from sympy>=1.3->qiskit>=1.1.0->qiskit_aer==0.15.1) (1.3.0)\n"
          ]
        }
      ],
      "source": [
        "%pip install qiskit[visualization]=='1.2.4'\n",
        "#%pip install qiskit_ibm_runtime=='0.30.0'\n",
        "%pip install qiskit_aer=='0.15.1'"
      ]
    },
    {
      "cell_type": "code",
      "source": [
        "%pip show qiskit qiskit_aer"
      ],
      "metadata": {
        "colab": {
          "base_uri": "https://localhost:8080/"
        },
        "id": "WJWjDkRX9qSi",
        "outputId": "ce4400de-0636-4f26-eb8f-839a8795035d"
      },
      "execution_count": 31,
      "outputs": [
        {
          "output_type": "stream",
          "name": "stdout",
          "text": [
            "Name: qiskit\n",
            "Version: 1.2.4\n",
            "Summary: An open-source SDK for working with quantum computers at the level of extended quantum circuits, operators, and primitives.\n",
            "Home-page: https://www.ibm.com/quantum/qiskit\n",
            "Author: \n",
            "Author-email: Qiskit Development Team <qiskit@us.ibm.com>\n",
            "License: Apache 2.0\n",
            "Location: /usr/local/lib/python3.10/dist-packages\n",
            "Requires: dill, numpy, python-dateutil, rustworkx, scipy, stevedore, symengine, sympy, typing-extensions\n",
            "Required-by: qiskit-aer\n",
            "---\n",
            "Name: qiskit-aer\n",
            "Version: 0.15.1\n",
            "Summary: Aer - High performance simulators for Qiskit\n",
            "Home-page: https://github.com/Qiskit/qiskit-aer\n",
            "Author: AER Development Team\n",
            "Author-email: qiskit@us.ibm.com\n",
            "License: Apache 2.0\n",
            "Location: /usr/local/lib/python3.10/dist-packages\n",
            "Requires: numpy, psutil, qiskit, scipy\n",
            "Required-by: \n"
          ]
        }
      ]
    },
    {
      "cell_type": "code",
      "source": [
        "%pip list"
      ],
      "metadata": {
        "colab": {
          "base_uri": "https://localhost:8080/"
        },
        "id": "4D5zHwir9uRt",
        "outputId": "b2a24a36-0841-47c4-ca2b-e0feb0f2dad7"
      },
      "execution_count": 32,
      "outputs": [
        {
          "output_type": "stream",
          "name": "stdout",
          "text": [
            "Package                            Version\n",
            "---------------------------------- -------------------\n",
            "absl-py                            1.4.0\n",
            "accelerate                         0.34.2\n",
            "aiohappyeyeballs                   2.4.3\n",
            "aiohttp                            3.10.10\n",
            "aiosignal                          1.3.1\n",
            "alabaster                          0.7.16\n",
            "albucore                           0.0.16\n",
            "albumentations                     1.4.15\n",
            "altair                             4.2.2\n",
            "annotated-types                    0.7.0\n",
            "anyio                              3.7.1\n",
            "argon2-cffi                        23.1.0\n",
            "argon2-cffi-bindings               21.2.0\n",
            "array_record                       0.5.1\n",
            "arviz                              0.19.0\n",
            "astropy                            6.1.4\n",
            "astropy-iers-data                  0.2024.10.7.0.32.46\n",
            "astunparse                         1.6.3\n",
            "async-timeout                      4.0.3\n",
            "atpublic                           4.1.0\n",
            "attrs                              24.2.0\n",
            "audioread                          3.0.1\n",
            "autograd                           1.7.0\n",
            "babel                              2.16.0\n",
            "backcall                           0.2.0\n",
            "beautifulsoup4                     4.12.3\n",
            "bigframes                          1.22.0\n",
            "bigquery-magics                    0.4.0\n",
            "bleach                             6.1.0\n",
            "blinker                            1.4\n",
            "blis                               0.7.11\n",
            "blosc2                             2.0.0\n",
            "bokeh                              3.4.3\n",
            "Bottleneck                         1.4.0\n",
            "bqplot                             0.12.43\n",
            "branca                             0.8.0\n",
            "build                              1.2.2.post1\n",
            "CacheControl                       0.14.0\n",
            "cachetools                         5.5.0\n",
            "catalogue                          2.0.10\n",
            "certifi                            2024.8.30\n",
            "cffi                               1.17.1\n",
            "chardet                            5.2.0\n",
            "charset-normalizer                 3.4.0\n",
            "chex                               0.1.87\n",
            "clarabel                           0.9.0\n",
            "click                              8.1.7\n",
            "cloudpathlib                       0.19.0\n",
            "cloudpickle                        2.2.1\n",
            "cmake                              3.30.4\n",
            "cmdstanpy                          1.2.4\n",
            "colorcet                           3.1.0\n",
            "colorlover                         0.3.0\n",
            "colour                             0.1.5\n",
            "community                          1.0.0b1\n",
            "confection                         0.1.5\n",
            "cons                               0.4.6\n",
            "contextlib2                        21.6.0\n",
            "contourpy                          1.3.0\n",
            "cryptography                       43.0.1\n",
            "cuda-python                        12.2.1\n",
            "cudf-cu12                          24.6.1\n",
            "cufflinks                          0.17.3\n",
            "cupy-cuda12x                       12.2.0\n",
            "cvxopt                             1.3.2\n",
            "cvxpy                              1.5.3\n",
            "cycler                             0.12.1\n",
            "cymem                              2.0.8\n",
            "Cython                             3.0.11\n",
            "dask                               2024.8.0\n",
            "datascience                        0.17.6\n",
            "db-dtypes                          1.3.0\n",
            "dbus-python                        1.2.18\n",
            "debugpy                            1.6.6\n",
            "decorator                          4.4.2\n",
            "defusedxml                         0.7.1\n",
            "Deprecated                         1.2.14\n",
            "dill                               0.3.9\n",
            "distributed                        2024.8.0\n",
            "distro                             1.7.0\n",
            "dlib                               19.24.2\n",
            "dm-tree                            0.1.8\n",
            "docstring_parser                   0.16\n",
            "docutils                           0.18.1\n",
            "dopamine_rl                        4.0.9\n",
            "duckdb                             1.1.1\n",
            "earthengine-api                    1.0.0\n",
            "easydict                           1.13\n",
            "ecos                               2.0.14\n",
            "editdistance                       0.8.1\n",
            "eerepr                             0.0.4\n",
            "einops                             0.8.0\n",
            "en-core-web-sm                     3.7.1\n",
            "entrypoints                        0.4\n",
            "et-xmlfile                         1.1.0\n",
            "etils                              1.9.4\n",
            "etuples                            0.3.9\n",
            "eval_type_backport                 0.2.0\n",
            "exceptiongroup                     1.2.2\n",
            "fastai                             2.7.17\n",
            "fastcore                           1.7.13\n",
            "fastdownload                       0.0.7\n",
            "fastjsonschema                     2.20.0\n",
            "fastprogress                       1.0.3\n",
            "fastrlock                          0.8.2\n",
            "filelock                           3.16.1\n",
            "firebase-admin                     6.5.0\n",
            "Flask                              2.2.5\n",
            "flatbuffers                        24.3.25\n",
            "flax                               0.8.5\n",
            "folium                             0.17.0\n",
            "fonttools                          4.54.1\n",
            "frozendict                         2.4.5\n",
            "frozenlist                         1.4.1\n",
            "fsspec                             2024.6.1\n",
            "future                             1.0.0\n",
            "gast                               0.6.0\n",
            "gcsfs                              2024.6.1\n",
            "GDAL                               3.6.4\n",
            "gdown                              5.2.0\n",
            "geemap                             0.34.5\n",
            "gensim                             4.3.3\n",
            "geocoder                           1.38.1\n",
            "geographiclib                      2.0\n",
            "geopandas                          1.0.1\n",
            "geopy                              2.4.1\n",
            "gin-config                         0.5.0\n",
            "glob2                              0.7\n",
            "google                             2.0.3\n",
            "google-ai-generativelanguage       0.6.6\n",
            "google-api-core                    2.19.2\n",
            "google-api-python-client           2.137.0\n",
            "google-auth                        2.27.0\n",
            "google-auth-httplib2               0.2.0\n",
            "google-auth-oauthlib               1.2.1\n",
            "google-cloud-aiplatform            1.70.0\n",
            "google-cloud-bigquery              3.25.0\n",
            "google-cloud-bigquery-connection   1.15.5\n",
            "google-cloud-bigquery-storage      2.26.0\n",
            "google-cloud-bigtable              2.26.0\n",
            "google-cloud-core                  2.4.1\n",
            "google-cloud-datastore             2.19.0\n",
            "google-cloud-firestore             2.16.1\n",
            "google-cloud-functions             1.16.5\n",
            "google-cloud-iam                   2.15.2\n",
            "google-cloud-language              2.13.4\n",
            "google-cloud-pubsub                2.25.0\n",
            "google-cloud-resource-manager      1.12.5\n",
            "google-cloud-storage               2.8.0\n",
            "google-cloud-translate             3.15.5\n",
            "google-colab                       1.0.0\n",
            "google-crc32c                      1.6.0\n",
            "google-generativeai                0.7.2\n",
            "google-pasta                       0.2.0\n",
            "google-resumable-media             2.7.2\n",
            "googleapis-common-protos           1.65.0\n",
            "googledrivedownloader              0.4\n",
            "graphviz                           0.20.3\n",
            "greenlet                           3.1.1\n",
            "grpc-google-iam-v1                 0.13.1\n",
            "grpcio                             1.64.1\n",
            "grpcio-status                      1.48.2\n",
            "gspread                            6.0.2\n",
            "gspread-dataframe                  3.3.1\n",
            "gym                                0.25.2\n",
            "gym-notices                        0.0.8\n",
            "h5netcdf                           1.4.0\n",
            "h5py                               3.11.0\n",
            "holidays                           0.58\n",
            "holoviews                          1.19.1\n",
            "html5lib                           1.1\n",
            "httpimport                         1.4.0\n",
            "httplib2                           0.22.0\n",
            "huggingface-hub                    0.24.7\n",
            "humanize                           4.10.0\n",
            "hyperopt                           0.2.7\n",
            "ibis-framework                     9.2.0\n",
            "idna                               3.10\n",
            "imageio                            2.35.1\n",
            "imageio-ffmpeg                     0.5.1\n",
            "imagesize                          1.4.1\n",
            "imbalanced-learn                   0.12.4\n",
            "imgaug                             0.4.0\n",
            "immutabledict                      4.2.0\n",
            "importlib_metadata                 8.5.0\n",
            "importlib_resources                6.4.5\n",
            "imutils                            0.5.4\n",
            "inflect                            7.4.0\n",
            "iniconfig                          2.0.0\n",
            "intel-cmplr-lib-ur                 2024.2.1\n",
            "intel-openmp                       2024.2.1\n",
            "ipyevents                          2.0.2\n",
            "ipyfilechooser                     0.6.0\n",
            "ipykernel                          5.5.6\n",
            "ipyleaflet                         0.19.2\n",
            "ipyparallel                        8.8.0\n",
            "ipython                            7.34.0\n",
            "ipython-genutils                   0.2.0\n",
            "ipython-sql                        0.5.0\n",
            "ipytree                            0.2.2\n",
            "ipywidgets                         7.7.1\n",
            "itsdangerous                       2.2.0\n",
            "jax                                0.4.33\n",
            "jax-cuda12-pjrt                    0.4.33\n",
            "jax-cuda12-plugin                  0.4.33\n",
            "jaxlib                             0.4.33\n",
            "jeepney                            0.7.1\n",
            "jellyfish                          1.1.0\n",
            "jieba                              0.42.1\n",
            "Jinja2                             3.1.4\n",
            "joblib                             1.4.2\n",
            "jsonpickle                         3.3.0\n",
            "jsonschema                         4.23.0\n",
            "jsonschema-specifications          2024.10.1\n",
            "jupyter-client                     6.1.12\n",
            "jupyter-console                    6.1.0\n",
            "jupyter_core                       5.7.2\n",
            "jupyter-leaflet                    0.19.2\n",
            "jupyter-server                     1.24.0\n",
            "jupyterlab_pygments                0.3.0\n",
            "jupyterlab_widgets                 3.0.13\n",
            "kaggle                             1.6.17\n",
            "kagglehub                          0.3.1\n",
            "keras                              3.4.1\n",
            "keyring                            23.5.0\n",
            "kiwisolver                         1.4.7\n",
            "langcodes                          3.4.1\n",
            "language_data                      1.2.0\n",
            "launchpadlib                       1.10.16\n",
            "lazr.restfulclient                 0.14.4\n",
            "lazr.uri                           1.0.6\n",
            "lazy_loader                        0.4\n",
            "libclang                           18.1.1\n",
            "librosa                            0.10.2.post1\n",
            "lightgbm                           4.5.0\n",
            "linkify-it-py                      2.0.3\n",
            "llvmlite                           0.43.0\n",
            "locket                             1.0.0\n",
            "logical-unification                0.4.6\n",
            "lxml                               4.9.4\n",
            "marisa-trie                        1.2.0\n",
            "Markdown                           3.7\n",
            "markdown-it-py                     3.0.0\n",
            "MarkupSafe                         3.0.1\n",
            "matplotlib                         3.7.1\n",
            "matplotlib-inline                  0.1.7\n",
            "matplotlib-venn                    1.1.1\n",
            "mdit-py-plugins                    0.4.2\n",
            "mdurl                              0.1.2\n",
            "miniKanren                         1.0.3\n",
            "missingno                          0.5.2\n",
            "mistune                            0.8.4\n",
            "mizani                             0.11.4\n",
            "mkl                                2024.2.2\n",
            "ml-dtypes                          0.4.1\n",
            "mlxtend                            0.23.1\n",
            "more-itertools                     10.5.0\n",
            "moviepy                            1.0.3\n",
            "mpmath                             1.3.0\n",
            "msgpack                            1.0.8\n",
            "multidict                          6.1.0\n",
            "multipledispatch                   1.0.0\n",
            "multitasking                       0.0.11\n",
            "murmurhash                         1.0.10\n",
            "music21                            9.1.0\n",
            "namex                              0.0.8\n",
            "natsort                            8.4.0\n",
            "nbclassic                          1.1.0\n",
            "nbclient                           0.10.0\n",
            "nbconvert                          6.5.4\n",
            "nbformat                           5.10.4\n",
            "nest-asyncio                       1.6.0\n",
            "networkx                           3.4\n",
            "nibabel                            5.2.1\n",
            "nltk                               3.8.1\n",
            "notebook                           6.5.5\n",
            "notebook_shim                      0.2.4\n",
            "numba                              0.60.0\n",
            "numexpr                            2.10.1\n",
            "numpy                              1.26.4\n",
            "nvidia-cublas-cu12                 12.6.3.3\n",
            "nvidia-cuda-cupti-cu12             12.6.80\n",
            "nvidia-cuda-nvcc-cu12              12.6.77\n",
            "nvidia-cuda-runtime-cu12           12.6.77\n",
            "nvidia-cudnn-cu12                  9.5.0.50\n",
            "nvidia-cufft-cu12                  11.3.0.4\n",
            "nvidia-cusolver-cu12               11.7.1.2\n",
            "nvidia-cusparse-cu12               12.5.4.2\n",
            "nvidia-nccl-cu12                   2.23.4\n",
            "nvidia-nvjitlink-cu12              12.6.77\n",
            "nvtx                               0.2.10\n",
            "oauth2client                       4.1.3\n",
            "oauthlib                           3.2.2\n",
            "opencv-contrib-python              4.10.0.84\n",
            "opencv-python                      4.10.0.84\n",
            "opencv-python-headless             4.10.0.84\n",
            "openpyxl                           3.1.5\n",
            "opentelemetry-api                  1.16.0\n",
            "opentelemetry-sdk                  1.16.0\n",
            "opentelemetry-semantic-conventions 0.37b0\n",
            "opt_einsum                         3.4.0\n",
            "optax                              0.2.3\n",
            "optree                             0.13.0\n",
            "orbax-checkpoint                   0.6.4\n",
            "ordered-set                        4.1.0\n",
            "osqp                               0.6.7.post0\n",
            "packaging                          24.1\n",
            "pandas                             2.2.2\n",
            "pandas-datareader                  0.10.0\n",
            "pandas-gbq                         0.23.2\n",
            "pandas-stubs                       2.2.2.240909\n",
            "pandocfilters                      1.5.1\n",
            "panel                              1.4.5\n",
            "param                              2.1.1\n",
            "parso                              0.8.4\n",
            "parsy                              2.1\n",
            "partd                              1.4.2\n",
            "pathlib                            1.0.1\n",
            "patsy                              0.5.6\n",
            "pbr                                6.1.0\n",
            "peewee                             3.17.6\n",
            "pexpect                            4.9.0\n",
            "pickleshare                        0.7.5\n",
            "pillow                             10.4.0\n",
            "pip                                24.1.2\n",
            "pip-tools                          7.4.1\n",
            "platformdirs                       4.3.6\n",
            "plotly                             5.24.1\n",
            "plotnine                           0.13.6\n",
            "pluggy                             1.5.0\n",
            "polars                             1.7.1\n",
            "pooch                              1.8.2\n",
            "portpicker                         1.5.2\n",
            "prefetch_generator                 1.0.3\n",
            "preshed                            3.0.9\n",
            "prettytable                        3.11.0\n",
            "proglog                            0.1.10\n",
            "progressbar2                       4.5.0\n",
            "prometheus_client                  0.21.0\n",
            "promise                            2.3\n",
            "prompt_toolkit                     3.0.48\n",
            "propcache                          0.2.0\n",
            "prophet                            1.1.6\n",
            "proto-plus                         1.24.0\n",
            "protobuf                           3.20.3\n",
            "psutil                             5.9.5\n",
            "psycopg2                           2.9.9\n",
            "ptyprocess                         0.7.0\n",
            "py-cpuinfo                         9.0.0\n",
            "py4j                               0.10.9.7\n",
            "pyarrow                            16.1.0\n",
            "pyarrow-hotfix                     0.6\n",
            "pyasn1                             0.6.1\n",
            "pyasn1_modules                     0.4.1\n",
            "pycocotools                        2.0.8\n",
            "pycparser                          2.22\n",
            "pydantic                           2.9.2\n",
            "pydantic_core                      2.23.4\n",
            "pydata-google-auth                 1.8.2\n",
            "pydot                              3.0.2\n",
            "pydot-ng                           2.0.0\n",
            "pydotplus                          2.0.2\n",
            "PyDrive                            1.3.1\n",
            "PyDrive2                           1.20.0\n",
            "pyerfa                             2.0.1.4\n",
            "pygame                             2.6.1\n",
            "Pygments                           2.18.0\n",
            "PyGObject                          3.42.1\n",
            "PyJWT                              2.9.0\n",
            "pylatexenc                         2.10\n",
            "pymc                               5.16.2\n",
            "pymystem3                          0.2.0\n",
            "pynvjitlink-cu12                   0.3.0\n",
            "pyogrio                            0.10.0\n",
            "PyOpenGL                           3.1.7\n",
            "pyOpenSSL                          24.2.1\n",
            "pyparsing                          3.1.4\n",
            "pyperclip                          1.9.0\n",
            "pyproj                             3.7.0\n",
            "pyproject_hooks                    1.2.0\n",
            "pyshp                              2.3.1\n",
            "PySocks                            1.7.1\n",
            "pytensor                           2.25.5\n",
            "pytest                             7.4.4\n",
            "python-apt                         0.0.0\n",
            "python-box                         7.2.0\n",
            "python-dateutil                    2.8.2\n",
            "python-louvain                     0.16\n",
            "python-slugify                     8.0.4\n",
            "python-utils                       3.9.0\n",
            "pytz                               2024.2\n",
            "pyviz_comms                        3.0.3\n",
            "PyYAML                             6.0.2\n",
            "pyzmq                              24.0.1\n",
            "qdldl                              0.1.7.post4\n",
            "qiskit                             1.2.4\n",
            "qiskit-aer                         0.15.1\n",
            "ratelim                            0.1.6\n",
            "referencing                        0.35.1\n",
            "regex                              2024.9.11\n",
            "requests                           2.32.3\n",
            "requests-oauthlib                  1.3.1\n",
            "requirements-parser                0.9.0\n",
            "rich                               13.9.2\n",
            "rmm-cu12                           24.6.0\n",
            "rpds-py                            0.20.0\n",
            "rpy2                               3.4.2\n",
            "rsa                                4.9\n",
            "rustworkx                          0.15.1\n",
            "safetensors                        0.4.5\n",
            "scikit-image                       0.24.0\n",
            "scikit-learn                       1.5.2\n",
            "scipy                              1.13.1\n",
            "scooby                             0.10.0\n",
            "scs                                3.2.7\n",
            "seaborn                            0.13.2\n",
            "SecretStorage                      3.3.1\n",
            "Send2Trash                         1.8.3\n",
            "sentencepiece                      0.2.0\n",
            "setuptools                         71.0.4\n",
            "shapely                            2.0.6\n",
            "shellingham                        1.5.4\n",
            "simple-parsing                     0.1.6\n",
            "six                                1.16.0\n",
            "sklearn-pandas                     2.2.0\n",
            "smart-open                         7.0.5\n",
            "sniffio                            1.3.1\n",
            "snowballstemmer                    2.2.0\n",
            "sortedcontainers                   2.4.0\n",
            "soundfile                          0.12.1\n",
            "soupsieve                          2.6\n",
            "soxr                               0.5.0.post1\n",
            "spacy                              3.7.5\n",
            "spacy-legacy                       3.0.12\n",
            "spacy-loggers                      1.0.5\n",
            "Sphinx                             5.0.2\n",
            "sphinxcontrib-applehelp            2.0.0\n",
            "sphinxcontrib-devhelp              2.0.0\n",
            "sphinxcontrib-htmlhelp             2.1.0\n",
            "sphinxcontrib-jsmath               1.0.1\n",
            "sphinxcontrib-qthelp               2.0.0\n",
            "sphinxcontrib-serializinghtml      2.0.0\n",
            "SQLAlchemy                         2.0.35\n",
            "sqlglot                            25.1.0\n",
            "sqlparse                           0.5.1\n",
            "srsly                              2.4.8\n",
            "stanio                             0.5.1\n",
            "statsmodels                        0.14.4\n",
            "stevedore                          5.3.0\n",
            "StrEnum                            0.4.15\n",
            "symengine                          0.13.0\n",
            "sympy                              1.13.3\n",
            "tables                             3.8.0\n",
            "tabulate                           0.9.0\n",
            "tbb                                2021.13.1\n",
            "tblib                              3.0.0\n",
            "tenacity                           9.0.0\n",
            "tensorboard                        2.17.0\n",
            "tensorboard-data-server            0.7.2\n",
            "tensorflow                         2.17.0\n",
            "tensorflow-datasets                4.9.6\n",
            "tensorflow-hub                     0.16.1\n",
            "tensorflow-io-gcs-filesystem       0.37.1\n",
            "tensorflow-metadata                1.16.1\n",
            "tensorflow-probability             0.24.0\n",
            "tensorstore                        0.1.66\n",
            "termcolor                          2.5.0\n",
            "terminado                          0.18.1\n",
            "text-unidecode                     1.3\n",
            "textblob                           0.17.1\n",
            "tf_keras                           2.17.0\n",
            "tf-slim                            1.1.0\n",
            "thinc                              8.2.5\n",
            "threadpoolctl                      3.5.0\n",
            "tifffile                           2024.9.20\n",
            "tinycss2                           1.3.0\n",
            "tokenizers                         0.19.1\n",
            "toml                               0.10.2\n",
            "tomli                              2.0.2\n",
            "toolz                              0.12.1\n",
            "torch                              2.4.1+cu121\n",
            "torchaudio                         2.4.1+cu121\n",
            "torchsummary                       1.5.1\n",
            "torchvision                        0.19.1+cu121\n",
            "tornado                            6.3.3\n",
            "tqdm                               4.66.5\n",
            "traitlets                          5.7.1\n",
            "traittypes                         0.2.1\n",
            "transformers                       4.44.2\n",
            "tweepy                             4.14.0\n",
            "typeguard                          4.3.0\n",
            "typer                              0.12.5\n",
            "types-pytz                         2024.2.0.20241003\n",
            "types-setuptools                   75.1.0.20241014\n",
            "typing_extensions                  4.12.2\n",
            "tzdata                             2024.2\n",
            "tzlocal                            5.2\n",
            "uc-micro-py                        1.0.3\n",
            "uritemplate                        4.1.1\n",
            "urllib3                            2.2.3\n",
            "vega-datasets                      0.9.0\n",
            "wadllib                            1.3.6\n",
            "wasabi                             1.1.3\n",
            "wcwidth                            0.2.13\n",
            "weasel                             0.4.1\n",
            "webcolors                          24.8.0\n",
            "webencodings                       0.5.1\n",
            "websocket-client                   1.8.0\n",
            "Werkzeug                           3.0.4\n",
            "wheel                              0.44.0\n",
            "widgetsnbextension                 3.6.9\n",
            "wordcloud                          1.9.3\n",
            "wrapt                              1.16.0\n",
            "xarray                             2024.9.0\n",
            "xarray-einstats                    0.8.0\n",
            "xgboost                            2.1.1\n",
            "xlrd                               2.0.1\n",
            "xyzservices                        2024.9.0\n",
            "yarl                               1.14.0\n",
            "yellowbrick                        1.5\n",
            "yfinance                           0.2.44\n",
            "zict                               3.0.0\n",
            "zipp                               3.20.2\n"
          ]
        }
      ]
    },
    {
      "cell_type": "code",
      "source": [
        "import qiskit\n",
        "qiskit.__version__"
      ],
      "metadata": {
        "colab": {
          "base_uri": "https://localhost:8080/",
          "height": 56
        },
        "id": "H2krZfHA96zm",
        "outputId": "d13d78c3-ced8-49e0-d5a5-f7ff7e49367b"
      },
      "execution_count": 33,
      "outputs": [
        {
          "output_type": "execute_result",
          "data": {
            "text/plain": [
              "'1.2.4'"
            ],
            "application/vnd.google.colaboratory.intrinsic+json": {
              "type": "string"
            }
          },
          "metadata": {},
          "execution_count": 33
        }
      ]
    },
    {
      "cell_type": "code",
      "source": [
        "import qiskit_aer\n",
        "qiskit_aer.__version__"
      ],
      "metadata": {
        "colab": {
          "base_uri": "https://localhost:8080/",
          "height": 56
        },
        "id": "RZj1G4QsP6FU",
        "outputId": "11f44402-332f-40d5-e552-2e4314dcf18f"
      },
      "execution_count": 34,
      "outputs": [
        {
          "output_type": "execute_result",
          "data": {
            "text/plain": [
              "'0.15.1'"
            ],
            "application/vnd.google.colaboratory.intrinsic+json": {
              "type": "string"
            }
          },
          "metadata": {},
          "execution_count": 34
        }
      ]
    },
    {
      "cell_type": "code",
      "source": [
        "#from qiskit_aer import AerSimulator\n",
        "\n",
        "#local_simulator = AerSimulator(method=\"statevector\") # 'automatic', 'statevector', 'density_matrix', 'stabilizer', 'matrix_product_state', 'extended_stabilizer', 'unitary', 'superop'\n",
        "\n",
        "#print(local_simulator)"
      ],
      "metadata": {
        "id": "LzpBMRuzR2Js"
      },
      "execution_count": 35,
      "outputs": []
    },
    {
      "cell_type": "code",
      "source": [
        "#print(local_simulator.max_circuits)"
      ],
      "metadata": {
        "id": "KyTwji9kWODT"
      },
      "execution_count": 36,
      "outputs": []
    },
    {
      "cell_type": "code",
      "source": [
        "#local_simulator.description"
      ],
      "metadata": {
        "id": "dkAjAjunWTUh"
      },
      "execution_count": 37,
      "outputs": []
    },
    {
      "cell_type": "markdown",
      "source": [
        "\n",
        "# Qiskit Runtime Programming 절차\n",
        "1. Map the Problem to Circuits and Operators\n",
        "2. Optimize the Circuit\n",
        "3. Execute it on a Backend\n",
        "4. Post-Process the Results\n",
        "\n",
        "\n"
      ],
      "metadata": {
        "id": "wTjamR3bX71_"
      }
    },
    {
      "cell_type": "markdown",
      "source": [
        "# Hello World example on a 2-Qubit Bell State"
      ],
      "metadata": {
        "id": "mekg-RTDYhv2"
      }
    },
    {
      "cell_type": "markdown",
      "source": [
        "1. Map the Problem to Circuits and Operators"
      ],
      "metadata": {
        "id": "HMeJtnRtYtPo"
      }
    },
    {
      "cell_type": "code",
      "source": [
        "#아래 circuit은 estimator primitive를 위한 것\n",
        "\n",
        "from qiskit import QuantumCircuit\n",
        "\n",
        "bell_circuit = QuantumCircuit(2)\n",
        "#bell_circuit = QuantumCircuit(2, 2) # estimator에서 에러\n",
        "bell_circuit.h(0)\n",
        "bell_circuit.cx(0, 1)\n",
        "#bell_circuit.measure([0,1], [0,1]) # estimator에서는 사용않함\n",
        "bell_circuit.draw(output='mpl')"
      ],
      "metadata": {
        "colab": {
          "base_uri": "https://localhost:8080/",
          "height": 211
        },
        "id": "ka35rzuXWhGC",
        "outputId": "0b8b22b9-75f9-4b23-acfe-7377a399c9eb"
      },
      "execution_count": 38,
      "outputs": [
        {
          "output_type": "execute_result",
          "data": {
            "text/plain": [
              "<Figure size 287.294x200.667 with 1 Axes>"
            ],
            "image/png": "[encoded data removed]"
          },
          "metadata": {},
          "execution_count": 38
        }
      ]
    },
    {
      "cell_type": "markdown",
      "source": [
        "Qiskit Runtime 서비스에 새롭게 추가된 Operator를 이용한 기대값 측정방법을 위해 observables 생성<br>\n",
        "\n",
        "Qiskit Runtime 서비스는 이전의 확률분포 반환에서 추가적으로 데이터를 반환하는 두 가지 방법을 제공합니다.\n",
        "1.   측정하기로 선택한 큐비트 집합에 대한 확률 분포\n",
        "\n",
        "```\n",
        "# 회로 실행 및 결과 얻기\n",
        "job = sampler.run(circuit)\n",
        "result = job.result()\n",
        "counts = result.quasi_dists[0]\n",
        "# 결과 출력\n",
        "print(counts)\n",
        "```\n",
        "\n",
        "2.   관측 가능한 값의 기대값\n",
        "\n",
        "```\n",
        "# 회로 실행 및 결과 얻기\n",
        "job = estimator.run(observable, circuit)\n",
        "result = job.result()\n",
        "expectation_value = result.values[0]\n",
        "# 결과 출력\n",
        "print(expectation_value)\n",
        "```\n",
        "?? Real QPU는 Sampler Primitive에서 확률분포를 지원하지 않음(버그인지 확인필요)"
      ],
      "metadata": {
        "id": "ebdO121TadXt"
      }
    },
    {
      "cell_type": "code",
      "source": [
        "from qiskit.quantum_info import Pauli\n",
        "\n",
        "ZZ = Pauli('ZZ')\n",
        "ZI = Pauli('ZI')\n",
        "IZ = Pauli('IZ')\n",
        "\n",
        "XX = Pauli('XX')\n",
        "XI = Pauli('XI')\n",
        "IX = Pauli('IX')\n",
        "\n",
        "observables = [ZZ, ZI, IZ, XX, XI, IX]"
      ],
      "metadata": {
        "id": "faORhIJWay9r"
      },
      "execution_count": 39,
      "outputs": []
    },
    {
      "cell_type": "markdown",
      "source": [
        "# Step 2: Optimize"
      ],
      "metadata": {
        "id": "AtI1A03mcHk8"
      }
    },
    {
      "cell_type": "markdown",
      "source": [
        "# Step 3: Execute on the backend"
      ],
      "metadata": {
        "id": "aqk8mvSXcKk3"
      }
    },
    {
      "cell_type": "code",
      "source": [
        "from qiskit_aer.primitives import Estimator\n",
        "estimator = Estimator()"
      ],
      "metadata": {
        "id": "fATsMesNcNlV"
      },
      "execution_count": 40,
      "outputs": []
    },
    {
      "cell_type": "code",
      "source": [
        "job = estimator.run([bell_circuit] * len(observables), observables)\n",
        "job.result()"
      ],
      "metadata": {
        "colab": {
          "base_uri": "https://localhost:8080/"
        },
        "id": "nJQvQ7iweOPZ",
        "outputId": "53b95b9f-f3d4-4ddc-d872-493753d1b296"
      },
      "execution_count": 41,
      "outputs": [
        {
          "output_type": "execute_result",
          "data": {
            "text/plain": [
              "EstimatorResult(values=array([ 1.        ,  0.01367188,  0.01367188,  1.        , -0.04101562,\n",
              "       -0.04101562]), metadata=[{'shots': 1024, 'variance': 0.0, 'simulator_metadata': [{'time_taken': 0.005081216, 'num_bind_params': 1, 'parallel_state_update': 2, 'parallel_shots': 1, 'required_memory_mb': 0, 'input_qubit_map': [[1, 1], [0, 0]], 'method': 'stabilizer', 'device': 'CPU', 'num_qubits': 2, 'sample_measure_time': 0.001103974, 'active_input_qubits': [0, 1], 'num_clbits': 2, 'remapped_qubits': False, 'runtime_parameter_bind': False, 'max_memory_mb': 12978, 'noise': 'ideal', 'measure_sampling': True, 'batched_shots_optimization': False, 'fusion': {'enabled': False}}]}, {'shots': 1024, 'variance': 0.9998130798339844, 'simulator_metadata': [{'time_taken': 0.005081216, 'num_bind_params': 1, 'parallel_state_update': 2, 'parallel_shots': 1, 'required_memory_mb': 0, 'input_qubit_map': [[1, 1], [0, 0]], 'method': 'stabilizer', 'device': 'CPU', 'num_qubits': 2, 'sample_measure_time': 0.001103974, 'active_input_qubits': [0, 1], 'num_clbits': 2, 'remapped_qubits': False, 'runtime_parameter_bind': False, 'max_memory_mb': 12978, 'noise': 'ideal', 'measure_sampling': True, 'batched_shots_optimization': False, 'fusion': {'enabled': False}}]}, {'shots': 1024, 'variance': 0.9998130798339844, 'simulator_metadata': [{'time_taken': 0.005081216, 'num_bind_params': 1, 'parallel_state_update': 2, 'parallel_shots': 1, 'required_memory_mb': 0, 'input_qubit_map': [[1, 1], [0, 0]], 'method': 'stabilizer', 'device': 'CPU', 'num_qubits': 2, 'sample_measure_time': 0.001103974, 'active_input_qubits': [0, 1], 'num_clbits': 2, 'remapped_qubits': False, 'runtime_parameter_bind': False, 'max_memory_mb': 12978, 'noise': 'ideal', 'measure_sampling': True, 'batched_shots_optimization': False, 'fusion': {'enabled': False}}]}, {'shots': 1024, 'variance': 0.0, 'simulator_metadata': [{'time_taken': 0.001969921, 'num_bind_params': 1, 'parallel_state_update': 2, 'parallel_shots': 1, 'required_memory_mb': 0, 'input_qubit_map': [[1, 1], [0, 0]], 'method': 'stabilizer', 'device': 'CPU', 'num_qubits': 2, 'sample_measure_time': 0.000712854, 'active_input_qubits': [0, 1], 'num_clbits': 2, 'remapped_qubits': False, 'runtime_parameter_bind': False, 'max_memory_mb': 12978, 'noise': 'ideal', 'measure_sampling': True, 'batched_shots_optimization': False, 'fusion': {'enabled': False}}]}, {'shots': 1024, 'variance': 0.9983177185058594, 'simulator_metadata': [{'time_taken': 0.001969921, 'num_bind_params': 1, 'parallel_state_update': 2, 'parallel_shots': 1, 'required_memory_mb': 0, 'input_qubit_map': [[1, 1], [0, 0]], 'method': 'stabilizer', 'device': 'CPU', 'num_qubits': 2, 'sample_measure_time': 0.000712854, 'active_input_qubits': [0, 1], 'num_clbits': 2, 'remapped_qubits': False, 'runtime_parameter_bind': False, 'max_memory_mb': 12978, 'noise': 'ideal', 'measure_sampling': True, 'batched_shots_optimization': False, 'fusion': {'enabled': False}}]}, {'shots': 1024, 'variance': 0.9983177185058594, 'simulator_metadata': [{'time_taken': 0.001969921, 'num_bind_params': 1, 'parallel_state_update': 2, 'parallel_shots': 1, 'required_memory_mb': 0, 'input_qubit_map': [[1, 1], [0, 0]], 'method': 'stabilizer', 'device': 'CPU', 'num_qubits': 2, 'sample_measure_time': 0.000712854, 'active_input_qubits': [0, 1], 'num_clbits': 2, 'remapped_qubits': False, 'runtime_parameter_bind': False, 'max_memory_mb': 12978, 'noise': 'ideal', 'measure_sampling': True, 'batched_shots_optimization': False, 'fusion': {'enabled': False}}]}])"
            ]
          },
          "metadata": {},
          "execution_count": 41
        }
      ]
    },
    {
      "cell_type": "code",
      "source": [
        "job.result().values"
      ],
      "metadata": {
        "colab": {
          "base_uri": "https://localhost:8080/"
        },
        "id": "Qf-YnjIEgQUI",
        "outputId": "e9c2d2c0-6e7c-4c9a-8112-0b59ef7c4b60"
      },
      "execution_count": 42,
      "outputs": [
        {
          "output_type": "execute_result",
          "data": {
            "text/plain": [
              "array([ 1.        ,  0.01367188,  0.01367188,  1.        , -0.04101562,\n",
              "       -0.04101562])"
            ]
          },
          "metadata": {},
          "execution_count": 42
        }
      ]
    },
    {
      "cell_type": "code",
      "source": [
        "job.result().metadata"
      ],
      "metadata": {
        "colab": {
          "base_uri": "https://localhost:8080/"
        },
        "id": "Ma3yXsC0gVb6",
        "outputId": "68583878-f300-4306-a718-0f141c770a61"
      },
      "execution_count": 43,
      "outputs": [
        {
          "output_type": "execute_result",
          "data": {
            "text/plain": [
              "[{'shots': 1024,\n",
              "  'variance': 0.0,\n",
              "  'simulator_metadata': [{'time_taken': 0.005081216,\n",
              "    'num_bind_params': 1,\n",
              "    'parallel_state_update': 2,\n",
              "    'parallel_shots': 1,\n",
              "    'required_memory_mb': 0,\n",
              "    'input_qubit_map': [[1, 1], [0, 0]],\n",
              "    'method': 'stabilizer',\n",
              "    'device': 'CPU',\n",
              "    'num_qubits': 2,\n",
              "    'sample_measure_time': 0.001103974,\n",
              "    'active_input_qubits': [0, 1],\n",
              "    'num_clbits': 2,\n",
              "    'remapped_qubits': False,\n",
              "    'runtime_parameter_bind': False,\n",
              "    'max_memory_mb': 12978,\n",
              "    'noise': 'ideal',\n",
              "    'measure_sampling': True,\n",
              "    'batched_shots_optimization': False,\n",
              "    'fusion': {'enabled': False}}]},\n",
              " {'shots': 1024,\n",
              "  'variance': 0.9998130798339844,\n",
              "  'simulator_metadata': [{'time_taken': 0.005081216,\n",
              "    'num_bind_params': 1,\n",
              "    'parallel_state_update': 2,\n",
              "    'parallel_shots': 1,\n",
              "    'required_memory_mb': 0,\n",
              "    'input_qubit_map': [[1, 1], [0, 0]],\n",
              "    'method': 'stabilizer',\n",
              "    'device': 'CPU',\n",
              "    'num_qubits': 2,\n",
              "    'sample_measure_time': 0.001103974,\n",
              "    'active_input_qubits': [0, 1],\n",
              "    'num_clbits': 2,\n",
              "    'remapped_qubits': False,\n",
              "    'runtime_parameter_bind': False,\n",
              "    'max_memory_mb': 12978,\n",
              "    'noise': 'ideal',\n",
              "    'measure_sampling': True,\n",
              "    'batched_shots_optimization': False,\n",
              "    'fusion': {'enabled': False}}]},\n",
              " {'shots': 1024,\n",
              "  'variance': 0.9998130798339844,\n",
              "  'simulator_metadata': [{'time_taken': 0.005081216,\n",
              "    'num_bind_params': 1,\n",
              "    'parallel_state_update': 2,\n",
              "    'parallel_shots': 1,\n",
              "    'required_memory_mb': 0,\n",
              "    'input_qubit_map': [[1, 1], [0, 0]],\n",
              "    'method': 'stabilizer',\n",
              "    'device': 'CPU',\n",
              "    'num_qubits': 2,\n",
              "    'sample_measure_time': 0.001103974,\n",
              "    'active_input_qubits': [0, 1],\n",
              "    'num_clbits': 2,\n",
              "    'remapped_qubits': False,\n",
              "    'runtime_parameter_bind': False,\n",
              "    'max_memory_mb': 12978,\n",
              "    'noise': 'ideal',\n",
              "    'measure_sampling': True,\n",
              "    'batched_shots_optimization': False,\n",
              "    'fusion': {'enabled': False}}]},\n",
              " {'shots': 1024,\n",
              "  'variance': 0.0,\n",
              "  'simulator_metadata': [{'time_taken': 0.001969921,\n",
              "    'num_bind_params': 1,\n",
              "    'parallel_state_update': 2,\n",
              "    'parallel_shots': 1,\n",
              "    'required_memory_mb': 0,\n",
              "    'input_qubit_map': [[1, 1], [0, 0]],\n",
              "    'method': 'stabilizer',\n",
              "    'device': 'CPU',\n",
              "    'num_qubits': 2,\n",
              "    'sample_measure_time': 0.000712854,\n",
              "    'active_input_qubits': [0, 1],\n",
              "    'num_clbits': 2,\n",
              "    'remapped_qubits': False,\n",
              "    'runtime_parameter_bind': False,\n",
              "    'max_memory_mb': 12978,\n",
              "    'noise': 'ideal',\n",
              "    'measure_sampling': True,\n",
              "    'batched_shots_optimization': False,\n",
              "    'fusion': {'enabled': False}}]},\n",
              " {'shots': 1024,\n",
              "  'variance': 0.9983177185058594,\n",
              "  'simulator_metadata': [{'time_taken': 0.001969921,\n",
              "    'num_bind_params': 1,\n",
              "    'parallel_state_update': 2,\n",
              "    'parallel_shots': 1,\n",
              "    'required_memory_mb': 0,\n",
              "    'input_qubit_map': [[1, 1], [0, 0]],\n",
              "    'method': 'stabilizer',\n",
              "    'device': 'CPU',\n",
              "    'num_qubits': 2,\n",
              "    'sample_measure_time': 0.000712854,\n",
              "    'active_input_qubits': [0, 1],\n",
              "    'num_clbits': 2,\n",
              "    'remapped_qubits': False,\n",
              "    'runtime_parameter_bind': False,\n",
              "    'max_memory_mb': 12978,\n",
              "    'noise': 'ideal',\n",
              "    'measure_sampling': True,\n",
              "    'batched_shots_optimization': False,\n",
              "    'fusion': {'enabled': False}}]},\n",
              " {'shots': 1024,\n",
              "  'variance': 0.9983177185058594,\n",
              "  'simulator_metadata': [{'time_taken': 0.001969921,\n",
              "    'num_bind_params': 1,\n",
              "    'parallel_state_update': 2,\n",
              "    'parallel_shots': 1,\n",
              "    'required_memory_mb': 0,\n",
              "    'input_qubit_map': [[1, 1], [0, 0]],\n",
              "    'method': 'stabilizer',\n",
              "    'device': 'CPU',\n",
              "    'num_qubits': 2,\n",
              "    'sample_measure_time': 0.000712854,\n",
              "    'active_input_qubits': [0, 1],\n",
              "    'num_clbits': 2,\n",
              "    'remapped_qubits': False,\n",
              "    'runtime_parameter_bind': False,\n",
              "    'max_memory_mb': 12978,\n",
              "    'noise': 'ideal',\n",
              "    'measure_sampling': True,\n",
              "    'batched_shots_optimization': False,\n",
              "    'fusion': {'enabled': False}}]}]"
            ]
          },
          "metadata": {},
          "execution_count": 43
        }
      ]
    },
    {
      "cell_type": "markdown",
      "source": [
        "# Step 4: Post-process (and plotting)"
      ],
      "metadata": {
        "id": "jXWqgQLefM4C"
      }
    },
    {
      "cell_type": "code",
      "source": [
        "import matplotlib.pyplot as plt\n",
        "\n",
        "data = ['ZZ', 'ZI', 'IZ', 'XX', 'XI', 'IX']\n",
        "values = job.result().values"
      ],
      "metadata": {
        "id": "8Ns7so5GhDpt"
      },
      "execution_count": 44,
      "outputs": []
    },
    {
      "cell_type": "code",
      "source": [
        "plt.plot(data, values)\n",
        "plt.xlabel('Observable')\n",
        "plt.ylabel('Expectation Value')\n",
        "plt.title('Bell State Expectation Values')\n",
        "plt.show()"
      ],
      "metadata": {
        "colab": {
          "base_uri": "https://localhost:8080/",
          "height": 492
        },
        "id": "94DETZPfh3_1",
        "outputId": "62c5c5b5-34c7-4798-d63d-8084b30ac632"
      },
      "execution_count": 45,
      "outputs": [
        {
          "output_type": "display_data",
          "data": {
            "text/plain": [
              "<Figure size 640x480 with 1 Axes>"
            ],
            "image/png": "[encoded data removed]"
          },
          "metadata": {}
        }
      ]
    },
    {
      "cell_type": "code",
      "source": [
        "plt.bar(data, values)\n",
        "plt.xlabel('Observable')\n",
        "plt.ylabel('Expectation Value')\n",
        "plt.title('Bell State Expectation Values')\n",
        "plt.show()"
      ],
      "metadata": {
        "colab": {
          "base_uri": "https://localhost:8080/",
          "height": 492
        },
        "id": "0wNbVOKmhuKU",
        "outputId": "1122c31e-6a46-4291-9e0e-6f4e0417dbbe"
      },
      "execution_count": 46,
      "outputs": [
        {
          "output_type": "display_data",
          "data": {
            "text/plain": [
              "<Figure size 640x480 with 1 Axes>"
            ],
            "image/png": "[encoded data removed]"
          },
          "metadata": {}
        }
      ]
    },
    {
      "cell_type": "markdown",
      "source": [
        "Sampler 용 코드들"
      ],
      "metadata": {
        "id": "jUaCoDjziKTq"
      }
    },
    {
      "cell_type": "code",
      "source": [
        "from qiskit_aer.primitives import Sampler\n",
        "sampler = Sampler()"
      ],
      "metadata": {
        "id": "-m1KPWBujlRJ"
      },
      "execution_count": 47,
      "outputs": []
    },
    {
      "cell_type": "code",
      "source": [
        "from qiskit import QuantumCircuit\n",
        "\n",
        "bell_circuit = QuantumCircuit(2, 2)\n",
        "bell_circuit.h(0)\n",
        "bell_circuit.cx(0, 1)\n",
        "bell_circuit.measure([0,1], [0,1])\n",
        "bell_circuit.draw(output='mpl')"
      ],
      "metadata": {
        "colab": {
          "base_uri": "https://localhost:8080/",
          "height": 275
        },
        "id": "XjpVs0RyiN45",
        "outputId": "c3cd27da-42a9-425c-957a-fb371099c748"
      },
      "execution_count": 48,
      "outputs": [
        {
          "output_type": "execute_result",
          "data": {
            "text/plain": [
              "<Figure size 454.517x284.278 with 1 Axes>"
            ],
            "image/png": "[encoded data removed]"
          },
          "metadata": {},
          "execution_count": 48
        }
      ]
    },
    {
      "cell_type": "code",
      "source": [
        "# bell_circuit.measure([0,1], [0,1])을 풀어주세요.\n",
        "\n",
        "job = sampler.run(bell_circuit)\n"
      ],
      "metadata": {
        "id": "vR87i5p9dWM8"
      },
      "execution_count": 49,
      "outputs": []
    },
    {
      "cell_type": "code",
      "source": [
        "result = job.result()"
      ],
      "metadata": {
        "id": "h5pS4xSYl7nj"
      },
      "execution_count": 50,
      "outputs": []
    },
    {
      "cell_type": "code",
      "source": [
        "result"
      ],
      "metadata": {
        "colab": {
          "base_uri": "https://localhost:8080/"
        },
        "id": "GjZ4TkbGmBqd",
        "outputId": "c45ecef1-502b-4daa-bbfd-d822176dcd40"
      },
      "execution_count": 51,
      "outputs": [
        {
          "output_type": "execute_result",
          "data": {
            "text/plain": [
              "SamplerResult(quasi_dists=[{0: 0.5009765625, 3: 0.4990234375}], metadata=[{'shots': 1024, 'simulator_metadata': {'time_taken': 0.001770204, 'num_bind_params': 1, 'parallel_state_update': 2, 'parallel_shots': 1, 'required_memory_mb': 0, 'input_qubit_map': [[1, 1], [0, 0]], 'method': 'stabilizer', 'device': 'CPU', 'num_qubits': 2, 'sample_measure_time': 0.000527935, 'active_input_qubits': [0, 1], 'num_clbits': 2, 'remapped_qubits': False, 'runtime_parameter_bind': False, 'max_memory_mb': 12978, 'noise': 'ideal', 'measure_sampling': True, 'batched_shots_optimization': False, 'fusion': {'enabled': False}}}])"
            ]
          },
          "metadata": {},
          "execution_count": 51
        }
      ]
    },
    {
      "cell_type": "code",
      "source": [
        "counts = result.quasi_dists[0]\n",
        "print(counts)"
      ],
      "metadata": {
        "colab": {
          "base_uri": "https://localhost:8080/"
        },
        "id": "XtHtGCb1l-h8",
        "outputId": "d9f26b20-e1aa-4141-cc68-f2ca43978553"
      },
      "execution_count": 52,
      "outputs": [
        {
          "output_type": "stream",
          "name": "stdout",
          "text": [
            "{0: 0.5009765625, 3: 0.4990234375}\n"
          ]
        }
      ]
    },
    {
      "cell_type": "code",
      "source": [
        "from qiskit.visualization import plot_histogram # Import plot_histogram\n",
        "plot_histogram(counts)"
      ],
      "metadata": {
        "colab": {
          "base_uri": "https://localhost:8080/",
          "height": 449
        },
        "id": "-pvR7TBwdxNo",
        "outputId": "456f5cd1-5d7b-4655-8060-9db5d643a825"
      },
      "execution_count": 53,
      "outputs": [
        {
          "output_type": "execute_result",
          "data": {
            "text/plain": [
              "<Figure size 640x480 with 1 Axes>"
            ],
            "image/png": "[encoded data removed]"
          },
          "metadata": {},
          "execution_count": 53
        }
      ]
    }
  ]
}