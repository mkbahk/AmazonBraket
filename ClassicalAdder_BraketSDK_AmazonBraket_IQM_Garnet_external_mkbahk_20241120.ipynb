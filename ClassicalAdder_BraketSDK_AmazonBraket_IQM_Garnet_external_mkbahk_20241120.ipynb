{
  "cells": [
    {
      "cell_type": "markdown",
      "metadata": {
        "id": "view-in-github",
        "colab_type": "text"
      },
      "source": [
        "<a href=\"https://colab.research.google.com/github/mkbahk/AmazonBraket/blob/main/ClassicalAdder_BraketSDK_AmazonBraket_IQM_Garnet_external_mkbahk_20241120.ipynb\" target=\"_parent\"><img src=\"https://colab.research.google.com/assets/colab-badge.svg\" alt=\"Open In Colab\"/></a>"
      ]
    },
    {
      "cell_type": "code",
      "source": [
        "%pip install amazon-braket-sdk==1.87.0\n",
        "%pip install matplotlib"
      ],
      "metadata": {
        "colab": {
          "base_uri": "https://localhost:8080/"
        },
        "id": "7duiloQUbqA2",
        "outputId": "c25c24a9-693e-42e2-cdee-3a7022bde11a"
      },
      "execution_count": 8,
      "outputs": [
        {
          "output_type": "stream",
          "name": "stdout",
          "text": [
            "Requirement already satisfied: amazon-braket-sdk==1.87.0 in /usr/local/lib/python3.10/dist-packages (1.87.0)\n",
            "Requirement already satisfied: amazon-braket-schemas>=1.21.3 in /usr/local/lib/python3.10/dist-packages (from amazon-braket-sdk==1.87.0) (1.22.3)\n",
            "Requirement already satisfied: amazon-braket-default-simulator>=1.26.0 in /usr/local/lib/python3.10/dist-packages (from amazon-braket-sdk==1.87.0) (1.26.0)\n",
            "Requirement already satisfied: oqpy~=0.3.5 in /usr/local/lib/python3.10/dist-packages (from amazon-braket-sdk==1.87.0) (0.3.7)\n",
            "Requirement already satisfied: backoff in /usr/local/lib/python3.10/dist-packages (from amazon-braket-sdk==1.87.0) (2.2.1)\n",
            "Requirement already satisfied: boltons in /usr/local/lib/python3.10/dist-packages (from amazon-braket-sdk==1.87.0) (24.1.0)\n",
            "Requirement already satisfied: boto3>=1.28.53 in /usr/local/lib/python3.10/dist-packages (from amazon-braket-sdk==1.87.0) (1.35.65)\n",
            "Requirement already satisfied: cloudpickle==2.2.1 in /usr/local/lib/python3.10/dist-packages (from amazon-braket-sdk==1.87.0) (2.2.1)\n",
            "Requirement already satisfied: nest-asyncio in /usr/local/lib/python3.10/dist-packages (from amazon-braket-sdk==1.87.0) (1.6.0)\n",
            "Requirement already satisfied: networkx in /usr/local/lib/python3.10/dist-packages (from amazon-braket-sdk==1.87.0) (3.4.2)\n",
            "Requirement already satisfied: numpy in /usr/local/lib/python3.10/dist-packages (from amazon-braket-sdk==1.87.0) (1.26.4)\n",
            "Requirement already satisfied: openpulse in /usr/local/lib/python3.10/dist-packages (from amazon-braket-sdk==1.87.0) (1.0.1)\n",
            "Requirement already satisfied: openqasm3 in /usr/local/lib/python3.10/dist-packages (from amazon-braket-sdk==1.87.0) (1.0.0)\n",
            "Requirement already satisfied: sympy in /usr/local/lib/python3.10/dist-packages (from amazon-braket-sdk==1.87.0) (1.13.1)\n",
            "Requirement already satisfied: backports.entry-points-selectable in /usr/local/lib/python3.10/dist-packages (from amazon-braket-sdk==1.87.0) (1.3.0)\n",
            "Requirement already satisfied: opt-einsum in /usr/local/lib/python3.10/dist-packages (from amazon-braket-default-simulator>=1.26.0->amazon-braket-sdk==1.87.0) (3.4.0)\n",
            "Requirement already satisfied: pydantic>2 in /usr/local/lib/python3.10/dist-packages (from amazon-braket-default-simulator>=1.26.0->amazon-braket-sdk==1.87.0) (2.9.2)\n",
            "Requirement already satisfied: scipy in /usr/local/lib/python3.10/dist-packages (from amazon-braket-default-simulator>=1.26.0->amazon-braket-sdk==1.87.0) (1.13.1)\n",
            "Requirement already satisfied: antlr4-python3-runtime==4.9.2 in /usr/local/lib/python3.10/dist-packages (from amazon-braket-default-simulator>=1.26.0->amazon-braket-sdk==1.87.0) (4.9.2)\n",
            "Requirement already satisfied: botocore<1.36.0,>=1.35.65 in /usr/local/lib/python3.10/dist-packages (from boto3>=1.28.53->amazon-braket-sdk==1.87.0) (1.35.65)\n",
            "Requirement already satisfied: jmespath<2.0.0,>=0.7.1 in /usr/local/lib/python3.10/dist-packages (from boto3>=1.28.53->amazon-braket-sdk==1.87.0) (1.0.1)\n",
            "Requirement already satisfied: s3transfer<0.11.0,>=0.10.0 in /usr/local/lib/python3.10/dist-packages (from boto3>=1.28.53->amazon-braket-sdk==1.87.0) (0.10.3)\n",
            "Requirement already satisfied: mypy-extensions>=0.2.0 in /usr/local/lib/python3.10/dist-packages (from oqpy~=0.3.5->amazon-braket-sdk==1.87.0) (1.0.0)\n",
            "Requirement already satisfied: mpmath<1.4,>=1.1.0 in /usr/local/lib/python3.10/dist-packages (from sympy->amazon-braket-sdk==1.87.0) (1.3.0)\n",
            "Requirement already satisfied: python-dateutil<3.0.0,>=2.1 in /usr/local/lib/python3.10/dist-packages (from botocore<1.36.0,>=1.35.65->boto3>=1.28.53->amazon-braket-sdk==1.87.0) (2.8.2)\n",
            "Requirement already satisfied: urllib3!=2.2.0,<3,>=1.25.4 in /usr/local/lib/python3.10/dist-packages (from botocore<1.36.0,>=1.35.65->boto3>=1.28.53->amazon-braket-sdk==1.87.0) (2.2.3)\n",
            "Requirement already satisfied: annotated-types>=0.6.0 in /usr/local/lib/python3.10/dist-packages (from pydantic>2->amazon-braket-default-simulator>=1.26.0->amazon-braket-sdk==1.87.0) (0.7.0)\n",
            "Requirement already satisfied: pydantic-core==2.23.4 in /usr/local/lib/python3.10/dist-packages (from pydantic>2->amazon-braket-default-simulator>=1.26.0->amazon-braket-sdk==1.87.0) (2.23.4)\n",
            "Requirement already satisfied: typing-extensions>=4.6.1 in /usr/local/lib/python3.10/dist-packages (from pydantic>2->amazon-braket-default-simulator>=1.26.0->amazon-braket-sdk==1.87.0) (4.12.2)\n",
            "Requirement already satisfied: six>=1.5 in /usr/local/lib/python3.10/dist-packages (from python-dateutil<3.0.0,>=2.1->botocore<1.36.0,>=1.35.65->boto3>=1.28.53->amazon-braket-sdk==1.87.0) (1.16.0)\n",
            "Requirement already satisfied: matplotlib in /usr/local/lib/python3.10/dist-packages (3.8.0)\n",
            "Requirement already satisfied: contourpy>=1.0.1 in /usr/local/lib/python3.10/dist-packages (from matplotlib) (1.3.1)\n",
            "Requirement already satisfied: cycler>=0.10 in /usr/local/lib/python3.10/dist-packages (from matplotlib) (0.12.1)\n",
            "Requirement already satisfied: fonttools>=4.22.0 in /usr/local/lib/python3.10/dist-packages (from matplotlib) (4.54.1)\n",
            "Requirement already satisfied: kiwisolver>=1.0.1 in /usr/local/lib/python3.10/dist-packages (from matplotlib) (1.4.7)\n",
            "Requirement already satisfied: numpy<2,>=1.21 in /usr/local/lib/python3.10/dist-packages (from matplotlib) (1.26.4)\n",
            "Requirement already satisfied: packaging>=20.0 in /usr/local/lib/python3.10/dist-packages (from matplotlib) (24.2)\n",
            "Requirement already satisfied: pillow>=6.2.0 in /usr/local/lib/python3.10/dist-packages (from matplotlib) (11.0.0)\n",
            "Requirement already satisfied: pyparsing>=2.3.1 in /usr/local/lib/python3.10/dist-packages (from matplotlib) (3.2.0)\n",
            "Requirement already satisfied: python-dateutil>=2.7 in /usr/local/lib/python3.10/dist-packages (from matplotlib) (2.8.2)\n",
            "Requirement already satisfied: six>=1.5 in /usr/local/lib/python3.10/dist-packages (from python-dateutil>=2.7->matplotlib) (1.16.0)\n"
          ]
        }
      ]
    },
    {
      "cell_type": "code",
      "source": [
        "import os\n",
        "# Set environment variables for AWS credentials\n",
        "os.environ['AWS_ACCESS_KEY_ID'] = \"\"\n",
        "os.environ['AWS_SECRET_ACCESS_KEY'] = \"/+\"\n",
        "os.environ['AWS_DEFAULT_REGION'] = \"us-east-1\"\n",
        "\n",
        "# You can optionally set the s3 bucket and prefix using environment variables\n",
        "#os.environ['AWS_BRAKET_S3_BUCKET'] = \"snuqc\"\n",
        "#os.environ['AWS_BRAKET_S3_PREFIX'] = \"amazonbraket\""
      ],
      "metadata": {
        "id": "5xZpYi0WBkpQ"
      },
      "execution_count": 123,
      "outputs": []
    },
    {
      "cell_type": "code",
      "source": [
        "# Use Braket SDK Cost Tracking to estimate the cost to run this example\n",
        "from braket.tracking import Tracker\n",
        "t = Tracker().start()"
      ],
      "metadata": {
        "id": "5S-Iukp7BtV_"
      },
      "execution_count": 124,
      "outputs": []
    },
    {
      "cell_type": "code",
      "execution_count": 125,
      "metadata": {
        "ExecuteTime": {
          "end_time": "2023-08-29T20:32:04.268865Z",
          "start_time": "2023-08-29T20:32:01.949092Z"
        },
        "tags": [],
        "id": "m0g3vSjdbQhq"
      },
      "outputs": [],
      "source": [
        "# general imports\n",
        "import matplotlib.pyplot as plt\n",
        "%matplotlib inline\n",
        "\n",
        "# AWS imports: Import Braket SDK modules\n",
        "from braket.circuits import Circuit\n",
        "#from braket.devices import LocalSimulator\n",
        "from braket.aws import AwsDevice"
      ]
    },
    {
      "cell_type": "code",
      "execution_count": 126,
      "metadata": {
        "ExecuteTime": {
          "end_time": "2023-08-29T20:32:04.275199Z",
          "start_time": "2023-08-29T20:32:04.271532Z"
        },
        "tags": [],
        "id": "NP-yaDhhbQhs"
      },
      "outputs": [],
      "source": [
        "# Here 'cnot(control=0, target=1)' can be simplified as 'cnot(0,1)'\n",
        "BinaryAdder = Circuit().x(0).x(1).cnot(0, 3).cnot(1, 3).ccnot(0,1,4).cnot(2,3).ccnot(0,2,4).ccnot(1,2,4)"
      ]
    },
    {
      "cell_type": "code",
      "execution_count": 94,
      "metadata": {
        "tags": [],
        "colab": {
          "base_uri": "https://localhost:8080/"
        },
        "id": "ax37tBaybQhs",
        "outputId": "38fbfd0a-bafa-464e-b835-ef4350482ea7"
      },
      "outputs": [
        {
          "output_type": "stream",
          "name": "stdout",
          "text": [
            "T  : │  0  │  1  │  2  │     3     │  4  │  5  │\n",
            "      ┌───┐                                     \n",
            "q0 : ─┤ X ├───●───────────●───────────●─────────\n",
            "      └───┘   │           │           │         \n",
            "      ┌───┐   │           │           │         \n",
            "q1 : ─┤ X ├───┼─────●─────●───────────┼─────●───\n",
            "      └───┘   │     │     │           │     │   \n",
            "              │     │     │           │     │   \n",
            "q2 : ─────────┼─────┼─────┼─────●─────●─────●───\n",
            "              │     │     │     │     │     │   \n",
            "            ┌─┴─┐ ┌─┴─┐   │   ┌─┴─┐   │     │   \n",
            "q3 : ───────┤ X ├─┤ X ├───┼───┤ X ├───┼─────┼───\n",
            "            └───┘ └───┘   │   └───┘   │     │   \n",
            "                        ┌─┴─┐       ┌─┴─┐ ┌─┴─┐ \n",
            "q4 : ───────────────────┤ X ├───────┤ X ├─┤ X ├─\n",
            "                        └───┘       └───┘ └───┘ \n",
            "T  : │  0  │  1  │  2  │     3     │  4  │  5  │\n"
          ]
        }
      ],
      "source": [
        "print(BinaryAdder)"
      ]
    },
    {
      "cell_type": "code",
      "source": [
        "# set up device\n",
        "# device = LocalSimulator()                                                             #Local State Vector Simulator\n",
        "# device = LocalSimulator(\"default\")                                                    #Local State Vector Simulator\n",
        "# device = LocalSimulator(backend=\"default\")                                            #Local State Vector Simulator\n",
        "# device = LocalSimulator(backend=\"braket_sv\")                                          #Local State Vector Simulator\n",
        "# device = LocalSimulator(backend=\"braket_dm\")                                          #Local Density Matrix Simulator\n",
        "# device = LocalSimulator(backend=\"braket_ahs\")                                        #Local Analog Hamiltonian Simulation\n",
        "#device = AwsDevice(\"arn:aws:braket:::device/quantum-simulator/amazon/sv1\")              #sv1-managed Simulator\n",
        "# device = AwsDevice('arn:aws:braket:::device/quantum-simulator/amazon/tn1')            #TN1-managed Simulator\n",
        "# device = AwsDevice('arn:aws:braket:::device/quantum-simulator/amazon/dm1')            #DM1-managed Simulator\n",
        "#device = AwsDevice('arn:aws:braket:us-east-1::device/qpu/ionq/Aria-1')                #IonQ\n",
        "#device = AwsDevice('arn:aws:braket:us-east-1::device/qpu/ionq/Aria-2')                #IonQ\n",
        "# device = AwsDevice('arn:aws:braket:us-east-1::device/qpu/ionq/Forte-1')               #IonQ\n",
        "#device = AwsDevice('arn:aws:braket:eu-north-1::device/qpu/iqm/Garnet')                #IQM Garnet\n",
        "# device = AwsDevice('arn:aws:braket:us-east-1::device/qpu/quera/Aquila')               #QuEra Aquila\n",
        "# device = AwsDevice('arn:aws:braket:us-west-1::device/qpu/rigetti/Aspen-M-3')          #Rigetti Aspen-M-3\n",
        "# device = AwsDevice('arn:aws:braket:us-west-1::device/qpu/rigetti/Ankaa-2')            #Rigetti Ankaa-2\n"
      ],
      "metadata": {
        "id": "l0GuhD0gCLO2"
      },
      "execution_count": 171,
      "outputs": []
    },
    {
      "cell_type": "code",
      "source": [
        "from braket.aws import AwsQuantumTask\n",
        "import time\n",
        "\n",
        "# Submit the circuit as a job\n",
        "task = device.run(BinaryAdder, shots=1000)\n",
        "\n",
        "print(f\"Task ID: {task.id}\")"
      ],
      "metadata": {
        "colab": {
          "base_uri": "https://localhost:8080/",
          "height": 365
        },
        "id": "xsgodio6FjuO",
        "outputId": "85df794f-1dbe-409c-c5a4-eb17c997a844"
      },
      "execution_count": 172,
      "outputs": [
        {
          "output_type": "error",
          "ename": "ValidationException",
          "evalue": "An error occurred (ValidationException) when calling the CreateQuantumTask operation: [line 8] uses a gate: ccnot which is not supported by the device or defined via a defcal",
          "traceback": [
            "\u001b[0;31m---------------------------------------------------------------------------\u001b[0m",
            "\u001b[0;31mValidationException\u001b[0m                       Traceback (most recent call last)",
            "\u001b[0;32m<ipython-input-172-84775817a3ce>\u001b[0m in \u001b[0;36m<cell line: 5>\u001b[0;34m()\u001b[0m\n\u001b[1;32m      3\u001b[0m \u001b[0;34m\u001b[0m\u001b[0m\n\u001b[1;32m      4\u001b[0m \u001b[0;31m# Submit the circuit as a job\u001b[0m\u001b[0;34m\u001b[0m\u001b[0;34m\u001b[0m\u001b[0m\n\u001b[0;32m----> 5\u001b[0;31m \u001b[0mtask\u001b[0m \u001b[0;34m=\u001b[0m \u001b[0mdevice\u001b[0m\u001b[0;34m.\u001b[0m\u001b[0mrun\u001b[0m\u001b[0;34m(\u001b[0m\u001b[0mBinaryAdder\u001b[0m\u001b[0;34m,\u001b[0m \u001b[0mshots\u001b[0m\u001b[0;34m=\u001b[0m\u001b[0;36m1000\u001b[0m\u001b[0;34m)\u001b[0m\u001b[0;34m\u001b[0m\u001b[0;34m\u001b[0m\u001b[0m\n\u001b[0m\u001b[1;32m      6\u001b[0m \u001b[0;34m\u001b[0m\u001b[0m\n\u001b[1;32m      7\u001b[0m \u001b[0mprint\u001b[0m\u001b[0;34m(\u001b[0m\u001b[0;34mf\"Task ID: {task.id}\"\u001b[0m\u001b[0;34m)\u001b[0m\u001b[0;34m\u001b[0m\u001b[0;34m\u001b[0m\u001b[0m\n",
            "\u001b[0;32m/usr/local/lib/python3.10/dist-packages/braket/aws/aws_device.py\u001b[0m in \u001b[0;36mrun\u001b[0;34m(self, task_specification, s3_destination_folder, shots, poll_timeout_seconds, poll_interval_seconds, inputs, gate_definitions, reservation_arn, *aws_quantum_task_args, **aws_quantum_task_kwargs)\u001b[0m\n\u001b[1;32m    206\u001b[0m         \u001b[0;32mif\u001b[0m \u001b[0mself\u001b[0m\u001b[0;34m.\u001b[0m\u001b[0m_noise_model\u001b[0m\u001b[0;34m:\u001b[0m\u001b[0;34m\u001b[0m\u001b[0;34m\u001b[0m\u001b[0m\n\u001b[1;32m    207\u001b[0m             \u001b[0mtask_specification\u001b[0m \u001b[0;34m=\u001b[0m \u001b[0mself\u001b[0m\u001b[0;34m.\u001b[0m\u001b[0m_apply_noise_model_to_circuit\u001b[0m\u001b[0;34m(\u001b[0m\u001b[0mtask_specification\u001b[0m\u001b[0;34m)\u001b[0m\u001b[0;34m\u001b[0m\u001b[0;34m\u001b[0m\u001b[0m\n\u001b[0;32m--> 208\u001b[0;31m         return AwsQuantumTask.create(\n\u001b[0m\u001b[1;32m    209\u001b[0m             \u001b[0mself\u001b[0m\u001b[0;34m.\u001b[0m\u001b[0m_aws_session\u001b[0m\u001b[0;34m,\u001b[0m\u001b[0;34m\u001b[0m\u001b[0;34m\u001b[0m\u001b[0m\n\u001b[1;32m    210\u001b[0m             \u001b[0mself\u001b[0m\u001b[0;34m.\u001b[0m\u001b[0m_arn\u001b[0m\u001b[0;34m,\u001b[0m\u001b[0;34m\u001b[0m\u001b[0;34m\u001b[0m\u001b[0m\n",
            "\u001b[0;32m/usr/local/lib/python3.10/dist-packages/braket/aws/aws_quantum_task.py\u001b[0m in \u001b[0;36mcreate\u001b[0;34m(aws_session, device_arn, task_specification, s3_destination_folder, shots, device_parameters, disable_qubit_rewiring, tags, inputs, gate_definitions, quiet, reservation_arn, *args, **kwargs)\u001b[0m\n\u001b[1;32m    212\u001b[0m                 )\n\u001b[1;32m    213\u001b[0m \u001b[0;34m\u001b[0m\u001b[0m\n\u001b[0;32m--> 214\u001b[0;31m         return _create_internal(\n\u001b[0m\u001b[1;32m    215\u001b[0m             \u001b[0mtask_specification\u001b[0m\u001b[0;34m,\u001b[0m\u001b[0;34m\u001b[0m\u001b[0;34m\u001b[0m\u001b[0m\n\u001b[1;32m    216\u001b[0m             \u001b[0maws_session\u001b[0m\u001b[0;34m,\u001b[0m\u001b[0;34m\u001b[0m\u001b[0;34m\u001b[0m\u001b[0m\n",
            "\u001b[0;32m/usr/lib/python3.10/functools.py\u001b[0m in \u001b[0;36mwrapper\u001b[0;34m(*args, **kw)\u001b[0m\n\u001b[1;32m    887\u001b[0m                             '1 positional argument')\n\u001b[1;32m    888\u001b[0m \u001b[0;34m\u001b[0m\u001b[0m\n\u001b[0;32m--> 889\u001b[0;31m         \u001b[0;32mreturn\u001b[0m \u001b[0mdispatch\u001b[0m\u001b[0;34m(\u001b[0m\u001b[0margs\u001b[0m\u001b[0;34m[\u001b[0m\u001b[0;36m0\u001b[0m\u001b[0;34m]\u001b[0m\u001b[0;34m.\u001b[0m\u001b[0m__class__\u001b[0m\u001b[0;34m)\u001b[0m\u001b[0;34m(\u001b[0m\u001b[0;34m*\u001b[0m\u001b[0margs\u001b[0m\u001b[0;34m,\u001b[0m \u001b[0;34m**\u001b[0m\u001b[0mkw\u001b[0m\u001b[0;34m)\u001b[0m\u001b[0;34m\u001b[0m\u001b[0;34m\u001b[0m\u001b[0m\n\u001b[0m\u001b[1;32m    890\u001b[0m \u001b[0;34m\u001b[0m\u001b[0m\n\u001b[1;32m    891\u001b[0m     \u001b[0mfuncname\u001b[0m \u001b[0;34m=\u001b[0m \u001b[0mgetattr\u001b[0m\u001b[0;34m(\u001b[0m\u001b[0mfunc\u001b[0m\u001b[0;34m,\u001b[0m \u001b[0;34m'__name__'\u001b[0m\u001b[0;34m,\u001b[0m \u001b[0;34m'singledispatch function'\u001b[0m\u001b[0;34m)\u001b[0m\u001b[0;34m\u001b[0m\u001b[0;34m\u001b[0m\u001b[0m\n",
            "\u001b[0;32m/usr/local/lib/python3.10/dist-packages/braket/aws/aws_quantum_task.py\u001b[0m in \u001b[0;36m_\u001b[0;34m(circuit, aws_session, create_task_kwargs, device_arn, device_parameters, disable_qubit_rewiring, inputs, gate_definitions, *args, **kwargs)\u001b[0m\n\u001b[1;32m    728\u001b[0m         \u001b[0;34m\"deviceParameters\"\u001b[0m\u001b[0;34m:\u001b[0m \u001b[0mfinal_device_parameters\u001b[0m\u001b[0;34m.\u001b[0m\u001b[0mjson\u001b[0m\u001b[0;34m(\u001b[0m\u001b[0mexclude_none\u001b[0m\u001b[0;34m=\u001b[0m\u001b[0;32mTrue\u001b[0m\u001b[0;34m)\u001b[0m\u001b[0;34m,\u001b[0m\u001b[0;34m\u001b[0m\u001b[0;34m\u001b[0m\u001b[0m\n\u001b[1;32m    729\u001b[0m     }\n\u001b[0;32m--> 730\u001b[0;31m     \u001b[0mtask_arn\u001b[0m \u001b[0;34m=\u001b[0m \u001b[0maws_session\u001b[0m\u001b[0;34m.\u001b[0m\u001b[0mcreate_quantum_task\u001b[0m\u001b[0;34m(\u001b[0m\u001b[0;34m**\u001b[0m\u001b[0mcreate_task_kwargs\u001b[0m\u001b[0;34m)\u001b[0m\u001b[0;34m\u001b[0m\u001b[0;34m\u001b[0m\u001b[0m\n\u001b[0m\u001b[1;32m    731\u001b[0m     \u001b[0;32mreturn\u001b[0m \u001b[0mAwsQuantumTask\u001b[0m\u001b[0;34m(\u001b[0m\u001b[0mtask_arn\u001b[0m\u001b[0;34m,\u001b[0m \u001b[0maws_session\u001b[0m\u001b[0;34m,\u001b[0m \u001b[0;34m*\u001b[0m\u001b[0margs\u001b[0m\u001b[0;34m,\u001b[0m \u001b[0;34m**\u001b[0m\u001b[0mkwargs\u001b[0m\u001b[0;34m)\u001b[0m\u001b[0;34m\u001b[0m\u001b[0;34m\u001b[0m\u001b[0m\n\u001b[1;32m    732\u001b[0m \u001b[0;34m\u001b[0m\u001b[0m\n",
            "\u001b[0;32m/usr/local/lib/python3.10/dist-packages/braket/aws/aws_session.py\u001b[0m in \u001b[0;36mcreate_quantum_task\u001b[0;34m(self, **boto3_kwargs)\u001b[0m\n\u001b[1;32m    267\u001b[0m         \u001b[0;32mif\u001b[0m \u001b[0mjob_token\u001b[0m\u001b[0;34m:\u001b[0m\u001b[0;34m\u001b[0m\u001b[0;34m\u001b[0m\u001b[0m\n\u001b[1;32m    268\u001b[0m             \u001b[0mboto3_kwargs\u001b[0m\u001b[0;34m[\u001b[0m\u001b[0;34m\"jobToken\"\u001b[0m\u001b[0;34m]\u001b[0m \u001b[0;34m=\u001b[0m \u001b[0mjob_token\u001b[0m\u001b[0;34m\u001b[0m\u001b[0;34m\u001b[0m\u001b[0m\n\u001b[0;32m--> 269\u001b[0;31m         \u001b[0mresponse\u001b[0m \u001b[0;34m=\u001b[0m \u001b[0mself\u001b[0m\u001b[0;34m.\u001b[0m\u001b[0mbraket_client\u001b[0m\u001b[0;34m.\u001b[0m\u001b[0mcreate_quantum_task\u001b[0m\u001b[0;34m(\u001b[0m\u001b[0;34m**\u001b[0m\u001b[0mboto3_kwargs\u001b[0m\u001b[0;34m)\u001b[0m\u001b[0;34m\u001b[0m\u001b[0;34m\u001b[0m\u001b[0m\n\u001b[0m\u001b[1;32m    270\u001b[0m         broadcast_event(\n\u001b[1;32m    271\u001b[0m             _TaskCreationEvent(\n",
            "\u001b[0;32m/usr/local/lib/python3.10/dist-packages/botocore/client.py\u001b[0m in \u001b[0;36m_api_call\u001b[0;34m(self, *args, **kwargs)\u001b[0m\n\u001b[1;32m    567\u001b[0m                 )\n\u001b[1;32m    568\u001b[0m             \u001b[0;31m# The \"self\" in this scope is referring to the BaseClient.\u001b[0m\u001b[0;34m\u001b[0m\u001b[0;34m\u001b[0m\u001b[0m\n\u001b[0;32m--> 569\u001b[0;31m             \u001b[0;32mreturn\u001b[0m \u001b[0mself\u001b[0m\u001b[0;34m.\u001b[0m\u001b[0m_make_api_call\u001b[0m\u001b[0;34m(\u001b[0m\u001b[0moperation_name\u001b[0m\u001b[0;34m,\u001b[0m \u001b[0mkwargs\u001b[0m\u001b[0;34m)\u001b[0m\u001b[0;34m\u001b[0m\u001b[0;34m\u001b[0m\u001b[0m\n\u001b[0m\u001b[1;32m    570\u001b[0m \u001b[0;34m\u001b[0m\u001b[0m\n\u001b[1;32m    571\u001b[0m         \u001b[0m_api_call\u001b[0m\u001b[0;34m.\u001b[0m\u001b[0m__name__\u001b[0m \u001b[0;34m=\u001b[0m \u001b[0mstr\u001b[0m\u001b[0;34m(\u001b[0m\u001b[0mpy_operation_name\u001b[0m\u001b[0;34m)\u001b[0m\u001b[0;34m\u001b[0m\u001b[0;34m\u001b[0m\u001b[0m\n",
            "\u001b[0;32m/usr/local/lib/python3.10/dist-packages/botocore/client.py\u001b[0m in \u001b[0;36m_make_api_call\u001b[0;34m(self, operation_name, api_params)\u001b[0m\n\u001b[1;32m   1021\u001b[0m             )\n\u001b[1;32m   1022\u001b[0m             \u001b[0merror_class\u001b[0m \u001b[0;34m=\u001b[0m \u001b[0mself\u001b[0m\u001b[0;34m.\u001b[0m\u001b[0mexceptions\u001b[0m\u001b[0;34m.\u001b[0m\u001b[0mfrom_code\u001b[0m\u001b[0;34m(\u001b[0m\u001b[0merror_code\u001b[0m\u001b[0;34m)\u001b[0m\u001b[0;34m\u001b[0m\u001b[0;34m\u001b[0m\u001b[0m\n\u001b[0;32m-> 1023\u001b[0;31m             \u001b[0;32mraise\u001b[0m \u001b[0merror_class\u001b[0m\u001b[0;34m(\u001b[0m\u001b[0mparsed_response\u001b[0m\u001b[0;34m,\u001b[0m \u001b[0moperation_name\u001b[0m\u001b[0;34m)\u001b[0m\u001b[0;34m\u001b[0m\u001b[0;34m\u001b[0m\u001b[0m\n\u001b[0m\u001b[1;32m   1024\u001b[0m         \u001b[0;32melse\u001b[0m\u001b[0;34m:\u001b[0m\u001b[0;34m\u001b[0m\u001b[0;34m\u001b[0m\u001b[0m\n\u001b[1;32m   1025\u001b[0m             \u001b[0;32mreturn\u001b[0m \u001b[0mparsed_response\u001b[0m\u001b[0;34m\u001b[0m\u001b[0;34m\u001b[0m\u001b[0m\n",
            "\u001b[0;31mValidationException\u001b[0m: An error occurred (ValidationException) when calling the CreateQuantumTask operation: [line 8] uses a gate: ccnot which is not supported by the device or defined via a defcal"
          ]
        }
      ]
    },
    {
      "cell_type": "code",
      "source": [
        "# Get job status and wait for completion\n",
        "#while True:\n",
        "#    status = AwsQuantumTask(arn=task.id).state()\n",
        "#    print(f\"Job status: {status}\")\n",
        "#    if status == \"COMPLETED\":\n",
        "#        result = task.result()\n",
        "#        break\n",
        "#    elif status == \"FAILED\" or status == \"CANCELLED\":\n",
        "#        print(\"Job failed or cancelled.\")\n",
        "#        break\n",
        "#    ###if\n",
        "#    time.sleep(10)  # Wait for 10 seconds before checking again\n",
        "###while"
      ],
      "metadata": {
        "colab": {
          "base_uri": "https://localhost:8080/",
          "height": 234
        },
        "id": "xKef4U8bF7OL",
        "outputId": "98f8b244-960e-426c-d592-2c637b7524fb"
      },
      "execution_count": 146,
      "outputs": [
        {
          "output_type": "stream",
          "name": "stdout",
          "text": [
            "Job status: QUEUED\n"
          ]
        },
        {
          "output_type": "error",
          "ename": "KeyboardInterrupt",
          "evalue": "",
          "traceback": [
            "\u001b[0;31m---------------------------------------------------------------------------\u001b[0m",
            "\u001b[0;31mKeyboardInterrupt\u001b[0m                         Traceback (most recent call last)",
            "\u001b[0;32m<ipython-input-146-310f6393fb44>\u001b[0m in \u001b[0;36m<cell line: 2>\u001b[0;34m()\u001b[0m\n\u001b[1;32m     10\u001b[0m         \u001b[0;32mbreak\u001b[0m\u001b[0;34m\u001b[0m\u001b[0;34m\u001b[0m\u001b[0m\n\u001b[1;32m     11\u001b[0m     \u001b[0;31m###if\u001b[0m\u001b[0;34m\u001b[0m\u001b[0;34m\u001b[0m\u001b[0m\n\u001b[0;32m---> 12\u001b[0;31m     \u001b[0mtime\u001b[0m\u001b[0;34m.\u001b[0m\u001b[0msleep\u001b[0m\u001b[0;34m(\u001b[0m\u001b[0;36m10\u001b[0m\u001b[0;34m)\u001b[0m  \u001b[0;31m# Wait for 10 seconds before checking again\u001b[0m\u001b[0;34m\u001b[0m\u001b[0;34m\u001b[0m\u001b[0m\n\u001b[0m\u001b[1;32m     13\u001b[0m \u001b[0;31m###while\u001b[0m\u001b[0;34m\u001b[0m\u001b[0;34m\u001b[0m\u001b[0m\n\u001b[1;32m     14\u001b[0m \u001b[0mresult\u001b[0m\u001b[0;34m\u001b[0m\u001b[0;34m\u001b[0m\u001b[0m\n",
            "\u001b[0;31mKeyboardInterrupt\u001b[0m: "
          ]
        }
      ]
    },
    {
      "cell_type": "code",
      "source": [
        "#status = AwsQuantumTask(arn=task.id).state()\n",
        "status = AwsQuantumTask(arn=\"arn:aws:braket:eu-north-1:746669231099:quantum-task/a1438c5b-78b1-453d-96b1-0cb5e5e7428b\").state()\n",
        "status"
      ],
      "metadata": {
        "colab": {
          "base_uri": "https://localhost:8080/",
          "height": 36
        },
        "id": "5FwzES9lTdAp",
        "outputId": "64b76d3b-573d-4cb2-f20b-e9a178844fff"
      },
      "execution_count": 187,
      "outputs": [
        {
          "output_type": "execute_result",
          "data": {
            "text/plain": [
              "'COMPLETED'"
            ],
            "application/vnd.google.colaboratory.intrinsic+json": {
              "type": "string"
            }
          },
          "metadata": {},
          "execution_count": 187
        }
      ]
    },
    {
      "cell_type": "code",
      "source": [
        "# Replace with your actual job ID\n",
        "job_id = \"arn:aws:braket:eu-north-1:746669231099:quantum-task/a1438c5b-78b1-453d-96b1-0cb5e5e7428b\"\n",
        "#job_id = \"arn:aws:braket:us-east-1:746669231099:quantum-task/231bc72b-8658-439a-a261-3a381fe101fe\"\n",
        "\n",
        "job = AwsQuantumTask(arn=job_id)\n",
        "\n",
        "# Get the task result\n",
        "result = job.result()\n",
        "result"
      ],
      "metadata": {
        "colab": {
          "base_uri": "https://localhost:8080/"
        },
        "id": "Rg2h2vH8S1Lb",
        "outputId": "d916a9e7-a891-41a5-8c4f-6f4098e8d2ad"
      },
      "execution_count": 188,
      "outputs": [
        {
          "output_type": "execute_result",
          "data": {
            "text/plain": [
              "GateModelQuantumTaskResult(task_metadata=TaskMetadata(braketSchemaHeader=BraketSchemaHeader(name='braket.task_result.task_metadata', version='1'), id='arn:aws:braket:eu-north-1:746669231099:quantum-task/a1438c5b-78b1-453d-96b1-0cb5e5e7428b', shots=1000, deviceId='arn:aws:braket:eu-north-1::device/qpu/iqm/Garnet', deviceParameters=GateModelSimulatorDeviceParameters(braketSchemaHeader=BraketSchemaHeader(name='braket.device_schema.simulators.gate_model_simulator_device_parameters', version='1'), paradigmParameters=GateModelParameters(braketSchemaHeader=BraketSchemaHeader(name='braket.device_schema.gate_model_parameters', version='1'), qubitCount=5, disableQubitRewiring=False)), createdAt='2024-11-20T06:04:54.832Z', endedAt='2024-11-20T08:00:14.109Z', status='COMPLETED', failureReason=None), additional_metadata=AdditionalMetadata(action=Program(braketSchemaHeader=BraketSchemaHeader(name='braket.ir.openqasm.program', version='1'), source='OPENQASM 3.0;\\nbit[5] b;\\nqubit[5] q;\\nx q[0];\\nx q[1];\\ncnot q[0], q[3];\\ncnot q[1], q[3];\\nccnot q[0], q[1], q[4];\\ncnot q[2], q[3];\\nccnot q[0], q[2], q[4];\\nccnot q[1], q[2], q[4];\\nb[0] = measure q[0];\\nb[1] = measure q[1];\\nb[2] = measure q[2];\\nb[3] = measure q[3];\\nb[4] = measure q[4];', inputs={}), dwaveMetadata=None, ionqMetadata=None, rigettiMetadata=None, oqcMetadata=None, xanaduMetadata=None, queraMetadata=None, simulatorMetadata=None, iqmMetadata=IqmMetadata(braketSchemaHeader=BraketSchemaHeader(name='braket.task_result.iqm_metadata', version='1'), compiledProgram='OPENQASM 3.0;\\nbit[5] c;\\n#pragma braket verbatim\\nbox {\\nprx(1.0*pi,0) $8;\\nprx(1.0*pi,0) $9;\\nprx(0.5*pi,1.5*pi) $14;\\ncz $8,$13;\\nprx(0.5*pi,1.5*pi) $8;\\nprx(0.5*pi,1.5*pi) $13;\\ncz $13,$8;\\nprx(0.5*pi,0.5*pi) $8;\\nprx(0.5*pi,0.75*pi) $13;\\ncz $8,$13;\\nprx(0.5*pi,1.5*pi) $8;\\nprx(0.5*pi,1.75*pi) $13;\\ncz $13,$8;\\ncz $9,$8;\\nprx(0.25*pi,1.0*pi) $8;\\ncz $13,$8;\\nprx(3.75*pi,1.0*pi) $8;\\ncz $13,$14;\\ncz $9,$8;\\nprx(0.5*pi,0.75*pi) $13;\\nprx(0.5*pi,0.5*pi) $14;\\nprx(0.25*pi,1.0*pi) $8;\\ncz $14,$13;\\nprx(0.5*pi,1.75*pi) $13;\\nprx(0.5*pi,1.5*pi) $14;\\ncz $13,$14;\\ncz $13,$8;\\ncz $9,$14;\\nprx(3.75*pi,1.0*pi) $8;\\nprx(3.75*pi,1.0*pi) $14;\\ncz $9,$14;\\ncz $9,$8;\\nprx(0.5*pi,0.5*pi) $14;\\nprx(0.25*pi,1.0*pi) $8;\\ncz $13,$8;\\nprx(3.75*pi,1.0*pi) $8;\\ncz $9,$8;\\nprx(0.25*pi,1.0*pi) $8;\\ncz $13,$8;\\nprx(0.5*pi,0.5*pi) $8;\\nprx(0.5*pi,0.75*pi) $13;\\ncz $8,$13;\\nprx(0.5*pi,1.5*pi) $8;\\nprx(0.5*pi,1.75*pi) $13;\\ncz $13,$8;\\ncz $9,$8;\\nprx(0.5*pi,0.75*pi) $13;\\nprx(3.75*pi,1.0*pi) $8;\\ncz $9,$8;\\nprx(0.5*pi,0.5*pi) $8;\\ncz $8,$13;\\nprx(3.75*pi,0.25*pi) $13;\\ncz $14,$13;\\nprx(0.25*pi,0.25*pi) $13;\\ncz $8,$13;\\nprx(0.5*pi,1.25*pi) $8;\\nprx(3.75*pi,0.25*pi) $13;\\ncz $14,$13;\\nprx(0.25*pi,0.25*pi) $13;\\nprx(0.5*pi,1.25*pi) $14;\\ncz $13,$14;\\nprx(0.5*pi,1.75*pi) $13;\\nprx(0.5*pi,0.25*pi) $14;\\ncz $14,$13;\\nprx(0.5*pi,0.75*pi) $13;\\nprx(0.5*pi,1.25*pi) $14;\\ncz $13,$14;\\ncz $13,$8;\\nprx(0.5*pi,0.25*pi) $14;\\nprx(3.75*pi,0.75*pi) $8;\\ncz $13,$8;\\nprx(0.5*pi,0.25*pi) $8;\\n}\\nc[3] = measure $4;\\nc[0] = measure $9;\\nc[4] = measure $14;\\nc[1] = measure $13;\\nc[2] = measure $8;')), result_types=[], values=[], measurements=array([[1, 1, 0, 0, 1],\n",
              "       [1, 1, 0, 0, 1],\n",
              "       [1, 1, 0, 0, 1],\n",
              "       ...,\n",
              "       [1, 1, 0, 0, 1],\n",
              "       [1, 0, 0, 0, 1],\n",
              "       [1, 1, 1, 0, 1]]), measured_qubits=[0, 1, 2, 3, 4], measurement_counts=Counter({'11001': 483, '11000': 154, '11101': 82, '10001': 50, '01001': 44, '10000': 38, '01000': 25, '11100': 22, '10101': 21, '10100': 17, '00001': 17, '01100': 11, '00100': 9, '00000': 9, '01101': 6, '00101': 5, '11011': 5, '11010': 1, '11111': 1}), measurement_probabilities={'11001': 0.483, '11000': 0.154, '00101': 0.005, '11100': 0.022, '11101': 0.082, '10001': 0.05, '10100': 0.017, '10101': 0.021, '10000': 0.038, '01100': 0.011, '01001': 0.044, '00001': 0.017, '01000': 0.025, '11011': 0.005, '00100': 0.009, '01101': 0.006, '00000': 0.009, '11010': 0.001, '11111': 0.001}, measurements_copied_from_device=True, measurement_counts_copied_from_device=False, measurement_probabilities_copied_from_device=False, _result_types_indices={})"
            ]
          },
          "metadata": {},
          "execution_count": 188
        }
      ]
    },
    {
      "cell_type": "code",
      "source": [
        "result.additional_metadata"
      ],
      "metadata": {
        "colab": {
          "base_uri": "https://localhost:8080/"
        },
        "id": "Uuzh6PNu0LiF",
        "outputId": "c21ffa7e-6872-492f-fe32-cc3fb9062079"
      },
      "execution_count": 189,
      "outputs": [
        {
          "output_type": "execute_result",
          "data": {
            "text/plain": [
              "AdditionalMetadata(action=Program(braketSchemaHeader=BraketSchemaHeader(name='braket.ir.openqasm.program', version='1'), source='OPENQASM 3.0;\\nbit[5] b;\\nqubit[5] q;\\nx q[0];\\nx q[1];\\ncnot q[0], q[3];\\ncnot q[1], q[3];\\nccnot q[0], q[1], q[4];\\ncnot q[2], q[3];\\nccnot q[0], q[2], q[4];\\nccnot q[1], q[2], q[4];\\nb[0] = measure q[0];\\nb[1] = measure q[1];\\nb[2] = measure q[2];\\nb[3] = measure q[3];\\nb[4] = measure q[4];', inputs={}), dwaveMetadata=None, ionqMetadata=None, rigettiMetadata=None, oqcMetadata=None, xanaduMetadata=None, queraMetadata=None, simulatorMetadata=None, iqmMetadata=IqmMetadata(braketSchemaHeader=BraketSchemaHeader(name='braket.task_result.iqm_metadata', version='1'), compiledProgram='OPENQASM 3.0;\\nbit[5] c;\\n#pragma braket verbatim\\nbox {\\nprx(1.0*pi,0) $8;\\nprx(1.0*pi,0) $9;\\nprx(0.5*pi,1.5*pi) $14;\\ncz $8,$13;\\nprx(0.5*pi,1.5*pi) $8;\\nprx(0.5*pi,1.5*pi) $13;\\ncz $13,$8;\\nprx(0.5*pi,0.5*pi) $8;\\nprx(0.5*pi,0.75*pi) $13;\\ncz $8,$13;\\nprx(0.5*pi,1.5*pi) $8;\\nprx(0.5*pi,1.75*pi) $13;\\ncz $13,$8;\\ncz $9,$8;\\nprx(0.25*pi,1.0*pi) $8;\\ncz $13,$8;\\nprx(3.75*pi,1.0*pi) $8;\\ncz $13,$14;\\ncz $9,$8;\\nprx(0.5*pi,0.75*pi) $13;\\nprx(0.5*pi,0.5*pi) $14;\\nprx(0.25*pi,1.0*pi) $8;\\ncz $14,$13;\\nprx(0.5*pi,1.75*pi) $13;\\nprx(0.5*pi,1.5*pi) $14;\\ncz $13,$14;\\ncz $13,$8;\\ncz $9,$14;\\nprx(3.75*pi,1.0*pi) $8;\\nprx(3.75*pi,1.0*pi) $14;\\ncz $9,$14;\\ncz $9,$8;\\nprx(0.5*pi,0.5*pi) $14;\\nprx(0.25*pi,1.0*pi) $8;\\ncz $13,$8;\\nprx(3.75*pi,1.0*pi) $8;\\ncz $9,$8;\\nprx(0.25*pi,1.0*pi) $8;\\ncz $13,$8;\\nprx(0.5*pi,0.5*pi) $8;\\nprx(0.5*pi,0.75*pi) $13;\\ncz $8,$13;\\nprx(0.5*pi,1.5*pi) $8;\\nprx(0.5*pi,1.75*pi) $13;\\ncz $13,$8;\\ncz $9,$8;\\nprx(0.5*pi,0.75*pi) $13;\\nprx(3.75*pi,1.0*pi) $8;\\ncz $9,$8;\\nprx(0.5*pi,0.5*pi) $8;\\ncz $8,$13;\\nprx(3.75*pi,0.25*pi) $13;\\ncz $14,$13;\\nprx(0.25*pi,0.25*pi) $13;\\ncz $8,$13;\\nprx(0.5*pi,1.25*pi) $8;\\nprx(3.75*pi,0.25*pi) $13;\\ncz $14,$13;\\nprx(0.25*pi,0.25*pi) $13;\\nprx(0.5*pi,1.25*pi) $14;\\ncz $13,$14;\\nprx(0.5*pi,1.75*pi) $13;\\nprx(0.5*pi,0.25*pi) $14;\\ncz $14,$13;\\nprx(0.5*pi,0.75*pi) $13;\\nprx(0.5*pi,1.25*pi) $14;\\ncz $13,$14;\\ncz $13,$8;\\nprx(0.5*pi,0.25*pi) $14;\\nprx(3.75*pi,0.75*pi) $8;\\ncz $13,$8;\\nprx(0.5*pi,0.25*pi) $8;\\n}\\nc[3] = measure $4;\\nc[0] = measure $9;\\nc[4] = measure $14;\\nc[1] = measure $13;\\nc[2] = measure $8;'))"
            ]
          },
          "metadata": {},
          "execution_count": 189
        }
      ]
    },
    {
      "cell_type": "code",
      "source": [
        "print(result.additional_metadata.action.source)"
      ],
      "metadata": {
        "colab": {
          "base_uri": "https://localhost:8080/"
        },
        "id": "iUbGb9G56ShK",
        "outputId": "28e4e3c0-06f1-475d-a3e2-c6bc079fe91c"
      },
      "execution_count": 190,
      "outputs": [
        {
          "output_type": "stream",
          "name": "stdout",
          "text": [
            "OPENQASM 3.0;\n",
            "bit[5] b;\n",
            "qubit[5] q;\n",
            "x q[0];\n",
            "x q[1];\n",
            "cnot q[0], q[3];\n",
            "cnot q[1], q[3];\n",
            "ccnot q[0], q[1], q[4];\n",
            "cnot q[2], q[3];\n",
            "ccnot q[0], q[2], q[4];\n",
            "ccnot q[1], q[2], q[4];\n",
            "b[0] = measure q[0];\n",
            "b[1] = measure q[1];\n",
            "b[2] = measure q[2];\n",
            "b[3] = measure q[3];\n",
            "b[4] = measure q[4];\n"
          ]
        }
      ]
    },
    {
      "cell_type": "code",
      "source": [
        "print(result.measurements)"
      ],
      "metadata": {
        "colab": {
          "base_uri": "https://localhost:8080/"
        },
        "id": "JWHbRu02yUF3",
        "outputId": "f0826170-5806-4236-d402-ce6ea5fecf24"
      },
      "execution_count": 191,
      "outputs": [
        {
          "output_type": "stream",
          "name": "stdout",
          "text": [
            "[[1 1 0 0 1]\n",
            " [1 1 0 0 1]\n",
            " [1 1 0 0 1]\n",
            " ...\n",
            " [1 1 0 0 1]\n",
            " [1 0 0 0 1]\n",
            " [1 1 1 0 1]]\n"
          ]
        }
      ]
    },
    {
      "cell_type": "code",
      "source": [
        "print(result.measurement_probabilities)"
      ],
      "metadata": {
        "colab": {
          "base_uri": "https://localhost:8080/"
        },
        "id": "LJyJ-ElUyD-a",
        "outputId": "0a63e8ec-0373-45b4-b751-da3df8e7f78e"
      },
      "execution_count": 192,
      "outputs": [
        {
          "output_type": "stream",
          "name": "stdout",
          "text": [
            "{'11001': 0.483, '11000': 0.154, '00101': 0.005, '11100': 0.022, '11101': 0.082, '10001': 0.05, '10100': 0.017, '10101': 0.021, '10000': 0.038, '01100': 0.011, '01001': 0.044, '00001': 0.017, '01000': 0.025, '11011': 0.005, '00100': 0.009, '01101': 0.006, '00000': 0.009, '11010': 0.001, '11111': 0.001}\n"
          ]
        }
      ]
    },
    {
      "cell_type": "code",
      "source": [
        "print(result.measurements[0])"
      ],
      "metadata": {
        "colab": {
          "base_uri": "https://localhost:8080/"
        },
        "id": "A5Xwz9xHyk8V",
        "outputId": "4247a8b5-8494-4315-c3e8-82e7fb54fe74"
      },
      "execution_count": 193,
      "outputs": [
        {
          "output_type": "stream",
          "name": "stdout",
          "text": [
            "[1 1 0 0 1]\n"
          ]
        }
      ]
    },
    {
      "cell_type": "code",
      "source": [
        "print(result.measurements[0][1])"
      ],
      "metadata": {
        "colab": {
          "base_uri": "https://localhost:8080/"
        },
        "id": "YnCl3jv9yrpN",
        "outputId": "216223f4-d1f7-4253-93f6-1c5271a37ee9"
      },
      "execution_count": 194,
      "outputs": [
        {
          "output_type": "stream",
          "name": "stdout",
          "text": [
            "1\n"
          ]
        }
      ]
    },
    {
      "cell_type": "code",
      "source": [
        "# get measurement shots\n",
        "counts = result.measurement_counts\n",
        "# print counts\n",
        "print(counts)"
      ],
      "metadata": {
        "colab": {
          "base_uri": "https://localhost:8080/"
        },
        "id": "5UxJKu_hxeAU",
        "outputId": "45006a70-d3e2-4254-bfd3-8ac1696fb125"
      },
      "execution_count": 195,
      "outputs": [
        {
          "output_type": "stream",
          "name": "stdout",
          "text": [
            "Counter({'11001': 483, '11000': 154, '11101': 82, '10001': 50, '01001': 44, '10000': 38, '01000': 25, '11100': 22, '10101': 21, '10100': 17, '00001': 17, '01100': 11, '00100': 9, '00000': 9, '01101': 6, '00101': 5, '11011': 5, '11010': 1, '11111': 1})\n"
          ]
        }
      ]
    },
    {
      "cell_type": "code",
      "execution_count": 196,
      "metadata": {
        "ExecuteTime": {
          "end_time": "2023-08-29T20:32:04.661340Z",
          "start_time": "2023-08-29T20:32:04.499868Z"
        },
        "tags": [],
        "colab": {
          "base_uri": "https://localhost:8080/",
          "height": 450
        },
        "id": "F3XC_Yk_bQhu",
        "outputId": "12fca201-3fac-4e91-b862-a9e35fa66c62"
      },
      "outputs": [
        {
          "output_type": "display_data",
          "data": {
            "text/plain": [
              "<Figure size 640x480 with 1 Axes>"
            ],
            "image/png": "[encoded data removed]"
          },
          "metadata": {}
        }
      ],
      "source": [
        "# plot using Counter\n",
        "plt.bar(counts.keys(), counts.values());\n",
        "plt.xlabel('bitstrings');\n",
        "plt.ylabel('counts');"
      ]
    },
    {
      "cell_type": "code",
      "source": [
        "print(\"Quantum Task Summary\\n\")\n",
        "print(t.quantum_tasks_statistics())\n",
        "print('\\nNote: Charges shown are estimates based on your Amazon Braket simulator and quantum processing unit (QPU) task usage. \\nEstimated charges shown may differ from your actual charges. \\nEstimated charges do not factor in any discounts or credits, \\nand you may experience additional charges based on your use of other services such as Amazon Elastic Compute Cloud (Amazon EC2).')\n",
        "print(f\"\\nEstimated cost to run this example: {t.qpu_tasks_cost() + t.simulator_tasks_cost():.2f} USD\")"
      ],
      "metadata": {
        "colab": {
          "base_uri": "https://localhost:8080/"
        },
        "id": "uNNIu7ayBxoh",
        "outputId": "5cd88a2c-2d0e-4a37-c519-9fe36144aff3"
      },
      "execution_count": 198,
      "outputs": [
        {
          "output_type": "stream",
          "name": "stdout",
          "text": [
            "Quantum Task Summary\n",
            "\n",
            "{'arn:aws:braket:::device/quantum-simulator/amazon/sv1': {'shots': 3000, 'tasks': {'COMPLETED': 2, 'CREATED': 1}, 'execution_duration': datetime.timedelta(microseconds=116000), 'billed_execution_duration': datetime.timedelta(seconds=6)}, 'arn:aws:braket:eu-north-1::device/qpu/iqm/Garnet': {'shots': 1000, 'tasks': {'COMPLETED': 1}}}\n",
            "\n",
            "Note: Charges shown are estimates based on your Amazon Braket simulator and quantum processing unit (QPU) task usage. \n",
            "Estimated charges shown may differ from your actual charges. \n",
            "Estimated charges do not factor in any discounts or credits, \n",
            "and you may experience additional charges based on your use of other services such as Amazon Elastic Compute Cloud (Amazon EC2).\n",
            "\n",
            "Estimated cost to run this example: 1.76 USD\n"
          ]
        }
      ]
    }
  ],
  "metadata": {
    "kernelspec": {
      "display_name": "conda_braket",
      "language": "python",
      "name": "conda_braket"
    },
    "language_info": {
      "codemirror_mode": {
        "name": "ipython",
        "version": 3
      },
      "file_extension": ".py",
      "mimetype": "text/x-python",
      "name": "python",
      "nbconvert_exporter": "python",
      "pygments_lexer": "ipython3",
      "version": "3.10.15"
    },
    "colab": {
      "provenance": [],
      "include_colab_link": true
    }
  },
  "nbformat": 4,
  "nbformat_minor": 0
}