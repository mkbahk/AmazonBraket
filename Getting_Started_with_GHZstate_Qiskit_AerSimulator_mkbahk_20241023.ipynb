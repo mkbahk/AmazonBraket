{
  "nbformat": 4,
  "nbformat_minor": 0,
  "metadata": {
    "colab": {
      "provenance": [],
      "authorship_tag": "ABX9TyP2/j9EBHKfHtjQWPxG4p1M",
      "include_colab_link": true
    },
    "kernelspec": {
      "name": "python3",
      "display_name": "Python 3"
    },
    "language_info": {
      "name": "python"
    }
  },
  "cells": [
    {
      "cell_type": "markdown",
      "metadata": {
        "id": "view-in-github",
        "colab_type": "text"
      },
      "source": [
        "<a href=\"https://colab.research.google.com/github/mkbahk/AmazonBraket/blob/main/Getting_Started_with_GHZstate_Qiskit_AerSimulator_mkbahk_20241023.ipynb\" target=\"_parent\"><img src=\"https://colab.research.google.com/assets/colab-badge.svg\" alt=\"Open In Colab\"/></a>"
      ]
    },
    {
      "cell_type": "code",
      "execution_count": 250,
      "metadata": {
        "colab": {
          "base_uri": "https://localhost:8080/"
        },
        "id": "7SvhhzmlRgZ9",
        "outputId": "df24c4e5-0d17-49eb-ceab-9543b94e1183"
      },
      "outputs": [
        {
          "output_type": "stream",
          "name": "stdout",
          "text": [
            "Requirement already satisfied: qiskit==1.2.4 in /usr/local/lib/python3.10/dist-packages (from qiskit[visualization]==1.2.4) (1.2.4)\n",
            "Requirement already satisfied: rustworkx>=0.15.0 in /usr/local/lib/python3.10/dist-packages (from qiskit==1.2.4->qiskit[visualization]==1.2.4) (0.15.1)\n",
            "Requirement already satisfied: numpy<3,>=1.17 in /usr/local/lib/python3.10/dist-packages (from qiskit==1.2.4->qiskit[visualization]==1.2.4) (1.26.4)\n",
            "Requirement already satisfied: scipy>=1.5 in /usr/local/lib/python3.10/dist-packages (from qiskit==1.2.4->qiskit[visualization]==1.2.4) (1.13.1)\n",
            "Requirement already satisfied: sympy>=1.3 in /usr/local/lib/python3.10/dist-packages (from qiskit==1.2.4->qiskit[visualization]==1.2.4) (1.13.3)\n",
            "Requirement already satisfied: dill>=0.3 in /usr/local/lib/python3.10/dist-packages (from qiskit==1.2.4->qiskit[visualization]==1.2.4) (0.3.9)\n",
            "Requirement already satisfied: python-dateutil>=2.8.0 in /usr/local/lib/python3.10/dist-packages (from qiskit==1.2.4->qiskit[visualization]==1.2.4) (2.8.2)\n",
            "Requirement already satisfied: stevedore>=3.0.0 in /usr/local/lib/python3.10/dist-packages (from qiskit==1.2.4->qiskit[visualization]==1.2.4) (5.3.0)\n",
            "Requirement already satisfied: typing-extensions in /usr/local/lib/python3.10/dist-packages (from qiskit==1.2.4->qiskit[visualization]==1.2.4) (4.12.2)\n",
            "Requirement already satisfied: symengine<0.14,>=0.11 in /usr/local/lib/python3.10/dist-packages (from qiskit==1.2.4->qiskit[visualization]==1.2.4) (0.13.0)\n",
            "Requirement already satisfied: matplotlib>=3.3 in /usr/local/lib/python3.10/dist-packages (from qiskit[visualization]==1.2.4) (3.7.1)\n",
            "Requirement already satisfied: pydot in /usr/local/lib/python3.10/dist-packages (from qiskit[visualization]==1.2.4) (3.0.2)\n",
            "Requirement already satisfied: Pillow>=4.2.1 in /usr/local/lib/python3.10/dist-packages (from qiskit[visualization]==1.2.4) (10.4.0)\n",
            "Requirement already satisfied: pylatexenc>=1.4 in /usr/local/lib/python3.10/dist-packages (from qiskit[visualization]==1.2.4) (2.10)\n",
            "Requirement already satisfied: seaborn>=0.9.0 in /usr/local/lib/python3.10/dist-packages (from qiskit[visualization]==1.2.4) (0.13.2)\n",
            "Requirement already satisfied: contourpy>=1.0.1 in /usr/local/lib/python3.10/dist-packages (from matplotlib>=3.3->qiskit[visualization]==1.2.4) (1.3.0)\n",
            "Requirement already satisfied: cycler>=0.10 in /usr/local/lib/python3.10/dist-packages (from matplotlib>=3.3->qiskit[visualization]==1.2.4) (0.12.1)\n",
            "Requirement already satisfied: fonttools>=4.22.0 in /usr/local/lib/python3.10/dist-packages (from matplotlib>=3.3->qiskit[visualization]==1.2.4) (4.54.1)\n",
            "Requirement already satisfied: kiwisolver>=1.0.1 in /usr/local/lib/python3.10/dist-packages (from matplotlib>=3.3->qiskit[visualization]==1.2.4) (1.4.7)\n",
            "Requirement already satisfied: packaging>=20.0 in /usr/local/lib/python3.10/dist-packages (from matplotlib>=3.3->qiskit[visualization]==1.2.4) (24.1)\n",
            "Requirement already satisfied: pyparsing>=2.3.1 in /usr/local/lib/python3.10/dist-packages (from matplotlib>=3.3->qiskit[visualization]==1.2.4) (3.2.0)\n",
            "Requirement already satisfied: six>=1.5 in /usr/local/lib/python3.10/dist-packages (from python-dateutil>=2.8.0->qiskit==1.2.4->qiskit[visualization]==1.2.4) (1.16.0)\n",
            "Requirement already satisfied: pandas>=1.2 in /usr/local/lib/python3.10/dist-packages (from seaborn>=0.9.0->qiskit[visualization]==1.2.4) (2.2.2)\n",
            "Requirement already satisfied: pbr>=2.0.0 in /usr/local/lib/python3.10/dist-packages (from stevedore>=3.0.0->qiskit==1.2.4->qiskit[visualization]==1.2.4) (6.1.0)\n",
            "Requirement already satisfied: mpmath<1.4,>=1.1.0 in /usr/local/lib/python3.10/dist-packages (from sympy>=1.3->qiskit==1.2.4->qiskit[visualization]==1.2.4) (1.3.0)\n",
            "Requirement already satisfied: pytz>=2020.1 in /usr/local/lib/python3.10/dist-packages (from pandas>=1.2->seaborn>=0.9.0->qiskit[visualization]==1.2.4) (2024.2)\n",
            "Requirement already satisfied: tzdata>=2022.7 in /usr/local/lib/python3.10/dist-packages (from pandas>=1.2->seaborn>=0.9.0->qiskit[visualization]==1.2.4) (2024.2)\n",
            "Requirement already satisfied: qiskit-aer==0.15.1 in /usr/local/lib/python3.10/dist-packages (0.15.1)\n",
            "Requirement already satisfied: qiskit>=1.1.0 in /usr/local/lib/python3.10/dist-packages (from qiskit-aer==0.15.1) (1.2.4)\n",
            "Requirement already satisfied: numpy>=1.16.3 in /usr/local/lib/python3.10/dist-packages (from qiskit-aer==0.15.1) (1.26.4)\n",
            "Requirement already satisfied: scipy>=1.0 in /usr/local/lib/python3.10/dist-packages (from qiskit-aer==0.15.1) (1.13.1)\n",
            "Requirement already satisfied: psutil>=5 in /usr/local/lib/python3.10/dist-packages (from qiskit-aer==0.15.1) (5.9.5)\n",
            "Requirement already satisfied: rustworkx>=0.15.0 in /usr/local/lib/python3.10/dist-packages (from qiskit>=1.1.0->qiskit-aer==0.15.1) (0.15.1)\n",
            "Requirement already satisfied: sympy>=1.3 in /usr/local/lib/python3.10/dist-packages (from qiskit>=1.1.0->qiskit-aer==0.15.1) (1.13.3)\n",
            "Requirement already satisfied: dill>=0.3 in /usr/local/lib/python3.10/dist-packages (from qiskit>=1.1.0->qiskit-aer==0.15.1) (0.3.9)\n",
            "Requirement already satisfied: python-dateutil>=2.8.0 in /usr/local/lib/python3.10/dist-packages (from qiskit>=1.1.0->qiskit-aer==0.15.1) (2.8.2)\n",
            "Requirement already satisfied: stevedore>=3.0.0 in /usr/local/lib/python3.10/dist-packages (from qiskit>=1.1.0->qiskit-aer==0.15.1) (5.3.0)\n",
            "Requirement already satisfied: typing-extensions in /usr/local/lib/python3.10/dist-packages (from qiskit>=1.1.0->qiskit-aer==0.15.1) (4.12.2)\n",
            "Requirement already satisfied: symengine<0.14,>=0.11 in /usr/local/lib/python3.10/dist-packages (from qiskit>=1.1.0->qiskit-aer==0.15.1) (0.13.0)\n",
            "Requirement already satisfied: six>=1.5 in /usr/local/lib/python3.10/dist-packages (from python-dateutil>=2.8.0->qiskit>=1.1.0->qiskit-aer==0.15.1) (1.16.0)\n",
            "Requirement already satisfied: pbr>=2.0.0 in /usr/local/lib/python3.10/dist-packages (from stevedore>=3.0.0->qiskit>=1.1.0->qiskit-aer==0.15.1) (6.1.0)\n",
            "Requirement already satisfied: mpmath<1.4,>=1.1.0 in /usr/local/lib/python3.10/dist-packages (from sympy>=1.3->qiskit>=1.1.0->qiskit-aer==0.15.1) (1.3.0)\n"
          ]
        }
      ],
      "source": [
        "%pip install qiskit[visualization]==1.2.4\n",
        "%pip install qiskit-aer==0.15.1"
      ]
    },
    {
      "cell_type": "code",
      "source": [
        "%pip show qiskit qiskit_aer"
      ],
      "metadata": {
        "colab": {
          "base_uri": "https://localhost:8080/"
        },
        "id": "LBZVUlW_ubKs",
        "outputId": "9f40dbd0-b503-4986-8034-89f76136776c"
      },
      "execution_count": 251,
      "outputs": [
        {
          "output_type": "stream",
          "name": "stdout",
          "text": [
            "Name: qiskit\n",
            "Version: 1.2.4\n",
            "Summary: An open-source SDK for working with quantum computers at the level of extended quantum circuits, operators, and primitives.\n",
            "Home-page: https://www.ibm.com/quantum/qiskit\n",
            "Author: \n",
            "Author-email: Qiskit Development Team <qiskit@us.ibm.com>\n",
            "License: Apache 2.0\n",
            "Location: /usr/local/lib/python3.10/dist-packages\n",
            "Requires: dill, numpy, python-dateutil, rustworkx, scipy, stevedore, symengine, sympy, typing-extensions\n",
            "Required-by: qiskit-aer\n",
            "---\n",
            "Name: qiskit-aer\n",
            "Version: 0.15.1\n",
            "Summary: Aer - High performance simulators for Qiskit\n",
            "Home-page: https://github.com/Qiskit/qiskit-aer\n",
            "Author: AER Development Team\n",
            "Author-email: qiskit@us.ibm.com\n",
            "License: Apache 2.0\n",
            "Location: /usr/local/lib/python3.10/dist-packages\n",
            "Requires: numpy, psutil, qiskit, scipy\n",
            "Required-by: \n"
          ]
        }
      ]
    },
    {
      "cell_type": "code",
      "source": [
        "%pip list"
      ],
      "metadata": {
        "colab": {
          "base_uri": "https://localhost:8080/"
        },
        "id": "_NFtJ9XQuleK",
        "outputId": "532a2512-8c12-40fd-e406-6193630d5546"
      },
      "execution_count": 252,
      "outputs": [
        {
          "output_type": "stream",
          "name": "stdout",
          "text": [
            "Package                            Version\n",
            "---------------------------------- --------------------\n",
            "absl-py                            1.4.0\n",
            "accelerate                         0.34.2\n",
            "aiohappyeyeballs                   2.4.3\n",
            "aiohttp                            3.10.10\n",
            "aiosignal                          1.3.1\n",
            "alabaster                          0.7.16\n",
            "albucore                           0.0.16\n",
            "albumentations                     1.4.15\n",
            "altair                             4.2.2\n",
            "annotated-types                    0.7.0\n",
            "anyio                              3.7.1\n",
            "argon2-cffi                        23.1.0\n",
            "argon2-cffi-bindings               21.2.0\n",
            "array_record                       0.5.1\n",
            "arviz                              0.19.0\n",
            "astropy                            6.1.4\n",
            "astropy-iers-data                  0.2024.10.14.0.32.55\n",
            "astunparse                         1.6.3\n",
            "async-timeout                      4.0.3\n",
            "atpublic                           4.1.0\n",
            "attrs                              24.2.0\n",
            "audioread                          3.0.1\n",
            "autograd                           1.7.0\n",
            "babel                              2.16.0\n",
            "backcall                           0.2.0\n",
            "beautifulsoup4                     4.12.3\n",
            "bigframes                          1.22.0\n",
            "bigquery-magics                    0.4.0\n",
            "bleach                             6.1.0\n",
            "blinker                            1.4\n",
            "blis                               0.7.11\n",
            "blosc2                             2.0.0\n",
            "bokeh                              3.4.3\n",
            "Bottleneck                         1.4.2\n",
            "bqplot                             0.12.43\n",
            "branca                             0.8.0\n",
            "CacheControl                       0.14.0\n",
            "cachetools                         5.5.0\n",
            "catalogue                          2.0.10\n",
            "certifi                            2024.8.30\n",
            "cffi                               1.17.1\n",
            "chardet                            5.2.0\n",
            "charset-normalizer                 3.4.0\n",
            "chex                               0.1.87\n",
            "clarabel                           0.9.0\n",
            "click                              8.1.7\n",
            "cloudpathlib                       0.19.0\n",
            "cloudpickle                        3.1.0\n",
            "cmake                              3.30.4\n",
            "cmdstanpy                          1.2.4\n",
            "colorcet                           3.1.0\n",
            "colorlover                         0.3.0\n",
            "colour                             0.1.5\n",
            "community                          1.0.0b1\n",
            "confection                         0.1.5\n",
            "cons                               0.4.6\n",
            "contourpy                          1.3.0\n",
            "cryptography                       43.0.1\n",
            "cuda-python                        12.2.1\n",
            "cudf-cu12                          24.10.1\n",
            "cufflinks                          0.17.3\n",
            "cupy-cuda12x                       12.2.0\n",
            "cvxopt                             1.3.2\n",
            "cvxpy                              1.5.3\n",
            "cycler                             0.12.1\n",
            "cymem                              2.0.8\n",
            "Cython                             3.0.11\n",
            "dask                               2024.8.2\n",
            "datascience                        0.17.6\n",
            "db-dtypes                          1.3.0\n",
            "dbus-python                        1.2.18\n",
            "debugpy                            1.6.6\n",
            "decorator                          4.4.2\n",
            "defusedxml                         0.7.1\n",
            "Deprecated                         1.2.14\n",
            "diffusers                          0.30.3\n",
            "dill                               0.3.9\n",
            "distro                             1.7.0\n",
            "dlib                               19.24.2\n",
            "dm-tree                            0.1.8\n",
            "docker-pycreds                     0.4.0\n",
            "docstring_parser                   0.16\n",
            "docutils                           0.18.1\n",
            "dopamine_rl                        4.0.9\n",
            "duckdb                             1.1.2\n",
            "earthengine-api                    1.0.0\n",
            "easydict                           1.13\n",
            "ecos                               2.0.14\n",
            "editdistance                       0.8.1\n",
            "eerepr                             0.0.4\n",
            "einops                             0.8.0\n",
            "en-core-web-sm                     3.7.1\n",
            "entrypoints                        0.4\n",
            "et-xmlfile                         1.1.0\n",
            "etils                              1.10.0\n",
            "etuples                            0.3.9\n",
            "eval_type_backport                 0.2.0\n",
            "exceptiongroup                     1.2.2\n",
            "fastai                             2.7.17\n",
            "fastcore                           1.7.19\n",
            "fastdownload                       0.0.7\n",
            "fastjsonschema                     2.20.0\n",
            "fastprogress                       1.0.3\n",
            "fastrlock                          0.8.2\n",
            "filelock                           3.16.1\n",
            "firebase-admin                     6.5.0\n",
            "Flask                              2.2.5\n",
            "flatbuffers                        24.3.25\n",
            "flax                               0.8.5\n",
            "folium                             0.17.0\n",
            "fonttools                          4.54.1\n",
            "frozendict                         2.4.6\n",
            "frozenlist                         1.4.1\n",
            "fsspec                             2024.6.1\n",
            "future                             1.0.0\n",
            "gast                               0.6.0\n",
            "gcsfs                              2024.6.1\n",
            "GDAL                               3.6.4\n",
            "gdown                              5.2.0\n",
            "geemap                             0.34.5\n",
            "gensim                             4.3.3\n",
            "geocoder                           1.38.1\n",
            "geographiclib                      2.0\n",
            "geopandas                          1.0.1\n",
            "geopy                              2.4.1\n",
            "gin-config                         0.5.0\n",
            "gitdb                              4.0.11\n",
            "GitPython                          3.1.43\n",
            "glob2                              0.7\n",
            "google                             2.0.3\n",
            "google-ai-generativelanguage       0.6.10\n",
            "google-api-core                    2.19.2\n",
            "google-api-python-client           2.137.0\n",
            "google-auth                        2.27.0\n",
            "google-auth-httplib2               0.2.0\n",
            "google-auth-oauthlib               1.2.1\n",
            "google-cloud-aiplatform            1.70.0\n",
            "google-cloud-bigquery              3.25.0\n",
            "google-cloud-bigquery-connection   1.15.5\n",
            "google-cloud-bigquery-storage      2.27.0\n",
            "google-cloud-bigtable              2.26.0\n",
            "google-cloud-core                  2.4.1\n",
            "google-cloud-datastore             2.19.0\n",
            "google-cloud-firestore             2.16.1\n",
            "google-cloud-functions             1.16.5\n",
            "google-cloud-iam                   2.15.2\n",
            "google-cloud-language              2.13.4\n",
            "google-cloud-pubsub                2.25.0\n",
            "google-cloud-resource-manager      1.12.5\n",
            "google-cloud-storage               2.8.0\n",
            "google-cloud-translate             3.15.5\n",
            "google-colab                       1.0.0\n",
            "google-crc32c                      1.6.0\n",
            "google-generativeai                0.8.3\n",
            "google-pasta                       0.2.0\n",
            "google-resumable-media             2.7.2\n",
            "googleapis-common-protos           1.65.0\n",
            "googledrivedownloader              0.4\n",
            "graphviz                           0.20.3\n",
            "greenlet                           3.1.1\n",
            "grpc-google-iam-v1                 0.13.1\n",
            "grpcio                             1.64.1\n",
            "grpcio-status                      1.48.2\n",
            "gspread                            6.0.2\n",
            "gspread-dataframe                  3.3.1\n",
            "gym                                0.25.2\n",
            "gym-notices                        0.0.8\n",
            "h5netcdf                           1.4.0\n",
            "h5py                               3.11.0\n",
            "holidays                           0.58\n",
            "holoviews                          1.19.1\n",
            "html5lib                           1.1\n",
            "httpimport                         1.4.0\n",
            "httplib2                           0.22.0\n",
            "huggingface-hub                    0.24.7\n",
            "humanize                           4.10.0\n",
            "hyperopt                           0.2.7\n",
            "ibis-framework                     9.2.0\n",
            "idna                               3.10\n",
            "imageio                            2.35.1\n",
            "imageio-ffmpeg                     0.5.1\n",
            "imagesize                          1.4.1\n",
            "imbalanced-learn                   0.12.4\n",
            "imgaug                             0.4.0\n",
            "immutabledict                      4.2.0\n",
            "importlib_metadata                 8.5.0\n",
            "importlib_resources                6.4.5\n",
            "imutils                            0.5.4\n",
            "inflect                            7.4.0\n",
            "iniconfig                          2.0.0\n",
            "intel-cmplr-lib-ur                 2024.2.1\n",
            "intel-openmp                       2024.2.1\n",
            "ipyevents                          2.0.2\n",
            "ipyfilechooser                     0.6.0\n",
            "ipykernel                          5.5.6\n",
            "ipyleaflet                         0.19.2\n",
            "ipyparallel                        8.8.0\n",
            "ipython                            7.34.0\n",
            "ipython-genutils                   0.2.0\n",
            "ipython-sql                        0.5.0\n",
            "ipytree                            0.2.2\n",
            "ipywidgets                         7.7.1\n",
            "itsdangerous                       2.2.0\n",
            "jax                                0.4.33\n",
            "jax-cuda12-pjrt                    0.4.33\n",
            "jax-cuda12-plugin                  0.4.33\n",
            "jaxlib                             0.4.33\n",
            "jeepney                            0.7.1\n",
            "jellyfish                          1.1.0\n",
            "jieba                              0.42.1\n",
            "Jinja2                             3.1.4\n",
            "joblib                             1.4.2\n",
            "jsonpickle                         3.3.0\n",
            "jsonschema                         4.23.0\n",
            "jsonschema-specifications          2024.10.1\n",
            "jupyter-client                     6.1.12\n",
            "jupyter-console                    6.1.0\n",
            "jupyter_core                       5.7.2\n",
            "jupyter-leaflet                    0.19.2\n",
            "jupyter-server                     1.24.0\n",
            "jupyterlab_pygments                0.3.0\n",
            "jupyterlab_widgets                 3.0.13\n",
            "kaggle                             1.6.17\n",
            "kagglehub                          0.3.3\n",
            "keras                              3.4.1\n",
            "keyring                            23.5.0\n",
            "kiwisolver                         1.4.7\n",
            "langcodes                          3.4.1\n",
            "language_data                      1.2.0\n",
            "launchpadlib                       1.10.16\n",
            "lazr.restfulclient                 0.14.4\n",
            "lazr.uri                           1.0.6\n",
            "lazy_loader                        0.4\n",
            "libclang                           18.1.1\n",
            "libcudf-cu12                       24.10.1\n",
            "librosa                            0.10.2.post1\n",
            "lightgbm                           4.5.0\n",
            "linkify-it-py                      2.0.3\n",
            "llvmlite                           0.43.0\n",
            "locket                             1.0.0\n",
            "logical-unification                0.4.6\n",
            "lxml                               4.9.4\n",
            "marisa-trie                        1.2.1\n",
            "Markdown                           3.7\n",
            "markdown-it-py                     3.0.0\n",
            "MarkupSafe                         3.0.2\n",
            "matplotlib                         3.7.1\n",
            "matplotlib-inline                  0.1.7\n",
            "matplotlib-venn                    1.1.1\n",
            "mdit-py-plugins                    0.4.2\n",
            "mdurl                              0.1.2\n",
            "miniKanren                         1.0.3\n",
            "missingno                          0.5.2\n",
            "mistune                            0.8.4\n",
            "mizani                             0.11.4\n",
            "mkl                                2024.2.2\n",
            "ml-dtypes                          0.4.1\n",
            "mlxtend                            0.23.1\n",
            "more-itertools                     10.5.0\n",
            "moviepy                            1.0.3\n",
            "mpmath                             1.3.0\n",
            "msgpack                            1.1.0\n",
            "multidict                          6.1.0\n",
            "multipledispatch                   1.0.0\n",
            "multitasking                       0.0.11\n",
            "murmurhash                         1.0.10\n",
            "music21                            9.1.0\n",
            "namex                              0.0.8\n",
            "natsort                            8.4.0\n",
            "nbclassic                          1.1.0\n",
            "nbclient                           0.10.0\n",
            "nbconvert                          6.5.4\n",
            "nbformat                           5.10.4\n",
            "nest-asyncio                       1.6.0\n",
            "networkx                           3.4.1\n",
            "nibabel                            5.2.1\n",
            "nltk                               3.8.1\n",
            "notebook                           6.5.5\n",
            "notebook_shim                      0.2.4\n",
            "numba                              0.60.0\n",
            "numexpr                            2.10.1\n",
            "numpy                              1.26.4\n",
            "nvidia-cublas-cu12                 12.6.3.3\n",
            "nvidia-cuda-cupti-cu12             12.6.80\n",
            "nvidia-cuda-nvcc-cu12              12.6.77\n",
            "nvidia-cuda-runtime-cu12           12.6.77\n",
            "nvidia-cudnn-cu12                  9.5.0.50\n",
            "nvidia-cufft-cu12                  11.3.0.4\n",
            "nvidia-curand-cu12                 10.3.7.77\n",
            "nvidia-cusolver-cu12               11.7.1.2\n",
            "nvidia-cusparse-cu12               12.5.4.2\n",
            "nvidia-nccl-cu12                   2.23.4\n",
            "nvidia-nvjitlink-cu12              12.6.77\n",
            "nvtx                               0.2.10\n",
            "nx-cugraph-cu12                    24.10.0\n",
            "oauth2client                       4.1.3\n",
            "oauthlib                           3.2.2\n",
            "opencv-contrib-python              4.10.0.84\n",
            "opencv-python                      4.10.0.84\n",
            "opencv-python-headless             4.10.0.84\n",
            "openpyxl                           3.1.5\n",
            "opentelemetry-api                  1.16.0\n",
            "opentelemetry-sdk                  1.16.0\n",
            "opentelemetry-semantic-conventions 0.37b0\n",
            "opt_einsum                         3.4.0\n",
            "optax                              0.2.3\n",
            "optree                             0.13.0\n",
            "orbax-checkpoint                   0.6.4\n",
            "osqp                               0.6.7.post3\n",
            "packaging                          24.1\n",
            "pandas                             2.2.2\n",
            "pandas-datareader                  0.10.0\n",
            "pandas-gbq                         0.23.2\n",
            "pandas-stubs                       2.2.2.240909\n",
            "pandocfilters                      1.5.1\n",
            "panel                              1.4.5\n",
            "param                              2.1.1\n",
            "parso                              0.8.4\n",
            "parsy                              2.1\n",
            "partd                              1.4.2\n",
            "pathlib                            1.0.1\n",
            "patsy                              0.5.6\n",
            "pbr                                6.1.0\n",
            "peewee                             3.17.7\n",
            "pexpect                            4.9.0\n",
            "pickleshare                        0.7.5\n",
            "pillow                             10.4.0\n",
            "pip                                24.1.2\n",
            "platformdirs                       4.3.6\n",
            "plotly                             5.24.1\n",
            "plotnine                           0.13.6\n",
            "pluggy                             1.5.0\n",
            "polars                             1.7.1\n",
            "pooch                              1.8.2\n",
            "portpicker                         1.5.2\n",
            "preshed                            3.0.9\n",
            "prettytable                        3.11.0\n",
            "proglog                            0.1.10\n",
            "progressbar2                       4.5.0\n",
            "prometheus_client                  0.21.0\n",
            "promise                            2.3\n",
            "prompt_toolkit                     3.0.48\n",
            "propcache                          0.2.0\n",
            "prophet                            1.1.6\n",
            "proto-plus                         1.24.0\n",
            "protobuf                           3.20.3\n",
            "psutil                             5.9.5\n",
            "psycopg2                           2.9.10\n",
            "ptyprocess                         0.7.0\n",
            "py-cpuinfo                         9.0.0\n",
            "py4j                               0.10.9.7\n",
            "pyarrow                            16.1.0\n",
            "pyarrow-hotfix                     0.6\n",
            "pyasn1                             0.6.1\n",
            "pyasn1_modules                     0.4.1\n",
            "pycocotools                        2.0.8\n",
            "pycparser                          2.22\n",
            "pydantic                           2.9.2\n",
            "pydantic_core                      2.23.4\n",
            "pydata-google-auth                 1.8.2\n",
            "pydot                              3.0.2\n",
            "pydotplus                          2.0.2\n",
            "PyDrive                            1.3.1\n",
            "PyDrive2                           1.20.0\n",
            "pyerfa                             2.0.1.4\n",
            "pygame                             2.6.1\n",
            "pygit2                             1.15.1\n",
            "Pygments                           2.18.0\n",
            "PyGObject                          3.42.1\n",
            "PyJWT                              2.9.0\n",
            "pylatexenc                         2.10\n",
            "pylibcudf-cu12                     24.10.1\n",
            "pylibcugraph-cu12                  24.10.0\n",
            "pylibraft-cu12                     24.10.0\n",
            "pymc                               5.16.2\n",
            "pymystem3                          0.2.0\n",
            "pynvjitlink-cu12                   0.3.0\n",
            "pyogrio                            0.10.0\n",
            "PyOpenGL                           3.1.7\n",
            "pyOpenSSL                          24.2.1\n",
            "pyparsing                          3.2.0\n",
            "pyperclip                          1.9.0\n",
            "pyproj                             3.7.0\n",
            "pyshp                              2.3.1\n",
            "PySocks                            1.7.1\n",
            "pyspark                            3.5.3\n",
            "pytensor                           2.25.5\n",
            "pytest                             7.4.4\n",
            "python-apt                         0.0.0\n",
            "python-box                         7.2.0\n",
            "python-dateutil                    2.8.2\n",
            "python-louvain                     0.16\n",
            "python-slugify                     8.0.4\n",
            "python-utils                       3.9.0\n",
            "pytz                               2024.2\n",
            "pyviz_comms                        3.0.3\n",
            "PyYAML                             6.0.2\n",
            "pyzmq                              24.0.1\n",
            "qdldl                              0.1.7.post4\n",
            "qiskit                             1.2.4\n",
            "qiskit-aer                         0.15.1\n",
            "ratelim                            0.1.6\n",
            "referencing                        0.35.1\n",
            "regex                              2024.9.11\n",
            "requests                           2.32.3\n",
            "requests-oauthlib                  1.3.1\n",
            "requirements-parser                0.9.0\n",
            "rich                               13.9.2\n",
            "rmm-cu12                           24.10.0\n",
            "rpds-py                            0.20.0\n",
            "rpy2                               3.4.2\n",
            "rsa                                4.9\n",
            "rustworkx                          0.15.1\n",
            "safetensors                        0.4.5\n",
            "scikit-image                       0.24.0\n",
            "scikit-learn                       1.5.2\n",
            "scipy                              1.13.1\n",
            "scooby                             0.10.0\n",
            "scs                                3.2.7\n",
            "seaborn                            0.13.2\n",
            "SecretStorage                      3.3.1\n",
            "Send2Trash                         1.8.3\n",
            "sentencepiece                      0.2.0\n",
            "sentry-sdk                         2.17.0\n",
            "setproctitle                       1.3.3\n",
            "setuptools                         75.1.0\n",
            "shap                               0.46.0\n",
            "shapely                            2.0.6\n",
            "shellingham                        1.5.4\n",
            "simple-parsing                     0.1.6\n",
            "six                                1.16.0\n",
            "sklearn-pandas                     2.2.0\n",
            "slicer                             0.0.8\n",
            "smart-open                         7.0.5\n",
            "smmap                              5.0.1\n",
            "sniffio                            1.3.1\n",
            "snowballstemmer                    2.2.0\n",
            "soundfile                          0.12.1\n",
            "soupsieve                          2.6\n",
            "soxr                               0.5.0.post1\n",
            "spacy                              3.7.5\n",
            "spacy-legacy                       3.0.12\n",
            "spacy-loggers                      1.0.5\n",
            "Sphinx                             5.0.2\n",
            "sphinxcontrib-applehelp            2.0.0\n",
            "sphinxcontrib-devhelp              2.0.0\n",
            "sphinxcontrib-htmlhelp             2.1.0\n",
            "sphinxcontrib-jsmath               1.0.1\n",
            "sphinxcontrib-qthelp               2.0.0\n",
            "sphinxcontrib-serializinghtml      2.0.0\n",
            "SQLAlchemy                         2.0.36\n",
            "sqlglot                            25.1.0\n",
            "sqlparse                           0.5.1\n",
            "srsly                              2.4.8\n",
            "stanio                             0.5.1\n",
            "statsmodels                        0.14.4\n",
            "stevedore                          5.3.0\n",
            "StrEnum                            0.4.15\n",
            "symengine                          0.13.0\n",
            "sympy                              1.13.3\n",
            "tables                             3.8.0\n",
            "tabulate                           0.9.0\n",
            "tbb                                2021.13.1\n",
            "tenacity                           9.0.0\n",
            "tensorboard                        2.17.0\n",
            "tensorboard-data-server            0.7.2\n",
            "tensorflow                         2.17.0\n",
            "tensorflow-datasets                4.9.6\n",
            "tensorflow-hub                     0.16.1\n",
            "tensorflow-io-gcs-filesystem       0.37.1\n",
            "tensorflow-metadata                1.16.1\n",
            "tensorflow-probability             0.24.0\n",
            "tensorstore                        0.1.66\n",
            "termcolor                          2.5.0\n",
            "terminado                          0.18.1\n",
            "text-unidecode                     1.3\n",
            "textblob                           0.17.1\n",
            "tf_keras                           2.17.0\n",
            "tf-slim                            1.1.0\n",
            "thinc                              8.2.5\n",
            "threadpoolctl                      3.5.0\n",
            "tifffile                           2024.9.20\n",
            "timm                               1.0.11\n",
            "tinycss2                           1.3.0\n",
            "tokenizers                         0.19.1\n",
            "toml                               0.10.2\n",
            "tomli                              2.0.2\n",
            "toolz                              0.12.1\n",
            "torch                              2.4.1+cu121\n",
            "torchaudio                         2.4.1+cu121\n",
            "torchsummary                       1.5.1\n",
            "torchvision                        0.19.1+cu121\n",
            "tornado                            6.3.3\n",
            "tqdm                               4.66.5\n",
            "traitlets                          5.7.1\n",
            "traittypes                         0.2.1\n",
            "transformers                       4.44.2\n",
            "tweepy                             4.14.0\n",
            "typeguard                          4.3.0\n",
            "typer                              0.12.5\n",
            "types-pytz                         2024.2.0.20241003\n",
            "types-setuptools                   75.2.0.20241019\n",
            "typing_extensions                  4.12.2\n",
            "tzdata                             2024.2\n",
            "tzlocal                            5.2\n",
            "uc-micro-py                        1.0.3\n",
            "uritemplate                        4.1.1\n",
            "urllib3                            2.2.3\n",
            "vega-datasets                      0.9.0\n",
            "wadllib                            1.3.6\n",
            "wandb                              0.18.5\n",
            "wasabi                             1.1.3\n",
            "wcwidth                            0.2.13\n",
            "weasel                             0.4.1\n",
            "webcolors                          24.8.0\n",
            "webencodings                       0.5.1\n",
            "websocket-client                   1.8.0\n",
            "Werkzeug                           3.0.4\n",
            "wheel                              0.44.0\n",
            "widgetsnbextension                 3.6.9\n",
            "wordcloud                          1.9.3\n",
            "wrapt                              1.16.0\n",
            "xarray                             2024.9.0\n",
            "xarray-einstats                    0.8.0\n",
            "xgboost                            2.1.1\n",
            "xlrd                               2.0.1\n",
            "xyzservices                        2024.9.0\n",
            "yarl                               1.15.4\n",
            "yellowbrick                        1.5\n",
            "yfinance                           0.2.44\n",
            "zipp                               3.20.2\n"
          ]
        }
      ]
    },
    {
      "cell_type": "code",
      "source": [
        "import qiskit\n",
        "qiskit.__version__"
      ],
      "metadata": {
        "colab": {
          "base_uri": "https://localhost:8080/",
          "height": 36
        },
        "id": "xtrWQVnwuoPy",
        "outputId": "b987d749-e496-430b-c621-03d0c3fea24e"
      },
      "execution_count": 253,
      "outputs": [
        {
          "output_type": "execute_result",
          "data": {
            "text/plain": [
              "'1.2.4'"
            ],
            "application/vnd.google.colaboratory.intrinsic+json": {
              "type": "string"
            }
          },
          "metadata": {},
          "execution_count": 253
        }
      ]
    },
    {
      "cell_type": "code",
      "source": [
        "import qiskit_aer\n",
        "qiskit_aer.__version__"
      ],
      "metadata": {
        "colab": {
          "base_uri": "https://localhost:8080/",
          "height": 36
        },
        "id": "3VQn58MW5rtW",
        "outputId": "1aee2d8c-42cf-4732-a137-bc262a5aa442"
      },
      "execution_count": 254,
      "outputs": [
        {
          "output_type": "execute_result",
          "data": {
            "text/plain": [
              "'0.15.1'"
            ],
            "application/vnd.google.colaboratory.intrinsic+json": {
              "type": "string"
            }
          },
          "metadata": {},
          "execution_count": 254
        }
      ]
    },
    {
      "cell_type": "code",
      "source": [
        "from qiskit_aer import Aer, AerSimulator, QasmSimulator, StatevectorSimulator, UnitarySimulator\n",
        "Aer.backends()"
      ],
      "metadata": {
        "colab": {
          "base_uri": "https://localhost:8080/"
        },
        "id": "kIiG5YzQd4Il",
        "outputId": "bddaf18e-7361-4df0-f894-5e640fad80fb"
      },
      "execution_count": 255,
      "outputs": [
        {
          "output_type": "execute_result",
          "data": {
            "text/plain": [
              "[AerSimulator('aer_simulator'),\n",
              " AerSimulator('aer_simulator_statevector'),\n",
              " AerSimulator('aer_simulator_density_matrix'),\n",
              " AerSimulator('aer_simulator_stabilizer'),\n",
              " AerSimulator('aer_simulator_matrix_product_state'),\n",
              " AerSimulator('aer_simulator_extended_stabilizer'),\n",
              " AerSimulator('aer_simulator_unitary'),\n",
              " AerSimulator('aer_simulator_superop'),\n",
              " QasmSimulator('qasm_simulator'),\n",
              " StatevectorSimulator('statevector_simulator'),\n",
              " UnitarySimulator('unitary_simulator')]"
            ]
          },
          "metadata": {},
          "execution_count": 255
        }
      ]
    },
    {
      "cell_type": "code",
      "source": [
        "Aer"
      ],
      "metadata": {
        "colab": {
          "base_uri": "https://localhost:8080/"
        },
        "id": "c8DSdDeWFRwQ",
        "outputId": "78d8deed-583f-47f7-a2a9-a9329d9fad7e"
      },
      "execution_count": 256,
      "outputs": [
        {
          "output_type": "execute_result",
          "data": {
            "text/plain": [
              "<qiskit_aer.aerprovider.AerProvider at 0x7ef82c527ca0>"
            ]
          },
          "metadata": {},
          "execution_count": 256
        }
      ]
    },
    {
      "cell_type": "code",
      "source": [
        "AerSimulator()"
      ],
      "metadata": {
        "colab": {
          "base_uri": "https://localhost:8080/"
        },
        "id": "1CzJn1coFWZ4",
        "outputId": "452514c8-d566-4dac-eb95-33290dc75fa7"
      },
      "execution_count": 257,
      "outputs": [
        {
          "output_type": "execute_result",
          "data": {
            "text/plain": [
              "AerSimulator('aer_simulator')"
            ]
          },
          "metadata": {},
          "execution_count": 257
        }
      ]
    },
    {
      "cell_type": "code",
      "source": [
        "QasmSimulator()"
      ],
      "metadata": {
        "colab": {
          "base_uri": "https://localhost:8080/"
        },
        "id": "dASejPB-FcML",
        "outputId": "d71b1557-8b05-4023-e9d6-163f70e6f2da"
      },
      "execution_count": 258,
      "outputs": [
        {
          "output_type": "execute_result",
          "data": {
            "text/plain": [
              "QasmSimulator('qasm_simulator')"
            ]
          },
          "metadata": {},
          "execution_count": 258
        }
      ]
    },
    {
      "cell_type": "code",
      "source": [
        "StatevectorSimulator()"
      ],
      "metadata": {
        "colab": {
          "base_uri": "https://localhost:8080/"
        },
        "id": "WGdq3iqaFfzw",
        "outputId": "d0eb369d-f504-4d1c-ea63-f91c2450377a"
      },
      "execution_count": 259,
      "outputs": [
        {
          "output_type": "execute_result",
          "data": {
            "text/plain": [
              "StatevectorSimulator('statevector_simulator')"
            ]
          },
          "metadata": {},
          "execution_count": 259
        }
      ]
    },
    {
      "cell_type": "code",
      "source": [
        "UnitarySimulator()"
      ],
      "metadata": {
        "colab": {
          "base_uri": "https://localhost:8080/"
        },
        "id": "_PgneuvEFiMV",
        "outputId": "ed1f29c5-af5b-43c2-b7af-51c671918336"
      },
      "execution_count": 260,
      "outputs": [
        {
          "output_type": "execute_result",
          "data": {
            "text/plain": [
              "UnitarySimulator('unitary_simulator')"
            ]
          },
          "metadata": {},
          "execution_count": 260
        }
      ]
    },
    {
      "cell_type": "code",
      "source": [
        "#backend =Aer.get_backend(\"qasm_simulator\")\n",
        "#backend =Aer.get_backend(\"aer_simulator_statevector\")\n",
        "#backend =Aer.get_backend(\"aer_simulator_unitary\")\n",
        "#backend = QasmSimulator()\n",
        "#backend = StatevectorSimulator()\n",
        "backend = UnitarySimulator()"
      ],
      "metadata": {
        "id": "t9tLRbMY6lTA"
      },
      "execution_count": 261,
      "outputs": []
    },
    {
      "cell_type": "code",
      "source": [
        "from qiskit import QuantumCircuit\n",
        "\n",
        "circuit = QuantumCircuit(3)\n",
        "circuit.h(0)\n",
        "circuit.cx(0, 1)\n",
        "circuit.cx(0, 2)\n",
        "#circuit.measure_all()  #Unitary Matrix 결과를 얻기위해서는 반드시 주석처리 필요\n"
      ],
      "metadata": {
        "colab": {
          "base_uri": "https://localhost:8080/"
        },
        "id": "t0tXM48IVua2",
        "outputId": "987e2663-743b-4c5b-a6eb-520e3efa4a83"
      },
      "execution_count": 262,
      "outputs": [
        {
          "output_type": "execute_result",
          "data": {
            "text/plain": [
              "<qiskit.circuit.instructionset.InstructionSet at 0x7ef8068b8d30>"
            ]
          },
          "metadata": {},
          "execution_count": 262
        }
      ]
    },
    {
      "cell_type": "markdown",
      "source": [
        "# The GHZ State"
      ],
      "metadata": {
        "id": "YhQX9-N9144W"
      }
    },
    {
      "cell_type": "code",
      "source": [
        "circuit.draw(output=\"mpl\")"
      ],
      "metadata": {
        "colab": {
          "base_uri": "https://localhost:8080/",
          "height": 255
        },
        "id": "HbrJFwve1qw8",
        "outputId": "84004509-8439-42db-a7d9-f378530a28cf"
      },
      "execution_count": 263,
      "outputs": [
        {
          "output_type": "execute_result",
          "data": {
            "text/plain": [
              "<Figure size 371.107x284.278 with 1 Axes>"
            ],
            "image/png": "[encoded data removed]"
          },
          "metadata": {},
          "execution_count": 263
        }
      ]
    },
    {
      "cell_type": "code",
      "source": [
        "from qiskit.compiler import transpile, assemble\n",
        "trans_qc = transpile(circuit, backend=backend)\n",
        "trans_qc.draw(\"mpl\")"
      ],
      "metadata": {
        "colab": {
          "base_uri": "https://localhost:8080/",
          "height": 255
        },
        "id": "7XeFTYu-emzY",
        "outputId": "611d3678-a037-4450-e527-58b97fe6c16c"
      },
      "execution_count": 264,
      "outputs": [
        {
          "output_type": "execute_result",
          "data": {
            "text/plain": [
              "<Figure size 371.107x284.278 with 1 Axes>"
            ],
            "image/png": "[encoded data removed]"
          },
          "metadata": {},
          "execution_count": 264
        }
      ]
    },
    {
      "cell_type": "code",
      "source": [
        "#from qiskit.providers.jobstatus import JobStatus\n",
        "#import time\n",
        "\n",
        "#job = backend.run(trans_qc, shots=1024)\n",
        "\n",
        "#print(\"Job ID is\", job.job_id(),\"\\n\")\n",
        "\n",
        "# 제출된 잡에 대한 실행 상태 확인\n",
        "#while job.status() is not JobStatus.DONE:\n",
        "#\tprint(\"Job status is\", job.status() )\n",
        "#\ttime.sleep(2)\n",
        "###while\n",
        "\n",
        "\n",
        "#print(\"Job status is\", job.status() )\n",
        "\n",
        "# 결과 출력\n",
        "#counts = job.result().get_counts()\n",
        "#print(counts)"
      ],
      "metadata": {
        "id": "fbj-_FDLV2wL"
      },
      "execution_count": 265,
      "outputs": []
    },
    {
      "cell_type": "code",
      "source": [
        "from qiskit.providers.jobstatus import JobStatus\n",
        "\n",
        "job = backend.run(trans_qc, shots=1024)\n",
        "\n",
        "# Use the job ID to retrieve your job data later\n",
        "print(f\">>> Job ID: {job.job_id()}\")"
      ],
      "metadata": {
        "colab": {
          "base_uri": "https://localhost:8080/"
        },
        "id": "kAGoZLNor0IC",
        "outputId": "ee2ec5e2-2286-4424-d42e-90f286006dd3"
      },
      "execution_count": 266,
      "outputs": [
        {
          "output_type": "stream",
          "name": "stdout",
          "text": [
            ">>> Job ID: a54f0159-da90-4a4a-9711-2d8f646aaf33\n"
          ]
        }
      ]
    },
    {
      "cell_type": "code",
      "source": [
        "print(job.status())"
      ],
      "metadata": {
        "colab": {
          "base_uri": "https://localhost:8080/"
        },
        "id": "nvceydpGsC_F",
        "outputId": "2128b985-6fa1-4f54-a728-385d1afe553a"
      },
      "execution_count": 267,
      "outputs": [
        {
          "output_type": "stream",
          "name": "stdout",
          "text": [
            "JobStatus.DONE\n"
          ]
        }
      ]
    },
    {
      "cell_type": "code",
      "source": [
        "### 서비스 플렛폼에 중간에 세션이 종료되었을 경우, Job이 완료되면 그 Job.ID를 이용해 결과를 추출합니다. ###\n",
        "#job = service.job(\"csbevjh3olk6fc8cr0n0\")"
      ],
      "metadata": {
        "id": "qMYYd2XOsFww"
      },
      "execution_count": 268,
      "outputs": []
    },
    {
      "cell_type": "code",
      "source": [
        "result = job.result()\n",
        "result"
      ],
      "metadata": {
        "colab": {
          "base_uri": "https://localhost:8080/"
        },
        "id": "zNJW3aSTsIgc",
        "outputId": "f7860f08-f84f-49c1-dacf-2250f4e0dcfd"
      },
      "execution_count": 269,
      "outputs": [
        {
          "output_type": "execute_result",
          "data": {
            "text/plain": [
              "Result(backend_name='unitary_simulator', backend_version='0.15.1', qobj_id='', job_id='a54f0159-da90-4a4a-9711-2d8f646aaf33', success=True, results=[ExperimentResult(shots=1024, success=True, meas_level=2, data=ExperimentResultData(unitary=Operator([[ 0.70710678+0.00000000e+00j,  0.70710678-8.65956056e-17j,\n",
              "            0.        +0.00000000e+00j,  0.        +0.00000000e+00j,\n",
              "            0.        +0.00000000e+00j,  0.        +0.00000000e+00j,\n",
              "            0.        +0.00000000e+00j,  0.        +0.00000000e+00j],\n",
              "          [ 0.        +0.00000000e+00j,  0.        +0.00000000e+00j,\n",
              "            0.        +0.00000000e+00j,  0.        +0.00000000e+00j,\n",
              "            0.        +0.00000000e+00j,  0.        +0.00000000e+00j,\n",
              "            0.70710678+0.00000000e+00j, -0.70710678+8.65956056e-17j],\n",
              "          [ 0.        +0.00000000e+00j,  0.        +0.00000000e+00j,\n",
              "            0.70710678+0.00000000e+00j,  0.70710678-8.65956056e-17j,\n",
              "            0.        +0.00000000e+00j,  0.        +0.00000000e+00j,\n",
              "            0.        +0.00000000e+00j,  0.        +0.00000000e+00j],\n",
              "          [ 0.        +0.00000000e+00j,  0.        +0.00000000e+00j,\n",
              "            0.        +0.00000000e+00j,  0.        +0.00000000e+00j,\n",
              "            0.70710678+0.00000000e+00j, -0.70710678+8.65956056e-17j,\n",
              "            0.        +0.00000000e+00j,  0.        +0.00000000e+00j],\n",
              "          [ 0.        +0.00000000e+00j,  0.        +0.00000000e+00j,\n",
              "            0.        +0.00000000e+00j,  0.        +0.00000000e+00j,\n",
              "            0.70710678+0.00000000e+00j,  0.70710678-8.65956056e-17j,\n",
              "            0.        +0.00000000e+00j,  0.        +0.00000000e+00j],\n",
              "          [ 0.        +0.00000000e+00j,  0.        +0.00000000e+00j,\n",
              "            0.70710678+0.00000000e+00j, -0.70710678+8.65956056e-17j,\n",
              "            0.        +0.00000000e+00j,  0.        +0.00000000e+00j,\n",
              "            0.        +0.00000000e+00j,  0.        +0.00000000e+00j],\n",
              "          [ 0.        +0.00000000e+00j,  0.        +0.00000000e+00j,\n",
              "            0.        +0.00000000e+00j,  0.        +0.00000000e+00j,\n",
              "            0.        +0.00000000e+00j,  0.        +0.00000000e+00j,\n",
              "            0.70710678+0.00000000e+00j,  0.70710678-8.65956056e-17j],\n",
              "          [ 0.70710678+0.00000000e+00j, -0.70710678+8.65956056e-17j,\n",
              "            0.        +0.00000000e+00j,  0.        +0.00000000e+00j,\n",
              "            0.        +0.00000000e+00j,  0.        +0.00000000e+00j,\n",
              "            0.        +0.00000000e+00j,  0.        +0.00000000e+00j]],\n",
              "         input_dims=(2, 2, 2), output_dims=(2, 2, 2))), header=QobjExperimentHeader(creg_sizes=[], global_phase=0.0, memory_slots=0, n_qubits=3, name='circuit-206', qreg_sizes=[['q', 3]], metadata={}), status=DONE, seed_simulator=874258186, metadata={'time_taken': 0.000214957, 'num_bind_params': 1, 'parallel_state_update': 2, 'required_memory_mb': 1, 'input_qubit_map': [[2, 2], [1, 1], [0, 0]], 'method': 'unitary', 'device': 'CPU', 'num_qubits': 3, 'active_input_qubits': [0, 1, 2], 'num_clbits': 0, 'remapped_qubits': False, 'parallel_shots': 1, 'runtime_parameter_bind': False, 'max_memory_mb': 12978, 'noise': 'ideal', 'measure_sampling': True, 'batched_shots_optimization': False, 'result_subtypes': {'unitary': 'single'}, 'result_types': {'unitary': 'save_unitary'}, 'fusion': {'applied': False, 'max_fused_qubits': 5, 'threshold': 14, 'enabled': True}}, time_taken=0.000214957)], date=2024-10-23T07:54:52.574534, status=COMPLETED, header=None, metadata={'time_taken_parameter_binding': 1.6552e-05, 'time_taken_execute': 0.000363467, 'omp_enabled': True, 'max_gpu_memory_mb': 0, 'max_memory_mb': 12978, 'parallel_experiments': 1}, time_taken=0.0012862682342529297)"
            ]
          },
          "metadata": {},
          "execution_count": 269
        }
      ]
    },
    {
      "cell_type": "markdown",
      "source": [
        "# 진폭(Applitude)의 확률 출력하기"
      ],
      "metadata": {
        "id": "4CZ01aPC7lbt"
      }
    },
    {
      "cell_type": "code",
      "source": [
        "counts = result.get_counts()\n",
        "counts"
      ],
      "metadata": {
        "colab": {
          "base_uri": "https://localhost:8080/",
          "height": 287
        },
        "id": "w0l47e3R1U1V",
        "outputId": "53f1d1ff-4d29-4634-efd6-52140c601351"
      },
      "execution_count": 270,
      "outputs": [
        {
          "output_type": "error",
          "ename": "QiskitError",
          "evalue": "'No counts for experiment \"0\"'",
          "traceback": [
            "\u001b[0;31m---------------------------------------------------------------------------\u001b[0m",
            "\u001b[0;31mQiskitError\u001b[0m                               Traceback (most recent call last)",
            "\u001b[0;32m<ipython-input-270-22068e961c46>\u001b[0m in \u001b[0;36m<cell line: 1>\u001b[0;34m()\u001b[0m\n\u001b[0;32m----> 1\u001b[0;31m \u001b[0mcounts\u001b[0m \u001b[0;34m=\u001b[0m \u001b[0mresult\u001b[0m\u001b[0;34m.\u001b[0m\u001b[0mget_counts\u001b[0m\u001b[0;34m(\u001b[0m\u001b[0;34m)\u001b[0m\u001b[0;34m\u001b[0m\u001b[0;34m\u001b[0m\u001b[0m\n\u001b[0m\u001b[1;32m      2\u001b[0m \u001b[0mcounts\u001b[0m\u001b[0;34m\u001b[0m\u001b[0;34m\u001b[0m\u001b[0m\n",
            "\u001b[0;32m/usr/local/lib/python3.10/dist-packages/qiskit/result/result.py\u001b[0m in \u001b[0;36mget_counts\u001b[0;34m(self, experiment)\u001b[0m\n\u001b[1;32m    282\u001b[0m                 \u001b[0mdict_list\u001b[0m\u001b[0;34m.\u001b[0m\u001b[0mappend\u001b[0m\u001b[0;34m(\u001b[0m\u001b[0mstatevector\u001b[0m\u001b[0;34m.\u001b[0m\u001b[0mStatevector\u001b[0m\u001b[0;34m(\u001b[0m\u001b[0mvec\u001b[0m\u001b[0;34m)\u001b[0m\u001b[0;34m.\u001b[0m\u001b[0mprobabilities_dict\u001b[0m\u001b[0;34m(\u001b[0m\u001b[0mdecimals\u001b[0m\u001b[0;34m=\u001b[0m\u001b[0;36m15\u001b[0m\u001b[0;34m)\u001b[0m\u001b[0;34m)\u001b[0m\u001b[0;34m\u001b[0m\u001b[0;34m\u001b[0m\u001b[0m\n\u001b[1;32m    283\u001b[0m             \u001b[0;32melse\u001b[0m\u001b[0;34m:\u001b[0m\u001b[0;34m\u001b[0m\u001b[0;34m\u001b[0m\u001b[0m\n\u001b[0;32m--> 284\u001b[0;31m                 \u001b[0;32mraise\u001b[0m \u001b[0mQiskitError\u001b[0m\u001b[0;34m(\u001b[0m\u001b[0;34mf'No counts for experiment \"{repr(key)}\"'\u001b[0m\u001b[0;34m)\u001b[0m\u001b[0;34m\u001b[0m\u001b[0;34m\u001b[0m\u001b[0m\n\u001b[0m\u001b[1;32m    285\u001b[0m \u001b[0;34m\u001b[0m\u001b[0m\n\u001b[1;32m    286\u001b[0m         \u001b[0;31m# Return first item of dict_list if size is 1\u001b[0m\u001b[0;34m\u001b[0m\u001b[0;34m\u001b[0m\u001b[0m\n",
            "\u001b[0;31mQiskitError\u001b[0m: 'No counts for experiment \"0\"'"
          ]
        }
      ]
    },
    {
      "cell_type": "code",
      "source": [
        "from qiskit.visualization import plot_histogram\n",
        "plot_histogram(data=counts)"
      ],
      "metadata": {
        "id": "hYn_-AuCWCHY"
      },
      "execution_count": null,
      "outputs": []
    },
    {
      "cell_type": "markdown",
      "source": [
        "#상태벡터 출력하기"
      ],
      "metadata": {
        "id": "PWy5W-Ct7gxn"
      }
    },
    {
      "cell_type": "markdown",
      "source": [
        "![스크린샷 2024-10-23 오후 2.50.42.png](data:image/png;base64,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)"
      ],
      "metadata": {
        "id": "SxJOI2YO7UwR"
      }
    },
    {
      "cell_type": "markdown",
      "source": [
        "![스크린샷 2024-10-23 오후 2.50.49.png](data:image/png;base64,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)"
      ],
      "metadata": {
        "id": "Ve5sqG6W7cAy"
      }
    },
    {
      "cell_type": "code",
      "source": [
        "statevector = result.get_statevector()\n",
        "statevector"
      ],
      "metadata": {
        "id": "qFyEbyPH65X8"
      },
      "execution_count": null,
      "outputs": []
    },
    {
      "cell_type": "code",
      "source": [
        "from qiskit.visualization import plot_state_city\n",
        "plot_state_city(statevector)"
      ],
      "metadata": {
        "id": "HhvmVCcU7M7x"
      },
      "execution_count": null,
      "outputs": []
    },
    {
      "cell_type": "code",
      "source": [
        "unitary = result.get_unitary(trans_qc, decimals=3)\n",
        "unitary"
      ],
      "metadata": {
        "id": "ZII9kIip8Wx2"
      },
      "execution_count": null,
      "outputs": []
    },
    {
      "cell_type": "code",
      "source": [
        "from qiskit.visualization import plot_state_city\n",
        "plot_state_city(unitary)"
      ],
      "metadata": {
        "id": "F3n390MLXJO2"
      },
      "execution_count": null,
      "outputs": []
    },
    {
      "source": [
        "import matplotlib.pyplot as plt\n",
        "import numpy as np\n",
        "\n",
        "# Assuming 'unitary' is your unitary matrix from the provided code.\n",
        "\n",
        "def plot_unitary_matrix(unitary):\n",
        "  \"\"\"Plots a unitary matrix as a heatmap.\"\"\"\n",
        "\n",
        "  # Convert the Operator object to a NumPy array\n",
        "  unitary_array = unitary.data\n",
        "\n",
        "  fig, ax = plt.subplots()\n",
        "  im = ax.imshow(np.abs(unitary_array), cmap='viridis')  # Use absolute values for visualization\n",
        "\n",
        "  # Add colorbar\n",
        "  cbar = ax.figure.colorbar(im, ax=ax)\n",
        "  cbar.ax.set_ylabel(\"Amplitude\", rotation=-90, va=\"bottom\")\n",
        "\n",
        "  # Set axis labels\n",
        "  ax.set_xticks(np.arange(len(unitary_array))) # Use unitary_array instead of unitary\n",
        "  ax.set_yticks(np.arange(len(unitary_array))) # Use unitary_array instead of unitary\n",
        "  ax.set_xticklabels(np.arange(len(unitary_array))) # Use unitary_array instead of unitary\n",
        "  ax.set_yticklabels(np.arange(len(unitary_array))) # Use unitary_array instead of unitary\n",
        "\n",
        "  # Rotate the tick labels and set their alignment.\n",
        "  plt.setp(ax.get_xticklabels(), rotation=45, ha=\"right\",\n",
        "           rotation_mode=\"anchor\")\n",
        "\n",
        "  # Loop over data dimensions and create text annotations.\n",
        "  for i in range(len(unitary_array)): # Use unitary_array instead of unitary\n",
        "      for j in range(len(unitary_array)): # Use unitary_array instead of unitary\n",
        "          text = ax.text(j, i, round(np.abs(unitary_array[i, j]), 2), # Use unitary_array instead of unitary\n",
        "                       ha=\"center\", va=\"center\", color=\"w\")\n",
        "      ###for\n",
        "  ###for\n",
        "\n",
        "  ax.set_title(\"Unitary Matrix\")\n",
        "  fig.tight_layout()\n",
        "  plt.show()\n",
        "###def\n",
        "\n",
        "plot_unitary_matrix(unitary)"
      ],
      "cell_type": "code",
      "metadata": {
        "id": "2zDxTn-gMt7e"
      },
      "execution_count": null,
      "outputs": []
    }
  ]
}