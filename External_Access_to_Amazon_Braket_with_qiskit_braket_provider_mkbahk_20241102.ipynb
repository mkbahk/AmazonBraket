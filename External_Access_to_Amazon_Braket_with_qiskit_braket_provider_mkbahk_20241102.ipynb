{
  "nbformat": 4,
  "nbformat_minor": 0,
  "metadata": {
    "colab": {
      "provenance": [],
      "authorship_tag": "ABX9TyP99+FvRAy8fjrYMrwiwhbn",
      "include_colab_link": true
    },
    "kernelspec": {
      "name": "python3",
      "display_name": "Python 3"
    },
    "language_info": {
      "name": "python"
    }
  },
  "cells": [
    {
      "cell_type": "markdown",
      "metadata": {
        "id": "view-in-github",
        "colab_type": "text"
      },
      "source": [
        "<a href=\"https://colab.research.google.com/github/mkbahk/AmazonBraket/blob/main/External_Access_to_Amazon_Braket_with_qiskit_braket_provider_mkbahk_20241102.ipynb\" target=\"_parent\"><img src=\"https://colab.research.google.com/assets/colab-badge.svg\" alt=\"Open In Colab\"/></a>"
      ]
    },
    {
      "cell_type": "markdown",
      "source": [
        "# 작업순서\n",
        "1. Amazon Braket 환경 설정(확인만)\n",
        "2. S3 환경설정(확인만)\n",
        "3. (중요) IAM을 이용한 Access Key 설정 및 권한 부여\n",
        "4. 원격 작업\n",
        "5. 각종 로그 보기\n",
        "6. 작업 환경 정리\n"
      ],
      "metadata": {
        "id": "_S3DWMw_3Ryp"
      }
    },
    {
      "cell_type": "code",
      "source": [
        "!pip install -r requirements-dev.txt\n",
        "!pip install -r requirements.txt"
      ],
      "metadata": {
        "id": "ajrS_5a6EuMi",
        "outputId": "b8303df0-1d47-4d49-fae7-8e8fd0f7003d",
        "colab": {
          "base_uri": "https://localhost:8080/"
        }
      },
      "execution_count": 1,
      "outputs": [
        {
          "output_type": "stream",
          "name": "stdout",
          "text": [
            "Requirement already satisfied: qiskit-algorithms>=0.2.2 in /usr/local/lib/python3.11/dist-packages (from -r requirements-dev.txt (line 1)) (0.3.1)\n",
            "Requirement already satisfied: coverage>=5.5 in /usr/local/lib/python3.11/dist-packages (from -r requirements-dev.txt (line 2)) (7.9.2)\n",
            "Requirement already satisfied: pylint>=2.9.5 in /usr/local/lib/python3.11/dist-packages (from -r requirements-dev.txt (line 3)) (3.3.7)\n",
            "Requirement already satisfied: nbqa>=1.1.1 in /usr/local/lib/python3.11/dist-packages (from -r requirements-dev.txt (line 4)) (1.9.1)\n",
            "Requirement already satisfied: treon>=0.1.3 in /usr/local/lib/python3.11/dist-packages (from -r requirements-dev.txt (line 5)) (0.1.4)\n",
            "Requirement already satisfied: pytest>=6.2.5 in /usr/local/lib/python3.11/dist-packages (from -r requirements-dev.txt (line 6)) (8.3.5)\n",
            "Requirement already satisfied: mypy>=0.780 in /usr/local/lib/python3.11/dist-packages (from -r requirements-dev.txt (line 7)) (1.16.1)\n",
            "Requirement already satisfied: mypy-extensions>=0.4.3 in /usr/local/lib/python3.11/dist-packages (from -r requirements-dev.txt (line 8)) (1.1.0)\n",
            "Requirement already satisfied: tox==3.24.5 in /usr/local/lib/python3.11/dist-packages (from -r requirements-dev.txt (line 9)) (3.24.5)\n",
            "Requirement already satisfied: jupyter-sphinx>=0.3.2 in /usr/local/lib/python3.11/dist-packages (from -r requirements-dev.txt (line 10)) (0.5.3)\n",
            "Requirement already satisfied: nbsphinx>=0.8.8 in /usr/local/lib/python3.11/dist-packages (from -r requirements-dev.txt (line 11)) (0.9.7)\n",
            "Requirement already satisfied: sphinx-autodoc-typehints>=1.17.0 in /usr/local/lib/python3.11/dist-packages (from -r requirements-dev.txt (line 12)) (2.3.0)\n",
            "Requirement already satisfied: qiskit_sphinx_theme~=1.16.0 in /usr/local/lib/python3.11/dist-packages (from -r requirements-dev.txt (line 13)) (1.16.1)\n",
            "Requirement already satisfied: reno>=3.5.0 in /usr/local/lib/python3.11/dist-packages (from -r requirements-dev.txt (line 14)) (4.1.0)\n",
            "Requirement already satisfied: black~=22.1 in /usr/local/lib/python3.11/dist-packages (from black[jupyter]~=22.1->-r requirements-dev.txt (line 17)) (22.12.0)\n",
            "Requirement already satisfied: isort>=5.12.0 in /usr/local/lib/python3.11/dist-packages (from -r requirements-dev.txt (line 18)) (6.0.1)\n",
            "Requirement already satisfied: filelock>=3.0.0 in /usr/local/lib/python3.11/dist-packages (from tox==3.24.5->-r requirements-dev.txt (line 9)) (3.18.0)\n",
            "Requirement already satisfied: packaging>=14 in /usr/local/lib/python3.11/dist-packages (from tox==3.24.5->-r requirements-dev.txt (line 9)) (24.2)\n",
            "Requirement already satisfied: pluggy>=0.12.0 in /usr/local/lib/python3.11/dist-packages (from tox==3.24.5->-r requirements-dev.txt (line 9)) (1.6.0)\n",
            "Requirement already satisfied: py>=1.4.17 in /usr/local/lib/python3.11/dist-packages (from tox==3.24.5->-r requirements-dev.txt (line 9)) (1.11.0)\n",
            "Requirement already satisfied: six>=1.14.0 in /usr/local/lib/python3.11/dist-packages (from tox==3.24.5->-r requirements-dev.txt (line 9)) (1.17.0)\n",
            "Requirement already satisfied: toml>=0.9.4 in /usr/local/lib/python3.11/dist-packages (from tox==3.24.5->-r requirements-dev.txt (line 9)) (0.10.2)\n",
            "Requirement already satisfied: virtualenv!=20.0.0,!=20.0.1,!=20.0.2,!=20.0.3,!=20.0.4,!=20.0.5,!=20.0.6,!=20.0.7,>=16.0.0 in /usr/local/lib/python3.11/dist-packages (from tox==3.24.5->-r requirements-dev.txt (line 9)) (20.31.2)\n",
            "Requirement already satisfied: qiskit>=0.44 in /usr/local/lib/python3.11/dist-packages (from qiskit-algorithms>=0.2.2->-r requirements-dev.txt (line 1)) (1.4.3)\n",
            "Requirement already satisfied: scipy>=1.4 in /usr/local/lib/python3.11/dist-packages (from qiskit-algorithms>=0.2.2->-r requirements-dev.txt (line 1)) (1.15.3)\n",
            "Requirement already satisfied: numpy>=1.17 in /usr/local/lib/python3.11/dist-packages (from qiskit-algorithms>=0.2.2->-r requirements-dev.txt (line 1)) (1.26.4)\n",
            "Requirement already satisfied: astroid<=3.4.0.dev0,>=3.3.8 in /usr/local/lib/python3.11/dist-packages (from pylint>=2.9.5->-r requirements-dev.txt (line 3)) (3.3.10)\n",
            "Requirement already satisfied: dill>=0.3.6 in /usr/local/lib/python3.11/dist-packages (from pylint>=2.9.5->-r requirements-dev.txt (line 3)) (0.3.7)\n",
            "Requirement already satisfied: mccabe<0.8,>=0.6 in /usr/local/lib/python3.11/dist-packages (from pylint>=2.9.5->-r requirements-dev.txt (line 3)) (0.7.0)\n",
            "Requirement already satisfied: platformdirs>=2.2 in /usr/local/lib/python3.11/dist-packages (from pylint>=2.9.5->-r requirements-dev.txt (line 3)) (4.3.8)\n",
            "Requirement already satisfied: tomlkit>=0.10.1 in /usr/local/lib/python3.11/dist-packages (from pylint>=2.9.5->-r requirements-dev.txt (line 3)) (0.13.3)\n",
            "Requirement already satisfied: autopep8>=1.5 in /usr/local/lib/python3.11/dist-packages (from nbqa>=1.1.1->-r requirements-dev.txt (line 4)) (2.3.2)\n",
            "Requirement already satisfied: ipython>=7.8.0 in /usr/local/lib/python3.11/dist-packages (from nbqa>=1.1.1->-r requirements-dev.txt (line 4)) (7.34.0)\n",
            "Requirement already satisfied: tokenize-rt>=3.2.0 in /usr/local/lib/python3.11/dist-packages (from nbqa>=1.1.1->-r requirements-dev.txt (line 4)) (6.2.0)\n",
            "Requirement already satisfied: tomli in /usr/local/lib/python3.11/dist-packages (from nbqa>=1.1.1->-r requirements-dev.txt (line 4)) (2.2.1)\n",
            "Requirement already satisfied: nbconvert in /usr/local/lib/python3.11/dist-packages (from treon>=0.1.3->-r requirements-dev.txt (line 5)) (7.16.6)\n",
            "Requirement already satisfied: jupyter-client in /usr/local/lib/python3.11/dist-packages (from treon>=0.1.3->-r requirements-dev.txt (line 5)) (7.4.9)\n",
            "Requirement already satisfied: jupyter in /usr/local/lib/python3.11/dist-packages (from treon>=0.1.3->-r requirements-dev.txt (line 5)) (1.1.1)\n",
            "Requirement already satisfied: docopt in /usr/local/lib/python3.11/dist-packages (from treon>=0.1.3->-r requirements-dev.txt (line 5)) (0.6.2)\n",
            "Requirement already satisfied: iniconfig in /usr/local/lib/python3.11/dist-packages (from pytest>=6.2.5->-r requirements-dev.txt (line 6)) (2.1.0)\n",
            "Requirement already satisfied: typing_extensions>=4.6.0 in /usr/local/lib/python3.11/dist-packages (from mypy>=0.780->-r requirements-dev.txt (line 7)) (4.14.0)\n",
            "Requirement already satisfied: pathspec>=0.9.0 in /usr/local/lib/python3.11/dist-packages (from mypy>=0.780->-r requirements-dev.txt (line 7)) (0.12.1)\n",
            "Requirement already satisfied: ipykernel>=4.5.1 in /usr/local/lib/python3.11/dist-packages (from jupyter-sphinx>=0.3.2->-r requirements-dev.txt (line 10)) (6.17.1)\n",
            "Requirement already satisfied: ipywidgets>=7.0.0 in /usr/local/lib/python3.11/dist-packages (from jupyter-sphinx>=0.3.2->-r requirements-dev.txt (line 10)) (7.7.1)\n",
            "Requirement already satisfied: nbformat in /usr/local/lib/python3.11/dist-packages (from jupyter-sphinx>=0.3.2->-r requirements-dev.txt (line 10)) (5.10.4)\n",
            "Requirement already satisfied: sphinx>=7 in /usr/local/lib/python3.11/dist-packages (from jupyter-sphinx>=0.3.2->-r requirements-dev.txt (line 10)) (7.4.7)\n",
            "Requirement already satisfied: docutils>=0.18.1 in /usr/local/lib/python3.11/dist-packages (from nbsphinx>=0.8.8->-r requirements-dev.txt (line 11)) (0.21.2)\n",
            "Requirement already satisfied: jinja2 in /usr/local/lib/python3.11/dist-packages (from nbsphinx>=0.8.8->-r requirements-dev.txt (line 11)) (3.1.6)\n",
            "Requirement already satisfied: traitlets>=5 in /usr/local/lib/python3.11/dist-packages (from nbsphinx>=0.8.8->-r requirements-dev.txt (line 11)) (5.7.1)\n",
            "Requirement already satisfied: sphinxcontrib-jquery in /usr/local/lib/python3.11/dist-packages (from qiskit_sphinx_theme~=1.16.0->-r requirements-dev.txt (line 13)) (4.1)\n",
            "Requirement already satisfied: furo==2024.1.29 in /usr/local/lib/python3.11/dist-packages (from qiskit_sphinx_theme~=1.16.0->-r requirements-dev.txt (line 13)) (2024.1.29)\n",
            "Requirement already satisfied: beautifulsoup4 in /usr/local/lib/python3.11/dist-packages (from furo==2024.1.29->qiskit_sphinx_theme~=1.16.0->-r requirements-dev.txt (line 13)) (4.13.4)\n",
            "Requirement already satisfied: sphinx-basic-ng in /usr/local/lib/python3.11/dist-packages (from furo==2024.1.29->qiskit_sphinx_theme~=1.16.0->-r requirements-dev.txt (line 13)) (1.0.0b2)\n",
            "Requirement already satisfied: pygments>=2.7 in /usr/local/lib/python3.11/dist-packages (from furo==2024.1.29->qiskit_sphinx_theme~=1.16.0->-r requirements-dev.txt (line 13)) (2.19.2)\n",
            "Requirement already satisfied: PyYAML>=5.3.1 in /usr/local/lib/python3.11/dist-packages (from reno>=3.5.0->-r requirements-dev.txt (line 14)) (6.0.2)\n",
            "Requirement already satisfied: dulwich>=0.15.0 in /usr/local/lib/python3.11/dist-packages (from reno>=3.5.0->-r requirements-dev.txt (line 14)) (0.23.2)\n",
            "Requirement already satisfied: pbr in /usr/local/lib/python3.11/dist-packages (from reno>=3.5.0->-r requirements-dev.txt (line 14)) (6.1.1)\n",
            "Requirement already satisfied: click>=8.0.0 in /usr/local/lib/python3.11/dist-packages (from black~=22.1->black[jupyter]~=22.1->-r requirements-dev.txt (line 17)) (8.2.1)\n",
            "Requirement already satisfied: pycodestyle>=2.12.0 in /usr/local/lib/python3.11/dist-packages (from autopep8>=1.5->nbqa>=1.1.1->-r requirements-dev.txt (line 4)) (2.14.0)\n",
            "Requirement already satisfied: urllib3>=1.25 in /usr/local/lib/python3.11/dist-packages (from dulwich>=0.15.0->reno>=3.5.0->-r requirements-dev.txt (line 14)) (2.4.0)\n",
            "Requirement already satisfied: debugpy>=1.0 in /usr/local/lib/python3.11/dist-packages (from ipykernel>=4.5.1->jupyter-sphinx>=0.3.2->-r requirements-dev.txt (line 10)) (1.8.0)\n",
            "Requirement already satisfied: matplotlib-inline>=0.1 in /usr/local/lib/python3.11/dist-packages (from ipykernel>=4.5.1->jupyter-sphinx>=0.3.2->-r requirements-dev.txt (line 10)) (0.1.7)\n",
            "Requirement already satisfied: nest-asyncio in /usr/local/lib/python3.11/dist-packages (from ipykernel>=4.5.1->jupyter-sphinx>=0.3.2->-r requirements-dev.txt (line 10)) (1.6.0)\n",
            "Requirement already satisfied: psutil in /usr/local/lib/python3.11/dist-packages (from ipykernel>=4.5.1->jupyter-sphinx>=0.3.2->-r requirements-dev.txt (line 10)) (5.9.5)\n",
            "Requirement already satisfied: pyzmq>=17 in /usr/local/lib/python3.11/dist-packages (from ipykernel>=4.5.1->jupyter-sphinx>=0.3.2->-r requirements-dev.txt (line 10)) (24.0.1)\n",
            "Requirement already satisfied: tornado>=6.1 in /usr/local/lib/python3.11/dist-packages (from ipykernel>=4.5.1->jupyter-sphinx>=0.3.2->-r requirements-dev.txt (line 10)) (6.4.2)\n",
            "Requirement already satisfied: setuptools>=18.5 in /usr/local/lib/python3.11/dist-packages (from ipython>=7.8.0->nbqa>=1.1.1->-r requirements-dev.txt (line 4)) (75.2.0)\n",
            "Requirement already satisfied: jedi>=0.16 in /usr/local/lib/python3.11/dist-packages (from ipython>=7.8.0->nbqa>=1.1.1->-r requirements-dev.txt (line 4)) (0.19.2)\n",
            "Requirement already satisfied: decorator in /usr/local/lib/python3.11/dist-packages (from ipython>=7.8.0->nbqa>=1.1.1->-r requirements-dev.txt (line 4)) (5.2.1)\n",
            "Requirement already satisfied: pickleshare in /usr/local/lib/python3.11/dist-packages (from ipython>=7.8.0->nbqa>=1.1.1->-r requirements-dev.txt (line 4)) (0.7.5)\n",
            "Requirement already satisfied: prompt-toolkit!=3.0.0,!=3.0.1,<3.1.0,>=2.0.0 in /usr/local/lib/python3.11/dist-packages (from ipython>=7.8.0->nbqa>=1.1.1->-r requirements-dev.txt (line 4)) (3.0.51)\n",
            "Requirement already satisfied: backcall in /usr/local/lib/python3.11/dist-packages (from ipython>=7.8.0->nbqa>=1.1.1->-r requirements-dev.txt (line 4)) (0.2.0)\n",
            "Requirement already satisfied: pexpect>4.3 in /usr/local/lib/python3.11/dist-packages (from ipython>=7.8.0->nbqa>=1.1.1->-r requirements-dev.txt (line 4)) (4.9.0)\n",
            "Requirement already satisfied: ipython-genutils~=0.2.0 in /usr/local/lib/python3.11/dist-packages (from ipywidgets>=7.0.0->jupyter-sphinx>=0.3.2->-r requirements-dev.txt (line 10)) (0.2.0)\n",
            "Requirement already satisfied: widgetsnbextension~=3.6.0 in /usr/local/lib/python3.11/dist-packages (from ipywidgets>=7.0.0->jupyter-sphinx>=0.3.2->-r requirements-dev.txt (line 10)) (3.6.10)\n",
            "Requirement already satisfied: jupyterlab-widgets>=1.0.0 in /usr/local/lib/python3.11/dist-packages (from ipywidgets>=7.0.0->jupyter-sphinx>=0.3.2->-r requirements-dev.txt (line 10)) (3.0.15)\n",
            "Requirement already satisfied: entrypoints in /usr/local/lib/python3.11/dist-packages (from jupyter-client->treon>=0.1.3->-r requirements-dev.txt (line 5)) (0.4)\n",
            "Requirement already satisfied: jupyter-core>=4.9.2 in /usr/local/lib/python3.11/dist-packages (from jupyter-client->treon>=0.1.3->-r requirements-dev.txt (line 5)) (5.8.1)\n",
            "Requirement already satisfied: python-dateutil>=2.8.2 in /usr/local/lib/python3.11/dist-packages (from jupyter-client->treon>=0.1.3->-r requirements-dev.txt (line 5)) (2.9.0.post0)\n",
            "Requirement already satisfied: bleach!=5.0.0 in /usr/local/lib/python3.11/dist-packages (from bleach[css]!=5.0.0->nbconvert->treon>=0.1.3->-r requirements-dev.txt (line 5)) (6.2.0)\n",
            "Requirement already satisfied: defusedxml in /usr/local/lib/python3.11/dist-packages (from nbconvert->treon>=0.1.3->-r requirements-dev.txt (line 5)) (0.7.1)\n",
            "Requirement already satisfied: jupyterlab-pygments in /usr/local/lib/python3.11/dist-packages (from nbconvert->treon>=0.1.3->-r requirements-dev.txt (line 5)) (0.3.0)\n",
            "Requirement already satisfied: markupsafe>=2.0 in /usr/local/lib/python3.11/dist-packages (from nbconvert->treon>=0.1.3->-r requirements-dev.txt (line 5)) (3.0.2)\n",
            "Requirement already satisfied: mistune<4,>=2.0.3 in /usr/local/lib/python3.11/dist-packages (from nbconvert->treon>=0.1.3->-r requirements-dev.txt (line 5)) (3.1.3)\n",
            "Requirement already satisfied: nbclient>=0.5.0 in /usr/local/lib/python3.11/dist-packages (from nbconvert->treon>=0.1.3->-r requirements-dev.txt (line 5)) (0.10.2)\n",
            "Requirement already satisfied: pandocfilters>=1.4.1 in /usr/local/lib/python3.11/dist-packages (from nbconvert->treon>=0.1.3->-r requirements-dev.txt (line 5)) (1.5.1)\n",
            "Requirement already satisfied: fastjsonschema>=2.15 in /usr/local/lib/python3.11/dist-packages (from nbformat->jupyter-sphinx>=0.3.2->-r requirements-dev.txt (line 10)) (2.21.1)\n",
            "Requirement already satisfied: jsonschema>=2.6 in /usr/local/lib/python3.11/dist-packages (from nbformat->jupyter-sphinx>=0.3.2->-r requirements-dev.txt (line 10)) (4.24.0)\n",
            "Requirement already satisfied: rustworkx>=0.15.0 in /usr/local/lib/python3.11/dist-packages (from qiskit>=0.44->qiskit-algorithms>=0.2.2->-r requirements-dev.txt (line 1)) (0.16.0)\n",
            "Requirement already satisfied: sympy>=1.3 in /usr/local/lib/python3.11/dist-packages (from qiskit>=0.44->qiskit-algorithms>=0.2.2->-r requirements-dev.txt (line 1)) (1.13.1)\n",
            "Requirement already satisfied: stevedore>=3.0.0 in /usr/local/lib/python3.11/dist-packages (from qiskit>=0.44->qiskit-algorithms>=0.2.2->-r requirements-dev.txt (line 1)) (5.4.1)\n",
            "Requirement already satisfied: symengine<0.14,>=0.11 in /usr/local/lib/python3.11/dist-packages (from qiskit>=0.44->qiskit-algorithms>=0.2.2->-r requirements-dev.txt (line 1)) (0.13.0)\n",
            "Requirement already satisfied: sphinxcontrib-applehelp in /usr/local/lib/python3.11/dist-packages (from sphinx>=7->jupyter-sphinx>=0.3.2->-r requirements-dev.txt (line 10)) (2.0.0)\n",
            "Requirement already satisfied: sphinxcontrib-devhelp in /usr/local/lib/python3.11/dist-packages (from sphinx>=7->jupyter-sphinx>=0.3.2->-r requirements-dev.txt (line 10)) (2.0.0)\n",
            "Requirement already satisfied: sphinxcontrib-jsmath in /usr/local/lib/python3.11/dist-packages (from sphinx>=7->jupyter-sphinx>=0.3.2->-r requirements-dev.txt (line 10)) (1.0.1)\n",
            "Requirement already satisfied: sphinxcontrib-htmlhelp>=2.0.0 in /usr/local/lib/python3.11/dist-packages (from sphinx>=7->jupyter-sphinx>=0.3.2->-r requirements-dev.txt (line 10)) (2.1.0)\n",
            "Requirement already satisfied: sphinxcontrib-serializinghtml>=1.1.9 in /usr/local/lib/python3.11/dist-packages (from sphinx>=7->jupyter-sphinx>=0.3.2->-r requirements-dev.txt (line 10)) (2.0.0)\n",
            "Requirement already satisfied: sphinxcontrib-qthelp in /usr/local/lib/python3.11/dist-packages (from sphinx>=7->jupyter-sphinx>=0.3.2->-r requirements-dev.txt (line 10)) (2.0.0)\n",
            "Requirement already satisfied: snowballstemmer>=2.2 in /usr/local/lib/python3.11/dist-packages (from sphinx>=7->jupyter-sphinx>=0.3.2->-r requirements-dev.txt (line 10)) (3.0.1)\n",
            "Requirement already satisfied: babel>=2.13 in /usr/local/lib/python3.11/dist-packages (from sphinx>=7->jupyter-sphinx>=0.3.2->-r requirements-dev.txt (line 10)) (2.17.0)\n",
            "Requirement already satisfied: alabaster~=0.7.14 in /usr/local/lib/python3.11/dist-packages (from sphinx>=7->jupyter-sphinx>=0.3.2->-r requirements-dev.txt (line 10)) (0.7.16)\n",
            "Requirement already satisfied: imagesize>=1.3 in /usr/local/lib/python3.11/dist-packages (from sphinx>=7->jupyter-sphinx>=0.3.2->-r requirements-dev.txt (line 10)) (1.4.1)\n",
            "Requirement already satisfied: requests>=2.30.0 in /usr/local/lib/python3.11/dist-packages (from sphinx>=7->jupyter-sphinx>=0.3.2->-r requirements-dev.txt (line 10)) (2.32.3)\n",
            "Requirement already satisfied: distlib<1,>=0.3.7 in /usr/local/lib/python3.11/dist-packages (from virtualenv!=20.0.0,!=20.0.1,!=20.0.2,!=20.0.3,!=20.0.4,!=20.0.5,!=20.0.6,!=20.0.7,>=16.0.0->tox==3.24.5->-r requirements-dev.txt (line 9)) (0.3.9)\n",
            "Requirement already satisfied: notebook in /usr/local/lib/python3.11/dist-packages (from jupyter->treon>=0.1.3->-r requirements-dev.txt (line 5)) (6.5.7)\n",
            "Requirement already satisfied: jupyter-console in /usr/local/lib/python3.11/dist-packages (from jupyter->treon>=0.1.3->-r requirements-dev.txt (line 5)) (6.1.0)\n",
            "Requirement already satisfied: jupyterlab in /usr/local/lib/python3.11/dist-packages (from jupyter->treon>=0.1.3->-r requirements-dev.txt (line 5)) (4.4.4)\n",
            "Requirement already satisfied: webencodings in /usr/local/lib/python3.11/dist-packages (from bleach!=5.0.0->bleach[css]!=5.0.0->nbconvert->treon>=0.1.3->-r requirements-dev.txt (line 5)) (0.5.1)\n",
            "Requirement already satisfied: tinycss2<1.5,>=1.1.0 in /usr/local/lib/python3.11/dist-packages (from bleach[css]!=5.0.0->nbconvert->treon>=0.1.3->-r requirements-dev.txt (line 5)) (1.4.0)\n",
            "Requirement already satisfied: parso<0.9.0,>=0.8.4 in /usr/local/lib/python3.11/dist-packages (from jedi>=0.16->ipython>=7.8.0->nbqa>=1.1.1->-r requirements-dev.txt (line 4)) (0.8.4)\n",
            "Requirement already satisfied: attrs>=22.2.0 in /usr/local/lib/python3.11/dist-packages (from jsonschema>=2.6->nbformat->jupyter-sphinx>=0.3.2->-r requirements-dev.txt (line 10)) (25.3.0)\n",
            "Requirement already satisfied: jsonschema-specifications>=2023.03.6 in /usr/local/lib/python3.11/dist-packages (from jsonschema>=2.6->nbformat->jupyter-sphinx>=0.3.2->-r requirements-dev.txt (line 10)) (2025.4.1)\n",
            "Requirement already satisfied: referencing>=0.28.4 in /usr/local/lib/python3.11/dist-packages (from jsonschema>=2.6->nbformat->jupyter-sphinx>=0.3.2->-r requirements-dev.txt (line 10)) (0.36.2)\n",
            "Requirement already satisfied: rpds-py>=0.7.1 in /usr/local/lib/python3.11/dist-packages (from jsonschema>=2.6->nbformat->jupyter-sphinx>=0.3.2->-r requirements-dev.txt (line 10)) (0.26.0)\n",
            "Requirement already satisfied: ptyprocess>=0.5 in /usr/local/lib/python3.11/dist-packages (from pexpect>4.3->ipython>=7.8.0->nbqa>=1.1.1->-r requirements-dev.txt (line 4)) (0.7.0)\n",
            "Requirement already satisfied: wcwidth in /usr/local/lib/python3.11/dist-packages (from prompt-toolkit!=3.0.0,!=3.0.1,<3.1.0,>=2.0.0->ipython>=7.8.0->nbqa>=1.1.1->-r requirements-dev.txt (line 4)) (0.2.13)\n",
            "Requirement already satisfied: charset-normalizer<4,>=2 in /usr/local/lib/python3.11/dist-packages (from requests>=2.30.0->sphinx>=7->jupyter-sphinx>=0.3.2->-r requirements-dev.txt (line 10)) (3.4.2)\n",
            "Requirement already satisfied: idna<4,>=2.5 in /usr/local/lib/python3.11/dist-packages (from requests>=2.30.0->sphinx>=7->jupyter-sphinx>=0.3.2->-r requirements-dev.txt (line 10)) (3.10)\n",
            "Requirement already satisfied: certifi>=2017.4.17 in /usr/local/lib/python3.11/dist-packages (from requests>=2.30.0->sphinx>=7->jupyter-sphinx>=0.3.2->-r requirements-dev.txt (line 10)) (2025.6.15)\n",
            "Requirement already satisfied: mpmath<1.4,>=1.1.0 in /usr/local/lib/python3.11/dist-packages (from sympy>=1.3->qiskit>=0.44->qiskit-algorithms>=0.2.2->-r requirements-dev.txt (line 1)) (1.3.0)\n",
            "Requirement already satisfied: argon2-cffi in /usr/local/lib/python3.11/dist-packages (from notebook->jupyter->treon>=0.1.3->-r requirements-dev.txt (line 5)) (25.1.0)\n",
            "Requirement already satisfied: Send2Trash>=1.8.0 in /usr/local/lib/python3.11/dist-packages (from notebook->jupyter->treon>=0.1.3->-r requirements-dev.txt (line 5)) (1.8.3)\n",
            "Requirement already satisfied: terminado>=0.8.3 in /usr/local/lib/python3.11/dist-packages (from notebook->jupyter->treon>=0.1.3->-r requirements-dev.txt (line 5)) (0.18.1)\n",
            "Requirement already satisfied: prometheus-client in /usr/local/lib/python3.11/dist-packages (from notebook->jupyter->treon>=0.1.3->-r requirements-dev.txt (line 5)) (0.22.1)\n",
            "Requirement already satisfied: nbclassic>=0.4.7 in /usr/local/lib/python3.11/dist-packages (from notebook->jupyter->treon>=0.1.3->-r requirements-dev.txt (line 5)) (1.3.1)\n",
            "Requirement already satisfied: soupsieve>1.2 in /usr/local/lib/python3.11/dist-packages (from beautifulsoup4->furo==2024.1.29->qiskit_sphinx_theme~=1.16.0->-r requirements-dev.txt (line 13)) (2.7)\n",
            "Requirement already satisfied: async-lru>=1.0.0 in /usr/local/lib/python3.11/dist-packages (from jupyterlab->jupyter->treon>=0.1.3->-r requirements-dev.txt (line 5)) (2.0.5)\n",
            "Requirement already satisfied: httpx>=0.25.0 in /usr/local/lib/python3.11/dist-packages (from jupyterlab->jupyter->treon>=0.1.3->-r requirements-dev.txt (line 5)) (0.28.1)\n",
            "Requirement already satisfied: jupyter-lsp>=2.0.0 in /usr/local/lib/python3.11/dist-packages (from jupyterlab->jupyter->treon>=0.1.3->-r requirements-dev.txt (line 5)) (2.2.5)\n",
            "Requirement already satisfied: jupyter-server<3,>=2.4.0 in /usr/local/lib/python3.11/dist-packages (from jupyterlab->jupyter->treon>=0.1.3->-r requirements-dev.txt (line 5)) (2.16.0)\n",
            "Requirement already satisfied: jupyterlab-server<3,>=2.27.1 in /usr/local/lib/python3.11/dist-packages (from jupyterlab->jupyter->treon>=0.1.3->-r requirements-dev.txt (line 5)) (2.27.3)\n",
            "Requirement already satisfied: notebook-shim>=0.2 in /usr/local/lib/python3.11/dist-packages (from jupyterlab->jupyter->treon>=0.1.3->-r requirements-dev.txt (line 5)) (0.2.4)\n",
            "Requirement already satisfied: anyio in /usr/local/lib/python3.11/dist-packages (from httpx>=0.25.0->jupyterlab->jupyter->treon>=0.1.3->-r requirements-dev.txt (line 5)) (4.9.0)\n",
            "Requirement already satisfied: httpcore==1.* in /usr/local/lib/python3.11/dist-packages (from httpx>=0.25.0->jupyterlab->jupyter->treon>=0.1.3->-r requirements-dev.txt (line 5)) (1.0.9)\n",
            "Requirement already satisfied: h11>=0.16 in /usr/local/lib/python3.11/dist-packages (from httpcore==1.*->httpx>=0.25.0->jupyterlab->jupyter->treon>=0.1.3->-r requirements-dev.txt (line 5)) (0.16.0)\n",
            "Requirement already satisfied: jupyter-events>=0.11.0 in /usr/local/lib/python3.11/dist-packages (from jupyter-server<3,>=2.4.0->jupyterlab->jupyter->treon>=0.1.3->-r requirements-dev.txt (line 5)) (0.12.0)\n",
            "Requirement already satisfied: jupyter-server-terminals>=0.4.4 in /usr/local/lib/python3.11/dist-packages (from jupyter-server<3,>=2.4.0->jupyterlab->jupyter->treon>=0.1.3->-r requirements-dev.txt (line 5)) (0.5.3)\n",
            "Requirement already satisfied: overrides>=5.0 in /usr/local/lib/python3.11/dist-packages (from jupyter-server<3,>=2.4.0->jupyterlab->jupyter->treon>=0.1.3->-r requirements-dev.txt (line 5)) (7.7.0)\n",
            "Requirement already satisfied: websocket-client>=1.7 in /usr/local/lib/python3.11/dist-packages (from jupyter-server<3,>=2.4.0->jupyterlab->jupyter->treon>=0.1.3->-r requirements-dev.txt (line 5)) (1.8.0)\n",
            "Requirement already satisfied: argon2-cffi-bindings in /usr/local/lib/python3.11/dist-packages (from argon2-cffi->notebook->jupyter->treon>=0.1.3->-r requirements-dev.txt (line 5)) (21.2.0)\n",
            "Requirement already satisfied: json5>=0.9.0 in /usr/local/lib/python3.11/dist-packages (from jupyterlab-server<3,>=2.27.1->jupyterlab->jupyter->treon>=0.1.3->-r requirements-dev.txt (line 5)) (0.12.0)\n",
            "Requirement already satisfied: sniffio>=1.1 in /usr/local/lib/python3.11/dist-packages (from anyio->httpx>=0.25.0->jupyterlab->jupyter->treon>=0.1.3->-r requirements-dev.txt (line 5)) (1.3.1)\n",
            "Requirement already satisfied: python-json-logger>=2.0.4 in /usr/local/lib/python3.11/dist-packages (from jupyter-events>=0.11.0->jupyter-server<3,>=2.4.0->jupyterlab->jupyter->treon>=0.1.3->-r requirements-dev.txt (line 5)) (3.3.0)\n",
            "Requirement already satisfied: rfc3339-validator in /usr/local/lib/python3.11/dist-packages (from jupyter-events>=0.11.0->jupyter-server<3,>=2.4.0->jupyterlab->jupyter->treon>=0.1.3->-r requirements-dev.txt (line 5)) (0.1.4)\n",
            "Requirement already satisfied: rfc3986-validator>=0.1.1 in /usr/local/lib/python3.11/dist-packages (from jupyter-events>=0.11.0->jupyter-server<3,>=2.4.0->jupyterlab->jupyter->treon>=0.1.3->-r requirements-dev.txt (line 5)) (0.1.1)\n",
            "Requirement already satisfied: cffi>=1.0.1 in /usr/local/lib/python3.11/dist-packages (from argon2-cffi-bindings->argon2-cffi->notebook->jupyter->treon>=0.1.3->-r requirements-dev.txt (line 5)) (1.17.1)\n",
            "Requirement already satisfied: pycparser in /usr/local/lib/python3.11/dist-packages (from cffi>=1.0.1->argon2-cffi-bindings->argon2-cffi->notebook->jupyter->treon>=0.1.3->-r requirements-dev.txt (line 5)) (2.22)\n",
            "Requirement already satisfied: fqdn in /usr/local/lib/python3.11/dist-packages (from jsonschema[format-nongpl]>=4.18.0->jupyter-events>=0.11.0->jupyter-server<3,>=2.4.0->jupyterlab->jupyter->treon>=0.1.3->-r requirements-dev.txt (line 5)) (1.5.1)\n",
            "Requirement already satisfied: isoduration in /usr/local/lib/python3.11/dist-packages (from jsonschema[format-nongpl]>=4.18.0->jupyter-events>=0.11.0->jupyter-server<3,>=2.4.0->jupyterlab->jupyter->treon>=0.1.3->-r requirements-dev.txt (line 5)) (20.11.0)\n",
            "Requirement already satisfied: jsonpointer>1.13 in /usr/local/lib/python3.11/dist-packages (from jsonschema[format-nongpl]>=4.18.0->jupyter-events>=0.11.0->jupyter-server<3,>=2.4.0->jupyterlab->jupyter->treon>=0.1.3->-r requirements-dev.txt (line 5)) (3.0.0)\n",
            "Requirement already satisfied: uri-template in /usr/local/lib/python3.11/dist-packages (from jsonschema[format-nongpl]>=4.18.0->jupyter-events>=0.11.0->jupyter-server<3,>=2.4.0->jupyterlab->jupyter->treon>=0.1.3->-r requirements-dev.txt (line 5)) (1.3.0)\n",
            "Requirement already satisfied: webcolors>=24.6.0 in /usr/local/lib/python3.11/dist-packages (from jsonschema[format-nongpl]>=4.18.0->jupyter-events>=0.11.0->jupyter-server<3,>=2.4.0->jupyterlab->jupyter->treon>=0.1.3->-r requirements-dev.txt (line 5)) (24.11.1)\n",
            "Requirement already satisfied: arrow>=0.15.0 in /usr/local/lib/python3.11/dist-packages (from isoduration->jsonschema[format-nongpl]>=4.18.0->jupyter-events>=0.11.0->jupyter-server<3,>=2.4.0->jupyterlab->jupyter->treon>=0.1.3->-r requirements-dev.txt (line 5)) (1.3.0)\n",
            "Requirement already satisfied: types-python-dateutil>=2.8.10 in /usr/local/lib/python3.11/dist-packages (from arrow>=0.15.0->isoduration->jsonschema[format-nongpl]>=4.18.0->jupyter-events>=0.11.0->jupyter-server<3,>=2.4.0->jupyterlab->jupyter->treon>=0.1.3->-r requirements-dev.txt (line 5)) (2.9.0.20250708)\n",
            "Requirement already satisfied: certifi>=2021.5.30 in /usr/local/lib/python3.11/dist-packages (from -r requirements.txt (line 1)) (2025.6.15)\n",
            "Requirement already satisfied: qiskit<2.0,>=0.34.2 in /usr/local/lib/python3.11/dist-packages (from -r requirements.txt (line 2)) (1.4.3)\n",
            "Requirement already satisfied: qiskit-ionq>=0.5.2 in /usr/local/lib/python3.11/dist-packages (from -r requirements.txt (line 3)) (0.5.13)\n",
            "Requirement already satisfied: amazon-braket-sdk>=1.76.0 in /usr/local/lib/python3.11/dist-packages (from -r requirements.txt (line 4)) (1.76.0)\n",
            "Requirement already satisfied: setuptools>=40.1.0 in /usr/local/lib/python3.11/dist-packages (from -r requirements.txt (line 6)) (75.2.0)\n",
            "Requirement already satisfied: numpy>=1.3 in /usr/local/lib/python3.11/dist-packages (from -r requirements.txt (line 7)) (1.26.4)\n",
            "Requirement already satisfied: rustworkx>=0.15.0 in /usr/local/lib/python3.11/dist-packages (from qiskit<2.0,>=0.34.2->-r requirements.txt (line 2)) (0.16.0)\n",
            "Requirement already satisfied: scipy>=1.5 in /usr/local/lib/python3.11/dist-packages (from qiskit<2.0,>=0.34.2->-r requirements.txt (line 2)) (1.15.3)\n",
            "Requirement already satisfied: sympy>=1.3 in /usr/local/lib/python3.11/dist-packages (from qiskit<2.0,>=0.34.2->-r requirements.txt (line 2)) (1.13.1)\n",
            "Requirement already satisfied: dill>=0.3 in /usr/local/lib/python3.11/dist-packages (from qiskit<2.0,>=0.34.2->-r requirements.txt (line 2)) (0.3.7)\n",
            "Requirement already satisfied: python-dateutil>=2.8.0 in /usr/local/lib/python3.11/dist-packages (from qiskit<2.0,>=0.34.2->-r requirements.txt (line 2)) (2.9.0.post0)\n",
            "Requirement already satisfied: stevedore>=3.0.0 in /usr/local/lib/python3.11/dist-packages (from qiskit<2.0,>=0.34.2->-r requirements.txt (line 2)) (5.4.1)\n",
            "Requirement already satisfied: typing-extensions in /usr/local/lib/python3.11/dist-packages (from qiskit<2.0,>=0.34.2->-r requirements.txt (line 2)) (4.14.0)\n",
            "Requirement already satisfied: symengine<0.14,>=0.11 in /usr/local/lib/python3.11/dist-packages (from qiskit<2.0,>=0.34.2->-r requirements.txt (line 2)) (0.13.0)\n",
            "Requirement already satisfied: decorator>=5.1.0 in /usr/local/lib/python3.11/dist-packages (from qiskit-ionq>=0.5.2->-r requirements.txt (line 3)) (5.2.1)\n",
            "Requirement already satisfied: requests>=2.24.0 in /usr/local/lib/python3.11/dist-packages (from qiskit-ionq>=0.5.2->-r requirements.txt (line 3)) (2.32.3)\n",
            "Requirement already satisfied: importlib-metadata>=4.11.4 in /usr/local/lib/python3.11/dist-packages (from qiskit-ionq>=0.5.2->-r requirements.txt (line 3)) (8.7.0)\n",
            "Requirement already satisfied: python-dotenv>=1.0.1 in /usr/local/lib/python3.11/dist-packages (from qiskit-ionq>=0.5.2->-r requirements.txt (line 3)) (1.1.1)\n",
            "Requirement already satisfied: amazon-braket-schemas>=1.21.0 in /usr/local/lib/python3.11/dist-packages (from amazon-braket-sdk>=1.76.0->-r requirements.txt (line 4)) (1.24.2)\n",
            "Requirement already satisfied: amazon-braket-default-simulator>=1.21.2 in /usr/local/lib/python3.11/dist-packages (from amazon-braket-sdk>=1.76.0->-r requirements.txt (line 4)) (1.26.7)\n",
            "Requirement already satisfied: oqpy~=0.3.5 in /usr/local/lib/python3.11/dist-packages (from amazon-braket-sdk>=1.76.0->-r requirements.txt (line 4)) (0.3.7)\n",
            "Requirement already satisfied: backoff in /usr/local/lib/python3.11/dist-packages (from amazon-braket-sdk>=1.76.0->-r requirements.txt (line 4)) (2.2.1)\n",
            "Requirement already satisfied: boltons in /usr/local/lib/python3.11/dist-packages (from amazon-braket-sdk>=1.76.0->-r requirements.txt (line 4)) (25.0.0)\n",
            "Requirement already satisfied: boto3>=1.28.53 in /usr/local/lib/python3.11/dist-packages (from amazon-braket-sdk>=1.76.0->-r requirements.txt (line 4)) (1.39.3)\n",
            "Requirement already satisfied: cloudpickle==2.2.1 in /usr/local/lib/python3.11/dist-packages (from amazon-braket-sdk>=1.76.0->-r requirements.txt (line 4)) (2.2.1)\n",
            "Requirement already satisfied: nest-asyncio in /usr/local/lib/python3.11/dist-packages (from amazon-braket-sdk>=1.76.0->-r requirements.txt (line 4)) (1.6.0)\n",
            "Requirement already satisfied: networkx in /usr/local/lib/python3.11/dist-packages (from amazon-braket-sdk>=1.76.0->-r requirements.txt (line 4)) (3.5)\n",
            "Requirement already satisfied: openpulse in /usr/local/lib/python3.11/dist-packages (from amazon-braket-sdk>=1.76.0->-r requirements.txt (line 4)) (1.0.1)\n",
            "Requirement already satisfied: openqasm3 in /usr/local/lib/python3.11/dist-packages (from amazon-braket-sdk>=1.76.0->-r requirements.txt (line 4)) (1.0.1)\n",
            "Requirement already satisfied: opt_einsum in /usr/local/lib/python3.11/dist-packages (from amazon-braket-default-simulator>=1.21.2->amazon-braket-sdk>=1.76.0->-r requirements.txt (line 4)) (3.4.0)\n",
            "Requirement already satisfied: pydantic>2 in /usr/local/lib/python3.11/dist-packages (from amazon-braket-default-simulator>=1.21.2->amazon-braket-sdk>=1.76.0->-r requirements.txt (line 4)) (2.11.7)\n",
            "Requirement already satisfied: antlr4-python3-runtime==4.9.2 in /usr/local/lib/python3.11/dist-packages (from amazon-braket-default-simulator>=1.21.2->amazon-braket-sdk>=1.76.0->-r requirements.txt (line 4)) (4.9.2)\n",
            "Requirement already satisfied: botocore<1.40.0,>=1.39.3 in /usr/local/lib/python3.11/dist-packages (from boto3>=1.28.53->amazon-braket-sdk>=1.76.0->-r requirements.txt (line 4)) (1.39.3)\n",
            "Requirement already satisfied: jmespath<2.0.0,>=0.7.1 in /usr/local/lib/python3.11/dist-packages (from boto3>=1.28.53->amazon-braket-sdk>=1.76.0->-r requirements.txt (line 4)) (1.0.1)\n",
            "Requirement already satisfied: s3transfer<0.14.0,>=0.13.0 in /usr/local/lib/python3.11/dist-packages (from boto3>=1.28.53->amazon-braket-sdk>=1.76.0->-r requirements.txt (line 4)) (0.13.0)\n",
            "Requirement already satisfied: zipp>=3.20 in /usr/local/lib/python3.11/dist-packages (from importlib-metadata>=4.11.4->qiskit-ionq>=0.5.2->-r requirements.txt (line 3)) (3.23.0)\n",
            "Requirement already satisfied: mypy-extensions>=0.2.0 in /usr/local/lib/python3.11/dist-packages (from oqpy~=0.3.5->amazon-braket-sdk>=1.76.0->-r requirements.txt (line 4)) (1.1.0)\n",
            "Requirement already satisfied: six>=1.5 in /usr/local/lib/python3.11/dist-packages (from python-dateutil>=2.8.0->qiskit<2.0,>=0.34.2->-r requirements.txt (line 2)) (1.17.0)\n",
            "Requirement already satisfied: charset-normalizer<4,>=2 in /usr/local/lib/python3.11/dist-packages (from requests>=2.24.0->qiskit-ionq>=0.5.2->-r requirements.txt (line 3)) (3.4.2)\n",
            "Requirement already satisfied: idna<4,>=2.5 in /usr/local/lib/python3.11/dist-packages (from requests>=2.24.0->qiskit-ionq>=0.5.2->-r requirements.txt (line 3)) (3.10)\n",
            "Requirement already satisfied: urllib3<3,>=1.21.1 in /usr/local/lib/python3.11/dist-packages (from requests>=2.24.0->qiskit-ionq>=0.5.2->-r requirements.txt (line 3)) (2.4.0)\n",
            "Requirement already satisfied: pbr>=2.0.0 in /usr/local/lib/python3.11/dist-packages (from stevedore>=3.0.0->qiskit<2.0,>=0.34.2->-r requirements.txt (line 2)) (6.1.1)\n",
            "Requirement already satisfied: mpmath<1.4,>=1.1.0 in /usr/local/lib/python3.11/dist-packages (from sympy>=1.3->qiskit<2.0,>=0.34.2->-r requirements.txt (line 2)) (1.3.0)\n",
            "Requirement already satisfied: annotated-types>=0.6.0 in /usr/local/lib/python3.11/dist-packages (from pydantic>2->amazon-braket-default-simulator>=1.21.2->amazon-braket-sdk>=1.76.0->-r requirements.txt (line 4)) (0.7.0)\n",
            "Requirement already satisfied: pydantic-core==2.33.2 in /usr/local/lib/python3.11/dist-packages (from pydantic>2->amazon-braket-default-simulator>=1.21.2->amazon-braket-sdk>=1.76.0->-r requirements.txt (line 4)) (2.33.2)\n",
            "Requirement already satisfied: typing-inspection>=0.4.0 in /usr/local/lib/python3.11/dist-packages (from pydantic>2->amazon-braket-default-simulator>=1.21.2->amazon-braket-sdk>=1.76.0->-r requirements.txt (line 4)) (0.4.1)\n"
          ]
        }
      ]
    },
    {
      "cell_type": "code",
      "execution_count": 9,
      "metadata": {
        "colab": {
          "base_uri": "https://localhost:8080/",
          "height": 1000
        },
        "id": "7SvhhzmlRgZ9",
        "outputId": "e374630e-238e-4c4d-e462-79e7069fa4f5"
      },
      "outputs": [
        {
          "output_type": "stream",
          "name": "stdout",
          "text": [
            "Requirement already satisfied: qiskit-braket-provider==0.4.6 in /usr/local/lib/python3.11/dist-packages (0.4.6)\n",
            "Requirement already satisfied: certifi>=2021.5.30 in /usr/local/lib/python3.11/dist-packages (from qiskit-braket-provider==0.4.6) (2025.6.15)\n",
            "Requirement already satisfied: qiskit<2.0,>=0.34.2 in /usr/local/lib/python3.11/dist-packages (from qiskit-braket-provider==0.4.6) (1.4.3)\n",
            "Requirement already satisfied: qiskit-ionq>=0.5.2 in /usr/local/lib/python3.11/dist-packages (from qiskit-braket-provider==0.4.6) (0.5.13)\n",
            "Requirement already satisfied: amazon-braket-sdk>=1.76.0 in /usr/local/lib/python3.11/dist-packages (from qiskit-braket-provider==0.4.6) (1.76.0)\n",
            "Requirement already satisfied: setuptools>=40.1.0 in /usr/local/lib/python3.11/dist-packages (from qiskit-braket-provider==0.4.6) (75.2.0)\n",
            "Requirement already satisfied: numpy>=1.3 in /usr/local/lib/python3.11/dist-packages (from qiskit-braket-provider==0.4.6) (1.26.4)\n",
            "Requirement already satisfied: amazon-braket-schemas>=1.21.0 in /usr/local/lib/python3.11/dist-packages (from amazon-braket-sdk>=1.76.0->qiskit-braket-provider==0.4.6) (1.24.2)\n",
            "Requirement already satisfied: amazon-braket-default-simulator>=1.21.2 in /usr/local/lib/python3.11/dist-packages (from amazon-braket-sdk>=1.76.0->qiskit-braket-provider==0.4.6) (1.26.7)\n",
            "Requirement already satisfied: oqpy~=0.3.5 in /usr/local/lib/python3.11/dist-packages (from amazon-braket-sdk>=1.76.0->qiskit-braket-provider==0.4.6) (0.3.7)\n",
            "Requirement already satisfied: backoff in /usr/local/lib/python3.11/dist-packages (from amazon-braket-sdk>=1.76.0->qiskit-braket-provider==0.4.6) (2.2.1)\n",
            "Requirement already satisfied: boltons in /usr/local/lib/python3.11/dist-packages (from amazon-braket-sdk>=1.76.0->qiskit-braket-provider==0.4.6) (25.0.0)\n",
            "Requirement already satisfied: boto3>=1.28.53 in /usr/local/lib/python3.11/dist-packages (from amazon-braket-sdk>=1.76.0->qiskit-braket-provider==0.4.6) (1.39.3)\n",
            "Requirement already satisfied: cloudpickle==2.2.1 in /usr/local/lib/python3.11/dist-packages (from amazon-braket-sdk>=1.76.0->qiskit-braket-provider==0.4.6) (2.2.1)\n",
            "Requirement already satisfied: nest-asyncio in /usr/local/lib/python3.11/dist-packages (from amazon-braket-sdk>=1.76.0->qiskit-braket-provider==0.4.6) (1.6.0)\n",
            "Requirement already satisfied: networkx in /usr/local/lib/python3.11/dist-packages (from amazon-braket-sdk>=1.76.0->qiskit-braket-provider==0.4.6) (3.5)\n",
            "Requirement already satisfied: openpulse in /usr/local/lib/python3.11/dist-packages (from amazon-braket-sdk>=1.76.0->qiskit-braket-provider==0.4.6) (1.0.1)\n",
            "Requirement already satisfied: openqasm3 in /usr/local/lib/python3.11/dist-packages (from amazon-braket-sdk>=1.76.0->qiskit-braket-provider==0.4.6) (1.0.1)\n",
            "Requirement already satisfied: sympy in /usr/local/lib/python3.11/dist-packages (from amazon-braket-sdk>=1.76.0->qiskit-braket-provider==0.4.6) (1.13.1)\n",
            "Requirement already satisfied: rustworkx>=0.15.0 in /usr/local/lib/python3.11/dist-packages (from qiskit<2.0,>=0.34.2->qiskit-braket-provider==0.4.6) (0.16.0)\n",
            "Requirement already satisfied: scipy>=1.5 in /usr/local/lib/python3.11/dist-packages (from qiskit<2.0,>=0.34.2->qiskit-braket-provider==0.4.6) (1.15.3)\n",
            "Requirement already satisfied: dill>=0.3 in /usr/local/lib/python3.11/dist-packages (from qiskit<2.0,>=0.34.2->qiskit-braket-provider==0.4.6) (0.3.7)\n",
            "Requirement already satisfied: python-dateutil>=2.8.0 in /usr/local/lib/python3.11/dist-packages (from qiskit<2.0,>=0.34.2->qiskit-braket-provider==0.4.6) (2.9.0.post0)\n",
            "Requirement already satisfied: stevedore>=3.0.0 in /usr/local/lib/python3.11/dist-packages (from qiskit<2.0,>=0.34.2->qiskit-braket-provider==0.4.6) (5.4.1)\n",
            "Requirement already satisfied: typing-extensions in /usr/local/lib/python3.11/dist-packages (from qiskit<2.0,>=0.34.2->qiskit-braket-provider==0.4.6) (4.14.0)\n",
            "Requirement already satisfied: symengine<0.14,>=0.11 in /usr/local/lib/python3.11/dist-packages (from qiskit<2.0,>=0.34.2->qiskit-braket-provider==0.4.6) (0.13.0)\n",
            "Requirement already satisfied: decorator>=5.1.0 in /usr/local/lib/python3.11/dist-packages (from qiskit-ionq>=0.5.2->qiskit-braket-provider==0.4.6) (5.2.1)\n",
            "Requirement already satisfied: requests>=2.24.0 in /usr/local/lib/python3.11/dist-packages (from qiskit-ionq>=0.5.2->qiskit-braket-provider==0.4.6) (2.32.3)\n",
            "Requirement already satisfied: importlib-metadata>=4.11.4 in /usr/local/lib/python3.11/dist-packages (from qiskit-ionq>=0.5.2->qiskit-braket-provider==0.4.6) (8.7.0)\n",
            "Requirement already satisfied: python-dotenv>=1.0.1 in /usr/local/lib/python3.11/dist-packages (from qiskit-ionq>=0.5.2->qiskit-braket-provider==0.4.6) (1.1.1)\n",
            "Requirement already satisfied: opt_einsum in /usr/local/lib/python3.11/dist-packages (from amazon-braket-default-simulator>=1.21.2->amazon-braket-sdk>=1.76.0->qiskit-braket-provider==0.4.6) (3.4.0)\n",
            "Requirement already satisfied: pydantic>2 in /usr/local/lib/python3.11/dist-packages (from amazon-braket-default-simulator>=1.21.2->amazon-braket-sdk>=1.76.0->qiskit-braket-provider==0.4.6) (2.11.7)\n",
            "Requirement already satisfied: antlr4-python3-runtime==4.9.2 in /usr/local/lib/python3.11/dist-packages (from amazon-braket-default-simulator>=1.21.2->amazon-braket-sdk>=1.76.0->qiskit-braket-provider==0.4.6) (4.9.2)\n",
            "Requirement already satisfied: botocore<1.40.0,>=1.39.3 in /usr/local/lib/python3.11/dist-packages (from boto3>=1.28.53->amazon-braket-sdk>=1.76.0->qiskit-braket-provider==0.4.6) (1.39.3)\n",
            "Requirement already satisfied: jmespath<2.0.0,>=0.7.1 in /usr/local/lib/python3.11/dist-packages (from boto3>=1.28.53->amazon-braket-sdk>=1.76.0->qiskit-braket-provider==0.4.6) (1.0.1)\n",
            "Requirement already satisfied: s3transfer<0.14.0,>=0.13.0 in /usr/local/lib/python3.11/dist-packages (from boto3>=1.28.53->amazon-braket-sdk>=1.76.0->qiskit-braket-provider==0.4.6) (0.13.0)\n",
            "Requirement already satisfied: zipp>=3.20 in /usr/local/lib/python3.11/dist-packages (from importlib-metadata>=4.11.4->qiskit-ionq>=0.5.2->qiskit-braket-provider==0.4.6) (3.23.0)\n",
            "Requirement already satisfied: mypy-extensions>=0.2.0 in /usr/local/lib/python3.11/dist-packages (from oqpy~=0.3.5->amazon-braket-sdk>=1.76.0->qiskit-braket-provider==0.4.6) (1.1.0)\n",
            "Requirement already satisfied: six>=1.5 in /usr/local/lib/python3.11/dist-packages (from python-dateutil>=2.8.0->qiskit<2.0,>=0.34.2->qiskit-braket-provider==0.4.6) (1.17.0)\n",
            "Requirement already satisfied: charset-normalizer<4,>=2 in /usr/local/lib/python3.11/dist-packages (from requests>=2.24.0->qiskit-ionq>=0.5.2->qiskit-braket-provider==0.4.6) (3.4.2)\n",
            "Requirement already satisfied: idna<4,>=2.5 in /usr/local/lib/python3.11/dist-packages (from requests>=2.24.0->qiskit-ionq>=0.5.2->qiskit-braket-provider==0.4.6) (3.10)\n",
            "Requirement already satisfied: urllib3<3,>=1.21.1 in /usr/local/lib/python3.11/dist-packages (from requests>=2.24.0->qiskit-ionq>=0.5.2->qiskit-braket-provider==0.4.6) (2.4.0)\n",
            "Requirement already satisfied: pbr>=2.0.0 in /usr/local/lib/python3.11/dist-packages (from stevedore>=3.0.0->qiskit<2.0,>=0.34.2->qiskit-braket-provider==0.4.6) (6.1.1)\n",
            "Requirement already satisfied: mpmath<1.4,>=1.1.0 in /usr/local/lib/python3.11/dist-packages (from sympy->amazon-braket-sdk>=1.76.0->qiskit-braket-provider==0.4.6) (1.3.0)\n",
            "Requirement already satisfied: annotated-types>=0.6.0 in /usr/local/lib/python3.11/dist-packages (from pydantic>2->amazon-braket-default-simulator>=1.21.2->amazon-braket-sdk>=1.76.0->qiskit-braket-provider==0.4.6) (0.7.0)\n",
            "Requirement already satisfied: pydantic-core==2.33.2 in /usr/local/lib/python3.11/dist-packages (from pydantic>2->amazon-braket-default-simulator>=1.21.2->amazon-braket-sdk>=1.76.0->qiskit-braket-provider==0.4.6) (2.33.2)\n",
            "Requirement already satisfied: typing-inspection>=0.4.0 in /usr/local/lib/python3.11/dist-packages (from pydantic>2->amazon-braket-default-simulator>=1.21.2->amazon-braket-sdk>=1.76.0->qiskit-braket-provider==0.4.6) (0.4.1)\n",
            "Collecting amazon-braket-sdk==1.94.0\n",
            "  Using cached amazon_braket_sdk-1.94.0-py3-none-any.whl.metadata (14 kB)\n",
            "Requirement already satisfied: amazon-braket-schemas>=1.23.0 in /usr/local/lib/python3.11/dist-packages (from amazon-braket-sdk==1.94.0) (1.24.2)\n",
            "Requirement already satisfied: amazon-braket-default-simulator>=1.26.0 in /usr/local/lib/python3.11/dist-packages (from amazon-braket-sdk==1.94.0) (1.26.7)\n",
            "Requirement already satisfied: oqpy~=0.3.5 in /usr/local/lib/python3.11/dist-packages (from amazon-braket-sdk==1.94.0) (0.3.7)\n",
            "Requirement already satisfied: backoff in /usr/local/lib/python3.11/dist-packages (from amazon-braket-sdk==1.94.0) (2.2.1)\n",
            "Requirement already satisfied: boltons in /usr/local/lib/python3.11/dist-packages (from amazon-braket-sdk==1.94.0) (25.0.0)\n",
            "Requirement already satisfied: boto3>=1.28.53 in /usr/local/lib/python3.11/dist-packages (from amazon-braket-sdk==1.94.0) (1.39.3)\n",
            "Requirement already satisfied: cloudpickle==2.2.1 in /usr/local/lib/python3.11/dist-packages (from amazon-braket-sdk==1.94.0) (2.2.1)\n",
            "Requirement already satisfied: nest-asyncio in /usr/local/lib/python3.11/dist-packages (from amazon-braket-sdk==1.94.0) (1.6.0)\n",
            "Requirement already satisfied: networkx in /usr/local/lib/python3.11/dist-packages (from amazon-braket-sdk==1.94.0) (3.5)\n",
            "Requirement already satisfied: numpy in /usr/local/lib/python3.11/dist-packages (from amazon-braket-sdk==1.94.0) (1.26.4)\n",
            "Requirement already satisfied: openpulse in /usr/local/lib/python3.11/dist-packages (from amazon-braket-sdk==1.94.0) (1.0.1)\n",
            "Requirement already satisfied: openqasm3 in /usr/local/lib/python3.11/dist-packages (from amazon-braket-sdk==1.94.0) (1.0.1)\n",
            "Requirement already satisfied: sympy in /usr/local/lib/python3.11/dist-packages (from amazon-braket-sdk==1.94.0) (1.13.1)\n",
            "Requirement already satisfied: backports.entry-points-selectable in /usr/local/lib/python3.11/dist-packages (from amazon-braket-sdk==1.94.0) (1.3.0)\n",
            "Requirement already satisfied: opt_einsum in /usr/local/lib/python3.11/dist-packages (from amazon-braket-default-simulator>=1.26.0->amazon-braket-sdk==1.94.0) (3.4.0)\n",
            "Requirement already satisfied: pydantic>2 in /usr/local/lib/python3.11/dist-packages (from amazon-braket-default-simulator>=1.26.0->amazon-braket-sdk==1.94.0) (2.11.7)\n",
            "Requirement already satisfied: scipy in /usr/local/lib/python3.11/dist-packages (from amazon-braket-default-simulator>=1.26.0->amazon-braket-sdk==1.94.0) (1.15.3)\n",
            "Requirement already satisfied: antlr4-python3-runtime==4.9.2 in /usr/local/lib/python3.11/dist-packages (from amazon-braket-default-simulator>=1.26.0->amazon-braket-sdk==1.94.0) (4.9.2)\n",
            "Requirement already satisfied: botocore<1.40.0,>=1.39.3 in /usr/local/lib/python3.11/dist-packages (from boto3>=1.28.53->amazon-braket-sdk==1.94.0) (1.39.3)\n",
            "Requirement already satisfied: jmespath<2.0.0,>=0.7.1 in /usr/local/lib/python3.11/dist-packages (from boto3>=1.28.53->amazon-braket-sdk==1.94.0) (1.0.1)\n",
            "Requirement already satisfied: s3transfer<0.14.0,>=0.13.0 in /usr/local/lib/python3.11/dist-packages (from boto3>=1.28.53->amazon-braket-sdk==1.94.0) (0.13.0)\n",
            "Requirement already satisfied: mypy-extensions>=0.2.0 in /usr/local/lib/python3.11/dist-packages (from oqpy~=0.3.5->amazon-braket-sdk==1.94.0) (1.1.0)\n",
            "Requirement already satisfied: mpmath<1.4,>=1.1.0 in /usr/local/lib/python3.11/dist-packages (from sympy->amazon-braket-sdk==1.94.0) (1.3.0)\n",
            "Requirement already satisfied: python-dateutil<3.0.0,>=2.1 in /usr/local/lib/python3.11/dist-packages (from botocore<1.40.0,>=1.39.3->boto3>=1.28.53->amazon-braket-sdk==1.94.0) (2.9.0.post0)\n",
            "Requirement already satisfied: urllib3!=2.2.0,<3,>=1.25.4 in /usr/local/lib/python3.11/dist-packages (from botocore<1.40.0,>=1.39.3->boto3>=1.28.53->amazon-braket-sdk==1.94.0) (2.4.0)\n",
            "Requirement already satisfied: annotated-types>=0.6.0 in /usr/local/lib/python3.11/dist-packages (from pydantic>2->amazon-braket-default-simulator>=1.26.0->amazon-braket-sdk==1.94.0) (0.7.0)\n",
            "Requirement already satisfied: pydantic-core==2.33.2 in /usr/local/lib/python3.11/dist-packages (from pydantic>2->amazon-braket-default-simulator>=1.26.0->amazon-braket-sdk==1.94.0) (2.33.2)\n",
            "Requirement already satisfied: typing-extensions>=4.12.2 in /usr/local/lib/python3.11/dist-packages (from pydantic>2->amazon-braket-default-simulator>=1.26.0->amazon-braket-sdk==1.94.0) (4.14.0)\n",
            "Requirement already satisfied: typing-inspection>=0.4.0 in /usr/local/lib/python3.11/dist-packages (from pydantic>2->amazon-braket-default-simulator>=1.26.0->amazon-braket-sdk==1.94.0) (0.4.1)\n",
            "Requirement already satisfied: six>=1.5 in /usr/local/lib/python3.11/dist-packages (from python-dateutil<3.0.0,>=2.1->botocore<1.40.0,>=1.39.3->boto3>=1.28.53->amazon-braket-sdk==1.94.0) (1.17.0)\n",
            "Using cached amazon_braket_sdk-1.94.0-py3-none-any.whl (327 kB)\n",
            "Installing collected packages: amazon-braket-sdk\n",
            "  Attempting uninstall: amazon-braket-sdk\n",
            "    Found existing installation: amazon-braket-sdk 1.76.0\n",
            "    Uninstalling amazon-braket-sdk-1.76.0:\n",
            "      Successfully uninstalled amazon-braket-sdk-1.76.0\n",
            "Successfully installed amazon-braket-sdk-1.94.0\n"
          ]
        },
        {
          "output_type": "display_data",
          "data": {
            "application/vnd.colab-display-data+json": {
              "pip_warning": {
                "packages": [
                  "braket"
                ]
              },
              "id": "0c5e6a693c7348ad8dadacd549f3036d"
            }
          },
          "metadata": {}
        }
      ],
      "source": [
        "#!pip install qiskit[visualization]==1.4.3\n",
        "!pip install qiskit-braket-provider==0.4.6\n",
        "#!pip install amazon-braket-sdk==1.76.0\n",
        "!pip install amazon-braket-sdk==1.94.0\n",
        "#!python3 -m pip install boto3\n",
        "#!python3 -m pip install botocore"
      ]
    },
    {
      "cell_type": "code",
      "source": [
        "%pip show qiskit\n",
        "%pip show qiskit-braket-provider\n",
        "%pip show amazon-braket-sdk"
      ],
      "metadata": {
        "colab": {
          "base_uri": "https://localhost:8080/"
        },
        "id": "ln8M8X8_Ns0m",
        "outputId": "4b9a0373-5585-48ee-bf94-67dd81b57665"
      },
      "execution_count": 1,
      "outputs": [
        {
          "output_type": "stream",
          "name": "stdout",
          "text": [
            "Name: qiskit\n",
            "Version: 1.4.3\n",
            "Summary: An open-source SDK for working with quantum computers at the level of extended quantum circuits, operators, and primitives.\n",
            "Home-page: https://www.ibm.com/quantum/qiskit\n",
            "Author: \n",
            "Author-email: Qiskit Development Team <qiskit@us.ibm.com>\n",
            "License: Apache 2.0\n",
            "Location: /usr/local/lib/python3.11/dist-packages\n",
            "Requires: dill, numpy, python-dateutil, rustworkx, scipy, stevedore, symengine, sympy, typing-extensions\n",
            "Required-by: qiskit-algorithms, qiskit-braket-provider, qiskit-ionq\n",
            "Name: qiskit-braket-provider\n",
            "Version: 0.4.6\n",
            "Summary: Qiskit-Braket provider to execute Qiskit programs on AWS quantum computing hardware devices through Amazon Braket.\n",
            "Home-page: UNKNOWN\n",
            "Author: \n",
            "Author-email: \n",
            "License: UNKNOWN\n",
            "Location: /usr/local/lib/python3.11/dist-packages\n",
            "Requires: amazon-braket-sdk, certifi, numpy, qiskit, qiskit-ionq, setuptools\n",
            "Required-by: \n",
            "Name: amazon-braket-sdk\n",
            "Version: 1.94.0\n",
            "Summary: An open source library for interacting with quantum computing devices on Amazon Braket\n",
            "Home-page: https://github.com/amazon-braket/amazon-braket-sdk-python\n",
            "Author: Amazon Web Services\n",
            "Author-email: \n",
            "License: Apache License 2.0\n",
            "Location: /usr/local/lib/python3.11/dist-packages\n",
            "Requires: amazon-braket-default-simulator, amazon-braket-schemas, backoff, backports.entry-points-selectable, boltons, boto3, cloudpickle, nest-asyncio, networkx, numpy, openpulse, openqasm3, oqpy, sympy\n",
            "Required-by: qiskit-braket-provider\n"
          ]
        }
      ]
    },
    {
      "cell_type": "code",
      "source": [
        "from braket.experimental_capabilities import EnableExperimentalCapability"
      ],
      "metadata": {
        "id": "5aV5BiKt8LXd"
      },
      "execution_count": 2,
      "outputs": []
    },
    {
      "cell_type": "code",
      "source": [
        "# Use Braket SDK Cost Tracking to estimate the cost to run this example\n",
        "from braket.tracking import Tracker\n",
        "t = Tracker().start()"
      ],
      "metadata": {
        "id": "fXoKI14o86aj"
      },
      "execution_count": 3,
      "outputs": []
    },
    {
      "cell_type": "code",
      "source": [
        "import os\n",
        "# Set environment variables for AWS credentials\n",
        "os.environ['AWS_ACCESS_KEY_ID'] = \"\"\n",
        "os.environ['AWS_SECRET_ACCESS_KEY'] = \"\"\n",
        "os.environ['AWS_DEFAULT_REGION'] = \"us-east-1\"\n",
        "\n",
        "# You can optionally set the s3 bucket and prefix using environment variables\n",
        "#os.environ['AWS_BRAKET_S3_BUCKET'] = \"snuqc\"\n",
        "#os.environ['AWS_BRAKET_S3_PREFIX'] = \"amazonbraket\""
      ],
      "metadata": {
        "id": "YT-ELFqIS8Cg"
      },
      "execution_count": 4,
      "outputs": []
    },
    {
      "cell_type": "code",
      "source": [
        "from qiskit_braket_provider import BraketLocalBackend\n",
        "\n",
        "local_simulator = BraketLocalBackend()\n",
        "#local_sv_simulator = BraketLocalBackend(name='braket_sv')\n",
        "#local_dm_simulator = BraketLocalBackend(name='braket_dm')"
      ],
      "metadata": {
        "id": "KQ52xN1af5Xl"
      },
      "execution_count": 5,
      "outputs": []
    },
    {
      "cell_type": "code",
      "source": [
        "from qiskit_braket_provider import BraketProvider\n",
        "\n",
        "provider = BraketProvider()\n",
        "#provider.backends(statuses=[\"ONLINE\"], types=[\"SIMULATOR\"])\n",
        "#provider.backends(statuses=[\"ONLINE\"], types=[\"QPU\"])\n",
        "provider.backends(statuses=[\"ONLINE\"], types=[\"SIMULATOR\", \"QPU\"])"
      ],
      "metadata": {
        "colab": {
          "base_uri": "https://localhost:8080/"
        },
        "id": "kIiG5YzQd4Il",
        "outputId": "57ead55f-7d82-462a-d312-4e58ed0c8ab9"
      },
      "execution_count": 6,
      "outputs": [
        {
          "output_type": "stream",
          "name": "stderr",
          "text": [
            "/usr/local/lib/python3.11/dist-packages/braket/aws/aws_device.py:663: UserWarning: UnrecognizedClientException: Unable to search region 'us-east-1' for devices. Please check your settings or try again later. Continuing without devices in 'us-east-1'.\n",
            "  warnings.warn(\n",
            "/usr/local/lib/python3.11/dist-packages/braket/aws/aws_device.py:663: UserWarning: UnrecognizedClientException: Unable to search region 'us-west-1' for devices. Please check your settings or try again later. Continuing without devices in 'us-west-1'.\n",
            "  warnings.warn(\n",
            "/usr/local/lib/python3.11/dist-packages/braket/aws/aws_device.py:663: UserWarning: UnrecognizedClientException: Unable to search region 'us-west-2' for devices. Please check your settings or try again later. Continuing without devices in 'us-west-2'.\n",
            "  warnings.warn(\n",
            "/usr/local/lib/python3.11/dist-packages/braket/aws/aws_device.py:663: UserWarning: UnrecognizedClientException: Unable to search region 'eu-west-2' for devices. Please check your settings or try again later. Continuing without devices in 'eu-west-2'.\n",
            "  warnings.warn(\n",
            "/usr/local/lib/python3.11/dist-packages/braket/aws/aws_device.py:663: UserWarning: UnrecognizedClientException: Unable to search region 'eu-north-1' for devices. Please check your settings or try again later. Continuing without devices in 'eu-north-1'.\n",
            "  warnings.warn(\n"
          ]
        },
        {
          "output_type": "execute_result",
          "data": {
            "text/plain": [
              "[]"
            ]
          },
          "metadata": {},
          "execution_count": 6
        }
      ]
    },
    {
      "cell_type": "code",
      "source": [
        "#backend = provider.get_backend(\"Aria 1\")\n",
        "#backend = provider.get_backend(\"Aria 2\")\n",
        "#backend = provider.get_backend(\"Forte 1\")\n",
        "\n",
        "#backend= provider.get_backend(\"Ankaa-2\")\n",
        "#backend = provider.get_backend(\"Aspen-M-3\")\n",
        "\n",
        "#Ibackend = provider.get_backend(\"Garnet\")\n",
        "\n",
        "backend = provider.get_backend(\"SV1\")\n",
        "#backend = provider.get_backend(\"dm1\")\n",
        "#backend = provider.get_backend(\"TN1\")"
      ],
      "metadata": {
        "id": "xGdf665MeDa1",
        "colab": {
          "base_uri": "https://localhost:8080/",
          "height": 548
        },
        "outputId": "2784300f-f4a1-4fa4-e305-313ce4c23a64"
      },
      "execution_count": 7,
      "outputs": [
        {
          "output_type": "stream",
          "name": "stderr",
          "text": [
            "/usr/local/lib/python3.11/dist-packages/braket/aws/aws_device.py:663: UserWarning: UnrecognizedClientException: Unable to search region 'us-east-1' for devices. Please check your settings or try again later. Continuing without devices in 'us-east-1'.\n",
            "  warnings.warn(\n",
            "/usr/local/lib/python3.11/dist-packages/braket/aws/aws_device.py:663: UserWarning: UnrecognizedClientException: Unable to search region 'us-west-1' for devices. Please check your settings or try again later. Continuing without devices in 'us-west-1'.\n",
            "  warnings.warn(\n",
            "/usr/local/lib/python3.11/dist-packages/braket/aws/aws_device.py:663: UserWarning: UnrecognizedClientException: Unable to search region 'us-west-2' for devices. Please check your settings or try again later. Continuing without devices in 'us-west-2'.\n",
            "  warnings.warn(\n",
            "/usr/local/lib/python3.11/dist-packages/braket/aws/aws_device.py:663: UserWarning: UnrecognizedClientException: Unable to search region 'eu-west-2' for devices. Please check your settings or try again later. Continuing without devices in 'eu-west-2'.\n",
            "  warnings.warn(\n",
            "/usr/local/lib/python3.11/dist-packages/braket/aws/aws_device.py:663: UserWarning: UnrecognizedClientException: Unable to search region 'eu-north-1' for devices. Please check your settings or try again later. Continuing without devices in 'eu-north-1'.\n",
            "  warnings.warn(\n"
          ]
        },
        {
          "output_type": "error",
          "ename": "QiskitBackendNotFoundError",
          "evalue": "'No backend matches the criteria'",
          "traceback": [
            "\u001b[0;31m---------------------------------------------------------------------------\u001b[0m",
            "\u001b[0;31mQiskitBackendNotFoundError\u001b[0m                Traceback (most recent call last)",
            "\u001b[0;32m/tmp/ipython-input-7-3611712827.py\u001b[0m in \u001b[0;36m<cell line: 0>\u001b[0;34m()\u001b[0m\n\u001b[1;32m      8\u001b[0m \u001b[0;31m#Ibackend = provider.get_backend(\"Garnet\")\u001b[0m\u001b[0;34m\u001b[0m\u001b[0;34m\u001b[0m\u001b[0m\n\u001b[1;32m      9\u001b[0m \u001b[0;34m\u001b[0m\u001b[0m\n\u001b[0;32m---> 10\u001b[0;31m \u001b[0mbackend\u001b[0m \u001b[0;34m=\u001b[0m \u001b[0mprovider\u001b[0m\u001b[0;34m.\u001b[0m\u001b[0mget_backend\u001b[0m\u001b[0;34m(\u001b[0m\u001b[0;34m\"SV1\"\u001b[0m\u001b[0;34m)\u001b[0m\u001b[0;34m\u001b[0m\u001b[0;34m\u001b[0m\u001b[0m\n\u001b[0m\u001b[1;32m     11\u001b[0m \u001b[0;31m#backend = provider.get_backend(\"dm1\")\u001b[0m\u001b[0;34m\u001b[0m\u001b[0;34m\u001b[0m\u001b[0m\n\u001b[1;32m     12\u001b[0m \u001b[0;31m#backend = provider.get_backend(\"TN1\")\u001b[0m\u001b[0;34m\u001b[0m\u001b[0;34m\u001b[0m\u001b[0m\n",
            "\u001b[0;32m/usr/local/lib/python3.11/dist-packages/qiskit_braket_provider/providers/braket_provider.py\u001b[0m in \u001b[0;36mget_backend\u001b[0;34m(self, name, **kwargs)\u001b[0m\n\u001b[1;32m     48\u001b[0m             )\n\u001b[1;32m     49\u001b[0m         \u001b[0;32mif\u001b[0m \u001b[0;32mnot\u001b[0m \u001b[0mbackends\u001b[0m\u001b[0;34m:\u001b[0m\u001b[0;34m\u001b[0m\u001b[0;34m\u001b[0m\u001b[0m\n\u001b[0;32m---> 50\u001b[0;31m             \u001b[0;32mraise\u001b[0m \u001b[0mQiskitBackendNotFoundError\u001b[0m\u001b[0;34m(\u001b[0m\u001b[0;34m\"No backend matches the criteria\"\u001b[0m\u001b[0;34m)\u001b[0m\u001b[0;34m\u001b[0m\u001b[0;34m\u001b[0m\u001b[0m\n\u001b[0m\u001b[1;32m     51\u001b[0m         \u001b[0;32mreturn\u001b[0m \u001b[0mbackends\u001b[0m\u001b[0;34m[\u001b[0m\u001b[0;36m0\u001b[0m\u001b[0;34m]\u001b[0m\u001b[0;34m\u001b[0m\u001b[0;34m\u001b[0m\u001b[0m\n\u001b[1;32m     52\u001b[0m \u001b[0;34m\u001b[0m\u001b[0m\n",
            "\u001b[0;31mQiskitBackendNotFoundError\u001b[0m: 'No backend matches the criteria'"
          ]
        }
      ]
    },
    {
      "cell_type": "code",
      "source": [
        "from qiskit import QuantumCircuit\n",
        "\n",
        "circuit = QuantumCircuit(3)\n",
        "circuit.h(0)\n",
        "circuit.cx(0, 1)\n",
        "circuit.cx(0, 2)\n",
        "circuit.measure_all()\n"
      ],
      "metadata": {
        "id": "t0tXM48IVua2"
      },
      "execution_count": null,
      "outputs": []
    },
    {
      "cell_type": "code",
      "source": [
        "circuit.draw()"
      ],
      "metadata": {
        "id": "2KODLorCw-A7",
        "outputId": "b89c3c0d-1f22-4e06-b5fe-3feef8783b6e",
        "colab": {
          "base_uri": "https://localhost:8080/",
          "height": 156
        }
      },
      "execution_count": null,
      "outputs": [
        {
          "output_type": "execute_result",
          "data": {
            "text/plain": [
              "        ┌───┐           ░ ┌─┐      \n",
              "   q_0: ┤ H ├──■────■───░─┤M├──────\n",
              "        └───┘┌─┴─┐  │   ░ └╥┘┌─┐   \n",
              "   q_1: ─────┤ X ├──┼───░──╫─┤M├───\n",
              "             └───┘┌─┴─┐ ░  ║ └╥┘┌─┐\n",
              "   q_2: ──────────┤ X ├─░──╫──╫─┤M├\n",
              "                  └───┘ ░  ║  ║ └╥┘\n",
              "meas: 3/═══════════════════╩══╩══╩═\n",
              "                           0  1  2 "
            ],
            "text/html": [
              "<pre style=\"word-wrap: normal;white-space: pre;background: #fff0;line-height: 1.1;font-family: &quot;Courier New&quot;,Courier,monospace\">        ┌───┐           ░ ┌─┐      \n",
              "   q_0: ┤ H ├──■────■───░─┤M├──────\n",
              "        └───┘┌─┴─┐  │   ░ └╥┘┌─┐   \n",
              "   q_1: ─────┤ X ├──┼───░──╫─┤M├───\n",
              "             └───┘┌─┴─┐ ░  ║ └╥┘┌─┐\n",
              "   q_2: ──────────┤ X ├─░──╫──╫─┤M├\n",
              "                  └───┘ ░  ║  ║ └╥┘\n",
              "meas: 3/═══════════════════╩══╩══╩═\n",
              "                           0  1  2 </pre>"
            ]
          },
          "metadata": {},
          "execution_count": 24
        }
      ]
    },
    {
      "cell_type": "code",
      "source": [
        "from qiskit.compiler import transpile, assemble\n",
        "trans_qc = transpile(circuit, backend)\n",
        "trans_qc.draw()"
      ],
      "metadata": {
        "colab": {
          "base_uri": "https://localhost:8080/",
          "height": 156
        },
        "id": "7XeFTYu-emzY",
        "outputId": "9e969349-0ee2-4243-df87-7169856213a1"
      },
      "execution_count": null,
      "outputs": [
        {
          "output_type": "execute_result",
          "data": {
            "text/plain": [
              "        ┌───┐           ░ ┌─┐      \n",
              "   q_0: ┤ H ├──■────■───░─┤M├──────\n",
              "        └───┘┌─┴─┐  │   ░ └╥┘┌─┐   \n",
              "   q_1: ─────┤ X ├──┼───░──╫─┤M├───\n",
              "             └───┘┌─┴─┐ ░  ║ └╥┘┌─┐\n",
              "   q_2: ──────────┤ X ├─░──╫──╫─┤M├\n",
              "                  └───┘ ░  ║  ║ └╥┘\n",
              "meas: 3/═══════════════════╩══╩══╩═\n",
              "                           0  1  2 "
            ],
            "text/html": [
              "<pre style=\"word-wrap: normal;white-space: pre;background: #fff0;line-height: 1.1;font-family: &quot;Courier New&quot;,Courier,monospace\">        ┌───┐           ░ ┌─┐      \n",
              "   q_0: ┤ H ├──■────■───░─┤M├──────\n",
              "        └───┘┌─┴─┐  │   ░ └╥┘┌─┐   \n",
              "   q_1: ─────┤ X ├──┼───░──╫─┤M├───\n",
              "             └───┘┌─┴─┐ ░  ║ └╥┘┌─┐\n",
              "   q_2: ──────────┤ X ├─░──╫──╫─┤M├\n",
              "                  └───┘ ░  ║  ║ └╥┘\n",
              "meas: 3/═══════════════════╩══╩══╩═\n",
              "                           0  1  2 </pre>"
            ]
          },
          "metadata": {},
          "execution_count": 26
        }
      ]
    },
    {
      "cell_type": "code",
      "source": [
        "from qiskit.providers.jobstatus import JobStatus\n",
        "import time\n",
        "\n",
        "job = backend.run(trans_qc, shots=1024)\n",
        "\n",
        "print(\"Job ID is\", job.job_id(),\"\\n\")\n",
        "\n",
        "# 제출된 잡에 대한 지속적인 실행 상태 확인\n",
        "#while job.status() is not JobStatus.DONE:\n",
        "#\tprint(\"Job status is\", job.status() )\n",
        "#\ttime.sleep(2)\n",
        "###while"
      ],
      "metadata": {
        "colab": {
          "base_uri": "https://localhost:8080/"
        },
        "id": "fbj-_FDLV2wL",
        "outputId": "0a5c74c0-cc35-49ae-96e2-bb19872f787c"
      },
      "execution_count": null,
      "outputs": [
        {
          "output_type": "stream",
          "name": "stderr",
          "text": [
            "/usr/local/lib/python3.11/dist-packages/qiskit_braket_provider/providers/adapter.py:521: UserWarning: The Qiskit circuit contains barrier instructions that are ignored.\n",
            "  warnings.warn(\n"
          ]
        },
        {
          "output_type": "stream",
          "name": "stdout",
          "text": [
            "Job ID is arn:aws:braket:us-east-1:590183937332:quantum-task/0d16c6cc-ed3e-4dea-a18d-7868b5ab338e \n",
            "\n"
          ]
        }
      ]
    },
    {
      "cell_type": "code",
      "source": [
        "print(\"Job status is\", job.status() )"
      ],
      "metadata": {
        "id": "6TpCediwnwe9",
        "outputId": "170dc822-84a4-4e51-f943-bff0186e7a5c",
        "colab": {
          "base_uri": "https://localhost:8080/"
        }
      },
      "execution_count": null,
      "outputs": [
        {
          "output_type": "stream",
          "name": "stdout",
          "text": [
            "Job status is JobStatus.DONE\n"
          ]
        }
      ]
    },
    {
      "cell_type": "code",
      "source": [
        "# 중간에 세션이 종료된 경우 기존에 실행이 완료된 Job을 복구하는 방법\n",
        "#job = backend.retrieve_job(\"arn:aws:braket:us-east-1:746669231099:quantum-task/f6fab6be-1590-4da0-914a-fade74efc485\")"
      ],
      "metadata": {
        "id": "uiCBc1tfnSMC"
      },
      "execution_count": null,
      "outputs": []
    },
    {
      "cell_type": "code",
      "source": [
        "result = job.result()\n",
        "result"
      ],
      "metadata": {
        "id": "Ur_wQg-kxLLq",
        "outputId": "b894d602-a689-42f6-d8fd-b2574a615ef2",
        "colab": {
          "base_uri": "https://localhost:8080/"
        }
      },
      "execution_count": null,
      "outputs": [
        {
          "output_type": "execute_result",
          "data": {
            "text/plain": [
              "Result(backend_name='SV1', backend_version='2', qobj_id='0', job_id='arn:aws:braket:us-east-1:590183937332:quantum-task/0d16c6cc-ed3e-4dea-a18d-7868b5ab338e', success=True, results=[ExperimentResult(shots=1024, success=True, meas_level=2, data=ExperimentResultData(counts={'111': 525, '000': 499}, memory=['111', '111', '000', '000', '111', '111', '000', '111', '000', '111', '000', '000', '111', '000', '000', '111', '111', '111', '111', '000', '000', '111', '111', '111', '111', '111', '000', '111', '000', '111', '111', '111', '111', '000', '000', '111', '000', '111', '000', '000', '000', '000', '111', '111', '111', '111', '000', '111', '000', '111', '111', '111', '111', '000', '000', '111', '000', '111', '111', '000', '111', '111', '000', '000', '111', '000', '000', '000', '111', '111', '000', '111', '111', '000', '111', '111', '111', '000', '000', '000', '111', '000', '000', '000', '000', '111', '000', '111', '111', '000', '000', '000', '111', '111', '111', '111', '111', '000', '000', '111', '000', '000', '111', '111', '111', '111', '111', '000', '111', '000', '000', '000', '111', '111', '000', '000', '000', '000', '000', '000', '000', '000', '000', '111', '111', '000', '000', '111', '000', '111', '000', '000', '111', '111', '111', '111', '111', '111', '111', '000', '000', '000', '111', '111', '111', '000', '000', '000', '000', '111', '111', '000', '000', '111', '000', '111', '111', '000', '111', '000', '111', '111', '111', '111', '000', '111', '111', '000', '000', '111', '000', '111', '000', '111', '111', '000', '111', '111', '000', '000', '111', '111', '111', '111', '000', '111', '000', '000', '111', '111', '111', '111', '000', '000', '111', '000', '000', '000', '000', '111', '111', '000', '111', '111', '000', '000', '111', '000', '111', '000', '000', '000', '000', '000', '000', '000', '000', '000', '111', '000', '000', '000', '111', '111', '000', '000', '111', '111', '111', '111', '111', '000', '111', '111', '000', '111', '000', '111', '000', '000', '111', '000', '111', '111', '111', '111', '111', '111', '111', '000', '111', '111', '000', '000', '111', '111', '111', '000', '111', '111', '111', '111', '000', '111', '000', '111', '000', '000', '111', '000', '000', '111', '000', '111', '000', '000', '111', '000', '000', '000', '000', '000', '111', '111', '000', '111', '111', '000', '111', '000', '111', '000', '000', '000', '111', '000', '111', '000', '000', '111', '000', '111', '000', '000', '111', '111', '000', '000', '000', '111', '000', '111', '111', '000', '111', '111', '111', '000', '000', '111', '111', '111', '111', '111', '000', '111', '111', '111', '111', '000', '000', '000', '000', '000', '111', '000', '111', '111', '000', '000', '111', '000', '000', '111', '000', '000', '111', '000', '000', '000', '111', '111', '000', '000', '000', '111', '111', '111', '000', '111', '000', '111', '111', '111', '000', '111', '000', '111', '000', '000', '000', '000', '111', '111', '000', '111', '111', '000', '000', '000', '111', '000', '111', '000', '111', '111', '000', '111', '111', '111', '111', '000', '000', '111', '000', '111', '000', '111', '111', '000', '000', '000', '000', '000', '111', '000', '111', '000', '111', '111', '000', '111', '000', '000', '111', '111', '111', '111', '111', '000', '111', '000', '111', '111', '111', '000', '111', '000', '000', '000', '111', '111', '111', '111', '000', '111', '111', '111', '000', '111', '000', '111', '000', '111', '000', '111', '000', '000', '000', '000', '000', '111', '111', '111', '111', '111', '000', '111', '000', '111', '111', '111', '111', '000', '000', '000', '000', '000', '000', '000', '000', '111', '111', '111', '111', '111', '111', '111', '111', '111', '111', '000', '111', '000', '111', '000', '111', '111', '111', '000', '000', '000', '111', '111', '111', '000', '000', '111', '111', '111', '111', '000', '000', '111', '111', '000', '111', '111', '000', '111', '111', '000', '111', '111', '111', '000', '000', '000', '000', '111', '000', '000', '000', '000', '000', '111', '000', '111', '111', '111', '111', '000', '000', '111', '000', '000', '111', '000', '000', '111', '111', '000', '000', '111', '000', '000', '000', '111', '000', '111', '111', '111', '111', '000', '000', '000', '111', '000', '111', '000', '111', '000', '111', '111', '000', '000', '111', '111', '000', '000', '111', '000', '111', '111', '111', '000', '111', '111', '111', '000', '000', '000', '000', '111', '111', '111', '000', '111', '000', '000', '000', '111', '111', '111', '111', '000', '000', '111', '111', '111', '111', '000', '000', '111', '000', '000', '111', '111', '000', '111', '111', '111', '000', '000', '000', '000', '000', '111', '000', '111', '111', '111', '111', '000', '000', '000', '111', '111', '000', '111', '000', '111', '111', '000', '111', '111', '000', '111', '000', '000', '111', '000', '111', '111', '111', '000', '000', '111', '111', '000', '000', '000', '111', '111', '000', '000', '111', '111', '111', '000', '000', '111', '000', '111', '000', '000', '000', '111', '111', '000', '111', '000', '000', '000', '111', '111', '111', '000', '111', '000', '111', '000', '111', '111', '000', '111', '111', '000', '000', '111', '000', '000', '111', '111', '000', '000', '111', '111', '000', '111', '000', '111', '000', '000', '111', '111', '111', '111', '000', '111', '111', '000', '000', '111', '111', '111', '111', '111', '111', '000', '000', '111', '000', '000', '000', '111', '000', '000', '000', '000', '000', '111', '000', '111', '000', '000', '111', '000', '000', '111', '111', '111', '111', '111', '000', '111', '000', '000', '000', '111', '111', '000', '000', '111', '111', '111', '000', '111', '111', '000', '111', '111', '000', '111', '000', '000', '000', '111', '000', '000', '111', '000', '111', '111', '000', '111', '000', '000', '000', '111', '000', '111', '000', '000', '111', '111', '000', '111', '000', '000', '000', '000', '111', '111', '000', '111', '111', '000', '000', '000', '111', '111', '111', '000', '111', '111', '111', '000', '111', '000', '000', '000', '111', '111', '000', '000', '111', '111', '000', '111', '000', '111', '000', '111', '000', '111', '000', '000', '000', '111', '000', '111', '000', '000', '111', '111', '111', '111', '111', '000', '000', '111', '000', '000', '111', '111', '111', '111', '000', '000', '111', '000', '000', '000', '111', '111', '000', '000', '000', '000', '111', '000', '000', '111', '000', '111', '111', '000', '000', '111', '000', '111', '111', '111', '111', '111', '000', '000', '000', '000', '000', '111', '000', '000', '111', '111', '000', '000', '000', '000', '111', '111', '111', '000', '111', '111', '000', '000', '111', '111', '000', '111', '000', '111', '111', '000', '000', '111', '000', '111', '000', '111', '111', '111', '000', '111', '000', '111', '111', '000', '000', '000', '111', '111', '111', '111', '000', '111', '000', '111', '000', '000', '000', '000', '111', '111', '111', '111', '000', '000', '000', '111', '000', '111', '111', '111', '111', '111', '111', '000', '000', '111', '000', '000', '111', '000', '111', '111', '000', '000', '111', '000', '111', '111', '111', '000', '111', '000', '111', '000', '000', '000', '111', '111', '000', '111', '000', '000', '111', '111', '000', '111', '000', '000', '000', '000', '000', '111', '000', '111', '000', '111', '111', '000', '111', '000', '111', '000', '111', '111', '111', '000', '000', '111', '000', '111', '000', '000', '111', '000', '000', '111', '000', '000', '111', '111', '111', '000', '000', '000', '000', '111', '000', '111']), status=COMPLETED)], date=None, status=JobStatus.DONE, header=None)"
            ]
          },
          "metadata": {},
          "execution_count": 30
        }
      ]
    },
    {
      "cell_type": "code",
      "source": [
        "# 결과 출력\n",
        "counts = result.get_counts()\n",
        "print(counts)"
      ],
      "metadata": {
        "id": "zwAc_6uRjjPa",
        "outputId": "690d8f12-1871-4a8c-f00b-66e5d6322784",
        "colab": {
          "base_uri": "https://localhost:8080/"
        }
      },
      "execution_count": null,
      "outputs": [
        {
          "output_type": "stream",
          "name": "stdout",
          "text": [
            "{'111': 525, '000': 499}\n"
          ]
        }
      ]
    },
    {
      "cell_type": "code",
      "source": [
        "from qiskit.visualization import plot_histogram\n",
        "plot_histogram(data=counts)"
      ],
      "metadata": {
        "colab": {
          "base_uri": "https://localhost:8080/",
          "height": 446
        },
        "id": "hYn_-AuCWCHY",
        "outputId": "abbf9efa-87e9-47c5-a254-c0740a337a73"
      },
      "execution_count": null,
      "outputs": [
        {
          "output_type": "execute_result",
          "data": {
            "text/plain": [
              "<Figure size 640x480 with 1 Axes>"
            ],
            "image/png": "[encoded data removed]"
          },
          "metadata": {},
          "execution_count": 32
        }
      ]
    },
    {
      "cell_type": "code",
      "source": [
        "print(\"Quantum Task Summary\\n\")\n",
        "print(t.quantum_tasks_statistics())\n",
        "print('\\nNote: Charges shown are estimates based on your Amazon Braket simulator and quantum processing unit (QPU) task usage. \\nEstimated charges shown may differ from your actual charges. \\nEstimated charges do not factor in any discounts or credits, \\nand you may experience additional charges based on your use of other services such as Amazon Elastic Compute Cloud (Amazon EC2).')\n",
        "print(f\"\\nEstimated cost to run this example: {t.qpu_tasks_cost() + t.simulator_tasks_cost():.2f} USD\")"
      ],
      "metadata": {
        "colab": {
          "base_uri": "https://localhost:8080/"
        },
        "id": "vOjIFGML9IXu",
        "outputId": "17590215-c0aa-43f0-bc12-959c2dcd6e0a"
      },
      "execution_count": null,
      "outputs": [
        {
          "output_type": "stream",
          "name": "stdout",
          "text": [
            "Quantum Task Summary\n",
            "\n",
            "{'arn:aws:braket:::device/quantum-simulator/amazon/sv1': {'shots': 1024, 'tasks': {'COMPLETED': 1}, 'execution_duration': datetime.timedelta(microseconds=3000), 'billed_execution_duration': datetime.timedelta(seconds=3)}}\n",
            "\n",
            "Note: Charges shown are estimates based on your Amazon Braket simulator and quantum processing unit (QPU) task usage. \n",
            "Estimated charges shown may differ from your actual charges. \n",
            "Estimated charges do not factor in any discounts or credits, \n",
            "and you may experience additional charges based on your use of other services such as Amazon Elastic Compute Cloud (Amazon EC2).\n",
            "\n",
            "Estimated cost to run this example: 0.00 USD\n"
          ]
        }
      ]
    }
  ]
}