{
  "nbformat": 4,
  "nbformat_minor": 0,
  "metadata": {
    "colab": {
      "provenance": [],
      "authorship_tag": "ABX9TyMK4YOUz/FIVG2+xlDWr0lh",
      "include_colab_link": true
    },
    "kernelspec": {
      "name": "python3",
      "display_name": "Python 3"
    },
    "language_info": {
      "name": "python"
    }
  },
  "cells": [
    {
      "cell_type": "markdown",
      "metadata": {
        "id": "view-in-github",
        "colab_type": "text"
      },
      "source": [
        "<a href=\"https://colab.research.google.com/github/mkbahk/AmazonBraket/blob/main/External_Access_to_Amazon_Braket_with_qiskit_braket_provider_mkbahk_20241102.ipynb\" target=\"_parent\"><img src=\"https://colab.research.google.com/assets/colab-badge.svg\" alt=\"Open In Colab\"/></a>"
      ]
    },
    {
      "cell_type": "markdown",
      "source": [
        "# 작업순서\n",
        "1. Amazon Braket 환경 설정(확인만)\n",
        "2. S3 환경설정(확인만)\n",
        "3. (중요) IAM을 이용한 Access Key 설정 및 권한 부여\n",
        "4. 원격 작업\n",
        "5. 각종 로그 보기\n",
        "6. 작업 환경 정리\n"
      ],
      "metadata": {
        "id": "_S3DWMw_3Ryp"
      }
    },
    {
      "cell_type": "code",
      "source": [
        "!pip install git+https://github.com/qiskit-community/qiskit-braket-provider.git"
      ],
      "metadata": {
        "colab": {
          "base_uri": "https://localhost:8080/"
        },
        "id": "ajrS_5a6EuMi",
        "outputId": "e0c63bea-73f1-49a3-c8c0-068ecc59a3ed"
      },
      "execution_count": 13,
      "outputs": [
        {
          "output_type": "stream",
          "name": "stdout",
          "text": [
            "Collecting git+https://github.com/qiskit-community/qiskit-braket-provider.git\n",
            "  Cloning https://github.com/qiskit-community/qiskit-braket-provider.git to /tmp/pip-req-build-_9c1gja4\n",
            "  Running command git clone --filter=blob:none --quiet https://github.com/qiskit-community/qiskit-braket-provider.git /tmp/pip-req-build-_9c1gja4\n",
            "  Resolved https://github.com/qiskit-community/qiskit-braket-provider.git to commit 1fd281925027ecfa690f5400f12a8dfac59ee014\n",
            "  Preparing metadata (setup.py) ... \u001b[?25l\u001b[?25hdone\n",
            "Requirement already satisfied: certifi>=2021.5.30 in /usr/local/lib/python3.11/dist-packages (from qiskit_braket_provider==0.4.6) (2025.6.15)\n",
            "Requirement already satisfied: qiskit<2.0,>=0.34.2 in /usr/local/lib/python3.11/dist-packages (from qiskit_braket_provider==0.4.6) (1.4.3)\n",
            "Requirement already satisfied: qiskit-ionq>=0.5.2 in /usr/local/lib/python3.11/dist-packages (from qiskit_braket_provider==0.4.6) (0.5.13)\n",
            "Requirement already satisfied: amazon-braket-sdk>=1.76.0 in /usr/local/lib/python3.11/dist-packages (from qiskit_braket_provider==0.4.6) (1.95.0)\n",
            "Requirement already satisfied: setuptools>=40.1.0 in /usr/local/lib/python3.11/dist-packages (from qiskit_braket_provider==0.4.6) (75.2.0)\n",
            "Requirement already satisfied: numpy>=1.3 in /usr/local/lib/python3.11/dist-packages (from qiskit_braket_provider==0.4.6) (2.0.2)\n",
            "Requirement already satisfied: amazon-braket-schemas>=1.23.0 in /usr/local/lib/python3.11/dist-packages (from amazon-braket-sdk>=1.76.0->qiskit_braket_provider==0.4.6) (1.24.2)\n",
            "Requirement already satisfied: amazon-braket-default-simulator>=1.26.0 in /usr/local/lib/python3.11/dist-packages (from amazon-braket-sdk>=1.76.0->qiskit_braket_provider==0.4.6) (1.26.7)\n",
            "Requirement already satisfied: oqpy~=0.3.5 in /usr/local/lib/python3.11/dist-packages (from amazon-braket-sdk>=1.76.0->qiskit_braket_provider==0.4.6) (0.3.7)\n",
            "Requirement already satisfied: backoff in /usr/local/lib/python3.11/dist-packages (from amazon-braket-sdk>=1.76.0->qiskit_braket_provider==0.4.6) (2.2.1)\n",
            "Requirement already satisfied: boltons in /usr/local/lib/python3.11/dist-packages (from amazon-braket-sdk>=1.76.0->qiskit_braket_provider==0.4.6) (25.0.0)\n",
            "Requirement already satisfied: boto3>=1.28.53 in /usr/local/lib/python3.11/dist-packages (from amazon-braket-sdk>=1.76.0->qiskit_braket_provider==0.4.6) (1.39.3)\n",
            "Requirement already satisfied: cloudpickle==2.2.1 in /usr/local/lib/python3.11/dist-packages (from amazon-braket-sdk>=1.76.0->qiskit_braket_provider==0.4.6) (2.2.1)\n",
            "Requirement already satisfied: nest-asyncio in /usr/local/lib/python3.11/dist-packages (from amazon-braket-sdk>=1.76.0->qiskit_braket_provider==0.4.6) (1.6.0)\n",
            "Requirement already satisfied: networkx in /usr/local/lib/python3.11/dist-packages (from amazon-braket-sdk>=1.76.0->qiskit_braket_provider==0.4.6) (3.5)\n",
            "Requirement already satisfied: openpulse in /usr/local/lib/python3.11/dist-packages (from amazon-braket-sdk>=1.76.0->qiskit_braket_provider==0.4.6) (1.0.1)\n",
            "Requirement already satisfied: openqasm3 in /usr/local/lib/python3.11/dist-packages (from amazon-braket-sdk>=1.76.0->qiskit_braket_provider==0.4.6) (1.0.1)\n",
            "Requirement already satisfied: sympy in /usr/local/lib/python3.11/dist-packages (from amazon-braket-sdk>=1.76.0->qiskit_braket_provider==0.4.6) (1.13.1)\n",
            "Requirement already satisfied: backports.entry-points-selectable in /usr/local/lib/python3.11/dist-packages (from amazon-braket-sdk>=1.76.0->qiskit_braket_provider==0.4.6) (1.3.0)\n",
            "Requirement already satisfied: rustworkx>=0.15.0 in /usr/local/lib/python3.11/dist-packages (from qiskit<2.0,>=0.34.2->qiskit_braket_provider==0.4.6) (0.16.0)\n",
            "Requirement already satisfied: scipy>=1.5 in /usr/local/lib/python3.11/dist-packages (from qiskit<2.0,>=0.34.2->qiskit_braket_provider==0.4.6) (1.15.3)\n",
            "Requirement already satisfied: dill>=0.3 in /usr/local/lib/python3.11/dist-packages (from qiskit<2.0,>=0.34.2->qiskit_braket_provider==0.4.6) (0.3.7)\n",
            "Requirement already satisfied: python-dateutil>=2.8.0 in /usr/local/lib/python3.11/dist-packages (from qiskit<2.0,>=0.34.2->qiskit_braket_provider==0.4.6) (2.9.0.post0)\n",
            "Requirement already satisfied: stevedore>=3.0.0 in /usr/local/lib/python3.11/dist-packages (from qiskit<2.0,>=0.34.2->qiskit_braket_provider==0.4.6) (5.4.1)\n",
            "Requirement already satisfied: typing-extensions in /usr/local/lib/python3.11/dist-packages (from qiskit<2.0,>=0.34.2->qiskit_braket_provider==0.4.6) (4.14.0)\n",
            "Requirement already satisfied: symengine<0.14,>=0.11 in /usr/local/lib/python3.11/dist-packages (from qiskit<2.0,>=0.34.2->qiskit_braket_provider==0.4.6) (0.13.0)\n",
            "Requirement already satisfied: decorator>=5.1.0 in /usr/local/lib/python3.11/dist-packages (from qiskit-ionq>=0.5.2->qiskit_braket_provider==0.4.6) (5.2.1)\n",
            "Requirement already satisfied: requests>=2.24.0 in /usr/local/lib/python3.11/dist-packages (from qiskit-ionq>=0.5.2->qiskit_braket_provider==0.4.6) (2.32.3)\n",
            "Requirement already satisfied: importlib-metadata>=4.11.4 in /usr/local/lib/python3.11/dist-packages (from qiskit-ionq>=0.5.2->qiskit_braket_provider==0.4.6) (8.7.0)\n",
            "Requirement already satisfied: python-dotenv>=1.0.1 in /usr/local/lib/python3.11/dist-packages (from qiskit-ionq>=0.5.2->qiskit_braket_provider==0.4.6) (1.1.1)\n",
            "Requirement already satisfied: opt_einsum in /usr/local/lib/python3.11/dist-packages (from amazon-braket-default-simulator>=1.26.0->amazon-braket-sdk>=1.76.0->qiskit_braket_provider==0.4.6) (3.4.0)\n",
            "Requirement already satisfied: pydantic>2 in /usr/local/lib/python3.11/dist-packages (from amazon-braket-default-simulator>=1.26.0->amazon-braket-sdk>=1.76.0->qiskit_braket_provider==0.4.6) (2.11.7)\n",
            "Requirement already satisfied: antlr4-python3-runtime==4.9.2 in /usr/local/lib/python3.11/dist-packages (from amazon-braket-default-simulator>=1.26.0->amazon-braket-sdk>=1.76.0->qiskit_braket_provider==0.4.6) (4.9.2)\n",
            "Requirement already satisfied: botocore<1.40.0,>=1.39.3 in /usr/local/lib/python3.11/dist-packages (from boto3>=1.28.53->amazon-braket-sdk>=1.76.0->qiskit_braket_provider==0.4.6) (1.39.3)\n",
            "Requirement already satisfied: jmespath<2.0.0,>=0.7.1 in /usr/local/lib/python3.11/dist-packages (from boto3>=1.28.53->amazon-braket-sdk>=1.76.0->qiskit_braket_provider==0.4.6) (1.0.1)\n",
            "Requirement already satisfied: s3transfer<0.14.0,>=0.13.0 in /usr/local/lib/python3.11/dist-packages (from boto3>=1.28.53->amazon-braket-sdk>=1.76.0->qiskit_braket_provider==0.4.6) (0.13.0)\n",
            "Requirement already satisfied: zipp>=3.20 in /usr/local/lib/python3.11/dist-packages (from importlib-metadata>=4.11.4->qiskit-ionq>=0.5.2->qiskit_braket_provider==0.4.6) (3.23.0)\n",
            "Requirement already satisfied: mypy-extensions>=0.2.0 in /usr/local/lib/python3.11/dist-packages (from oqpy~=0.3.5->amazon-braket-sdk>=1.76.0->qiskit_braket_provider==0.4.6) (1.1.0)\n",
            "Requirement already satisfied: six>=1.5 in /usr/local/lib/python3.11/dist-packages (from python-dateutil>=2.8.0->qiskit<2.0,>=0.34.2->qiskit_braket_provider==0.4.6) (1.17.0)\n",
            "Requirement already satisfied: charset-normalizer<4,>=2 in /usr/local/lib/python3.11/dist-packages (from requests>=2.24.0->qiskit-ionq>=0.5.2->qiskit_braket_provider==0.4.6) (3.4.2)\n",
            "Requirement already satisfied: idna<4,>=2.5 in /usr/local/lib/python3.11/dist-packages (from requests>=2.24.0->qiskit-ionq>=0.5.2->qiskit_braket_provider==0.4.6) (3.10)\n",
            "Requirement already satisfied: urllib3<3,>=1.21.1 in /usr/local/lib/python3.11/dist-packages (from requests>=2.24.0->qiskit-ionq>=0.5.2->qiskit_braket_provider==0.4.6) (2.4.0)\n",
            "Requirement already satisfied: pbr>=2.0.0 in /usr/local/lib/python3.11/dist-packages (from stevedore>=3.0.0->qiskit<2.0,>=0.34.2->qiskit_braket_provider==0.4.6) (6.1.1)\n",
            "Requirement already satisfied: mpmath<1.4,>=1.1.0 in /usr/local/lib/python3.11/dist-packages (from sympy->amazon-braket-sdk>=1.76.0->qiskit_braket_provider==0.4.6) (1.3.0)\n",
            "Requirement already satisfied: annotated-types>=0.6.0 in /usr/local/lib/python3.11/dist-packages (from pydantic>2->amazon-braket-default-simulator>=1.26.0->amazon-braket-sdk>=1.76.0->qiskit_braket_provider==0.4.6) (0.7.0)\n",
            "Requirement already satisfied: pydantic-core==2.33.2 in /usr/local/lib/python3.11/dist-packages (from pydantic>2->amazon-braket-default-simulator>=1.26.0->amazon-braket-sdk>=1.76.0->qiskit_braket_provider==0.4.6) (2.33.2)\n",
            "Requirement already satisfied: typing-inspection>=0.4.0 in /usr/local/lib/python3.11/dist-packages (from pydantic>2->amazon-braket-default-simulator>=1.26.0->amazon-braket-sdk>=1.76.0->qiskit_braket_provider==0.4.6) (0.4.1)\n"
          ]
        }
      ]
    },
    {
      "cell_type": "code",
      "execution_count": 14,
      "metadata": {
        "id": "7SvhhzmlRgZ9"
      },
      "outputs": [],
      "source": [
        "#!pip install amazon-braket-sdk==1.94.0\n",
        "#!python3 -m pip install boto3\n",
        "#!python3 -m pip install botocore"
      ]
    },
    {
      "cell_type": "code",
      "source": [
        "%pip show qiskit\n",
        "%pip show qiskit-braket-provider\n",
        "%pip show amazon-braket-sdk"
      ],
      "metadata": {
        "colab": {
          "base_uri": "https://localhost:8080/"
        },
        "id": "ln8M8X8_Ns0m",
        "outputId": "77e9aed5-ab92-418c-88cb-3c09c42b8eb6"
      },
      "execution_count": 15,
      "outputs": [
        {
          "output_type": "stream",
          "name": "stdout",
          "text": [
            "Name: qiskit\n",
            "Version: 1.4.3\n",
            "Summary: An open-source SDK for working with quantum computers at the level of extended quantum circuits, operators, and primitives.\n",
            "Home-page: https://www.ibm.com/quantum/qiskit\n",
            "Author: \n",
            "Author-email: Qiskit Development Team <qiskit@us.ibm.com>\n",
            "License: Apache 2.0\n",
            "Location: /usr/local/lib/python3.11/dist-packages\n",
            "Requires: dill, numpy, python-dateutil, rustworkx, scipy, stevedore, symengine, sympy, typing-extensions\n",
            "Required-by: qiskit-ionq, qiskit_braket_provider\n",
            "Name: qiskit_braket_provider\n",
            "Version: 0.4.6\n",
            "Summary: Qiskit-Braket provider to execute Qiskit programs on AWS quantum computing hardware devices through Amazon Braket.\n",
            "Home-page: \n",
            "Author: \n",
            "Author-email: \n",
            "License: \n",
            "Location: /usr/local/lib/python3.11/dist-packages\n",
            "Requires: amazon-braket-sdk, certifi, numpy, qiskit, qiskit-ionq, setuptools\n",
            "Required-by: \n",
            "Name: amazon-braket-sdk\n",
            "Version: 1.95.0\n",
            "Summary: An open source library for interacting with quantum computing devices on Amazon Braket\n",
            "Home-page: https://github.com/amazon-braket/amazon-braket-sdk-python\n",
            "Author: Amazon Web Services\n",
            "Author-email: \n",
            "License: Apache License 2.0\n",
            "Location: /usr/local/lib/python3.11/dist-packages\n",
            "Requires: amazon-braket-default-simulator, amazon-braket-schemas, backoff, backports.entry-points-selectable, boltons, boto3, cloudpickle, nest-asyncio, networkx, numpy, openpulse, openqasm3, oqpy, sympy\n",
            "Required-by: qiskit_braket_provider\n"
          ]
        }
      ]
    },
    {
      "cell_type": "code",
      "source": [
        "from braket.experimental_capabilities import EnableExperimentalCapability"
      ],
      "metadata": {
        "id": "5aV5BiKt8LXd"
      },
      "execution_count": 16,
      "outputs": []
    },
    {
      "cell_type": "code",
      "source": [
        "# Use Braket SDK Cost Tracking to estimate the cost to run this example\n",
        "from braket.tracking import Tracker\n",
        "t = Tracker().start()"
      ],
      "metadata": {
        "id": "fXoKI14o86aj"
      },
      "execution_count": 17,
      "outputs": []
    },
    {
      "cell_type": "code",
      "source": [
        "import os\n",
        "# Set environment variables for AWS credentials\n",
        "os.environ['AWS_ACCESS_KEY_ID'] = \"\"\n",
        "os.environ['AWS_SECRET_ACCESS_KEY'] = \"\"\n",
        "os.environ['AWS_DEFAULT_REGION'] = \"us-east-1\"\n",
        "\n",
        "# You can optionally set the s3 bucket and prefix using environment variables\n",
        "#os.environ['AWS_BRAKET_S3_BUCKET'] = \"snuqc\"\n",
        "#os.environ['AWS_BRAKET_S3_PREFIX'] = \"amazonbraket\""
      ],
      "metadata": {
        "id": "YT-ELFqIS8Cg"
      },
      "execution_count": 21,
      "outputs": []
    },
    {
      "cell_type": "code",
      "source": [
        "from qiskit_braket_provider import BraketLocalBackend\n",
        "\n",
        "local_simulator = BraketLocalBackend()\n",
        "#local_sv_simulator = BraketLocalBackend(name='braket_sv')\n",
        "#local_dm_simulator = BraketLocalBackend(name='braket_dm')"
      ],
      "metadata": {
        "id": "KQ52xN1af5Xl"
      },
      "execution_count": 22,
      "outputs": []
    },
    {
      "cell_type": "code",
      "source": [
        "from qiskit_braket_provider import BraketProvider\n",
        "\n",
        "provider = BraketProvider()\n",
        "#provider.backends(statuses=[\"ONLINE\"], types=[\"SIMULATOR\"])\n",
        "#provider.backends(statuses=[\"ONLINE\"], types=[\"QPU\"])\n",
        "provider.backends(statuses=[\"ONLINE\"], types=[\"SIMULATOR\", \"QPU\"])"
      ],
      "metadata": {
        "colab": {
          "base_uri": "https://localhost:8080/"
        },
        "id": "kIiG5YzQd4Il",
        "outputId": "84bc25bf-3b7c-42a7-ec29-ba64121e004a"
      },
      "execution_count": 23,
      "outputs": [
        {
          "output_type": "execute_result",
          "data": {
            "text/plain": [
              "[BraketBackend[Ankaa-3],\n",
              " BraketBackend[Forte Enterprise 1],\n",
              " BraketBackend[Garnet],\n",
              " BraketBackend[SV1],\n",
              " BraketBackend[TN1],\n",
              " BraketBackend[dm1]]"
            ]
          },
          "metadata": {},
          "execution_count": 23
        }
      ]
    },
    {
      "cell_type": "code",
      "source": [
        "#backend = provider.get_backend(\"Aria 1\")\n",
        "#backend = provider.get_backend(\"Aria 2\")\n",
        "#backend = provider.get_backend(\"Forte 1\")\n",
        "\n",
        "#backend= provider.get_backend(\"Ankaa-2\")\n",
        "#backend = provider.get_backend(\"Aspen-M-3\")\n",
        "\n",
        "#Ibackend = provider.get_backend(\"Garnet\")\n",
        "\n",
        "backend = provider.get_backend(\"SV1\")\n",
        "#backend = provider.get_backend(\"dm1\")\n",
        "#backend = provider.get_backend(\"TN1\")"
      ],
      "metadata": {
        "id": "xGdf665MeDa1"
      },
      "execution_count": 24,
      "outputs": []
    },
    {
      "cell_type": "code",
      "source": [
        "from qiskit import QuantumCircuit\n",
        "\n",
        "circuit = QuantumCircuit(3)\n",
        "circuit.h(0)\n",
        "circuit.cx(0, 1)\n",
        "circuit.cx(0, 2)\n",
        "circuit.measure_all()\n"
      ],
      "metadata": {
        "id": "t0tXM48IVua2"
      },
      "execution_count": 25,
      "outputs": []
    },
    {
      "cell_type": "code",
      "source": [
        "circuit.draw()"
      ],
      "metadata": {
        "id": "2KODLorCw-A7",
        "outputId": "3bac56b2-4c92-4aff-debd-344ae6077cf4",
        "colab": {
          "base_uri": "https://localhost:8080/",
          "height": 156
        }
      },
      "execution_count": 35,
      "outputs": [
        {
          "output_type": "execute_result",
          "data": {
            "text/plain": [
              "        ┌───┐           ░ ┌─┐      \n",
              "   q_0: ┤ H ├──■────■───░─┤M├──────\n",
              "        └───┘┌─┴─┐  │   ░ └╥┘┌─┐   \n",
              "   q_1: ─────┤ X ├──┼───░──╫─┤M├───\n",
              "             └───┘┌─┴─┐ ░  ║ └╥┘┌─┐\n",
              "   q_2: ──────────┤ X ├─░──╫──╫─┤M├\n",
              "                  └───┘ ░  ║  ║ └╥┘\n",
              "meas: 3/═══════════════════╩══╩══╩═\n",
              "                           0  1  2 "
            ],
            "text/html": [
              "<pre style=\"word-wrap: normal;white-space: pre;background: #fff0;line-height: 1.1;font-family: &quot;Courier New&quot;,Courier,monospace\">        ┌───┐           ░ ┌─┐      \n",
              "   q_0: ┤ H ├──■────■───░─┤M├──────\n",
              "        └───┘┌─┴─┐  │   ░ └╥┘┌─┐   \n",
              "   q_1: ─────┤ X ├──┼───░──╫─┤M├───\n",
              "             └───┘┌─┴─┐ ░  ║ └╥┘┌─┐\n",
              "   q_2: ──────────┤ X ├─░──╫──╫─┤M├\n",
              "                  └───┘ ░  ║  ║ └╥┘\n",
              "meas: 3/═══════════════════╩══╩══╩═\n",
              "                           0  1  2 </pre>"
            ]
          },
          "metadata": {},
          "execution_count": 35
        }
      ]
    },
    {
      "cell_type": "code",
      "source": [
        "from qiskit.compiler import transpile, assemble\n",
        "trans_qc = transpile(circuit, backend)\n",
        "trans_qc.draw()"
      ],
      "metadata": {
        "colab": {
          "base_uri": "https://localhost:8080/",
          "height": 156
        },
        "id": "7XeFTYu-emzY",
        "outputId": "f0b64bf3-396a-4b22-c694-6bcd8f13f592"
      },
      "execution_count": 27,
      "outputs": [
        {
          "output_type": "execute_result",
          "data": {
            "text/plain": [
              "        ┌───┐           ░ ┌─┐      \n",
              "   q_0: ┤ H ├──■────■───░─┤M├──────\n",
              "        └───┘┌─┴─┐  │   ░ └╥┘┌─┐   \n",
              "   q_1: ─────┤ X ├──┼───░──╫─┤M├───\n",
              "             └───┘┌─┴─┐ ░  ║ └╥┘┌─┐\n",
              "   q_2: ──────────┤ X ├─░──╫──╫─┤M├\n",
              "                  └───┘ ░  ║  ║ └╥┘\n",
              "meas: 3/═══════════════════╩══╩══╩═\n",
              "                           0  1  2 "
            ],
            "text/html": [
              "<pre style=\"word-wrap: normal;white-space: pre;background: #fff0;line-height: 1.1;font-family: &quot;Courier New&quot;,Courier,monospace\">        ┌───┐           ░ ┌─┐      \n",
              "   q_0: ┤ H ├──■────■───░─┤M├──────\n",
              "        └───┘┌─┴─┐  │   ░ └╥┘┌─┐   \n",
              "   q_1: ─────┤ X ├──┼───░──╫─┤M├───\n",
              "             └───┘┌─┴─┐ ░  ║ └╥┘┌─┐\n",
              "   q_2: ──────────┤ X ├─░──╫──╫─┤M├\n",
              "                  └───┘ ░  ║  ║ └╥┘\n",
              "meas: 3/═══════════════════╩══╩══╩═\n",
              "                           0  1  2 </pre>"
            ]
          },
          "metadata": {},
          "execution_count": 27
        }
      ]
    },
    {
      "cell_type": "code",
      "source": [
        "from qiskit.providers.jobstatus import JobStatus\n",
        "import time\n",
        "\n",
        "job = backend.run(trans_qc, shots=1024)\n",
        "\n",
        "print(\"Job ID is\", job.job_id(),\"\\n\")\n",
        "\n",
        "# 제출된 잡에 대한 지속적인 실행 상태 확인\n",
        "#while job.status() is not JobStatus.DONE:\n",
        "#\tprint(\"Job status is\", job.status() )\n",
        "#\ttime.sleep(2)\n",
        "###while"
      ],
      "metadata": {
        "colab": {
          "base_uri": "https://localhost:8080/"
        },
        "id": "fbj-_FDLV2wL",
        "outputId": "158c65a4-18da-4ae3-d461-af2f9d20ac33"
      },
      "execution_count": 28,
      "outputs": [
        {
          "output_type": "stream",
          "name": "stderr",
          "text": [
            "/usr/local/lib/python3.11/dist-packages/qiskit_braket_provider/providers/adapter.py:582: UserWarning: The Qiskit circuit contains barrier instructions that are ignored.\n",
            "  warnings.warn(\n"
          ]
        },
        {
          "output_type": "stream",
          "name": "stdout",
          "text": [
            "Job ID is arn:aws:braket:us-east-1:590183937332:quantum-task/cea2d2b9-8015-4e03-a159-5a26573a904a \n",
            "\n"
          ]
        }
      ]
    },
    {
      "cell_type": "code",
      "source": [
        "print(\"Job status is\", job.status() )"
      ],
      "metadata": {
        "id": "6TpCediwnwe9",
        "outputId": "85f61a2c-c1e8-4ad6-89c4-0d4c17b52c61",
        "colab": {
          "base_uri": "https://localhost:8080/"
        }
      },
      "execution_count": 29,
      "outputs": [
        {
          "output_type": "stream",
          "name": "stdout",
          "text": [
            "Job status is JobStatus.DONE\n"
          ]
        }
      ]
    },
    {
      "cell_type": "code",
      "source": [
        "# 중간에 세션이 종료된 경우 기존에 실행이 완료된 Job을 복구하는 방법\n",
        "#job = backend.retrieve_job(\"arn:aws:braket:us-east-1:746669231099:quantum-task/f6fab6be-1590-4da0-914a-fade74efc485\")"
      ],
      "metadata": {
        "id": "uiCBc1tfnSMC"
      },
      "execution_count": 30,
      "outputs": []
    },
    {
      "cell_type": "code",
      "source": [
        "result = job.result()\n",
        "result"
      ],
      "metadata": {
        "id": "Ur_wQg-kxLLq",
        "outputId": "9f4e06c2-2215-4de8-cb89-438e44c4e4b4",
        "colab": {
          "base_uri": "https://localhost:8080/"
        }
      },
      "execution_count": 31,
      "outputs": [
        {
          "output_type": "execute_result",
          "data": {
            "text/plain": [
              "Result(backend_name='SV1', backend_version='2', qobj_id='0', job_id='arn:aws:braket:us-east-1:590183937332:quantum-task/cea2d2b9-8015-4e03-a159-5a26573a904a', success=True, results=[ExperimentResult(shots=1024, success=True, meas_level=2, data=ExperimentResultData(counts={'000': 512, '111': 512}, memory=['000', '000', '111', '111', '111', '000', '111', '000', '111', '000', '111', '000', '000', '000', '000', '111', '000', '111', '000', '111', '111', '111', '000', '000', '111', '000', '000', '000', '111', '000', '111', '111', '111', '000', '111', '111', '000', '111', '000', '000', '000', '111', '111', '000', '111', '000', '000', '000', '000', '111', '000', '000', '000', '111', '000', '000', '111', '000', '000', '111', '111', '000', '000', '000', '111', '111', '111', '111', '111', '111', '111', '111', '111', '111', '000', '111', '111', '111', '000', '000', '111', '111', '111', '000', '111', '000', '111', '111', '111', '111', '111', '000', '111', '000', '111', '111', '000', '111', '111', '111', '111', '111', '111', '111', '111', '000', '000', '000', '000', '111', '000', '111', '000', '000', '000', '000', '000', '111', '111', '111', '000', '111', '000', '111', '111', '111', '111', '111', '000', '000', '111', '000', '000', '000', '000', '111', '111', '111', '111', '000', '111', '000', '111', '000', '000', '111', '000', '111', '000', '111', '000', '000', '000', '111', '000', '111', '111', '111', '111', '111', '000', '111', '000', '111', '111', '111', '000', '000', '000', '111', '000', '000', '000', '000', '111', '000', '000', '000', '000', '000', '000', '000', '000', '111', '111', '111', '000', '000', '000', '000', '000', '000', '000', '111', '000', '000', '111', '111', '111', '111', '111', '111', '111', '111', '111', '111', '000', '111', '111', '111', '111', '000', '000', '111', '000', '111', '111', '111', '000', '000', '111', '111', '111', '000', '111', '111', '000', '000', '000', '111', '000', '111', '000', '000', '000', '111', '000', '000', '111', '111', '111', '111', '111', '111', '111', '000', '111', '000', '000', '111', '000', '000', '000', '000', '111', '000', '111', '000', '000', '000', '000', '111', '111', '000', '000', '111', '111', '111', '000', '111', '000', '111', '000', '111', '111', '111', '000', '000', '111', '111', '111', '000', '000', '000', '000', '000', '111', '111', '111', '111', '000', '111', '111', '111', '000', '111', '111', '111', '000', '111', '000', '111', '000', '000', '000', '111', '000', '111', '000', '111', '000', '000', '111', '111', '000', '111', '111', '111', '000', '111', '111', '000', '111', '000', '000', '111', '000', '000', '000', '000', '000', '000', '111', '000', '000', '000', '000', '111', '111', '111', '111', '000', '111', '111', '111', '111', '111', '000', '000', '111', '000', '000', '000', '111', '111', '000', '111', '000', '000', '111', '000', '000', '111', '000', '000', '111', '111', '000', '111', '000', '000', '000', '111', '000', '111', '000', '000', '111', '000', '111', '111', '000', '111', '111', '000', '000', '000', '000', '000', '000', '111', '111', '111', '111', '000', '111', '111', '000', '000', '000', '111', '111', '111', '000', '000', '000', '000', '000', '111', '111', '111', '000', '111', '000', '000', '111', '000', '111', '111', '000', '000', '000', '000', '111', '000', '000', '000', '111', '000', '000', '111', '000', '000', '000', '111', '111', '000', '000', '111', '000', '111', '000', '111', '111', '000', '111', '111', '111', '111', '111', '000', '111', '000', '111', '000', '111', '111', '111', '111', '111', '000', '111', '000', '111', '111', '000', '111', '111', '000', '000', '000', '000', '111', '000', '111', '111', '111', '000', '111', '000', '000', '111', '111', '111', '000', '000', '000', '111', '111', '111', '111', '111', '000', '000', '111', '000', '111', '111', '000', '000', '111', '000', '111', '111', '111', '111', '000', '000', '111', '111', '111', '000', '111', '000', '000', '000', '000', '111', '000', '111', '000', '000', '000', '111', '000', '000', '111', '000', '000', '111', '111', '000', '000', '000', '000', '000', '111', '000', '000', '111', '111', '000', '111', '000', '111', '000', '111', '111', '000', '000', '111', '111', '000', '111', '000', '000', '111', '000', '000', '111', '111', '000', '000', '111', '000', '000', '000', '111', '111', '000', '111', '000', '000', '111', '000', '000', '111', '111', '000', '111', '000', '111', '111', '111', '111', '000', '000', '000', '111', '000', '111', '111', '000', '111', '111', '000', '111', '000', '111', '000', '111', '111', '000', '000', '000', '000', '111', '111', '000', '000', '111', '111', '000', '111', '111', '111', '111', '000', '111', '000', '000', '000', '111', '111', '111', '111', '111', '111', '111', '111', '000', '000', '000', '000', '111', '111', '000', '111', '000', '000', '000', '111', '111', '000', '111', '111', '111', '111', '111', '000', '000', '111', '000', '111', '111', '111', '000', '111', '000', '111', '000', '000', '000', '111', '000', '111', '111', '000', '000', '000', '000', '111', '000', '111', '000', '000', '111', '000', '111', '111', '111', '111', '000', '000', '000', '000', '111', '000', '000', '111', '111', '111', '000', '111', '111', '000', '000', '111', '000', '111', '111', '111', '000', '111', '111', '111', '111', '111', '000', '000', '111', '000', '111', '000', '000', '111', '000', '000', '000', '000', '111', '000', '111', '111', '000', '000', '111', '000', '111', '000', '000', '111', '000', '111', '000', '000', '000', '111', '111', '111', '000', '000', '000', '111', '000', '111', '111', '111', '000', '111', '111', '111', '111', '111', '111', '000', '111', '000', '000', '000', '000', '111', '000', '111', '111', '000', '111', '000', '000', '111', '000', '000', '111', '000', '000', '000', '111', '111', '000', '111', '000', '111', '111', '000', '111', '000', '111', '111', '000', '000', '111', '111', '000', '111', '000', '111', '111', '111', '111', '000', '111', '111', '000', '000', '111', '111', '111', '111', '111', '111', '000', '000', '000', '000', '000', '000', '111', '000', '000', '111', '000', '111', '000', '111', '000', '111', '111', '111', '111', '111', '111', '000', '111', '000', '000', '111', '000', '000', '111', '111', '111', '111', '111', '000', '111', '111', '111', '111', '111', '000', '111', '111', '000', '000', '111', '000', '111', '000', '000', '000', '000', '000', '000', '000', '000', '000', '111', '111', '000', '111', '000', '111', '000', '111', '000', '111', '111', '000', '111', '000', '111', '111', '111', '111', '111', '111', '000', '111', '111', '111', '111', '000', '000', '000', '000', '111', '000', '111', '111', '111', '000', '111', '000', '000', '000', '000', '111', '111', '000', '000', '000', '000', '111', '111', '000', '000', '111', '111', '000', '000', '111', '000', '000', '111', '111', '111', '000', '000', '000', '000', '000', '111', '111', '000', '000', '111', '111', '000', '000', '111', '111', '000', '000', '111', '000', '111', '111', '000', '111', '000', '000', '000', '000', '000', '111', '111', '111', '000', '000', '000', '000', '000', '111', '000', '111', '000', '000', '111', '000', '000', '000', '000', '111', '111', '000', '000', '111', '111', '000', '000', '111', '111', '111', '111', '111', '000', '111', '000', '000', '000', '000', '111', '000', '000', '111', '111', '111', '111', '000', '000', '000', '111', '000', '111', '000', '000', '000', '000', '111', '000', '000', '000', '000', '111', '000', '111', '111', '000', '000', '111', '000', '000', '000', '000']), status=COMPLETED)], date=None, status=JobStatus.DONE, header=None)"
            ]
          },
          "metadata": {},
          "execution_count": 31
        }
      ]
    },
    {
      "cell_type": "code",
      "source": [
        "# 결과 출력\n",
        "counts = result.get_counts()\n",
        "print(counts)"
      ],
      "metadata": {
        "id": "zwAc_6uRjjPa",
        "outputId": "2c55eb08-d3f1-492e-a9a8-476019aa818b",
        "colab": {
          "base_uri": "https://localhost:8080/"
        }
      },
      "execution_count": 32,
      "outputs": [
        {
          "output_type": "stream",
          "name": "stdout",
          "text": [
            "{'000': 512, '111': 512}\n"
          ]
        }
      ]
    },
    {
      "cell_type": "code",
      "source": [
        "from qiskit.visualization import plot_histogram\n",
        "plot_histogram(data=counts)"
      ],
      "metadata": {
        "colab": {
          "base_uri": "https://localhost:8080/",
          "height": 446
        },
        "id": "hYn_-AuCWCHY",
        "outputId": "786b729b-5384-4b86-b8ba-b20f6653d457"
      },
      "execution_count": 33,
      "outputs": [
        {
          "output_type": "execute_result",
          "data": {
            "text/plain": [
              "<Figure size 640x480 with 1 Axes>"
            ],
            "image/png": "[encoded data removed]"
          },
          "metadata": {},
          "execution_count": 33
        }
      ]
    },
    {
      "cell_type": "code",
      "source": [
        "print(\"Quantum Task Summary\\n\")\n",
        "print(t.quantum_tasks_statistics())\n",
        "print('\\nNote: Charges shown are estimates based on your Amazon Braket simulator and quantum processing unit (QPU) task usage. \\nEstimated charges shown may differ from your actual charges. \\nEstimated charges do not factor in any discounts or credits, \\nand you may experience additional charges based on your use of other services such as Amazon Elastic Compute Cloud (Amazon EC2).')\n",
        "print(f\"\\nEstimated cost to run this example: {t.qpu_tasks_cost() + t.simulator_tasks_cost():.2f} USD\")"
      ],
      "metadata": {
        "colab": {
          "base_uri": "https://localhost:8080/"
        },
        "id": "vOjIFGML9IXu",
        "outputId": "17590215-c0aa-43f0-bc12-959c2dcd6e0a"
      },
      "execution_count": null,
      "outputs": [
        {
          "output_type": "stream",
          "name": "stdout",
          "text": [
            "Quantum Task Summary\n",
            "\n",
            "{'arn:aws:braket:::device/quantum-simulator/amazon/sv1': {'shots': 1024, 'tasks': {'COMPLETED': 1}, 'execution_duration': datetime.timedelta(microseconds=3000), 'billed_execution_duration': datetime.timedelta(seconds=3)}}\n",
            "\n",
            "Note: Charges shown are estimates based on your Amazon Braket simulator and quantum processing unit (QPU) task usage. \n",
            "Estimated charges shown may differ from your actual charges. \n",
            "Estimated charges do not factor in any discounts or credits, \n",
            "and you may experience additional charges based on your use of other services such as Amazon Elastic Compute Cloud (Amazon EC2).\n",
            "\n",
            "Estimated cost to run this example: 0.00 USD\n"
          ]
        }
      ]
    }
  ]
}