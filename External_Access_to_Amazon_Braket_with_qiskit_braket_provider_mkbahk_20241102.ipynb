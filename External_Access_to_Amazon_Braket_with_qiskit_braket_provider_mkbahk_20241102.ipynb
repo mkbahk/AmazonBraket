{
  "nbformat": 4,
  "nbformat_minor": 0,
  "metadata": {
    "colab": {
      "provenance": [],
      "authorship_tag": "ABX9TyMbrlDRBNhI4bHQ9wzu+A0k",
      "include_colab_link": true
    },
    "kernelspec": {
      "name": "python3",
      "display_name": "Python 3"
    },
    "language_info": {
      "name": "python"
    }
  },
  "cells": [
    {
      "cell_type": "markdown",
      "metadata": {
        "id": "view-in-github",
        "colab_type": "text"
      },
      "source": [
        "<a href=\"https://colab.research.google.com/github/mkbahk/AmazonBraket/blob/main/External_Access_to_Amazon_Braket_with_qiskit_braket_provider_mkbahk_20241102.ipynb\" target=\"_parent\"><img src=\"https://colab.research.google.com/assets/colab-badge.svg\" alt=\"Open In Colab\"/></a>"
      ]
    },
    {
      "cell_type": "markdown",
      "source": [
        "# 작업순서\n",
        "1. Amazon Braket 환경 설정(확인만)\n",
        "2. S3 환경설정(확인만)\n",
        "3. (중요) IAM을 이용한 Access Key 설정 및 권한 부여\n",
        "4. 원격 작업\n",
        "5. 각종 로그 보기\n",
        "6. 작업 환경 정리\n"
      ],
      "metadata": {
        "id": "_S3DWMw_3Ryp"
      }
    },
    {
      "cell_type": "code",
      "execution_count": null,
      "metadata": {
        "colab": {
          "base_uri": "https://localhost:8080/"
        },
        "id": "7SvhhzmlRgZ9",
        "outputId": "7d63f6b3-668a-40a7-88c6-409c01a60fdc"
      },
      "outputs": [
        {
          "output_type": "stream",
          "name": "stdout",
          "text": [
            "Collecting qiskit==1.0.2 (from qiskit[visualization]==1.0.2)\n",
            "  Downloading qiskit-1.0.2-cp38-abi3-manylinux_2_17_x86_64.manylinux2014_x86_64.whl.metadata (12 kB)\n",
            "Collecting rustworkx>=0.14.0 (from qiskit==1.0.2->qiskit[visualization]==1.0.2)\n",
            "  Downloading rustworkx-0.15.1-cp38-abi3-manylinux_2_17_x86_64.manylinux2014_x86_64.whl.metadata (9.9 kB)\n",
            "Requirement already satisfied: numpy<2,>=1.17 in /usr/local/lib/python3.10/dist-packages (from qiskit==1.0.2->qiskit[visualization]==1.0.2) (1.26.4)\n",
            "Requirement already satisfied: scipy>=1.5 in /usr/local/lib/python3.10/dist-packages (from qiskit==1.0.2->qiskit[visualization]==1.0.2) (1.13.1)\n",
            "Requirement already satisfied: sympy>=1.3 in /usr/local/lib/python3.10/dist-packages (from qiskit==1.0.2->qiskit[visualization]==1.0.2) (1.13.1)\n",
            "Collecting dill>=0.3 (from qiskit==1.0.2->qiskit[visualization]==1.0.2)\n",
            "  Downloading dill-0.3.9-py3-none-any.whl.metadata (10 kB)\n",
            "Requirement already satisfied: python-dateutil>=2.8.0 in /usr/local/lib/python3.10/dist-packages (from qiskit==1.0.2->qiskit[visualization]==1.0.2) (2.8.2)\n",
            "Collecting stevedore>=3.0.0 (from qiskit==1.0.2->qiskit[visualization]==1.0.2)\n",
            "  Downloading stevedore-5.3.0-py3-none-any.whl.metadata (2.3 kB)\n",
            "Requirement already satisfied: typing-extensions in /usr/local/lib/python3.10/dist-packages (from qiskit==1.0.2->qiskit[visualization]==1.0.2) (4.12.2)\n",
            "Collecting symengine>=0.11 (from qiskit==1.0.2->qiskit[visualization]==1.0.2)\n",
            "  Downloading symengine-0.13.0-cp310-cp310-manylinux_2_17_x86_64.manylinux2014_x86_64.whl.metadata (1.2 kB)\n",
            "Requirement already satisfied: matplotlib>=3.3 in /usr/local/lib/python3.10/dist-packages (from qiskit[visualization]==1.0.2) (3.8.0)\n",
            "Requirement already satisfied: pydot in /usr/local/lib/python3.10/dist-packages (from qiskit[visualization]==1.0.2) (3.0.2)\n",
            "Requirement already satisfied: Pillow>=4.2.1 in /usr/local/lib/python3.10/dist-packages (from qiskit[visualization]==1.0.2) (10.4.0)\n",
            "Collecting pylatexenc>=1.4 (from qiskit[visualization]==1.0.2)\n",
            "  Downloading pylatexenc-2.10.tar.gz (162 kB)\n",
            "\u001b[2K     \u001b[90m━━━━━━━━━━━━━━━━━━━━━━━━━━━━━━━━━━━━━━━━\u001b[0m \u001b[32m162.6/162.6 kB\u001b[0m \u001b[31m4.7 MB/s\u001b[0m eta \u001b[36m0:00:00\u001b[0m\n",
            "\u001b[?25h  Preparing metadata (setup.py) ... \u001b[?25l\u001b[?25hdone\n",
            "Requirement already satisfied: seaborn>=0.9.0 in /usr/local/lib/python3.10/dist-packages (from qiskit[visualization]==1.0.2) (0.13.2)\n",
            "Requirement already satisfied: contourpy>=1.0.1 in /usr/local/lib/python3.10/dist-packages (from matplotlib>=3.3->qiskit[visualization]==1.0.2) (1.3.0)\n",
            "Requirement already satisfied: cycler>=0.10 in /usr/local/lib/python3.10/dist-packages (from matplotlib>=3.3->qiskit[visualization]==1.0.2) (0.12.1)\n",
            "Requirement already satisfied: fonttools>=4.22.0 in /usr/local/lib/python3.10/dist-packages (from matplotlib>=3.3->qiskit[visualization]==1.0.2) (4.54.1)\n",
            "Requirement already satisfied: kiwisolver>=1.0.1 in /usr/local/lib/python3.10/dist-packages (from matplotlib>=3.3->qiskit[visualization]==1.0.2) (1.4.7)\n",
            "Requirement already satisfied: packaging>=20.0 in /usr/local/lib/python3.10/dist-packages (from matplotlib>=3.3->qiskit[visualization]==1.0.2) (24.1)\n",
            "Requirement already satisfied: pyparsing>=2.3.1 in /usr/local/lib/python3.10/dist-packages (from matplotlib>=3.3->qiskit[visualization]==1.0.2) (3.2.0)\n",
            "Requirement already satisfied: six>=1.5 in /usr/local/lib/python3.10/dist-packages (from python-dateutil>=2.8.0->qiskit==1.0.2->qiskit[visualization]==1.0.2) (1.16.0)\n",
            "Requirement already satisfied: pandas>=1.2 in /usr/local/lib/python3.10/dist-packages (from seaborn>=0.9.0->qiskit[visualization]==1.0.2) (2.2.2)\n",
            "Collecting pbr>=2.0.0 (from stevedore>=3.0.0->qiskit==1.0.2->qiskit[visualization]==1.0.2)\n",
            "  Downloading pbr-6.1.0-py2.py3-none-any.whl.metadata (3.4 kB)\n",
            "Requirement already satisfied: mpmath<1.4,>=1.1.0 in /usr/local/lib/python3.10/dist-packages (from sympy>=1.3->qiskit==1.0.2->qiskit[visualization]==1.0.2) (1.3.0)\n",
            "Requirement already satisfied: pytz>=2020.1 in /usr/local/lib/python3.10/dist-packages (from pandas>=1.2->seaborn>=0.9.0->qiskit[visualization]==1.0.2) (2024.2)\n",
            "Requirement already satisfied: tzdata>=2022.7 in /usr/local/lib/python3.10/dist-packages (from pandas>=1.2->seaborn>=0.9.0->qiskit[visualization]==1.0.2) (2024.2)\n",
            "Downloading qiskit-1.0.2-cp38-abi3-manylinux_2_17_x86_64.manylinux2014_x86_64.whl (5.6 MB)\n",
            "\u001b[2K   \u001b[90m━━━━━━━━━━━━━━━━━━━━━━━━━━━━━━━━━━━━━━━━\u001b[0m \u001b[32m5.6/5.6 MB\u001b[0m \u001b[31m58.2 MB/s\u001b[0m eta \u001b[36m0:00:00\u001b[0m\n",
            "\u001b[?25hDownloading dill-0.3.9-py3-none-any.whl (119 kB)\n",
            "\u001b[2K   \u001b[90m━━━━━━━━━━━━━━━━━━━━━━━━━━━━━━━━━━━━━━━━\u001b[0m \u001b[32m119.4/119.4 kB\u001b[0m \u001b[31m7.6 MB/s\u001b[0m eta \u001b[36m0:00:00\u001b[0m\n",
            "\u001b[?25hDownloading rustworkx-0.15.1-cp38-abi3-manylinux_2_17_x86_64.manylinux2014_x86_64.whl (2.0 MB)\n",
            "\u001b[2K   \u001b[90m━━━━━━━━━━━━━━━━━━━━━━━━━━━━━━━━━━━━━━━━\u001b[0m \u001b[32m2.0/2.0 MB\u001b[0m \u001b[31m46.3 MB/s\u001b[0m eta \u001b[36m0:00:00\u001b[0m\n",
            "\u001b[?25hDownloading stevedore-5.3.0-py3-none-any.whl (49 kB)\n",
            "\u001b[2K   \u001b[90m━━━━━━━━━━━━━━━━━━━━━━━━━━━━━━━━━━━━━━━━\u001b[0m \u001b[32m49.7/49.7 kB\u001b[0m \u001b[31m3.2 MB/s\u001b[0m eta \u001b[36m0:00:00\u001b[0m\n",
            "\u001b[?25hDownloading symengine-0.13.0-cp310-cp310-manylinux_2_17_x86_64.manylinux2014_x86_64.whl (49.7 MB)\n",
            "\u001b[2K   \u001b[90m━━━━━━━━━━━━━━━━━━━━━━━━━━━━━━━━━━━━━━━━\u001b[0m \u001b[32m49.7/49.7 MB\u001b[0m \u001b[31m10.4 MB/s\u001b[0m eta \u001b[36m0:00:00\u001b[0m\n",
            "\u001b[?25hDownloading pbr-6.1.0-py2.py3-none-any.whl (108 kB)\n",
            "\u001b[2K   \u001b[90m━━━━━━━━━━━━━━━━━━━━━━━━━━━━━━━━━━━━━━━━\u001b[0m \u001b[32m108.5/108.5 kB\u001b[0m \u001b[31m7.3 MB/s\u001b[0m eta \u001b[36m0:00:00\u001b[0m\n",
            "\u001b[?25hBuilding wheels for collected packages: pylatexenc\n",
            "  Building wheel for pylatexenc (setup.py) ... \u001b[?25l\u001b[?25hdone\n",
            "  Created wheel for pylatexenc: filename=pylatexenc-2.10-py3-none-any.whl size=136816 sha256=c6fe03980376bc31bb8bed6ba0bfe5cac89c057a71d0235883acc6866be77eeb\n",
            "  Stored in directory: /root/.cache/pip/wheels/d3/31/8b/e09b0386afd80cfc556c00408c9aeea5c35c4d484a9c762fd5\n",
            "Successfully built pylatexenc\n",
            "Installing collected packages: pylatexenc, symengine, rustworkx, pbr, dill, stevedore, qiskit\n",
            "Successfully installed dill-0.3.9 pbr-6.1.0 pylatexenc-2.10 qiskit-1.0.2 rustworkx-0.15.1 stevedore-5.3.0 symengine-0.13.0\n",
            "Collecting qiskit-braket-provider==0.4.1\n",
            "  Downloading qiskit_braket_provider-0.4.1-py3-none-any.whl.metadata (3.7 kB)\n",
            "Requirement already satisfied: certifi>=2021.5.30 in /usr/local/lib/python3.10/dist-packages (from qiskit-braket-provider==0.4.1) (2024.8.30)\n",
            "Requirement already satisfied: qiskit>=0.34.2 in /usr/local/lib/python3.10/dist-packages (from qiskit-braket-provider==0.4.1) (1.0.2)\n",
            "Collecting qiskit-ionq>=0.5.2 (from qiskit-braket-provider==0.4.1)\n",
            "  Downloading qiskit_ionq-0.5.8-py3-none-any.whl.metadata (7.8 kB)\n",
            "Collecting amazon-braket-sdk>=1.76.0 (from qiskit-braket-provider==0.4.1)\n",
            "  Downloading amazon_braket_sdk-1.88.1-py3-none-any.whl.metadata (14 kB)\n",
            "Requirement already satisfied: setuptools>=40.1.0 in /usr/local/lib/python3.10/dist-packages (from qiskit-braket-provider==0.4.1) (75.1.0)\n",
            "Requirement already satisfied: numpy>=1.3 in /usr/local/lib/python3.10/dist-packages (from qiskit-braket-provider==0.4.1) (1.26.4)\n",
            "Collecting amazon-braket-schemas>=1.21.3 (from amazon-braket-sdk>=1.76.0->qiskit-braket-provider==0.4.1)\n",
            "  Downloading amazon_braket_schemas-1.22.1-py3-none-any.whl.metadata (5.9 kB)\n",
            "Collecting amazon-braket-default-simulator>=1.26.0 (from amazon-braket-sdk>=1.76.0->qiskit-braket-provider==0.4.1)\n",
            "  Downloading amazon_braket_default_simulator-1.26.0-py3-none-any.whl.metadata (6.3 kB)\n",
            "Collecting oqpy~=0.3.5 (from amazon-braket-sdk>=1.76.0->qiskit-braket-provider==0.4.1)\n",
            "  Downloading oqpy-0.3.7-py3-none-any.whl.metadata (8.3 kB)\n",
            "Collecting backoff (from amazon-braket-sdk>=1.76.0->qiskit-braket-provider==0.4.1)\n",
            "  Downloading backoff-2.2.1-py3-none-any.whl.metadata (14 kB)\n",
            "Collecting boltons (from amazon-braket-sdk>=1.76.0->qiskit-braket-provider==0.4.1)\n",
            "  Downloading boltons-24.0.0-py3-none-any.whl.metadata (1.5 kB)\n",
            "Collecting boto3>=1.28.53 (from amazon-braket-sdk>=1.76.0->qiskit-braket-provider==0.4.1)\n",
            "  Downloading boto3-1.35.54-py3-none-any.whl.metadata (6.7 kB)\n",
            "Requirement already satisfied: cloudpickle>=3 in /usr/local/lib/python3.10/dist-packages (from amazon-braket-sdk>=1.76.0->qiskit-braket-provider==0.4.1) (3.1.0)\n",
            "Requirement already satisfied: nest-asyncio in /usr/local/lib/python3.10/dist-packages (from amazon-braket-sdk>=1.76.0->qiskit-braket-provider==0.4.1) (1.6.0)\n",
            "Requirement already satisfied: networkx in /usr/local/lib/python3.10/dist-packages (from amazon-braket-sdk>=1.76.0->qiskit-braket-provider==0.4.1) (3.4.2)\n",
            "Collecting openpulse (from amazon-braket-sdk>=1.76.0->qiskit-braket-provider==0.4.1)\n",
            "  Downloading openpulse-1.0.1-py3-none-any.whl.metadata (2.0 kB)\n",
            "Collecting openqasm3 (from amazon-braket-sdk>=1.76.0->qiskit-braket-provider==0.4.1)\n",
            "  Downloading openqasm3-1.0.0-py3-none-any.whl.metadata (6.0 kB)\n",
            "Requirement already satisfied: sympy in /usr/local/lib/python3.10/dist-packages (from amazon-braket-sdk>=1.76.0->qiskit-braket-provider==0.4.1) (1.13.1)\n",
            "Collecting backports.entry-points-selectable (from amazon-braket-sdk>=1.76.0->qiskit-braket-provider==0.4.1)\n",
            "  Downloading backports.entry_points_selectable-1.3.0-py3-none-any.whl.metadata (4.1 kB)\n",
            "Requirement already satisfied: rustworkx>=0.14.0 in /usr/local/lib/python3.10/dist-packages (from qiskit>=0.34.2->qiskit-braket-provider==0.4.1) (0.15.1)\n",
            "Requirement already satisfied: scipy>=1.5 in /usr/local/lib/python3.10/dist-packages (from qiskit>=0.34.2->qiskit-braket-provider==0.4.1) (1.13.1)\n",
            "Requirement already satisfied: dill>=0.3 in /usr/local/lib/python3.10/dist-packages (from qiskit>=0.34.2->qiskit-braket-provider==0.4.1) (0.3.9)\n",
            "Requirement already satisfied: python-dateutil>=2.8.0 in /usr/local/lib/python3.10/dist-packages (from qiskit>=0.34.2->qiskit-braket-provider==0.4.1) (2.8.2)\n",
            "Requirement already satisfied: stevedore>=3.0.0 in /usr/local/lib/python3.10/dist-packages (from qiskit>=0.34.2->qiskit-braket-provider==0.4.1) (5.3.0)\n",
            "Requirement already satisfied: typing-extensions in /usr/local/lib/python3.10/dist-packages (from qiskit>=0.34.2->qiskit-braket-provider==0.4.1) (4.12.2)\n",
            "Requirement already satisfied: symengine>=0.11 in /usr/local/lib/python3.10/dist-packages (from qiskit>=0.34.2->qiskit-braket-provider==0.4.1) (0.13.0)\n",
            "Collecting decorator>=5.1.0 (from qiskit-ionq>=0.5.2->qiskit-braket-provider==0.4.1)\n",
            "  Downloading decorator-5.1.1-py3-none-any.whl.metadata (4.0 kB)\n",
            "Requirement already satisfied: requests>=2.24.0 in /usr/local/lib/python3.10/dist-packages (from qiskit-ionq>=0.5.2->qiskit-braket-provider==0.4.1) (2.32.3)\n",
            "Collecting retry>=0.9.0 (from qiskit-ionq>=0.5.2->qiskit-braket-provider==0.4.1)\n",
            "  Downloading retry-0.9.2-py2.py3-none-any.whl.metadata (5.8 kB)\n",
            "Requirement already satisfied: importlib-metadata>=4.11.4 in /usr/local/lib/python3.10/dist-packages (from qiskit-ionq>=0.5.2->qiskit-braket-provider==0.4.1) (8.5.0)\n",
            "Collecting python-dotenv>=1.0.1 (from qiskit-ionq>=0.5.2->qiskit-braket-provider==0.4.1)\n",
            "  Downloading python_dotenv-1.0.1-py3-none-any.whl.metadata (23 kB)\n",
            "Requirement already satisfied: opt-einsum in /usr/local/lib/python3.10/dist-packages (from amazon-braket-default-simulator>=1.26.0->amazon-braket-sdk>=1.76.0->qiskit-braket-provider==0.4.1) (3.4.0)\n",
            "Requirement already satisfied: pydantic>2 in /usr/local/lib/python3.10/dist-packages (from amazon-braket-default-simulator>=1.26.0->amazon-braket-sdk>=1.76.0->qiskit-braket-provider==0.4.1) (2.9.2)\n",
            "Collecting antlr4-python3-runtime==4.9.2 (from amazon-braket-default-simulator>=1.26.0->amazon-braket-sdk>=1.76.0->qiskit-braket-provider==0.4.1)\n",
            "  Downloading antlr4-python3-runtime-4.9.2.tar.gz (117 kB)\n",
            "\u001b[2K     \u001b[90m━━━━━━━━━━━━━━━━━━━━━━━━━━━━━━━━━━━━━━━━\u001b[0m \u001b[32m117.2/117.2 kB\u001b[0m \u001b[31m4.2 MB/s\u001b[0m eta \u001b[36m0:00:00\u001b[0m\n",
            "\u001b[?25h  Preparing metadata (setup.py) ... \u001b[?25l\u001b[?25hdone\n",
            "Collecting botocore<1.36.0,>=1.35.54 (from boto3>=1.28.53->amazon-braket-sdk>=1.76.0->qiskit-braket-provider==0.4.1)\n",
            "  Downloading botocore-1.35.54-py3-none-any.whl.metadata (5.7 kB)\n",
            "Collecting jmespath<2.0.0,>=0.7.1 (from boto3>=1.28.53->amazon-braket-sdk>=1.76.0->qiskit-braket-provider==0.4.1)\n",
            "  Downloading jmespath-1.0.1-py3-none-any.whl.metadata (7.6 kB)\n",
            "Collecting s3transfer<0.11.0,>=0.10.0 (from boto3>=1.28.53->amazon-braket-sdk>=1.76.0->qiskit-braket-provider==0.4.1)\n",
            "  Downloading s3transfer-0.10.3-py3-none-any.whl.metadata (1.7 kB)\n",
            "Requirement already satisfied: zipp>=3.20 in /usr/local/lib/python3.10/dist-packages (from importlib-metadata>=4.11.4->qiskit-ionq>=0.5.2->qiskit-braket-provider==0.4.1) (3.20.2)\n",
            "Collecting mypy-extensions>=0.2.0 (from oqpy~=0.3.5->amazon-braket-sdk>=1.76.0->qiskit-braket-provider==0.4.1)\n",
            "  Downloading mypy_extensions-1.0.0-py3-none-any.whl.metadata (1.1 kB)\n",
            "Requirement already satisfied: six>=1.5 in /usr/local/lib/python3.10/dist-packages (from python-dateutil>=2.8.0->qiskit>=0.34.2->qiskit-braket-provider==0.4.1) (1.16.0)\n",
            "Requirement already satisfied: charset-normalizer<4,>=2 in /usr/local/lib/python3.10/dist-packages (from requests>=2.24.0->qiskit-ionq>=0.5.2->qiskit-braket-provider==0.4.1) (3.4.0)\n",
            "Requirement already satisfied: idna<4,>=2.5 in /usr/local/lib/python3.10/dist-packages (from requests>=2.24.0->qiskit-ionq>=0.5.2->qiskit-braket-provider==0.4.1) (3.10)\n",
            "Requirement already satisfied: urllib3<3,>=1.21.1 in /usr/local/lib/python3.10/dist-packages (from requests>=2.24.0->qiskit-ionq>=0.5.2->qiskit-braket-provider==0.4.1) (2.2.3)\n",
            "Collecting py<2.0.0,>=1.4.26 (from retry>=0.9.0->qiskit-ionq>=0.5.2->qiskit-braket-provider==0.4.1)\n",
            "  Downloading py-1.11.0-py2.py3-none-any.whl.metadata (2.8 kB)\n",
            "Requirement already satisfied: pbr>=2.0.0 in /usr/local/lib/python3.10/dist-packages (from stevedore>=3.0.0->qiskit>=0.34.2->qiskit-braket-provider==0.4.1) (6.1.0)\n",
            "Requirement already satisfied: mpmath<1.4,>=1.1.0 in /usr/local/lib/python3.10/dist-packages (from sympy->amazon-braket-sdk>=1.76.0->qiskit-braket-provider==0.4.1) (1.3.0)\n",
            "Requirement already satisfied: annotated-types>=0.6.0 in /usr/local/lib/python3.10/dist-packages (from pydantic>2->amazon-braket-default-simulator>=1.26.0->amazon-braket-sdk>=1.76.0->qiskit-braket-provider==0.4.1) (0.7.0)\n",
            "Requirement already satisfied: pydantic-core==2.23.4 in /usr/local/lib/python3.10/dist-packages (from pydantic>2->amazon-braket-default-simulator>=1.26.0->amazon-braket-sdk>=1.76.0->qiskit-braket-provider==0.4.1) (2.23.4)\n",
            "Downloading qiskit_braket_provider-0.4.1-py3-none-any.whl (37 kB)\n",
            "Downloading amazon_braket_sdk-1.88.1-py3-none-any.whl (315 kB)\n",
            "\u001b[2K   \u001b[90m━━━━━━━━━━━━━━━━━━━━━━━━━━━━━━━━━━━━━━━━\u001b[0m \u001b[32m315.6/315.6 kB\u001b[0m \u001b[31m15.2 MB/s\u001b[0m eta \u001b[36m0:00:00\u001b[0m\n",
            "\u001b[?25hDownloading qiskit_ionq-0.5.8-py3-none-any.whl (41 kB)\n",
            "\u001b[2K   \u001b[90m━━━━━━━━━━━━━━━━━━━━━━━━━━━━━━━━━━━━━━━━\u001b[0m \u001b[32m41.9/41.9 kB\u001b[0m \u001b[31m2.8 MB/s\u001b[0m eta \u001b[36m0:00:00\u001b[0m\n",
            "\u001b[?25hDownloading amazon_braket_default_simulator-1.26.0-py3-none-any.whl (223 kB)\n",
            "\u001b[2K   \u001b[90m━━━━━━━━━━━━━━━━━━━━━━━━━━━━━━━━━━━━━━━━\u001b[0m \u001b[32m224.0/224.0 kB\u001b[0m \u001b[31m12.3 MB/s\u001b[0m eta \u001b[36m0:00:00\u001b[0m\n",
            "\u001b[?25hDownloading amazon_braket_schemas-1.22.1-py3-none-any.whl (125 kB)\n",
            "\u001b[2K   \u001b[90m━━━━━━━━━━━━━━━━━━━━━━━━━━━━━━━━━━━━━━━━\u001b[0m \u001b[32m125.6/125.6 kB\u001b[0m \u001b[31m7.6 MB/s\u001b[0m eta \u001b[36m0:00:00\u001b[0m\n",
            "\u001b[?25hDownloading boto3-1.35.54-py3-none-any.whl (139 kB)\n",
            "\u001b[2K   \u001b[90m━━━━━━━━━━━━━━━━━━━━━━━━━━━━━━━━━━━━━━━━\u001b[0m \u001b[32m139.2/139.2 kB\u001b[0m \u001b[31m8.7 MB/s\u001b[0m eta \u001b[36m0:00:00\u001b[0m\n",
            "\u001b[?25hDownloading decorator-5.1.1-py3-none-any.whl (9.1 kB)\n",
            "Downloading oqpy-0.3.7-py3-none-any.whl (36 kB)\n",
            "Downloading openpulse-1.0.1-py3-none-any.whl (537 kB)\n",
            "\u001b[2K   \u001b[90m━━━━━━━━━━━━━━━━━━━━━━━━━━━━━━━━━━━━━━━━\u001b[0m \u001b[32m537.8/537.8 kB\u001b[0m \u001b[31m17.3 MB/s\u001b[0m eta \u001b[36m0:00:00\u001b[0m\n",
            "\u001b[?25hDownloading openqasm3-1.0.0-py3-none-any.whl (539 kB)\n",
            "\u001b[2K   \u001b[90m━━━━━━━━━━━━━━━━━━━━━━━━━━━━━━━━━━━━━━━━\u001b[0m \u001b[32m539.8/539.8 kB\u001b[0m \u001b[31m22.9 MB/s\u001b[0m eta \u001b[36m0:00:00\u001b[0m\n",
            "\u001b[?25hDownloading python_dotenv-1.0.1-py3-none-any.whl (19 kB)\n",
            "Downloading retry-0.9.2-py2.py3-none-any.whl (8.0 kB)\n",
            "Downloading backoff-2.2.1-py3-none-any.whl (15 kB)\n",
            "Downloading backports.entry_points_selectable-1.3.0-py3-none-any.whl (6.2 kB)\n",
            "Downloading boltons-24.0.0-py3-none-any.whl (191 kB)\n",
            "\u001b[2K   \u001b[90m━━━━━━━━━━━━━━━━━━━━━━━━━━━━━━━━━━━━━━━━\u001b[0m \u001b[32m191.7/191.7 kB\u001b[0m \u001b[31m6.9 MB/s\u001b[0m eta \u001b[36m0:00:00\u001b[0m\n",
            "\u001b[?25hDownloading botocore-1.35.54-py3-none-any.whl (12.7 MB)\n",
            "\u001b[2K   \u001b[90m━━━━━━━━━━━━━━━━━━━━━━━━━━━━━━━━━━━━━━━━\u001b[0m \u001b[32m12.7/12.7 MB\u001b[0m \u001b[31m47.9 MB/s\u001b[0m eta \u001b[36m0:00:00\u001b[0m\n",
            "\u001b[?25hDownloading jmespath-1.0.1-py3-none-any.whl (20 kB)\n",
            "Downloading mypy_extensions-1.0.0-py3-none-any.whl (4.7 kB)\n",
            "Downloading py-1.11.0-py2.py3-none-any.whl (98 kB)\n",
            "\u001b[2K   \u001b[90m━━━━━━━━━━━━━━━━━━━━━━━━━━━━━━━━━━━━━━━━\u001b[0m \u001b[32m98.7/98.7 kB\u001b[0m \u001b[31m6.0 MB/s\u001b[0m eta \u001b[36m0:00:00\u001b[0m\n",
            "\u001b[?25hDownloading s3transfer-0.10.3-py3-none-any.whl (82 kB)\n",
            "\u001b[2K   \u001b[90m━━━━━━━━━━━━━━━━━━━━━━━━━━━━━━━━━━━━━━━━\u001b[0m \u001b[32m82.6/82.6 kB\u001b[0m \u001b[31m5.4 MB/s\u001b[0m eta \u001b[36m0:00:00\u001b[0m\n",
            "\u001b[?25hBuilding wheels for collected packages: antlr4-python3-runtime\n",
            "  Building wheel for antlr4-python3-runtime (setup.py) ... \u001b[?25l\u001b[?25hdone\n",
            "  Created wheel for antlr4-python3-runtime: filename=antlr4_python3_runtime-4.9.2-py3-none-any.whl size=144546 sha256=d2dca4f31ae5e4b7ab49b89b3cfc1e00705bc5264893eb2b6a38b749fb08415c\n",
            "  Stored in directory: /root/.cache/pip/wheels/af/c8/1f/dd6d90c5974896e85709e017986a6f72fcf32343bea042bc03\n",
            "Successfully built antlr4-python3-runtime\n",
            "Installing collected packages: openqasm3, antlr4-python3-runtime, python-dotenv, py, mypy-extensions, jmespath, decorator, boltons, backports.entry-points-selectable, backoff, retry, openpulse, botocore, s3transfer, qiskit-ionq, oqpy, amazon-braket-schemas, boto3, amazon-braket-default-simulator, amazon-braket-sdk, qiskit-braket-provider\n",
            "  Attempting uninstall: decorator\n",
            "    Found existing installation: decorator 4.4.2\n",
            "    Uninstalling decorator-4.4.2:\n",
            "      Successfully uninstalled decorator-4.4.2\n",
            "\u001b[31mERROR: pip's dependency resolver does not currently take into account all the packages that are installed. This behaviour is the source of the following dependency conflicts.\n",
            "ipython 7.34.0 requires jedi>=0.16, which is not installed.\n",
            "moviepy 1.0.3 requires decorator<5.0,>=4.0.2, but you have decorator 5.1.1 which is incompatible.\u001b[0m\u001b[31m\n",
            "\u001b[0mSuccessfully installed amazon-braket-default-simulator-1.26.0 amazon-braket-schemas-1.22.1 amazon-braket-sdk-1.88.1 antlr4-python3-runtime-4.9.2 backoff-2.2.1 backports.entry-points-selectable-1.3.0 boltons-24.0.0 boto3-1.35.54 botocore-1.35.54 decorator-5.1.1 jmespath-1.0.1 mypy-extensions-1.0.0 openpulse-1.0.1 openqasm3-1.0.0 oqpy-0.3.7 py-1.11.0 python-dotenv-1.0.1 qiskit-braket-provider-0.4.1 qiskit-ionq-0.5.8 retry-0.9.2 s3transfer-0.10.3\n",
            "Requirement already satisfied: amazon-braket-sdk in /usr/local/lib/python3.10/dist-packages (1.88.1)\n",
            "Requirement already satisfied: amazon-braket-schemas>=1.21.3 in /usr/local/lib/python3.10/dist-packages (from amazon-braket-sdk) (1.22.1)\n",
            "Requirement already satisfied: amazon-braket-default-simulator>=1.26.0 in /usr/local/lib/python3.10/dist-packages (from amazon-braket-sdk) (1.26.0)\n",
            "Requirement already satisfied: oqpy~=0.3.5 in /usr/local/lib/python3.10/dist-packages (from amazon-braket-sdk) (0.3.7)\n",
            "Requirement already satisfied: backoff in /usr/local/lib/python3.10/dist-packages (from amazon-braket-sdk) (2.2.1)\n",
            "Requirement already satisfied: boltons in /usr/local/lib/python3.10/dist-packages (from amazon-braket-sdk) (24.0.0)\n",
            "Requirement already satisfied: boto3>=1.28.53 in /usr/local/lib/python3.10/dist-packages (from amazon-braket-sdk) (1.35.54)\n",
            "Requirement already satisfied: cloudpickle>=3 in /usr/local/lib/python3.10/dist-packages (from amazon-braket-sdk) (3.1.0)\n",
            "Requirement already satisfied: nest-asyncio in /usr/local/lib/python3.10/dist-packages (from amazon-braket-sdk) (1.6.0)\n",
            "Requirement already satisfied: networkx in /usr/local/lib/python3.10/dist-packages (from amazon-braket-sdk) (3.4.2)\n",
            "Requirement already satisfied: numpy in /usr/local/lib/python3.10/dist-packages (from amazon-braket-sdk) (1.26.4)\n",
            "Requirement already satisfied: openpulse in /usr/local/lib/python3.10/dist-packages (from amazon-braket-sdk) (1.0.1)\n",
            "Requirement already satisfied: openqasm3 in /usr/local/lib/python3.10/dist-packages (from amazon-braket-sdk) (1.0.0)\n",
            "Requirement already satisfied: sympy in /usr/local/lib/python3.10/dist-packages (from amazon-braket-sdk) (1.13.1)\n",
            "Requirement already satisfied: backports.entry-points-selectable in /usr/local/lib/python3.10/dist-packages (from amazon-braket-sdk) (1.3.0)\n",
            "Requirement already satisfied: opt-einsum in /usr/local/lib/python3.10/dist-packages (from amazon-braket-default-simulator>=1.26.0->amazon-braket-sdk) (3.4.0)\n",
            "Requirement already satisfied: pydantic>2 in /usr/local/lib/python3.10/dist-packages (from amazon-braket-default-simulator>=1.26.0->amazon-braket-sdk) (2.9.2)\n",
            "Requirement already satisfied: scipy in /usr/local/lib/python3.10/dist-packages (from amazon-braket-default-simulator>=1.26.0->amazon-braket-sdk) (1.13.1)\n",
            "Requirement already satisfied: antlr4-python3-runtime==4.9.2 in /usr/local/lib/python3.10/dist-packages (from amazon-braket-default-simulator>=1.26.0->amazon-braket-sdk) (4.9.2)\n",
            "Requirement already satisfied: botocore<1.36.0,>=1.35.54 in /usr/local/lib/python3.10/dist-packages (from boto3>=1.28.53->amazon-braket-sdk) (1.35.54)\n",
            "Requirement already satisfied: jmespath<2.0.0,>=0.7.1 in /usr/local/lib/python3.10/dist-packages (from boto3>=1.28.53->amazon-braket-sdk) (1.0.1)\n",
            "Requirement already satisfied: s3transfer<0.11.0,>=0.10.0 in /usr/local/lib/python3.10/dist-packages (from boto3>=1.28.53->amazon-braket-sdk) (0.10.3)\n",
            "Requirement already satisfied: mypy-extensions>=0.2.0 in /usr/local/lib/python3.10/dist-packages (from oqpy~=0.3.5->amazon-braket-sdk) (1.0.0)\n",
            "Requirement already satisfied: mpmath<1.4,>=1.1.0 in /usr/local/lib/python3.10/dist-packages (from sympy->amazon-braket-sdk) (1.3.0)\n",
            "Requirement already satisfied: python-dateutil<3.0.0,>=2.1 in /usr/local/lib/python3.10/dist-packages (from botocore<1.36.0,>=1.35.54->boto3>=1.28.53->amazon-braket-sdk) (2.8.2)\n",
            "Requirement already satisfied: urllib3!=2.2.0,<3,>=1.25.4 in /usr/local/lib/python3.10/dist-packages (from botocore<1.36.0,>=1.35.54->boto3>=1.28.53->amazon-braket-sdk) (2.2.3)\n",
            "Requirement already satisfied: annotated-types>=0.6.0 in /usr/local/lib/python3.10/dist-packages (from pydantic>2->amazon-braket-default-simulator>=1.26.0->amazon-braket-sdk) (0.7.0)\n",
            "Requirement already satisfied: pydantic-core==2.23.4 in /usr/local/lib/python3.10/dist-packages (from pydantic>2->amazon-braket-default-simulator>=1.26.0->amazon-braket-sdk) (2.23.4)\n",
            "Requirement already satisfied: typing-extensions>=4.6.1 in /usr/local/lib/python3.10/dist-packages (from pydantic>2->amazon-braket-default-simulator>=1.26.0->amazon-braket-sdk) (4.12.2)\n",
            "Requirement already satisfied: six>=1.5 in /usr/local/lib/python3.10/dist-packages (from python-dateutil<3.0.0,>=2.1->botocore<1.36.0,>=1.35.54->boto3>=1.28.53->amazon-braket-sdk) (1.16.0)\n"
          ]
        }
      ],
      "source": [
        "!python3 -m pip install qiskit[visualization]==1.0.2\n",
        "!python3 -m pip install qiskit-braket-provider==0.4.1\n",
        "!python3 -m pip install amazon-braket-sdk\n",
        "#!python3 -m pip install boto3\n",
        "#!python3 -m pip install botocore"
      ]
    },
    {
      "cell_type": "code",
      "source": [
        "# Use Braket SDK Cost Tracking to estimate the cost to run this example\n",
        "from braket.tracking import Tracker\n",
        "t = Tracker().start()"
      ],
      "metadata": {
        "id": "fXoKI14o86aj"
      },
      "execution_count": null,
      "outputs": []
    },
    {
      "cell_type": "code",
      "source": [
        "import os\n",
        "# Set environment variables for AWS credentials\n",
        "os.environ['AWS_ACCESS_KEY_ID'] = \"\"\n",
        "os.environ['AWS_SECRET_ACCESS_KEY'] = \"\"\n",
        "os.environ['AWS_DEFAULT_REGION'] = \"us-east-1\"\n",
        "\n",
        "# You can optionally set the s3 bucket and prefix using environment variables\n",
        "#os.environ['AWS_BRAKET_S3_BUCKET'] = \"snuqc\"\n",
        "#os.environ['AWS_BRAKET_S3_PREFIX'] = \"amazonbraket\""
      ],
      "metadata": {
        "id": "YT-ELFqIS8Cg"
      },
      "execution_count": null,
      "outputs": []
    },
    {
      "cell_type": "code",
      "source": [
        "from qiskit_braket_provider import BraketLocalBackend\n",
        "\n",
        "local_simulator = BraketLocalBackend()\n",
        "#local_sv_simulator = BraketLocalBackend(name='braket_sv')\n",
        "#local_dm_simulator = BraketLocalBackend(name='braket_dm')"
      ],
      "metadata": {
        "id": "KQ52xN1af5Xl"
      },
      "execution_count": null,
      "outputs": []
    },
    {
      "cell_type": "code",
      "source": [
        "from qiskit_braket_provider import BraketProvider\n",
        "\n",
        "provider = BraketProvider()\n",
        "provider.backends(statuses=[\"ONLINE\"], types=[\"SIMULATOR\"])\n",
        "print(provider.backends())"
      ],
      "metadata": {
        "colab": {
          "base_uri": "https://localhost:8080/"
        },
        "id": "kIiG5YzQd4Il",
        "outputId": "2fa75de4-5d6a-43b9-875a-f63478546216"
      },
      "execution_count": null,
      "outputs": [
        {
          "output_type": "stream",
          "name": "stdout",
          "text": [
            "[BraketBackend[Ankaa-2], BraketBackend[Aria 1], BraketBackend[Aria 2], BraketBackend[Forte 1], BraketBackend[Garnet], BraketBackend[SV1], BraketBackend[TN1], BraketBackend[dm1]]\n"
          ]
        }
      ]
    },
    {
      "cell_type": "code",
      "source": [
        "#backend = provider.get_backend(\"Aria 1\")\n",
        "#backend = provider.get_backend(\"Aria 2\")\n",
        "#backend = provider.get_backend(\"Forte 1\")\n",
        "\n",
        "#backend= provider.get_backend(\"Ankaa-2\")\n",
        "#backend = provider.get_backend(\"Aspen-M-3\")\n",
        "\n",
        "#Ibackend = provider.get_backend(\"Garnet\")\n",
        "\n",
        "backend = provider.get_backend(\"SV1\")\n",
        "#backend = provider.get_backend(\"dm1\")\n",
        "#backend = provider.get_backend(\"TN1\")"
      ],
      "metadata": {
        "id": "xGdf665MeDa1"
      },
      "execution_count": null,
      "outputs": []
    },
    {
      "cell_type": "code",
      "source": [
        "from qiskit import QuantumCircuit\n",
        "\n",
        "circuit = QuantumCircuit(3)\n",
        "circuit.h(0)\n",
        "circuit.cx(0, 1)\n",
        "circuit.cx(0, 2)\n",
        "circuit.measure_all()\n"
      ],
      "metadata": {
        "id": "t0tXM48IVua2"
      },
      "execution_count": null,
      "outputs": []
    },
    {
      "cell_type": "code",
      "source": [
        "circuit.draw(\"mpl\")"
      ],
      "metadata": {
        "id": "2KODLorCw-A7",
        "outputId": "41d868da-b41a-4195-8ef4-a89cd73f7d7b",
        "colab": {
          "base_uri": "https://localhost:8080/",
          "height": 320
        }
      },
      "execution_count": null,
      "outputs": [
        {
          "output_type": "execute_result",
          "data": {
            "text/plain": [
              "<Figure size 747.609x367.889 with 1 Axes>"
            ],
            "image/png": "[encoded data removed]"
          },
          "metadata": {},
          "execution_count": 10
        }
      ]
    },
    {
      "cell_type": "code",
      "source": [
        "from qiskit.compiler import transpile, assemble\n",
        "trans_qc = transpile(circuit, backend)\n",
        "trans_qc.draw(\"mpl\")"
      ],
      "metadata": {
        "colab": {
          "base_uri": "https://localhost:8080/",
          "height": 320
        },
        "id": "7XeFTYu-emzY",
        "outputId": "6c86fa7e-3b1c-4f3c-f3ae-56ba5415759d"
      },
      "execution_count": null,
      "outputs": [
        {
          "output_type": "execute_result",
          "data": {
            "text/plain": [
              "<Figure size 747.609x367.889 with 1 Axes>"
            ],
            "image/png": "[encoded data removed]"
          },
          "metadata": {},
          "execution_count": 11
        }
      ]
    },
    {
      "cell_type": "code",
      "source": [
        "from qiskit.providers.jobstatus import JobStatus\n",
        "import time\n",
        "\n",
        "job = backend.run(trans_qc, shots=1024)\n",
        "\n",
        "print(\"Job ID is\", job.job_id(),\"\\n\")\n",
        "\n",
        "# 제출된 잡에 대한 지속적인 실행 상태 확인\n",
        "#while job.status() is not JobStatus.DONE:\n",
        "#\tprint(\"Job status is\", job.status() )\n",
        "#\ttime.sleep(2)\n",
        "###while"
      ],
      "metadata": {
        "colab": {
          "base_uri": "https://localhost:8080/"
        },
        "id": "fbj-_FDLV2wL",
        "outputId": "1d660071-36cd-4971-c886-ea69001242ac"
      },
      "execution_count": null,
      "outputs": [
        {
          "output_type": "stream",
          "name": "stderr",
          "text": [
            "/usr/local/lib/python3.10/dist-packages/qiskit_braket_provider/providers/adapter.py:457: UserWarning: The Qiskit circuit contains barrier instructions that are ignored.\n",
            "  warnings.warn(\n"
          ]
        },
        {
          "output_type": "stream",
          "name": "stdout",
          "text": [
            "Job ID is arn:aws:braket:us-east-1:727646499585:quantum-task/d73f980b-1b71-4ffe-8ed4-6532b5ec5d52 \n",
            "\n"
          ]
        }
      ]
    },
    {
      "cell_type": "code",
      "source": [
        "print(\"Job status is\", job.status() )"
      ],
      "metadata": {
        "id": "6TpCediwnwe9",
        "outputId": "af3d0295-c56a-4409-9a5c-991804c67998",
        "colab": {
          "base_uri": "https://localhost:8080/"
        }
      },
      "execution_count": null,
      "outputs": [
        {
          "output_type": "stream",
          "name": "stdout",
          "text": [
            "Job status is JobStatus.DONE\n"
          ]
        }
      ]
    },
    {
      "cell_type": "code",
      "source": [
        "# 중간에 세션이 종료된 경우 기존에 실행이 완료된 Job을 복구하는 방법\n",
        "#job = backend.retrieve_job(\"arn:aws:braket:us-east-1:746669231099:quantum-task/f6fab6be-1590-4da0-914a-fade74efc485\")"
      ],
      "metadata": {
        "id": "uiCBc1tfnSMC",
        "outputId": "9d941b12-6daf-43d3-9da6-4a7bff30a20c",
        "colab": {
          "base_uri": "https://localhost:8080/"
        }
      },
      "execution_count": null,
      "outputs": [
        {
          "output_type": "stream",
          "name": "stdout",
          "text": [
            "JobStatus.DONE\n"
          ]
        }
      ]
    },
    {
      "cell_type": "code",
      "source": [
        "result = job.result()\n",
        "result"
      ],
      "metadata": {
        "id": "Ur_wQg-kxLLq",
        "outputId": "ae6c4fd8-ac31-42e0-d2e2-9621f5478b34",
        "colab": {
          "base_uri": "https://localhost:8080/"
        }
      },
      "execution_count": null,
      "outputs": [
        {
          "output_type": "execute_result",
          "data": {
            "text/plain": [
              "Result(backend_name='BraketBackend[SV1]', backend_version='2', qobj_id='0', job_id='arn:aws:braket:us-east-1:727646499585:quantum-task/d73f980b-1b71-4ffe-8ed4-6532b5ec5d52', success=True, results=[ExperimentResult(shots=1024, success=True, meas_level=2, data=ExperimentResultData(counts={'111': 508, '000': 516}, memory=['111', '111', '000', '111', '000', '000', '000', '000', '000', '000', '111', '000', '000', '000', '000', '111', '111', '111', '111', '000', '000', '000', '111', '000', '000', '000', '000', '111', '000', '000', '111', '111', '000', '000', '111', '000', '000', '000', '111', '111', '111', '000', '000', '111', '000', '111', '000', '000', '000', '000', '111', '111', '111', '000', '000', '111', '111', '000', '111', '000', '000', '000', '111', '000', '111', '000', '111', '000', '111', '111', '000', '000', '000', '111', '111', '111', '111', '000', '000', '000', '000', '000', '111', '111', '111', '111', '000', '111', '111', '111', '111', '111', '000', '000', '000', '000', '000', '111', '000', '111', '000', '000', '000', '111', '111', '111', '111', '111', '111', '111', '111', '000', '000', '000', '111', '111', '000', '000', '000', '000', '111', '000', '111', '000', '111', '000', '111', '111', '000', '000', '111', '000', '111', '000', '000', '000', '000', '000', '111', '000', '111', '000', '000', '111', '111', '000', '000', '111', '000', '111', '111', '111', '000', '000', '000', '111', '111', '111', '111', '000', '000', '111', '111', '000', '111', '111', '000', '000', '000', '111', '000', '000', '000', '111', '111', '000', '000', '000', '000', '111', '000', '111', '000', '000', '000', '000', '000', '111', '000', '111', '111', '111', '111', '111', '111', '000', '111', '111', '111', '111', '000', '111', '111', '000', '000', '000', '000', '000', '111', '000', '000', '000', '000', '000', '000', '111', '000', '111', '111', '111', '000', '111', '000', '000', '000', '000', '000', '111', '111', '000', '000', '111', '111', '111', '111', '111', '000', '000', '000', '000', '000', '000', '000', '000', '111', '111', '111', '000', '000', '111', '000', '000', '111', '000', '000', '111', '111', '111', '000', '111', '111', '000', '000', '000', '000', '000', '111', '000', '000', '000', '111', '000', '111', '000', '111', '111', '000', '111', '000', '111', '000', '000', '111', '111', '000', '111', '111', '111', '111', '000', '000', '000', '000', '111', '111', '111', '111', '111', '111', '111', '111', '111', '111', '111', '111', '000', '000', '111', '111', '000', '111', '000', '000', '111', '000', '111', '111', '111', '000', '000', '000', '000', '000', '111', '111', '111', '111', '111', '000', '000', '000', '111', '111', '111', '000', '111', '000', '000', '000', '000', '000', '000', '000', '111', '111', '111', '000', '111', '000', '000', '000', '111', '000', '111', '111', '111', '000', '111', '111', '111', '000', '111', '111', '000', '111', '000', '111', '000', '111', '111', '000', '000', '111', '000', '111', '000', '000', '000', '111', '111', '000', '000', '000', '111', '000', '111', '000', '111', '111', '111', '000', '111', '000', '000', '111', '000', '000', '111', '111', '000', '111', '000', '111', '111', '000', '111', '000', '111', '000', '000', '111', '111', '111', '111', '111', '111', '000', '111', '111', '111', '111', '111', '000', '000', '111', '111', '000', '111', '000', '000', '000', '000', '111', '000', '111', '000', '111', '000', '000', '000', '000', '111', '111', '111', '111', '000', '111', '000', '111', '111', '111', '111', '111', '111', '111', '111', '111', '000', '000', '000', '111', '000', '111', '000', '000', '111', '111', '000', '111', '111', '111', '111', '111', '111', '000', '111', '111', '000', '111', '111', '000', '000', '111', '000', '000', '111', '000', '111', '111', '000', '111', '000', '000', '000', '111', '000', '000', '000', '000', '000', '000', '111', '111', '000', '111', '111', '111', '000', '111', '000', '111', '111', '000', '000', '000', '000', '111', '111', '000', '000', '000', '111', '000', '000', '000', '111', '000', '000', '111', '111', '000', '000', '000', '000', '000', '000', '111', '111', '111', '000', '000', '000', '111', '111', '111', '000', '000', '000', '000', '111', '111', '111', '000', '000', '111', '000', '111', '111', '111', '111', '111', '000', '111', '000', '111', '000', '111', '000', '111', '111', '000', '111', '000', '111', '111', '111', '111', '000', '111', '111', '111', '000', '000', '000', '000', '000', '111', '111', '111', '111', '000', '000', '111', '111', '000', '000', '000', '111', '000', '111', '111', '000', '000', '111', '000', '111', '111', '000', '000', '111', '111', '111', '000', '111', '111', '000', '111', '111', '000', '000', '111', '000', '111', '000', '111', '000', '000', '111', '111', '111', '000', '111', '111', '111', '111', '000', '000', '111', '111', '000', '000', '000', '111', '000', '000', '111', '111', '000', '111', '111', '111', '000', '000', '000', '111', '111', '111', '111', '000', '000', '111', '000', '000', '111', '111', '111', '111', '000', '111', '111', '111', '000', '111', '111', '111', '111', '000', '111', '000', '000', '000', '111', '111', '000', '000', '111', '000', '000', '111', '000', '000', '000', '111', '000', '111', '111', '111', '000', '000', '111', '000', '111', '111', '000', '000', '000', '000', '000', '000', '111', '111', '000', '000', '000', '000', '000', '000', '000', '111', '111', '111', '111', '111', '000', '111', '000', '000', '000', '000', '000', '111', '000', '000', '000', '111', '111', '000', '111', '111', '111', '000', '111', '111', '000', '000', '000', '111', '111', '000', '000', '111', '111', '000', '000', '000', '111', '111', '111', '111', '111', '111', '000', '111', '000', '000', '111', '000', '111', '111', '000', '111', '111', '111', '000', '000', '000', '111', '000', '111', '111', '000', '111', '111', '000', '111', '111', '111', '111', '111', '111', '000', '000', '000', '111', '111', '111', '111', '111', '000', '111', '111', '111', '000', '000', '000', '111', '111', '111', '111', '000', '111', '111', '000', '000', '111', '111', '000', '111', '111', '000', '000', '111', '000', '000', '000', '111', '000', '000', '000', '111', '000', '000', '111', '000', '000', '111', '111', '000', '000', '000', '111', '000', '000', '111', '000', '111', '111', '111', '000', '000', '000', '000', '000', '000', '000', '000', '111', '000', '111', '000', '000', '000', '111', '000', '111', '000', '000', '111', '000', '000', '111', '111', '111', '111', '000', '111', '000', '000', '000', '111', '111', '111', '000', '111', '111', '111', '111', '111', '111', '111', '111', '111', '000', '000', '000', '000', '000', '000', '111', '000', '000', '000', '111', '000', '000', '111', '111', '000', '111', '111', '111', '111', '111', '111', '000', '000', '111', '111', '111', '111', '111', '000', '000', '111', '111', '111', '000', '000', '000', '000', '000', '111', '111', '111', '000', '111', '000', '111', '111', '000', '000', '000', '000', '000', '111', '111', '000', '000', '111', '000', '000', '000', '000', '111', '000', '111', '111', '111', '111', '000', '000', '111', '111', '111', '000', '000', '111', '000', '111', '111', '111', '111', '000', '000', '000', '000', '000', '111', '000', '000', '000', '111', '111', '000', '111', '111', '000', '000', '000', '000', '000', '111', '000', '111', '111', '111', '000', '000', '111', '000', '111', '000', '000', '000', '000', '111', '111', '000', '111', '111', '000', '111', '000', '000', '000', '111', '111', '000', '000', '000', '111', '111', '000', '111']), status=COMPLETED)], date=None, status=JobStatus.DONE, header=None)"
            ]
          },
          "metadata": {},
          "execution_count": 17
        }
      ]
    },
    {
      "cell_type": "code",
      "source": [
        "# 결과 출력\n",
        "counts = result.get_counts()\n",
        "print(counts)"
      ],
      "metadata": {
        "id": "zwAc_6uRjjPa",
        "outputId": "73b8467a-9243-4e1c-9a5b-24cd2b471d11",
        "colab": {
          "base_uri": "https://localhost:8080/"
        }
      },
      "execution_count": null,
      "outputs": [
        {
          "output_type": "stream",
          "name": "stdout",
          "text": [
            "{'111': 508, '000': 516}\n"
          ]
        }
      ]
    },
    {
      "cell_type": "code",
      "source": [
        "from qiskit.visualization import plot_histogram\n",
        "plot_histogram(data=counts)"
      ],
      "metadata": {
        "colab": {
          "base_uri": "https://localhost:8080/",
          "height": 473
        },
        "id": "hYn_-AuCWCHY",
        "outputId": "d97964b8-829e-48b2-da75-aa59dffd8b91"
      },
      "execution_count": null,
      "outputs": [
        {
          "output_type": "execute_result",
          "data": {
            "text/plain": [
              "<Figure size 700x500 with 1 Axes>"
            ],
            "image/png": "[encoded data removed]"
          },
          "metadata": {},
          "execution_count": 19
        }
      ]
    },
    {
      "cell_type": "code",
      "source": [
        "print(\"Quantum Task Summary\\n\")\n",
        "print(t.quantum_tasks_statistics())\n",
        "print('\\nNote: Charges shown are estimates based on your Amazon Braket simulator and quantum processing unit (QPU) task usage. \\nEstimated charges shown may differ from your actual charges. \\nEstimated charges do not factor in any discounts or credits, \\nand you may experience additional charges based on your use of other services such as Amazon Elastic Compute Cloud (Amazon EC2).')\n",
        "print(f\"\\nEstimated cost to run this example: {t.qpu_tasks_cost() + t.simulator_tasks_cost():.2f} USD\")"
      ],
      "metadata": {
        "colab": {
          "base_uri": "https://localhost:8080/"
        },
        "id": "vOjIFGML9IXu",
        "outputId": "b741f7d3-2591-4879-a50f-42b94b7dd27c"
      },
      "execution_count": null,
      "outputs": [
        {
          "output_type": "stream",
          "name": "stdout",
          "text": [
            "Quantum Task Summary\n",
            "\n",
            "{'arn:aws:braket:::device/quantum-simulator/amazon/sv1': {'shots': 1024, 'tasks': {'COMPLETED': 1}, 'execution_duration': datetime.timedelta(microseconds=8000), 'billed_execution_duration': datetime.timedelta(seconds=3)}}\n",
            "\n",
            "Note: Charges shown are estimates based on your Amazon Braket simulator and quantum processing unit (QPU) task usage. \n",
            "Estimated charges shown may differ from your actual charges. \n",
            "Estimated charges do not factor in any discounts or credits, \n",
            "and you may experience additional charges based on your use of other services such as Amazon Elastic Compute Cloud (Amazon EC2).\n",
            "\n",
            "Estimated cost to run this example: 0.00 USD\n"
          ]
        }
      ]
    }
  ]
}