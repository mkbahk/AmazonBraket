{
  "nbformat": 4,
  "nbformat_minor": 0,
  "metadata": {
    "colab": {
      "provenance": [],
      "authorship_tag": "ABX9TyNV+2vsxi83+vz45UXxpnzg",
      "include_colab_link": true
    },
    "kernelspec": {
      "name": "python3",
      "display_name": "Python 3"
    },
    "language_info": {
      "name": "python"
    }
  },
  "cells": [
    {
      "cell_type": "markdown",
      "metadata": {
        "id": "view-in-github",
        "colab_type": "text"
      },
      "source": [
        "<a href=\"https://colab.research.google.com/github/mkbahk/AmazonBraket/blob/main/Pickle_and_Time_%EC%B8%A1%EC%A0%95_mkbahk_20241114.ipynb\" target=\"_parent\"><img src=\"https://colab.research.google.com/assets/colab-badge.svg\" alt=\"Open In Colab\"/></a>"
      ]
    },
    {
      "cell_type": "code",
      "source": [
        "import pickle\n",
        "profile_file = open(\"profile.pickle\", \"wb\")\n",
        "profile = {\"이름\":\"박명수\", \"나이\":30, \"취미\":[\"축구\", \"골프\", \"코딩\"]}\n",
        "print(profile)\n",
        "pickle.dump(profile, profile_file)"
      ],
      "metadata": {
        "colab": {
          "base_uri": "https://localhost:8080/"
        },
        "id": "xXLyozehi3w1",
        "outputId": "e4830912-7c32-49f6-c213-35d18fa9506a"
      },
      "execution_count": null,
      "outputs": [
        {
          "output_type": "stream",
          "name": "stdout",
          "text": [
            "{'이름': '박명수', '나이': 30, '취미': ['축구', '골프', '코딩']}\n"
          ]
        }
      ]
    },
    {
      "cell_type": "code",
      "source": [
        "profile_file = open(\"profile.pickle\", \"rb\")\n",
        "profile = pickle.load(profile_file)\n",
        "print(profile)"
      ],
      "metadata": {
        "id": "7GbGb5hhjDSZ",
        "colab": {
          "base_uri": "https://localhost:8080/"
        },
        "outputId": "f425470f-06f7-490d-baa4-57412c4cf266"
      },
      "execution_count": 37,
      "outputs": [
        {
          "output_type": "stream",
          "name": "stdout",
          "text": [
            "{'이름': '박명수', '나이': 30, '취미': ['축구', '골프', '코딩']}\n"
          ]
        }
      ]
    },
    {
      "cell_type": "code",
      "source": [
        "import pickle\n",
        "\n",
        "# 데이터 직렬화\n",
        "data = {'name': 'Alice', 'age': 30, 'city': 'Seoul'}\n",
        "with open('data.pkl', 'wb') as file:\n",
        "    pickle.dump(data, file)\n",
        "###with"
      ],
      "metadata": {
        "id": "Np0JfRB4kNZK"
      },
      "execution_count": 38,
      "outputs": []
    },
    {
      "cell_type": "code",
      "source": [
        "# 데이터 역직렬화\n",
        "with open('data.pkl', 'rb') as file:\n",
        "    loaded_data = pickle.load(file)\n",
        "###with\n",
        "print(loaded_data)"
      ],
      "metadata": {
        "colab": {
          "base_uri": "https://localhost:8080/"
        },
        "id": "YOo4h6l8mcEY",
        "outputId": "8ed8d9b7-f7b9-4a9c-a0c4-bd9aade6fa76"
      },
      "execution_count": 39,
      "outputs": [
        {
          "output_type": "stream",
          "name": "stdout",
          "text": [
            "{'name': 'Alice', 'age': 30, 'city': 'Seoul'}\n"
          ]
        }
      ]
    },
    {
      "cell_type": "code",
      "source": [
        "import time\n",
        "\n",
        "class Timer:\n",
        "    def __enter__(self):\n",
        "        self.start = time.time()\n",
        "        return self\n",
        "    ###def\n",
        "\n",
        "    def __exit__(self, *args):\n",
        "        self.end = time.time()\n",
        "        self.duration = self.end - self.start\n",
        "    ###def\n",
        "###class\n",
        "\n",
        "# 사용 예시\n",
        "with Timer() as timer:\n",
        "    # 시간을 측정하고 싶은 코드\n",
        "    # 데이터 역직렬화\n",
        "    with open('data.pkl', 'rb') as file:\n",
        "      loaded_data = pickle.load(file)\n",
        "    ###with\n",
        "    print(loaded_data)\n",
        "    time.sleep(1)\n",
        "###with\n",
        "\n",
        "print(f\"실행 시간: {timer.duration}초\")"
      ],
      "metadata": {
        "colab": {
          "base_uri": "https://localhost:8080/"
        },
        "id": "MNrqve9ht84G",
        "outputId": "c49ad77e-8716-4c9e-fb3c-a137772e5df8"
      },
      "execution_count": 44,
      "outputs": [
        {
          "output_type": "stream",
          "name": "stdout",
          "text": [
            "{'name': 'Alice', 'age': 30, 'city': 'Seoul'}\n",
            "실행 시간: 1.001784086227417초\n"
          ]
        }
      ]
    },
    {
      "cell_type": "code",
      "source": [],
      "metadata": {
        "id": "SSjCDhpduYys"
      },
      "execution_count": null,
      "outputs": []
    }
  ]
}