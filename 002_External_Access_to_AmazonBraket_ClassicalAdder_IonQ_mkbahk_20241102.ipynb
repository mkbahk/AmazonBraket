{
  "nbformat": 4,
  "nbformat_minor": 0,
  "metadata": {
    "colab": {
      "provenance": []
    },
    "kernelspec": {
      "name": "python3",
      "display_name": "Python 3"
    },
    "language_info": {
      "name": "python"
    }
  },
  "cells": [
    {
      "cell_type": "markdown",
      "source": [
        "# 작업순서\n",
        "1. Amazon Braket 환경 설정(확인만)\n",
        "2. S3 환경설정(확인만)\n",
        "3. (중요) IAM을 이용한 Access Key 설정 및 권한 부여\n",
        "4. 원격 작업\n",
        "5. 각종 로그 보기\n",
        "6. 작업 환경 정리\n"
      ],
      "metadata": {
        "id": "_S3DWMw_3Ryp"
      }
    },
    {
      "cell_type": "code",
      "source": [
        "!pip install git+https://github.com/qiskit-community/qiskit-braket-provider.git"
      ],
      "metadata": {
        "colab": {
          "base_uri": "https://localhost:8080/",
          "height": 1000
        },
        "id": "ajrS_5a6EuMi",
        "outputId": "8d95b091-fc22-4a62-d4a5-8d320017c481"
      },
      "execution_count": 1,
      "outputs": [
        {
          "output_type": "stream",
          "name": "stdout",
          "text": [
            "Collecting git+https://github.com/qiskit-community/qiskit-braket-provider.git\n",
            "  Cloning https://github.com/qiskit-community/qiskit-braket-provider.git to /tmp/pip-req-build-idhbf2w2\n",
            "  Running command git clone --filter=blob:none --quiet https://github.com/qiskit-community/qiskit-braket-provider.git /tmp/pip-req-build-idhbf2w2\n",
            "  Resolved https://github.com/qiskit-community/qiskit-braket-provider.git to commit 1fd281925027ecfa690f5400f12a8dfac59ee014\n",
            "  Preparing metadata (setup.py) ... \u001b[?25l\u001b[?25hdone\n",
            "Requirement already satisfied: certifi>=2021.5.30 in /usr/local/lib/python3.11/dist-packages (from qiskit_braket_provider==0.4.6) (2025.7.9)\n",
            "Collecting qiskit<2.0,>=0.34.2 (from qiskit_braket_provider==0.4.6)\n",
            "  Downloading qiskit-1.4.3-cp39-abi3-manylinux_2_17_x86_64.manylinux2014_x86_64.whl.metadata (12 kB)\n",
            "Collecting qiskit-ionq>=0.5.2 (from qiskit_braket_provider==0.4.6)\n",
            "  Downloading qiskit_ionq-0.5.13-py3-none-any.whl.metadata (8.1 kB)\n",
            "Collecting amazon-braket-sdk>=1.76.0 (from qiskit_braket_provider==0.4.6)\n",
            "  Downloading amazon_braket_sdk-1.95.0-py3-none-any.whl.metadata (14 kB)\n",
            "Requirement already satisfied: setuptools>=40.1.0 in /usr/local/lib/python3.11/dist-packages (from qiskit_braket_provider==0.4.6) (75.2.0)\n",
            "Requirement already satisfied: numpy>=1.3 in /usr/local/lib/python3.11/dist-packages (from qiskit_braket_provider==0.4.6) (2.0.2)\n",
            "Collecting amazon-braket-schemas>=1.23.0 (from amazon-braket-sdk>=1.76.0->qiskit_braket_provider==0.4.6)\n",
            "  Downloading amazon_braket_schemas-1.24.2-py3-none-any.whl.metadata (6.1 kB)\n",
            "Collecting amazon-braket-default-simulator>=1.26.0 (from amazon-braket-sdk>=1.76.0->qiskit_braket_provider==0.4.6)\n",
            "  Downloading amazon_braket_default_simulator-1.26.7-py3-none-any.whl.metadata (6.4 kB)\n",
            "Collecting oqpy~=0.3.5 (from amazon-braket-sdk>=1.76.0->qiskit_braket_provider==0.4.6)\n",
            "  Downloading oqpy-0.3.7-py3-none-any.whl.metadata (8.3 kB)\n",
            "Collecting backoff (from amazon-braket-sdk>=1.76.0->qiskit_braket_provider==0.4.6)\n",
            "  Downloading backoff-2.2.1-py3-none-any.whl.metadata (14 kB)\n",
            "Collecting boltons (from amazon-braket-sdk>=1.76.0->qiskit_braket_provider==0.4.6)\n",
            "  Downloading boltons-25.0.0-py3-none-any.whl.metadata (6.5 kB)\n",
            "Collecting boto3>=1.28.53 (from amazon-braket-sdk>=1.76.0->qiskit_braket_provider==0.4.6)\n",
            "  Downloading boto3-1.39.4-py3-none-any.whl.metadata (6.6 kB)\n",
            "Collecting cloudpickle==2.2.1 (from amazon-braket-sdk>=1.76.0->qiskit_braket_provider==0.4.6)\n",
            "  Downloading cloudpickle-2.2.1-py3-none-any.whl.metadata (6.9 kB)\n",
            "Requirement already satisfied: nest-asyncio in /usr/local/lib/python3.11/dist-packages (from amazon-braket-sdk>=1.76.0->qiskit_braket_provider==0.4.6) (1.6.0)\n",
            "Requirement already satisfied: networkx in /usr/local/lib/python3.11/dist-packages (from amazon-braket-sdk>=1.76.0->qiskit_braket_provider==0.4.6) (3.5)\n",
            "Collecting openpulse (from amazon-braket-sdk>=1.76.0->qiskit_braket_provider==0.4.6)\n",
            "  Downloading openpulse-1.0.1-py3-none-any.whl.metadata (2.0 kB)\n",
            "Collecting openqasm3 (from amazon-braket-sdk>=1.76.0->qiskit_braket_provider==0.4.6)\n",
            "  Downloading openqasm3-1.0.1-py3-none-any.whl.metadata (6.0 kB)\n",
            "Requirement already satisfied: sympy in /usr/local/lib/python3.11/dist-packages (from amazon-braket-sdk>=1.76.0->qiskit_braket_provider==0.4.6) (1.13.1)\n",
            "Collecting backports.entry-points-selectable (from amazon-braket-sdk>=1.76.0->qiskit_braket_provider==0.4.6)\n",
            "  Downloading backports.entry_points_selectable-1.3.0-py3-none-any.whl.metadata (4.1 kB)\n",
            "Collecting rustworkx>=0.15.0 (from qiskit<2.0,>=0.34.2->qiskit_braket_provider==0.4.6)\n",
            "  Downloading rustworkx-0.16.0-cp39-abi3-manylinux_2_17_x86_64.manylinux2014_x86_64.whl.metadata (10 kB)\n",
            "Requirement already satisfied: scipy>=1.5 in /usr/local/lib/python3.11/dist-packages (from qiskit<2.0,>=0.34.2->qiskit_braket_provider==0.4.6) (1.15.3)\n",
            "Requirement already satisfied: dill>=0.3 in /usr/local/lib/python3.11/dist-packages (from qiskit<2.0,>=0.34.2->qiskit_braket_provider==0.4.6) (0.3.7)\n",
            "Requirement already satisfied: python-dateutil>=2.8.0 in /usr/local/lib/python3.11/dist-packages (from qiskit<2.0,>=0.34.2->qiskit_braket_provider==0.4.6) (2.9.0.post0)\n",
            "Collecting stevedore>=3.0.0 (from qiskit<2.0,>=0.34.2->qiskit_braket_provider==0.4.6)\n",
            "  Downloading stevedore-5.4.1-py3-none-any.whl.metadata (2.3 kB)\n",
            "Requirement already satisfied: typing-extensions in /usr/local/lib/python3.11/dist-packages (from qiskit<2.0,>=0.34.2->qiskit_braket_provider==0.4.6) (4.14.1)\n",
            "Collecting symengine<0.14,>=0.11 (from qiskit<2.0,>=0.34.2->qiskit_braket_provider==0.4.6)\n",
            "  Downloading symengine-0.13.0-cp311-cp311-manylinux_2_17_x86_64.manylinux2014_x86_64.whl.metadata (1.2 kB)\n",
            "Collecting decorator>=5.1.0 (from qiskit-ionq>=0.5.2->qiskit_braket_provider==0.4.6)\n",
            "  Downloading decorator-5.2.1-py3-none-any.whl.metadata (3.9 kB)\n",
            "Requirement already satisfied: requests>=2.24.0 in /usr/local/lib/python3.11/dist-packages (from qiskit-ionq>=0.5.2->qiskit_braket_provider==0.4.6) (2.32.3)\n",
            "Requirement already satisfied: importlib-metadata>=4.11.4 in /usr/local/lib/python3.11/dist-packages (from qiskit-ionq>=0.5.2->qiskit_braket_provider==0.4.6) (8.7.0)\n",
            "Collecting python-dotenv>=1.0.1 (from qiskit-ionq>=0.5.2->qiskit_braket_provider==0.4.6)\n",
            "  Downloading python_dotenv-1.1.1-py3-none-any.whl.metadata (24 kB)\n",
            "Requirement already satisfied: opt_einsum in /usr/local/lib/python3.11/dist-packages (from amazon-braket-default-simulator>=1.26.0->amazon-braket-sdk>=1.76.0->qiskit_braket_provider==0.4.6) (3.4.0)\n",
            "Requirement already satisfied: pydantic>2 in /usr/local/lib/python3.11/dist-packages (from amazon-braket-default-simulator>=1.26.0->amazon-braket-sdk>=1.76.0->qiskit_braket_provider==0.4.6) (2.11.7)\n",
            "Collecting antlr4-python3-runtime==4.9.2 (from amazon-braket-default-simulator>=1.26.0->amazon-braket-sdk>=1.76.0->qiskit_braket_provider==0.4.6)\n",
            "  Downloading antlr4-python3-runtime-4.9.2.tar.gz (117 kB)\n",
            "\u001b[2K     \u001b[90m━━━━━━━━━━━━━━━━━━━━━━━━━━━━━━━━━━━━━━━\u001b[0m \u001b[32m117.2/117.2 kB\u001b[0m \u001b[31m5.1 MB/s\u001b[0m eta \u001b[36m0:00:00\u001b[0m\n",
            "\u001b[?25h  Preparing metadata (setup.py) ... \u001b[?25l\u001b[?25hdone\n",
            "Collecting botocore<1.40.0,>=1.39.4 (from boto3>=1.28.53->amazon-braket-sdk>=1.76.0->qiskit_braket_provider==0.4.6)\n",
            "  Downloading botocore-1.39.4-py3-none-any.whl.metadata (5.7 kB)\n",
            "Collecting jmespath<2.0.0,>=0.7.1 (from boto3>=1.28.53->amazon-braket-sdk>=1.76.0->qiskit_braket_provider==0.4.6)\n",
            "  Downloading jmespath-1.0.1-py3-none-any.whl.metadata (7.6 kB)\n",
            "Collecting s3transfer<0.14.0,>=0.13.0 (from boto3>=1.28.53->amazon-braket-sdk>=1.76.0->qiskit_braket_provider==0.4.6)\n",
            "  Downloading s3transfer-0.13.0-py3-none-any.whl.metadata (1.7 kB)\n",
            "Requirement already satisfied: zipp>=3.20 in /usr/local/lib/python3.11/dist-packages (from importlib-metadata>=4.11.4->qiskit-ionq>=0.5.2->qiskit_braket_provider==0.4.6) (3.23.0)\n",
            "Collecting mypy-extensions>=0.2.0 (from oqpy~=0.3.5->amazon-braket-sdk>=1.76.0->qiskit_braket_provider==0.4.6)\n",
            "  Downloading mypy_extensions-1.1.0-py3-none-any.whl.metadata (1.1 kB)\n",
            "Requirement already satisfied: six>=1.5 in /usr/local/lib/python3.11/dist-packages (from python-dateutil>=2.8.0->qiskit<2.0,>=0.34.2->qiskit_braket_provider==0.4.6) (1.17.0)\n",
            "Requirement already satisfied: charset-normalizer<4,>=2 in /usr/local/lib/python3.11/dist-packages (from requests>=2.24.0->qiskit-ionq>=0.5.2->qiskit_braket_provider==0.4.6) (3.4.2)\n",
            "Requirement already satisfied: idna<4,>=2.5 in /usr/local/lib/python3.11/dist-packages (from requests>=2.24.0->qiskit-ionq>=0.5.2->qiskit_braket_provider==0.4.6) (3.10)\n",
            "Requirement already satisfied: urllib3<3,>=1.21.1 in /usr/local/lib/python3.11/dist-packages (from requests>=2.24.0->qiskit-ionq>=0.5.2->qiskit_braket_provider==0.4.6) (2.4.0)\n",
            "Collecting pbr>=2.0.0 (from stevedore>=3.0.0->qiskit<2.0,>=0.34.2->qiskit_braket_provider==0.4.6)\n",
            "  Downloading pbr-6.1.1-py2.py3-none-any.whl.metadata (3.4 kB)\n",
            "Requirement already satisfied: mpmath<1.4,>=1.1.0 in /usr/local/lib/python3.11/dist-packages (from sympy->amazon-braket-sdk>=1.76.0->qiskit_braket_provider==0.4.6) (1.3.0)\n",
            "Requirement already satisfied: annotated-types>=0.6.0 in /usr/local/lib/python3.11/dist-packages (from pydantic>2->amazon-braket-default-simulator>=1.26.0->amazon-braket-sdk>=1.76.0->qiskit_braket_provider==0.4.6) (0.7.0)\n",
            "Requirement already satisfied: pydantic-core==2.33.2 in /usr/local/lib/python3.11/dist-packages (from pydantic>2->amazon-braket-default-simulator>=1.26.0->amazon-braket-sdk>=1.76.0->qiskit_braket_provider==0.4.6) (2.33.2)\n",
            "Requirement already satisfied: typing-inspection>=0.4.0 in /usr/local/lib/python3.11/dist-packages (from pydantic>2->amazon-braket-default-simulator>=1.26.0->amazon-braket-sdk>=1.76.0->qiskit_braket_provider==0.4.6) (0.4.1)\n",
            "Downloading amazon_braket_sdk-1.95.0-py3-none-any.whl (328 kB)\n",
            "\u001b[2K   \u001b[90m━━━━━━━━━━━━━━━━━━━━━━━━━━━━━━━━━━━━━━━━\u001b[0m \u001b[32m328.1/328.1 kB\u001b[0m \u001b[31m13.9 MB/s\u001b[0m eta \u001b[36m0:00:00\u001b[0m\n",
            "\u001b[?25hDownloading cloudpickle-2.2.1-py3-none-any.whl (25 kB)\n",
            "Downloading qiskit-1.4.3-cp39-abi3-manylinux_2_17_x86_64.manylinux2014_x86_64.whl (6.8 MB)\n",
            "\u001b[2K   \u001b[90m━━━━━━━━━━━━━━━━━━━━━━━━━━━━━━━━━━━━━━━━\u001b[0m \u001b[32m6.8/6.8 MB\u001b[0m \u001b[31m79.3 MB/s\u001b[0m eta \u001b[36m0:00:00\u001b[0m\n",
            "\u001b[?25hDownloading qiskit_ionq-0.5.13-py3-none-any.whl (47 kB)\n",
            "\u001b[2K   \u001b[90m━━━━━━━━━━━━━━━━━━━━━━━━━━━━━━━━━━━━━━━━\u001b[0m \u001b[32m47.7/47.7 kB\u001b[0m \u001b[31m3.4 MB/s\u001b[0m eta \u001b[36m0:00:00\u001b[0m\n",
            "\u001b[?25hDownloading amazon_braket_default_simulator-1.26.7-py3-none-any.whl (225 kB)\n",
            "\u001b[2K   \u001b[90m━━━━━━━━━━━━━━━━━━━━━━━━━━━━━━━━━━━━━━━━\u001b[0m \u001b[32m225.4/225.4 kB\u001b[0m \u001b[31m17.4 MB/s\u001b[0m eta \u001b[36m0:00:00\u001b[0m\n",
            "\u001b[?25hDownloading amazon_braket_schemas-1.24.2-py3-none-any.whl (137 kB)\n",
            "\u001b[2K   \u001b[90m━━━━━━━━━━━━━━━━━━━━━━━━━━━━━━━━━━━━━━━━\u001b[0m \u001b[32m137.2/137.2 kB\u001b[0m \u001b[31m10.2 MB/s\u001b[0m eta \u001b[36m0:00:00\u001b[0m\n",
            "\u001b[?25hDownloading boto3-1.39.4-py3-none-any.whl (139 kB)\n",
            "\u001b[2K   \u001b[90m━━━━━━━━━━━━━━━━━━━━━━━━━━━━━━━━━━━━━━━━\u001b[0m \u001b[32m139.9/139.9 kB\u001b[0m \u001b[31m11.6 MB/s\u001b[0m eta \u001b[36m0:00:00\u001b[0m\n",
            "\u001b[?25hDownloading decorator-5.2.1-py3-none-any.whl (9.2 kB)\n",
            "Downloading oqpy-0.3.7-py3-none-any.whl (36 kB)\n",
            "Downloading openpulse-1.0.1-py3-none-any.whl (537 kB)\n",
            "\u001b[2K   \u001b[90m━━━━━━━━━━━━━━━━━━━━━━━━━━━━━━━━━━━━━━━━\u001b[0m \u001b[32m537.8/537.8 kB\u001b[0m \u001b[31m31.8 MB/s\u001b[0m eta \u001b[36m0:00:00\u001b[0m\n",
            "\u001b[?25hDownloading openqasm3-1.0.1-py3-none-any.whl (541 kB)\n",
            "\u001b[2K   \u001b[90m━━━━━━━━━━━━━━━━━━━━━━━━━━━━━━━━━━━━━━━━\u001b[0m \u001b[32m541.5/541.5 kB\u001b[0m \u001b[31m34.4 MB/s\u001b[0m eta \u001b[36m0:00:00\u001b[0m\n",
            "\u001b[?25hDownloading python_dotenv-1.1.1-py3-none-any.whl (20 kB)\n",
            "Downloading rustworkx-0.16.0-cp39-abi3-manylinux_2_17_x86_64.manylinux2014_x86_64.whl (2.1 MB)\n",
            "\u001b[2K   \u001b[90m━━━━━━━━━━━━━━━━━━━━━━━━━━━━━━━━━━━━━━━━\u001b[0m \u001b[32m2.1/2.1 MB\u001b[0m \u001b[31m68.0 MB/s\u001b[0m eta \u001b[36m0:00:00\u001b[0m\n",
            "\u001b[?25hDownloading stevedore-5.4.1-py3-none-any.whl (49 kB)\n",
            "\u001b[2K   \u001b[90m━━━━━━━━━━━━━━━━━━━━━━━━━━━━━━━━━━━━━━━━\u001b[0m \u001b[32m49.5/49.5 kB\u001b[0m \u001b[31m3.6 MB/s\u001b[0m eta \u001b[36m0:00:00\u001b[0m\n",
            "\u001b[?25hDownloading symengine-0.13.0-cp311-cp311-manylinux_2_17_x86_64.manylinux2014_x86_64.whl (49.7 MB)\n",
            "\u001b[2K   \u001b[90m━━━━━━━━━━━━━━━━━━━━━━━━━━━━━━━━━━━━━━━━\u001b[0m \u001b[32m49.7/49.7 MB\u001b[0m \u001b[31m17.1 MB/s\u001b[0m eta \u001b[36m0:00:00\u001b[0m\n",
            "\u001b[?25hDownloading backoff-2.2.1-py3-none-any.whl (15 kB)\n",
            "Downloading backports.entry_points_selectable-1.3.0-py3-none-any.whl (6.2 kB)\n",
            "Downloading boltons-25.0.0-py3-none-any.whl (194 kB)\n",
            "\u001b[2K   \u001b[90m━━━━━━━━━━━━━━━━━━━━━━━━━━━━━━━━━━━━━━━━\u001b[0m \u001b[32m194.2/194.2 kB\u001b[0m \u001b[31m14.5 MB/s\u001b[0m eta \u001b[36m0:00:00\u001b[0m\n",
            "\u001b[?25hDownloading botocore-1.39.4-py3-none-any.whl (13.8 MB)\n",
            "\u001b[2K   \u001b[90m━━━━━━━━━━━━━━━━━━━━━━━━━━━━━━━━━━━━━━━━\u001b[0m \u001b[32m13.8/13.8 MB\u001b[0m \u001b[31m73.0 MB/s\u001b[0m eta \u001b[36m0:00:00\u001b[0m\n",
            "\u001b[?25hDownloading jmespath-1.0.1-py3-none-any.whl (20 kB)\n",
            "Downloading mypy_extensions-1.1.0-py3-none-any.whl (5.0 kB)\n",
            "Downloading pbr-6.1.1-py2.py3-none-any.whl (108 kB)\n",
            "\u001b[2K   \u001b[90m━━━━━━━━━━━━━━━━━━━━━━━━━━━━━━━━━━━━━━━━\u001b[0m \u001b[32m109.0/109.0 kB\u001b[0m \u001b[31m8.6 MB/s\u001b[0m eta \u001b[36m0:00:00\u001b[0m\n",
            "\u001b[?25hDownloading s3transfer-0.13.0-py3-none-any.whl (85 kB)\n",
            "\u001b[2K   \u001b[90m━━━━━━━━━━━━━━━━━━━━━━━━━━━━━━━━━━━━━━━━\u001b[0m \u001b[32m85.2/85.2 kB\u001b[0m \u001b[31m6.8 MB/s\u001b[0m eta \u001b[36m0:00:00\u001b[0m\n",
            "\u001b[?25hBuilding wheels for collected packages: qiskit_braket_provider, antlr4-python3-runtime\n",
            "  Building wheel for qiskit_braket_provider (setup.py) ... \u001b[?25l\u001b[?25hdone\n",
            "  Created wheel for qiskit_braket_provider: filename=qiskit_braket_provider-0.4.6-py3-none-any.whl size=44749 sha256=15f573f2ad7a14c36fa358beb99dab65d58c1c73f9f68be6b125ac1f00d80f6d\n",
            "  Stored in directory: /tmp/pip-ephem-wheel-cache-epchto76/wheels/35/e2/b5/246ba0791fe726e4ccb4f215b862114d485c1036ac43366bc2\n",
            "  Building wheel for antlr4-python3-runtime (setup.py) ... \u001b[?25l\u001b[?25hdone\n",
            "  Created wheel for antlr4-python3-runtime: filename=antlr4_python3_runtime-4.9.2-py3-none-any.whl size=144544 sha256=8fd6a71b01407233273622ed842b2635a5fe673701bba8f49286f5a19d85f2ff\n",
            "  Stored in directory: /root/.cache/pip/wheels/02/5e/de/90c5aab11b66f94cf3f381ec55aaf3f2008213a7056310e25f\n",
            "Successfully built qiskit_braket_provider antlr4-python3-runtime\n",
            "Installing collected packages: openqasm3, antlr4-python3-runtime, symengine, rustworkx, python-dotenv, pbr, mypy-extensions, jmespath, decorator, cloudpickle, boltons, backports.entry-points-selectable, backoff, stevedore, openpulse, botocore, s3transfer, qiskit, oqpy, amazon-braket-schemas, qiskit-ionq, boto3, amazon-braket-default-simulator, amazon-braket-sdk, qiskit_braket_provider\n",
            "  Attempting uninstall: antlr4-python3-runtime\n",
            "    Found existing installation: antlr4-python3-runtime 4.9.3\n",
            "    Uninstalling antlr4-python3-runtime-4.9.3:\n",
            "      Successfully uninstalled antlr4-python3-runtime-4.9.3\n",
            "  Attempting uninstall: decorator\n",
            "    Found existing installation: decorator 4.4.2\n",
            "    Uninstalling decorator-4.4.2:\n",
            "      Successfully uninstalled decorator-4.4.2\n",
            "  Attempting uninstall: cloudpickle\n",
            "    Found existing installation: cloudpickle 3.1.1\n",
            "    Uninstalling cloudpickle-3.1.1:\n",
            "      Successfully uninstalled cloudpickle-3.1.1\n",
            "\u001b[31mERROR: pip's dependency resolver does not currently take into account all the packages that are installed. This behaviour is the source of the following dependency conflicts.\n",
            "ipython 7.34.0 requires jedi>=0.16, which is not installed.\n",
            "dask 2024.12.1 requires cloudpickle>=3.0.0, but you have cloudpickle 2.2.1 which is incompatible.\n",
            "distributed 2024.12.1 requires cloudpickle>=3.0.0, but you have cloudpickle 2.2.1 which is incompatible.\n",
            "moviepy 1.0.3 requires decorator<5.0,>=4.0.2, but you have decorator 5.2.1 which is incompatible.\u001b[0m\u001b[31m\n",
            "\u001b[0mSuccessfully installed amazon-braket-default-simulator-1.26.7 amazon-braket-schemas-1.24.2 amazon-braket-sdk-1.95.0 antlr4-python3-runtime-4.9.2 backoff-2.2.1 backports.entry-points-selectable-1.3.0 boltons-25.0.0 boto3-1.39.4 botocore-1.39.4 cloudpickle-2.2.1 decorator-5.2.1 jmespath-1.0.1 mypy-extensions-1.1.0 openpulse-1.0.1 openqasm3-1.0.1 oqpy-0.3.7 pbr-6.1.1 python-dotenv-1.1.1 qiskit-1.4.3 qiskit-ionq-0.5.13 qiskit_braket_provider-0.4.6 rustworkx-0.16.0 s3transfer-0.13.0 stevedore-5.4.1 symengine-0.13.0\n"
          ]
        },
        {
          "output_type": "display_data",
          "data": {
            "application/vnd.colab-display-data+json": {
              "pip_warning": {
                "packages": [
                  "backports",
                  "decorator"
                ]
              },
              "id": "5e3327f605dc4329afb08e6e93d4264d"
            }
          },
          "metadata": {}
        }
      ]
    },
    {
      "cell_type": "code",
      "execution_count": null,
      "metadata": {
        "id": "7SvhhzmlRgZ9"
      },
      "outputs": [],
      "source": [
        "#!pip install amazon-braket-sdk==1.94.0\n",
        "#!python3 -m pip install boto3\n",
        "#!python3 -m pip install botocore"
      ]
    },
    {
      "cell_type": "code",
      "source": [
        "%pip show qiskit\n",
        "%pip show qiskit-braket-provider\n",
        "%pip show amazon-braket-sdk"
      ],
      "metadata": {
        "colab": {
          "base_uri": "https://localhost:8080/"
        },
        "id": "ln8M8X8_Ns0m",
        "outputId": "dd42c6be-e04b-4e26-dde8-d4d1cf24fb53"
      },
      "execution_count": 1,
      "outputs": [
        {
          "output_type": "stream",
          "name": "stdout",
          "text": [
            "Name: qiskit\n",
            "Version: 1.4.3\n",
            "Summary: An open-source SDK for working with quantum computers at the level of extended quantum circuits, operators, and primitives.\n",
            "Home-page: https://www.ibm.com/quantum/qiskit\n",
            "Author: \n",
            "Author-email: Qiskit Development Team <qiskit@us.ibm.com>\n",
            "License: Apache 2.0\n",
            "Location: /usr/local/lib/python3.11/dist-packages\n",
            "Requires: dill, numpy, python-dateutil, rustworkx, scipy, stevedore, symengine, sympy, typing-extensions\n",
            "Required-by: qiskit-ionq, qiskit_braket_provider\n",
            "Name: qiskit_braket_provider\n",
            "Version: 0.4.6\n",
            "Summary: Qiskit-Braket provider to execute Qiskit programs on AWS quantum computing hardware devices through Amazon Braket.\n",
            "Home-page: \n",
            "Author: \n",
            "Author-email: \n",
            "License: \n",
            "Location: /usr/local/lib/python3.11/dist-packages\n",
            "Requires: amazon-braket-sdk, certifi, numpy, qiskit, qiskit-ionq, setuptools\n",
            "Required-by: \n",
            "Name: amazon-braket-sdk\n",
            "Version: 1.95.0\n",
            "Summary: An open source library for interacting with quantum computing devices on Amazon Braket\n",
            "Home-page: https://github.com/amazon-braket/amazon-braket-sdk-python\n",
            "Author: Amazon Web Services\n",
            "Author-email: \n",
            "License: Apache License 2.0\n",
            "Location: /usr/local/lib/python3.11/dist-packages\n",
            "Requires: amazon-braket-default-simulator, amazon-braket-schemas, backoff, backports.entry-points-selectable, boltons, boto3, cloudpickle, nest-asyncio, networkx, numpy, openpulse, openqasm3, oqpy, sympy\n",
            "Required-by: qiskit_braket_provider\n"
          ]
        }
      ]
    },
    {
      "cell_type": "code",
      "source": [
        "from braket.experimental_capabilities import EnableExperimentalCapability"
      ],
      "metadata": {
        "id": "5aV5BiKt8LXd"
      },
      "execution_count": 30,
      "outputs": []
    },
    {
      "cell_type": "code",
      "source": [
        "import warnings\n",
        "\n",
        "# warnings 모듈을 사용하여 특정 경고 메시지를 무시합니다.\n",
        "warnings.filterwarnings('ignore')"
      ],
      "metadata": {
        "id": "TbIvyb_iITc6"
      },
      "execution_count": 31,
      "outputs": []
    },
    {
      "cell_type": "code",
      "source": [
        "# Use Braket SDK Cost Tracking to estimate the cost to run this example\n",
        "from braket.tracking import Tracker\n",
        "t = Tracker().start()"
      ],
      "metadata": {
        "id": "fXoKI14o86aj"
      },
      "execution_count": 32,
      "outputs": []
    },
    {
      "cell_type": "code",
      "source": [
        "import os\n",
        "# Set environment variables for AWS credentials\n",
        "os.environ['AWS_ACCESS_KEY_ID'] = \"\"\n",
        "os.environ['AWS_SECRET_ACCESS_KEY'] = \"\"\n",
        "os.environ['AWS_DEFAULT_REGION'] = \"us-east-1\"\n",
        "\n",
        "# You can optionally set the s3 bucket and prefix using environment variables\n",
        "#os.environ['AWS_BRAKET_S3_BUCKET'] = \"snuqc\"\n",
        "#os.environ['AWS_BRAKET_S3_PREFIX'] = \"amazonbraket\""
      ],
      "metadata": {
        "id": "YT-ELFqIS8Cg"
      },
      "execution_count": 33,
      "outputs": []
    },
    {
      "cell_type": "code",
      "source": [
        "from qiskit_braket_provider import BraketLocalBackend\n",
        "\n",
        "local_simulator = BraketLocalBackend()\n",
        "#local_sv_simulator = BraketLocalBackend(name='braket_sv')\n",
        "#local_dm_simulator = BraketLocalBackend(name='braket_dm')"
      ],
      "metadata": {
        "id": "KQ52xN1af5Xl"
      },
      "execution_count": 34,
      "outputs": []
    },
    {
      "cell_type": "code",
      "source": [
        "from qiskit_braket_provider import BraketProvider\n",
        "\n",
        "provider = BraketProvider()\n",
        "#provider.backends(statuses=[\"ONLINE\"], types=[\"SIMULATOR\"])\n",
        "#provider.backends(statuses=[\"ONLINE\"], types=[\"QPU\"])\n",
        "provider.backends(statuses=[\"ONLINE\"], types=[\"SIMULATOR\", \"QPU\"])"
      ],
      "metadata": {
        "colab": {
          "base_uri": "https://localhost:8080/"
        },
        "id": "kIiG5YzQd4Il",
        "outputId": "055b27ff-748e-4523-96a4-c87932fe08eb"
      },
      "execution_count": 35,
      "outputs": [
        {
          "output_type": "execute_result",
          "data": {
            "text/plain": [
              "[BraketBackend[Ankaa-3],\n",
              " BraketBackend[Aria 1],\n",
              " BraketBackend[Garnet],\n",
              " BraketBackend[SV1],\n",
              " BraketBackend[TN1],\n",
              " BraketBackend[dm1]]"
            ]
          },
          "metadata": {},
          "execution_count": 35
        }
      ]
    },
    {
      "cell_type": "code",
      "source": [
        "backend = provider.get_backend(\"Aria 1\")\n",
        "#backend = provider.get_backend(\"Aria 2\")\n",
        "#backend = provider.get_backend(\"Forte 1\")\n",
        "\n",
        "#backend= provider.get_backend(\"Ankaa-3\")\n",
        "#backend = provider.get_backend(\"Aspen-M-3\")\n",
        "\n",
        "#Ibackend = provider.get_backend(\"Garnet\")\n",
        "\n",
        "#backend = provider.get_backend(\"SV1\")\n",
        "#backend = provider.get_backend(\"dm1\")\n",
        "#backend = provider.get_backend(\"TN1\")"
      ],
      "metadata": {
        "id": "xGdf665MeDa1"
      },
      "execution_count": 57,
      "outputs": []
    },
    {
      "cell_type": "code",
      "source": [
        "from qiskit import QuantumCircuit\n",
        "\n",
        "# 양자 회로 생성\n",
        "circuit = QuantumCircuit(5, 5)  # 5개의 양자 비트와 2개의 클래식 비트를 사용합니다.\n",
        "\n",
        "# 입력 비트 설정 (A=1, B=1)\n",
        "circuit.x(0)  # A 비트를 1로 설정\n",
        "circuit.x(1)  # B 비트를 1로 설정\n",
        "circuit.barrier()\n",
        "\n",
        "# 반-가산기 회로 구현\n",
        "circuit.cx(0, 3) # XOR 게이트 (A와 B의 논리합)\n",
        "circuit.cx(1, 3) # XOR 게이트 (A와 B의 논리합)\n",
        "circuit.ccx(0, 1, 4) # AND 게이트 (A와 B의 논리곱)\n",
        "circuit.cx(2, 3) # XOR 게이트 (A와 B의 논리합)\n",
        "circuit.ccx(0, 2, 4) # AND 게이트 (A와 B의 논리곱)\n",
        "circuit.ccx(1, 2, 4) # AND 게이트 (A와 B의 논리곱)\n",
        "circuit.barrier()\n",
        "\n",
        "# 결과를 측정하여 Sum과 Carry 출력을 얻습니다.\n",
        "circuit.measure(0, 4)  # 큐비트를 클래식 비트 4에 매핑\n",
        "circuit.measure(1, 3)  # 큐비트를 클래식 비트 3에 매핑\n",
        "circuit.measure(2, 2)  # 보조비트를 클래식 비트 2에 매핑\n",
        "circuit.measure(3, 1)  # Sum(Result) 비트를 클래식 비트 1에 매핑\n",
        "circuit.measure(4, 0)  # Carry 비트를 클래식 비트 0에 매핑\n"
      ],
      "metadata": {
        "id": "t0tXM48IVua2",
        "colab": {
          "base_uri": "https://localhost:8080/"
        },
        "outputId": "1433a1a7-1493-4751-e92e-a33b779441ea"
      },
      "execution_count": 58,
      "outputs": [
        {
          "output_type": "execute_result",
          "data": {
            "text/plain": [
              "<qiskit.circuit.instructionset.InstructionSet at 0x7b39525ffac0>"
            ]
          },
          "metadata": {},
          "execution_count": 58
        }
      ]
    },
    {
      "cell_type": "code",
      "source": [
        "circuit.draw()"
      ],
      "metadata": {
        "id": "2KODLorCw-A7",
        "outputId": "14a3827b-5a0a-43ce-9ae4-c104df059525",
        "colab": {
          "base_uri": "https://localhost:8080/",
          "height": 217
        }
      },
      "execution_count": 59,
      "outputs": [
        {
          "output_type": "execute_result",
          "data": {
            "text/plain": [
              "     ┌───┐ ░                                ░ ┌─┐            \n",
              "q_0: ┤ X ├─░───■─────────■─────────■────────░─┤M├────────────\n",
              "     ├───┤ ░   │         │         │        ░ └╥┘┌─┐         \n",
              "q_1: ┤ X ├─░───┼────■────■─────────┼────■───░──╫─┤M├─────────\n",
              "     └───┘ ░   │    │    │         │    │   ░  ║ └╥┘┌─┐      \n",
              "q_2: ──────░───┼────┼────┼────■────■────■───░──╫──╫─┤M├──────\n",
              "           ░ ┌─┴─┐┌─┴─┐  │  ┌─┴─┐  │    │   ░  ║  ║ └╥┘┌─┐   \n",
              "q_3: ──────░─┤ X ├┤ X ├──┼──┤ X ├──┼────┼───░──╫──╫──╫─┤M├───\n",
              "           ░ └───┘└───┘┌─┴─┐└───┘┌─┴─┐┌─┴─┐ ░  ║  ║  ║ └╥┘┌─┐\n",
              "q_4: ──────░───────────┤ X ├─────┤ X ├┤ X ├─░──╫──╫──╫──╫─┤M├\n",
              "           ░           └───┘     └───┘└───┘ ░  ║  ║  ║  ║ └╥┘\n",
              "c: 5/══════════════════════════════════════════╩══╩══╩══╩══╩═\n",
              "                                               4  3  2  1  0 "
            ],
            "text/html": [
              "<pre style=\"word-wrap: normal;white-space: pre;background: #fff0;line-height: 1.1;font-family: &quot;Courier New&quot;,Courier,monospace\">     ┌───┐ ░                                ░ ┌─┐            \n",
              "q_0: ┤ X ├─░───■─────────■─────────■────────░─┤M├────────────\n",
              "     ├───┤ ░   │         │         │        ░ └╥┘┌─┐         \n",
              "q_1: ┤ X ├─░───┼────■────■─────────┼────■───░──╫─┤M├─────────\n",
              "     └───┘ ░   │    │    │         │    │   ░  ║ └╥┘┌─┐      \n",
              "q_2: ──────░───┼────┼────┼────■────■────■───░──╫──╫─┤M├──────\n",
              "           ░ ┌─┴─┐┌─┴─┐  │  ┌─┴─┐  │    │   ░  ║  ║ └╥┘┌─┐   \n",
              "q_3: ──────░─┤ X ├┤ X ├──┼──┤ X ├──┼────┼───░──╫──╫──╫─┤M├───\n",
              "           ░ └───┘└───┘┌─┴─┐└───┘┌─┴─┐┌─┴─┐ ░  ║  ║  ║ └╥┘┌─┐\n",
              "q_4: ──────░───────────┤ X ├─────┤ X ├┤ X ├─░──╫──╫──╫──╫─┤M├\n",
              "           ░           └───┘     └───┘└───┘ ░  ║  ║  ║  ║ └╥┘\n",
              "c: 5/══════════════════════════════════════════╩══╩══╩══╩══╩═\n",
              "                                               4  3  2  1  0 </pre>"
            ]
          },
          "metadata": {},
          "execution_count": 59
        }
      ]
    },
    {
      "cell_type": "code",
      "source": [
        "from qiskit.compiler import transpile, assemble\n",
        "trans_qc = transpile(circuit, backend)\n",
        "trans_qc.draw()"
      ],
      "metadata": {
        "colab": {
          "base_uri": "https://localhost:8080/",
          "height": 1000
        },
        "id": "7XeFTYu-emzY",
        "outputId": "cfb188b9-06e9-41b9-b218-0b0eb4a44fc5"
      },
      "execution_count": 60,
      "outputs": [
        {
          "output_type": "execute_result",
          "data": {
            "text/plain": [
              "global phase: π/4\n",
              "                 ┌───┐ ░                                                       »\n",
              "        q_0 -> 0 ┤ X ├─░───■──────────────────────────■─────────────────────■──»\n",
              "                 ├───┤ ░   │                          │             ┌───┐   │  »\n",
              "        q_1 -> 1 ┤ X ├─░───┼────■─────────■───────────┼─────────■───┤ T ├───┼──»\n",
              "                 └───┘ ░   │    │         │           │         │   └───┘   │  »\n",
              "        q_2 -> 2 ──────░───┼────┼────■────┼───────────┼─────────┼───────────┼──»\n",
              "                       ░ ┌─┴─┐┌─┴─┐┌─┴─┐  │           │         │           │  »\n",
              "        q_3 -> 3 ──────░─┤ X ├┤ X ├┤ X ├──┼───────────┼─────────┼───────────┼──»\n",
              "                       ░ ├───┤└───┘└───┘┌─┴─┐┌─────┐┌─┴─┐┌───┐┌─┴─┐┌─────┐┌─┴─┐»\n",
              "        q_4 -> 4 ──────░─┤ H ├──────────┤ X ├┤ Tdg ├┤ X ├┤ T ├┤ X ├┤ Tdg ├┤ X ├»\n",
              "                       ░ └───┘          └───┘└─────┘└───┘└───┘└───┘└─────┘└───┘»\n",
              "  ancilla_0 -> 5 ──────────────────────────────────────────────────────────────»\n",
              "                                                                               »\n",
              "  ancilla_1 -> 6 ──────────────────────────────────────────────────────────────»\n",
              "                                                                               »\n",
              "  ancilla_2 -> 7 ──────────────────────────────────────────────────────────────»\n",
              "                                                                               »\n",
              "  ancilla_3 -> 8 ──────────────────────────────────────────────────────────────»\n",
              "                                                                               »\n",
              "  ancilla_4 -> 9 ──────────────────────────────────────────────────────────────»\n",
              "                                                                               »\n",
              " ancilla_5 -> 10 ──────────────────────────────────────────────────────────────»\n",
              "                                                                               »\n",
              " ancilla_6 -> 11 ──────────────────────────────────────────────────────────────»\n",
              "                                                                               »\n",
              " ancilla_7 -> 12 ──────────────────────────────────────────────────────────────»\n",
              "                                                                               »\n",
              " ancilla_8 -> 13 ──────────────────────────────────────────────────────────────»\n",
              "                                                                               »\n",
              " ancilla_9 -> 14 ──────────────────────────────────────────────────────────────»\n",
              "                                                                               »\n",
              "ancilla_10 -> 15 ──────────────────────────────────────────────────────────────»\n",
              "                                                                               »\n",
              "ancilla_11 -> 16 ──────────────────────────────────────────────────────────────»\n",
              "                                                                               »\n",
              "ancilla_12 -> 17 ──────────────────────────────────────────────────────────────»\n",
              "                                                                               »\n",
              "ancilla_13 -> 18 ──────────────────────────────────────────────────────────────»\n",
              "                                                                               »\n",
              "ancilla_14 -> 19 ──────────────────────────────────────────────────────────────»\n",
              "                                                                               »\n",
              "ancilla_15 -> 20 ──────────────────────────────────────────────────────────────»\n",
              "                                                                               »\n",
              "ancilla_16 -> 21 ──────────────────────────────────────────────────────────────»\n",
              "                                                                               »\n",
              "ancilla_17 -> 22 ──────────────────────────────────────────────────────────────»\n",
              "                                                                               »\n",
              "ancilla_18 -> 23 ──────────────────────────────────────────────────────────────»\n",
              "                                                                               »\n",
              "ancilla_19 -> 24 ──────────────────────────────────────────────────────────────»\n",
              "                                                                               »\n",
              "            c: 5/══════════════════════════════════════════════════════════════»\n",
              "                                                                               »\n",
              "«                      ┌─────────┐                                       »\n",
              "«        q_0 -> 0 ──■──┤ Rz(π/2) ├───■─────■─────────────────────■────■──»\n",
              "«                 ┌─┴─┐└─┬─────┬─┘ ┌─┴─┐   │                     │    │  »\n",
              "«        q_1 -> 1 ┤ X ├──┤ Tdg ├───┤ X ├───┼─────────────────────┼────┼──»\n",
              "«                 └───┘  └─────┘   └───┘   │             ┌───┐   │  ┌─┴─┐»\n",
              "«        q_2 -> 2 ──────────■──────────────┼─────────■───┤ T ├───┼──┤ X ├»\n",
              "«                           │              │         │   └───┘   │  └───┘»\n",
              "«        q_3 -> 3 ──────────┼──────────────┼─────────┼───────────┼───────»\n",
              "«                 ┌───┐   ┌─┴─┐   ┌─────┐┌─┴─┐┌───┐┌─┴─┐┌─────┐┌─┴─┐┌───┐»\n",
              "«        q_4 -> 4 ┤ T ├───┤ X ├───┤ Tdg ├┤ X ├┤ T ├┤ X ├┤ Tdg ├┤ X ├┤ T ├»\n",
              "«                 └───┘   └───┘   └─────┘└───┘└───┘└───┘└─────┘└───┘└───┘»\n",
              "«  ancilla_0 -> 5 ───────────────────────────────────────────────────────»\n",
              "«                                                                        »\n",
              "«  ancilla_1 -> 6 ───────────────────────────────────────────────────────»\n",
              "«                                                                        »\n",
              "«  ancilla_2 -> 7 ───────────────────────────────────────────────────────»\n",
              "«                                                                        »\n",
              "«  ancilla_3 -> 8 ───────────────────────────────────────────────────────»\n",
              "«                                                                        »\n",
              "«  ancilla_4 -> 9 ───────────────────────────────────────────────────────»\n",
              "«                                                                        »\n",
              "« ancilla_5 -> 10 ───────────────────────────────────────────────────────»\n",
              "«                                                                        »\n",
              "« ancilla_6 -> 11 ───────────────────────────────────────────────────────»\n",
              "«                                                                        »\n",
              "« ancilla_7 -> 12 ───────────────────────────────────────────────────────»\n",
              "«                                                                        »\n",
              "« ancilla_8 -> 13 ───────────────────────────────────────────────────────»\n",
              "«                                                                        »\n",
              "« ancilla_9 -> 14 ───────────────────────────────────────────────────────»\n",
              "«                                                                        »\n",
              "«ancilla_10 -> 15 ───────────────────────────────────────────────────────»\n",
              "«                                                                        »\n",
              "«ancilla_11 -> 16 ───────────────────────────────────────────────────────»\n",
              "«                                                                        »\n",
              "«ancilla_12 -> 17 ───────────────────────────────────────────────────────»\n",
              "«                                                                        »\n",
              "«ancilla_13 -> 18 ───────────────────────────────────────────────────────»\n",
              "«                                                                        »\n",
              "«ancilla_14 -> 19 ───────────────────────────────────────────────────────»\n",
              "«                                                                        »\n",
              "«ancilla_15 -> 20 ───────────────────────────────────────────────────────»\n",
              "«                                                                        »\n",
              "«ancilla_16 -> 21 ───────────────────────────────────────────────────────»\n",
              "«                                                                        »\n",
              "«ancilla_17 -> 22 ───────────────────────────────────────────────────────»\n",
              "«                                                                        »\n",
              "«ancilla_18 -> 23 ───────────────────────────────────────────────────────»\n",
              "«                                                                        »\n",
              "«ancilla_19 -> 24 ───────────────────────────────────────────────────────»\n",
              "«                                                                        »\n",
              "«            c: 5/═══════════════════════════════════════════════════════»\n",
              "«                                                                        »\n",
              "«                                                                         »\n",
              "«        q_0 -> 0 ─────────■──────────────────────────────────────────────»\n",
              "«                          │                                              »\n",
              "«        q_1 -> 1 ─────────┼────────────────■─────────────────────■────■──»\n",
              "«                 ┌─────┐┌─┴─┐              │             ┌───┐   │  ┌─┴─┐»\n",
              "«        q_2 -> 2 ┤ Tdg ├┤ X ├──■───────────┼─────────■───┤ T ├───┼──┤ X ├»\n",
              "«                 └─────┘└───┘  │           │         │   └───┘   │  └───┘»\n",
              "«        q_3 -> 3 ──────────────┼───────────┼─────────┼───────────┼───────»\n",
              "«                             ┌─┴─┐┌─────┐┌─┴─┐┌───┐┌─┴─┐┌─────┐┌─┴─┐┌───┐»\n",
              "«        q_4 -> 4 ────────────┤ X ├┤ Tdg ├┤ X ├┤ T ├┤ X ├┤ Tdg ├┤ X ├┤ T ├»\n",
              "«                             └───┘└─────┘└───┘└───┘└───┘└─────┘└───┘└───┘»\n",
              "«  ancilla_0 -> 5 ────────────────────────────────────────────────────────»\n",
              "«                                                                         »\n",
              "«  ancilla_1 -> 6 ────────────────────────────────────────────────────────»\n",
              "«                                                                         »\n",
              "«  ancilla_2 -> 7 ────────────────────────────────────────────────────────»\n",
              "«                                                                         »\n",
              "«  ancilla_3 -> 8 ────────────────────────────────────────────────────────»\n",
              "«                                                                         »\n",
              "«  ancilla_4 -> 9 ────────────────────────────────────────────────────────»\n",
              "«                                                                         »\n",
              "« ancilla_5 -> 10 ────────────────────────────────────────────────────────»\n",
              "«                                                                         »\n",
              "« ancilla_6 -> 11 ────────────────────────────────────────────────────────»\n",
              "«                                                                         »\n",
              "« ancilla_7 -> 12 ────────────────────────────────────────────────────────»\n",
              "«                                                                         »\n",
              "« ancilla_8 -> 13 ────────────────────────────────────────────────────────»\n",
              "«                                                                         »\n",
              "« ancilla_9 -> 14 ────────────────────────────────────────────────────────»\n",
              "«                                                                         »\n",
              "«ancilla_10 -> 15 ────────────────────────────────────────────────────────»\n",
              "«                                                                         »\n",
              "«ancilla_11 -> 16 ────────────────────────────────────────────────────────»\n",
              "«                                                                         »\n",
              "«ancilla_12 -> 17 ────────────────────────────────────────────────────────»\n",
              "«                                                                         »\n",
              "«ancilla_13 -> 18 ────────────────────────────────────────────────────────»\n",
              "«                                                                         »\n",
              "«ancilla_14 -> 19 ────────────────────────────────────────────────────────»\n",
              "«                                                                         »\n",
              "«ancilla_15 -> 20 ────────────────────────────────────────────────────────»\n",
              "«                                                                         »\n",
              "«ancilla_16 -> 21 ────────────────────────────────────────────────────────»\n",
              "«                                                                         »\n",
              "«ancilla_17 -> 22 ────────────────────────────────────────────────────────»\n",
              "«                                                                         »\n",
              "«ancilla_18 -> 23 ────────────────────────────────────────────────────────»\n",
              "«                                                                         »\n",
              "«ancilla_19 -> 24 ────────────────────────────────────────────────────────»\n",
              "«                                                                         »\n",
              "«            c: 5/════════════════════════════════════════════════════════»\n",
              "«                                                                         »\n",
              "«                              ░             ┌─┐\n",
              "«        q_0 -> 0 ─────────────░─────────────┤M├\n",
              "«                  ┌───┐       ░          ┌─┐└╥┘\n",
              "«        q_1 -> 1 ─┤ T ├───■───░──────────┤M├─╫─\n",
              "«                 ┌┴───┴┐┌─┴─┐ ░       ┌─┐└╥┘ ║ \n",
              "«        q_2 -> 2 ┤ Tdg ├┤ X ├─░───────┤M├─╫──╫─\n",
              "«                 └─────┘└───┘ ░    ┌─┐└╥┘ ║  ║ \n",
              "«        q_3 -> 3 ─────────────░────┤M├─╫──╫──╫─\n",
              "«                  ┌───┐       ░ ┌─┐└╥┘ ║  ║  ║ \n",
              "«        q_4 -> 4 ─┤ H ├───────░─┤M├─╫──╫──╫──╫─\n",
              "«                  └───┘       ░ └╥┘ ║  ║  ║  ║ \n",
              "«  ancilla_0 -> 5 ────────────────╫──╫──╫──╫──╫─\n",
              "«                                 ║  ║  ║  ║  ║ \n",
              "«  ancilla_1 -> 6 ────────────────╫──╫──╫──╫──╫─\n",
              "«                                 ║  ║  ║  ║  ║ \n",
              "«  ancilla_2 -> 7 ────────────────╫──╫──╫──╫──╫─\n",
              "«                                 ║  ║  ║  ║  ║ \n",
              "«  ancilla_3 -> 8 ────────────────╫──╫──╫──╫──╫─\n",
              "«                                 ║  ║  ║  ║  ║ \n",
              "«  ancilla_4 -> 9 ────────────────╫──╫──╫──╫──╫─\n",
              "«                                 ║  ║  ║  ║  ║ \n",
              "« ancilla_5 -> 10 ────────────────╫──╫──╫──╫──╫─\n",
              "«                                 ║  ║  ║  ║  ║ \n",
              "« ancilla_6 -> 11 ────────────────╫──╫──╫──╫──╫─\n",
              "«                                 ║  ║  ║  ║  ║ \n",
              "« ancilla_7 -> 12 ────────────────╫──╫──╫──╫──╫─\n",
              "«                                 ║  ║  ║  ║  ║ \n",
              "« ancilla_8 -> 13 ────────────────╫──╫──╫──╫──╫─\n",
              "«                                 ║  ║  ║  ║  ║ \n",
              "« ancilla_9 -> 14 ────────────────╫──╫──╫──╫──╫─\n",
              "«                                 ║  ║  ║  ║  ║ \n",
              "«ancilla_10 -> 15 ────────────────╫──╫──╫──╫──╫─\n",
              "«                                 ║  ║  ║  ║  ║ \n",
              "«ancilla_11 -> 16 ────────────────╫──╫──╫──╫──╫─\n",
              "«                                 ║  ║  ║  ║  ║ \n",
              "«ancilla_12 -> 17 ────────────────╫──╫──╫──╫──╫─\n",
              "«                                 ║  ║  ║  ║  ║ \n",
              "«ancilla_13 -> 18 ────────────────╫──╫──╫──╫──╫─\n",
              "«                                 ║  ║  ║  ║  ║ \n",
              "«ancilla_14 -> 19 ────────────────╫──╫──╫──╫──╫─\n",
              "«                                 ║  ║  ║  ║  ║ \n",
              "«ancilla_15 -> 20 ────────────────╫──╫──╫──╫──╫─\n",
              "«                                 ║  ║  ║  ║  ║ \n",
              "«ancilla_16 -> 21 ────────────────╫──╫──╫──╫──╫─\n",
              "«                                 ║  ║  ║  ║  ║ \n",
              "«ancilla_17 -> 22 ────────────────╫──╫──╫──╫──╫─\n",
              "«                                 ║  ║  ║  ║  ║ \n",
              "«ancilla_18 -> 23 ────────────────╫──╫──╫──╫──╫─\n",
              "«                                 ║  ║  ║  ║  ║ \n",
              "«ancilla_19 -> 24 ────────────────╫──╫──╫──╫──╫─\n",
              "«                                 ║  ║  ║  ║  ║ \n",
              "«            c: 5/════════════════╩══╩══╩══╩══╩═\n",
              "«                                 0  1  2  3  4 "
            ],
            "text/html": [
              "<pre style=\"word-wrap: normal;white-space: pre;background: #fff0;line-height: 1.1;font-family: &quot;Courier New&quot;,Courier,monospace\">global phase: π/4\n",
              "                 ┌───┐ ░                                                       »\n",
              "        q_0 -> 0 ┤ X ├─░───■──────────────────────────■─────────────────────■──»\n",
              "                 ├───┤ ░   │                          │             ┌───┐   │  »\n",
              "        q_1 -> 1 ┤ X ├─░───┼────■─────────■───────────┼─────────■───┤ T ├───┼──»\n",
              "                 └───┘ ░   │    │         │           │         │   └───┘   │  »\n",
              "        q_2 -> 2 ──────░───┼────┼────■────┼───────────┼─────────┼───────────┼──»\n",
              "                       ░ ┌─┴─┐┌─┴─┐┌─┴─┐  │           │         │           │  »\n",
              "        q_3 -> 3 ──────░─┤ X ├┤ X ├┤ X ├──┼───────────┼─────────┼───────────┼──»\n",
              "                       ░ ├───┤└───┘└───┘┌─┴─┐┌─────┐┌─┴─┐┌───┐┌─┴─┐┌─────┐┌─┴─┐»\n",
              "        q_4 -> 4 ──────░─┤ H ├──────────┤ X ├┤ Tdg ├┤ X ├┤ T ├┤ X ├┤ Tdg ├┤ X ├»\n",
              "                       ░ └───┘          └───┘└─────┘└───┘└───┘└───┘└─────┘└───┘»\n",
              "  ancilla_0 -> 5 ──────────────────────────────────────────────────────────────»\n",
              "                                                                               »\n",
              "  ancilla_1 -> 6 ──────────────────────────────────────────────────────────────»\n",
              "                                                                               »\n",
              "  ancilla_2 -> 7 ──────────────────────────────────────────────────────────────»\n",
              "                                                                               »\n",
              "  ancilla_3 -> 8 ──────────────────────────────────────────────────────────────»\n",
              "                                                                               »\n",
              "  ancilla_4 -> 9 ──────────────────────────────────────────────────────────────»\n",
              "                                                                               »\n",
              " ancilla_5 -> 10 ──────────────────────────────────────────────────────────────»\n",
              "                                                                               »\n",
              " ancilla_6 -> 11 ──────────────────────────────────────────────────────────────»\n",
              "                                                                               »\n",
              " ancilla_7 -> 12 ──────────────────────────────────────────────────────────────»\n",
              "                                                                               »\n",
              " ancilla_8 -> 13 ──────────────────────────────────────────────────────────────»\n",
              "                                                                               »\n",
              " ancilla_9 -> 14 ──────────────────────────────────────────────────────────────»\n",
              "                                                                               »\n",
              "ancilla_10 -> 15 ──────────────────────────────────────────────────────────────»\n",
              "                                                                               »\n",
              "ancilla_11 -> 16 ──────────────────────────────────────────────────────────────»\n",
              "                                                                               »\n",
              "ancilla_12 -> 17 ──────────────────────────────────────────────────────────────»\n",
              "                                                                               »\n",
              "ancilla_13 -> 18 ──────────────────────────────────────────────────────────────»\n",
              "                                                                               »\n",
              "ancilla_14 -> 19 ──────────────────────────────────────────────────────────────»\n",
              "                                                                               »\n",
              "ancilla_15 -> 20 ──────────────────────────────────────────────────────────────»\n",
              "                                                                               »\n",
              "ancilla_16 -> 21 ──────────────────────────────────────────────────────────────»\n",
              "                                                                               »\n",
              "ancilla_17 -> 22 ──────────────────────────────────────────────────────────────»\n",
              "                                                                               »\n",
              "ancilla_18 -> 23 ──────────────────────────────────────────────────────────────»\n",
              "                                                                               »\n",
              "ancilla_19 -> 24 ──────────────────────────────────────────────────────────────»\n",
              "                                                                               »\n",
              "            c: 5/══════════════════════════════════════════════════════════════»\n",
              "                                                                               »\n",
              "«                      ┌─────────┐                                       »\n",
              "«        q_0 -> 0 ──■──┤ Rz(π/2) ├───■─────■─────────────────────■────■──»\n",
              "«                 ┌─┴─┐└─┬─────┬─┘ ┌─┴─┐   │                     │    │  »\n",
              "«        q_1 -> 1 ┤ X ├──┤ Tdg ├───┤ X ├───┼─────────────────────┼────┼──»\n",
              "«                 └───┘  └─────┘   └───┘   │             ┌───┐   │  ┌─┴─┐»\n",
              "«        q_2 -> 2 ──────────■──────────────┼─────────■───┤ T ├───┼──┤ X ├»\n",
              "«                           │              │         │   └───┘   │  └───┘»\n",
              "«        q_3 -> 3 ──────────┼──────────────┼─────────┼───────────┼───────»\n",
              "«                 ┌───┐   ┌─┴─┐   ┌─────┐┌─┴─┐┌───┐┌─┴─┐┌─────┐┌─┴─┐┌───┐»\n",
              "«        q_4 -> 4 ┤ T ├───┤ X ├───┤ Tdg ├┤ X ├┤ T ├┤ X ├┤ Tdg ├┤ X ├┤ T ├»\n",
              "«                 └───┘   └───┘   └─────┘└───┘└───┘└───┘└─────┘└───┘└───┘»\n",
              "«  ancilla_0 -> 5 ───────────────────────────────────────────────────────»\n",
              "«                                                                        »\n",
              "«  ancilla_1 -> 6 ───────────────────────────────────────────────────────»\n",
              "«                                                                        »\n",
              "«  ancilla_2 -> 7 ───────────────────────────────────────────────────────»\n",
              "«                                                                        »\n",
              "«  ancilla_3 -> 8 ───────────────────────────────────────────────────────»\n",
              "«                                                                        »\n",
              "«  ancilla_4 -> 9 ───────────────────────────────────────────────────────»\n",
              "«                                                                        »\n",
              "« ancilla_5 -> 10 ───────────────────────────────────────────────────────»\n",
              "«                                                                        »\n",
              "« ancilla_6 -> 11 ───────────────────────────────────────────────────────»\n",
              "«                                                                        »\n",
              "« ancilla_7 -> 12 ───────────────────────────────────────────────────────»\n",
              "«                                                                        »\n",
              "« ancilla_8 -> 13 ───────────────────────────────────────────────────────»\n",
              "«                                                                        »\n",
              "« ancilla_9 -> 14 ───────────────────────────────────────────────────────»\n",
              "«                                                                        »\n",
              "«ancilla_10 -> 15 ───────────────────────────────────────────────────────»\n",
              "«                                                                        »\n",
              "«ancilla_11 -> 16 ───────────────────────────────────────────────────────»\n",
              "«                                                                        »\n",
              "«ancilla_12 -> 17 ───────────────────────────────────────────────────────»\n",
              "«                                                                        »\n",
              "«ancilla_13 -> 18 ───────────────────────────────────────────────────────»\n",
              "«                                                                        »\n",
              "«ancilla_14 -> 19 ───────────────────────────────────────────────────────»\n",
              "«                                                                        »\n",
              "«ancilla_15 -> 20 ───────────────────────────────────────────────────────»\n",
              "«                                                                        »\n",
              "«ancilla_16 -> 21 ───────────────────────────────────────────────────────»\n",
              "«                                                                        »\n",
              "«ancilla_17 -> 22 ───────────────────────────────────────────────────────»\n",
              "«                                                                        »\n",
              "«ancilla_18 -> 23 ───────────────────────────────────────────────────────»\n",
              "«                                                                        »\n",
              "«ancilla_19 -> 24 ───────────────────────────────────────────────────────»\n",
              "«                                                                        »\n",
              "«            c: 5/═══════════════════════════════════════════════════════»\n",
              "«                                                                        »\n",
              "«                                                                         »\n",
              "«        q_0 -> 0 ─────────■──────────────────────────────────────────────»\n",
              "«                          │                                              »\n",
              "«        q_1 -> 1 ─────────┼────────────────■─────────────────────■────■──»\n",
              "«                 ┌─────┐┌─┴─┐              │             ┌───┐   │  ┌─┴─┐»\n",
              "«        q_2 -> 2 ┤ Tdg ├┤ X ├──■───────────┼─────────■───┤ T ├───┼──┤ X ├»\n",
              "«                 └─────┘└───┘  │           │         │   └───┘   │  └───┘»\n",
              "«        q_3 -> 3 ──────────────┼───────────┼─────────┼───────────┼───────»\n",
              "«                             ┌─┴─┐┌─────┐┌─┴─┐┌───┐┌─┴─┐┌─────┐┌─┴─┐┌───┐»\n",
              "«        q_4 -> 4 ────────────┤ X ├┤ Tdg ├┤ X ├┤ T ├┤ X ├┤ Tdg ├┤ X ├┤ T ├»\n",
              "«                             └───┘└─────┘└───┘└───┘└───┘└─────┘└───┘└───┘»\n",
              "«  ancilla_0 -> 5 ────────────────────────────────────────────────────────»\n",
              "«                                                                         »\n",
              "«  ancilla_1 -> 6 ────────────────────────────────────────────────────────»\n",
              "«                                                                         »\n",
              "«  ancilla_2 -> 7 ────────────────────────────────────────────────────────»\n",
              "«                                                                         »\n",
              "«  ancilla_3 -> 8 ────────────────────────────────────────────────────────»\n",
              "«                                                                         »\n",
              "«  ancilla_4 -> 9 ────────────────────────────────────────────────────────»\n",
              "«                                                                         »\n",
              "« ancilla_5 -> 10 ────────────────────────────────────────────────────────»\n",
              "«                                                                         »\n",
              "« ancilla_6 -> 11 ────────────────────────────────────────────────────────»\n",
              "«                                                                         »\n",
              "« ancilla_7 -> 12 ────────────────────────────────────────────────────────»\n",
              "«                                                                         »\n",
              "« ancilla_8 -> 13 ────────────────────────────────────────────────────────»\n",
              "«                                                                         »\n",
              "« ancilla_9 -> 14 ────────────────────────────────────────────────────────»\n",
              "«                                                                         »\n",
              "«ancilla_10 -> 15 ────────────────────────────────────────────────────────»\n",
              "«                                                                         »\n",
              "«ancilla_11 -> 16 ────────────────────────────────────────────────────────»\n",
              "«                                                                         »\n",
              "«ancilla_12 -> 17 ────────────────────────────────────────────────────────»\n",
              "«                                                                         »\n",
              "«ancilla_13 -> 18 ────────────────────────────────────────────────────────»\n",
              "«                                                                         »\n",
              "«ancilla_14 -> 19 ────────────────────────────────────────────────────────»\n",
              "«                                                                         »\n",
              "«ancilla_15 -> 20 ────────────────────────────────────────────────────────»\n",
              "«                                                                         »\n",
              "«ancilla_16 -> 21 ────────────────────────────────────────────────────────»\n",
              "«                                                                         »\n",
              "«ancilla_17 -> 22 ────────────────────────────────────────────────────────»\n",
              "«                                                                         »\n",
              "«ancilla_18 -> 23 ────────────────────────────────────────────────────────»\n",
              "«                                                                         »\n",
              "«ancilla_19 -> 24 ────────────────────────────────────────────────────────»\n",
              "«                                                                         »\n",
              "«            c: 5/════════════════════════════════════════════════════════»\n",
              "«                                                                         »\n",
              "«                              ░             ┌─┐\n",
              "«        q_0 -> 0 ─────────────░─────────────┤M├\n",
              "«                  ┌───┐       ░          ┌─┐└╥┘\n",
              "«        q_1 -> 1 ─┤ T ├───■───░──────────┤M├─╫─\n",
              "«                 ┌┴───┴┐┌─┴─┐ ░       ┌─┐└╥┘ ║ \n",
              "«        q_2 -> 2 ┤ Tdg ├┤ X ├─░───────┤M├─╫──╫─\n",
              "«                 └─────┘└───┘ ░    ┌─┐└╥┘ ║  ║ \n",
              "«        q_3 -> 3 ─────────────░────┤M├─╫──╫──╫─\n",
              "«                  ┌───┐       ░ ┌─┐└╥┘ ║  ║  ║ \n",
              "«        q_4 -> 4 ─┤ H ├───────░─┤M├─╫──╫──╫──╫─\n",
              "«                  └───┘       ░ └╥┘ ║  ║  ║  ║ \n",
              "«  ancilla_0 -> 5 ────────────────╫──╫──╫──╫──╫─\n",
              "«                                 ║  ║  ║  ║  ║ \n",
              "«  ancilla_1 -> 6 ────────────────╫──╫──╫──╫──╫─\n",
              "«                                 ║  ║  ║  ║  ║ \n",
              "«  ancilla_2 -> 7 ────────────────╫──╫──╫──╫──╫─\n",
              "«                                 ║  ║  ║  ║  ║ \n",
              "«  ancilla_3 -> 8 ────────────────╫──╫──╫──╫──╫─\n",
              "«                                 ║  ║  ║  ║  ║ \n",
              "«  ancilla_4 -> 9 ────────────────╫──╫──╫──╫──╫─\n",
              "«                                 ║  ║  ║  ║  ║ \n",
              "« ancilla_5 -> 10 ────────────────╫──╫──╫──╫──╫─\n",
              "«                                 ║  ║  ║  ║  ║ \n",
              "« ancilla_6 -> 11 ────────────────╫──╫──╫──╫──╫─\n",
              "«                                 ║  ║  ║  ║  ║ \n",
              "« ancilla_7 -> 12 ────────────────╫──╫──╫──╫──╫─\n",
              "«                                 ║  ║  ║  ║  ║ \n",
              "« ancilla_8 -> 13 ────────────────╫──╫──╫──╫──╫─\n",
              "«                                 ║  ║  ║  ║  ║ \n",
              "« ancilla_9 -> 14 ────────────────╫──╫──╫──╫──╫─\n",
              "«                                 ║  ║  ║  ║  ║ \n",
              "«ancilla_10 -> 15 ────────────────╫──╫──╫──╫──╫─\n",
              "«                                 ║  ║  ║  ║  ║ \n",
              "«ancilla_11 -> 16 ────────────────╫──╫──╫──╫──╫─\n",
              "«                                 ║  ║  ║  ║  ║ \n",
              "«ancilla_12 -> 17 ────────────────╫──╫──╫──╫──╫─\n",
              "«                                 ║  ║  ║  ║  ║ \n",
              "«ancilla_13 -> 18 ────────────────╫──╫──╫──╫──╫─\n",
              "«                                 ║  ║  ║  ║  ║ \n",
              "«ancilla_14 -> 19 ────────────────╫──╫──╫──╫──╫─\n",
              "«                                 ║  ║  ║  ║  ║ \n",
              "«ancilla_15 -> 20 ────────────────╫──╫──╫──╫──╫─\n",
              "«                                 ║  ║  ║  ║  ║ \n",
              "«ancilla_16 -> 21 ────────────────╫──╫──╫──╫──╫─\n",
              "«                                 ║  ║  ║  ║  ║ \n",
              "«ancilla_17 -> 22 ────────────────╫──╫──╫──╫──╫─\n",
              "«                                 ║  ║  ║  ║  ║ \n",
              "«ancilla_18 -> 23 ────────────────╫──╫──╫──╫──╫─\n",
              "«                                 ║  ║  ║  ║  ║ \n",
              "«ancilla_19 -> 24 ────────────────╫──╫──╫──╫──╫─\n",
              "«                                 ║  ║  ║  ║  ║ \n",
              "«            c: 5/════════════════╩══╩══╩══╩══╩═\n",
              "«                                 0  1  2  3  4 </pre>"
            ]
          },
          "metadata": {},
          "execution_count": 60
        }
      ]
    },
    {
      "cell_type": "code",
      "source": [
        "from qiskit.providers.jobstatus import JobStatus\n",
        "import time\n",
        "\n",
        "job = backend.run(trans_qc, shots=1024)\n",
        "\n",
        "print(\"Job ID is\", job.job_id(),\"\\n\")\n",
        "\n",
        "# 제출된 잡에 대한 지속적인 실행 상태 확인\n",
        "#while job.status() is not JobStatus.DONE:\n",
        "#\tprint(\"Job status is\", job.status() )\n",
        "#\ttime.sleep(2)\n",
        "###while"
      ],
      "metadata": {
        "colab": {
          "base_uri": "https://localhost:8080/"
        },
        "id": "fbj-_FDLV2wL",
        "outputId": "39b1b0aa-7afe-4e4e-d08d-5c1ea582ac6e"
      },
      "execution_count": 61,
      "outputs": [
        {
          "output_type": "stream",
          "name": "stdout",
          "text": [
            "Job ID is arn:aws:braket:us-east-1:013364996211:quantum-task/3328385a-c7c2-4add-bb1a-817b49af4dbd \n",
            "\n"
          ]
        }
      ]
    },
    {
      "cell_type": "code",
      "source": [
        "print(\"Job status is\", job.status() )"
      ],
      "metadata": {
        "id": "6TpCediwnwe9",
        "outputId": "96814357-2efd-4158-ba6b-efaaa6a5ccd1",
        "colab": {
          "base_uri": "https://localhost:8080/"
        }
      },
      "execution_count": 84,
      "outputs": [
        {
          "output_type": "stream",
          "name": "stdout",
          "text": [
            "Job status is JobStatus.DONE\n"
          ]
        }
      ]
    },
    {
      "cell_type": "code",
      "source": [
        "# 중간에 세션이 종료된 경우 기존에 실행이 완료된 Job을 복구하는 방법\n",
        "#job = backend.retrieve_job(\"arn:aws:braket:us-east-1:746669231099:quantum-task/f6fab6be-1590-4da0-914a-fade74efc485\")"
      ],
      "metadata": {
        "id": "uiCBc1tfnSMC"
      },
      "execution_count": 27,
      "outputs": []
    },
    {
      "cell_type": "code",
      "source": [
        "result = job.result()\n",
        "result"
      ],
      "metadata": {
        "id": "Ur_wQg-kxLLq",
        "outputId": "8319e03f-4531-43a2-8510-611ad129b77b",
        "colab": {
          "base_uri": "https://localhost:8080/"
        }
      },
      "execution_count": 85,
      "outputs": [
        {
          "output_type": "execute_result",
          "data": {
            "text/plain": [
              "Result(backend_name='Aria 1', backend_version='2', qobj_id='0', job_id='arn:aws:braket:us-east-1:013364996211:quantum-task/3328385a-c7c2-4add-bb1a-817b49af4dbd', success=True, results=[ExperimentResult(shots=1024, success=True, meas_level=2, data=ExperimentResultData(counts={'00011': 6, '10001': 6, '10010': 6, '10011': 1001, '10101': 1, '10111': 1, '11011': 3}, memory=['00011', '00011', '00011', '00011', '00011', '00011', '10001', '10001', '10001', '10001', '10001', '10001', '10010', '10010', '10010', '10010', '10010', '10010', '10011', '10011', '10011', '10011', '10011', '10011', '10011', '10011', '10011', '10011', '10011', '10011', '10011', '10011', '10011', '10011', '10011', '10011', '10011', '10011', '10011', '10011', '10011', '10011', '10011', '10011', '10011', '10011', '10011', '10011', '10011', '10011', '10011', '10011', '10011', '10011', '10011', '10011', '10011', '10011', '10011', '10011', '10011', '10011', '10011', '10011', '10011', '10011', '10011', '10011', '10011', '10011', '10011', '10011', '10011', '10011', '10011', '10011', '10011', '10011', '10011', '10011', '10011', '10011', '10011', '10011', '10011', '10011', '10011', '10011', '10011', '10011', '10011', '10011', '10011', '10011', '10011', '10011', '10011', '10011', '10011', '10011', '10011', '10011', '10011', '10011', '10011', '10011', '10011', '10011', '10011', '10011', '10011', '10011', '10011', '10011', '10011', '10011', '10011', '10011', '10011', '10011', '10011', '10011', '10011', '10011', '10011', '10011', '10011', '10011', '10011', '10011', '10011', '10011', '10011', '10011', '10011', '10011', '10011', '10011', '10011', '10011', '10011', '10011', '10011', '10011', '10011', '10011', '10011', '10011', '10011', '10011', '10011', '10011', '10011', '10011', '10011', '10011', '10011', '10011', '10011', '10011', '10011', '10011', '10011', '10011', '10011', '10011', '10011', '10011', '10011', '10011', '10011', '10011', '10011', '10011', '10011', '10011', '10011', '10011', '10011', '10011', '10011', '10011', '10011', '10011', '10011', '10011', '10011', '10011', '10011', '10011', '10011', '10011', '10011', '10011', '10011', '10011', '10011', '10011', '10011', '10011', '10011', '10011', '10011', '10011', '10011', '10011', '10011', '10011', '10011', '10011', '10011', '10011', '10011', '10011', '10011', '10011', '10011', '10011', '10011', '10011', '10011', '10011', '10011', '10011', '10011', '10011', '10011', '10011', '10011', '10011', '10011', '10011', '10011', '10011', '10011', '10011', '10011', '10011', '10011', '10011', '10011', '10011', '10011', '10011', '10011', '10011', '10011', '10011', '10011', '10011', '10011', '10011', '10011', '10011', '10011', '10011', '10011', '10011', '10011', '10011', '10011', '10011', '10011', '10011', '10011', '10011', '10011', '10011', '10011', '10011', '10011', '10011', '10011', '10011', '10011', '10011', '10011', '10011', '10011', '10011', '10011', '10011', '10011', '10011', '10011', '10011', '10011', '10011', '10011', '10011', '10011', '10011', '10011', '10011', '10011', '10011', '10011', '10011', '10011', '10011', '10011', '10011', '10011', '10011', '10011', '10011', '10011', '10011', '10011', '10011', '10011', '10011', '10011', '10011', '10011', '10011', '10011', '10011', '10011', '10011', '10011', '10011', '10011', '10011', '10011', '10011', '10011', '10011', '10011', '10011', '10011', '10011', '10011', '10011', '10011', '10011', '10011', '10011', '10011', '10011', '10011', '10011', '10011', '10011', '10011', '10011', '10011', '10011', '10011', '10011', '10011', '10011', '10011', '10011', '10011', '10011', '10011', '10011', '10011', '10011', '10011', '10011', '10011', '10011', '10011', '10011', '10011', '10011', '10011', '10011', '10011', '10011', '10011', '10011', '10011', '10011', '10011', '10011', '10011', '10011', '10011', '10011', '10011', '10011', '10011', '10011', '10011', '10011', '10011', '10011', '10011', '10011', '10011', '10011', '10011', '10011', '10011', '10011', '10011', '10011', '10011', '10011', '10011', '10011', '10011', '10011', '10011', '10011', '10011', '10011', '10011', '10011', '10011', '10011', '10011', '10011', '10011', '10011', '10011', '10011', '10011', '10011', '10011', '10011', '10011', '10011', '10011', '10011', '10011', '10011', '10011', '10011', '10011', '10011', '10011', '10011', '10011', '10011', '10011', '10011', '10011', '10011', '10011', '10011', '10011', '10011', '10011', '10011', '10011', '10011', '10011', '10011', '10011', '10011', '10011', '10011', '10011', '10011', '10011', '10011', '10011', '10011', '10011', '10011', '10011', '10011', '10011', '10011', '10011', '10011', '10011', '10011', '10011', '10011', '10011', '10011', '10011', '10011', '10011', '10011', '10011', '10011', '10011', '10011', '10011', '10011', '10011', '10011', '10011', '10011', '10011', '10011', '10011', '10011', '10011', '10011', '10011', '10011', '10011', '10011', '10011', '10011', '10011', '10011', '10011', '10011', '10011', '10011', '10011', '10011', '10011', '10011', '10011', '10011', '10011', '10011', '10011', '10011', '10011', '10011', '10011', '10011', '10011', '10011', '10011', '10011', '10011', '10011', '10011', '10011', '10011', '10011', '10011', '10011', '10011', '10011', '10011', '10011', '10011', '10011', '10011', '10011', '10011', '10011', '10011', '10011', '10011', '10011', '10011', '10011', '10011', '10011', '10011', '10011', '10011', '10011', '10011', '10011', '10011', '10011', '10011', '10011', '10011', '10011', '10011', '10011', '10011', '10011', '10011', '10011', '10011', '10011', '10011', '10011', '10011', '10011', '10011', '10011', '10011', '10011', '10011', '10011', '10011', '10011', '10011', '10011', '10011', '10011', '10011', '10011', '10011', '10011', '10011', '10011', '10011', '10011', '10011', '10011', '10011', '10011', '10011', '10011', '10011', '10011', '10011', '10011', '10011', '10011', '10011', '10011', '10011', '10011', '10011', '10011', '10011', '10011', '10011', '10011', '10011', '10011', '10011', '10011', '10011', '10011', '10011', '10011', '10011', '10011', '10011', '10011', '10011', '10011', '10011', '10011', '10011', '10011', '10011', '10011', '10011', '10011', '10011', '10011', '10011', '10011', '10011', '10011', '10011', '10011', '10011', '10011', '10011', '10011', '10011', '10011', '10011', '10011', '10011', '10011', '10011', '10011', '10011', '10011', '10011', '10011', '10011', '10011', '10011', '10011', '10011', '10011', '10011', '10011', '10011', '10011', '10011', '10011', '10011', '10011', '10011', '10011', '10011', '10011', '10011', '10011', '10011', '10011', '10011', '10011', '10011', '10011', '10011', '10011', '10011', '10011', '10011', '10011', '10011', '10011', '10011', '10011', '10011', '10011', '10011', '10011', '10011', '10011', '10011', '10011', '10011', '10011', '10011', '10011', '10011', '10011', '10011', '10011', '10011', '10011', '10011', '10011', '10011', '10011', '10011', '10011', '10011', '10011', '10011', '10011', '10011', '10011', '10011', '10011', '10011', '10011', '10011', '10011', '10011', '10011', '10011', '10011', '10011', '10011', '10011', '10011', '10011', '10011', '10011', '10011', '10011', '10011', '10011', '10011', '10011', '10011', '10011', '10011', '10011', '10011', '10011', '10011', '10011', '10011', '10011', '10011', '10011', '10011', '10011', '10011', '10011', '10011', '10011', '10011', '10011', '10011', '10011', '10011', '10011', '10011', '10011', '10011', '10011', '10011', '10011', '10011', '10011', '10011', '10011', '10011', '10011', '10011', '10011', '10011', '10011', '10011', '10011', '10011', '10011', '10011', '10011', '10011', '10011', '10011', '10011', '10011', '10011', '10011', '10011', '10011', '10011', '10011', '10011', '10011', '10011', '10011', '10011', '10011', '10011', '10011', '10011', '10011', '10011', '10011', '10011', '10011', '10011', '10011', '10011', '10011', '10011', '10011', '10011', '10011', '10011', '10011', '10011', '10011', '10011', '10011', '10011', '10011', '10011', '10011', '10011', '10011', '10011', '10011', '10011', '10011', '10011', '10011', '10011', '10011', '10011', '10011', '10011', '10011', '10011', '10011', '10011', '10011', '10011', '10011', '10011', '10011', '10011', '10011', '10011', '10011', '10011', '10011', '10011', '10011', '10011', '10011', '10011', '10011', '10011', '10011', '10011', '10011', '10011', '10011', '10011', '10011', '10011', '10011', '10011', '10011', '10011', '10011', '10011', '10011', '10011', '10011', '10011', '10011', '10011', '10011', '10011', '10011', '10011', '10011', '10011', '10011', '10011', '10011', '10011', '10011', '10011', '10011', '10011', '10011', '10011', '10011', '10011', '10011', '10011', '10011', '10011', '10011', '10011', '10011', '10011', '10011', '10011', '10011', '10011', '10011', '10011', '10011', '10011', '10011', '10011', '10011', '10011', '10011', '10011', '10011', '10011', '10011', '10011', '10011', '10011', '10011', '10011', '10011', '10011', '10011', '10011', '10011', '10011', '10011', '10011', '10011', '10011', '10011', '10011', '10011', '10011', '10011', '10011', '10011', '10011', '10011', '10011', '10011', '10011', '10011', '10011', '10011', '10011', '10011', '10011', '10011', '10011', '10011', '10011', '10011', '10011', '10011', '10011', '10011', '10011', '10011', '10011', '10011', '10011', '10011', '10011', '10011', '10011', '10011', '10011', '10011', '10011', '10011', '10011', '10011', '10011', '10011', '10011', '10011', '10011', '10011', '10011', '10011', '10011', '10011', '10011', '10011', '10011', '10011', '10011', '10011', '10011', '10011', '10011', '10011', '10011', '10101', '10111', '11011', '11011', '11011']), status=COMPLETED)], date=None, status=JobStatus.DONE, header=None)"
            ]
          },
          "metadata": {},
          "execution_count": 85
        }
      ]
    },
    {
      "cell_type": "code",
      "source": [
        "# 결과 출력\n",
        "counts = result.get_counts()\n",
        "print(counts)"
      ],
      "metadata": {
        "id": "zwAc_6uRjjPa",
        "outputId": "a688b24a-a42c-4328-ba04-82d5ab212d9a",
        "colab": {
          "base_uri": "https://localhost:8080/"
        }
      },
      "execution_count": 86,
      "outputs": [
        {
          "output_type": "stream",
          "name": "stdout",
          "text": [
            "{'00011': 6, '10001': 6, '10010': 6, '10011': 1001, '10101': 1, '10111': 1, '11011': 3}\n"
          ]
        }
      ]
    },
    {
      "cell_type": "code",
      "source": [
        "from qiskit.visualization import plot_histogram\n",
        "plot_histogram(data=counts)"
      ],
      "metadata": {
        "colab": {
          "base_uri": "https://localhost:8080/",
          "height": 462
        },
        "id": "hYn_-AuCWCHY",
        "outputId": "0923aa7d-ed9c-4a99-9a5a-0d289e948b11"
      },
      "execution_count": 87,
      "outputs": [
        {
          "output_type": "execute_result",
          "data": {
            "text/plain": [
              "<Figure size 640x480 with 1 Axes>"
            ],
            "image/png": "[encoded data removed]"
          },
          "metadata": {},
          "execution_count": 87
        }
      ]
    },
    {
      "cell_type": "code",
      "source": [
        "print(\"Quantum Task Summary\\n\")\n",
        "print(t.quantum_tasks_statistics())\n",
        "print('\\nNote: Charges shown are estimates based on your Amazon Braket simulator and quantum processing unit (QPU) task usage. \\nEstimated charges shown may differ from your actual charges. \\nEstimated charges do not factor in any discounts or credits, \\nand you may experience additional charges based on your use of other services such as Amazon Elastic Compute Cloud (Amazon EC2).')\n",
        "print(f\"\\nEstimated cost to run this example: {t.qpu_tasks_cost() + t.simulator_tasks_cost():.2f} USD\")"
      ],
      "metadata": {
        "colab": {
          "base_uri": "https://localhost:8080/"
        },
        "id": "vOjIFGML9IXu",
        "outputId": "0eb340f5-aabb-450d-ef2d-f4b0d4a8ebed"
      },
      "execution_count": 56,
      "outputs": [
        {
          "output_type": "stream",
          "name": "stdout",
          "text": [
            "Quantum Task Summary\n",
            "\n",
            "{'arn:aws:braket:::device/quantum-simulator/amazon/sv1': {'shots': 1024, 'tasks': {'COMPLETED': 1}, 'execution_duration': datetime.timedelta(microseconds=4000), 'billed_execution_duration': datetime.timedelta(seconds=3)}, 'arn:aws:braket:us-west-1::device/qpu/rigetti/Ankaa-3': {'shots': 1024, 'tasks': {'COMPLETED': 1}}}\n",
            "\n",
            "Note: Charges shown are estimates based on your Amazon Braket simulator and quantum processing unit (QPU) task usage. \n",
            "Estimated charges shown may differ from your actual charges. \n",
            "Estimated charges do not factor in any discounts or credits, \n",
            "and you may experience additional charges based on your use of other services such as Amazon Elastic Compute Cloud (Amazon EC2).\n",
            "\n",
            "Estimated cost to run this example: 1.23 USD\n"
          ]
        }
      ]
    }
  ]
}