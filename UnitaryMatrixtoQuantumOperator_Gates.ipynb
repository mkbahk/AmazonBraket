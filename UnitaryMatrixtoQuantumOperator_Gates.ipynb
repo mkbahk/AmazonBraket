{
  "nbformat": 4,
  "nbformat_minor": 0,
  "metadata": {
    "colab": {
      "private_outputs": true,
      "provenance": [],
      "authorship_tag": "ABX9TyOfuKFUqDmRlNpNCamB8+ff",
      "include_colab_link": true
    },
    "kernelspec": {
      "name": "python3",
      "display_name": "Python 3"
    },
    "language_info": {
      "name": "python"
    }
  },
  "cells": [
    {
      "cell_type": "markdown",
      "metadata": {
        "id": "view-in-github",
        "colab_type": "text"
      },
      "source": [
        "<a href=\"https://colab.research.google.com/github/mkbahk/AmazonBraket/blob/main/UnitaryMatrixtoQuantumOperator_Gates.ipynb\" target=\"_parent\"><img src=\"https://colab.research.google.com/assets/colab-badge.svg\" alt=\"Open In Colab\"/></a>"
      ]
    },
    {
      "cell_type": "code",
      "execution_count": null,
      "metadata": {
        "id": "53m0smDfoMOT"
      },
      "outputs": [],
      "source": [
        "!python -m pip install qiskit[visualization]==1.2.4\n",
        "!python -m pip install qiskit-aer==0.15.1\n",
        "!python -m pip install qiskit-ionq==0.5.8"
      ]
    },
    {
      "source": [
        "#import IonQ backends\n",
        "from qiskit_ionq import IonQProvider\n",
        "ionq_provider = IonQProvider(token='4JZX9TXxZ5P0ymsPdpKDpxozbrNSLzxF')\n",
        "\n",
        "#Import other qiskit requirements\n",
        "from qiskit import QuantumCircuit\n",
        "from qiskit_aer import Aer\n",
        "from qiskit.visualization import plot_histogram, array_to_latex #Vector Martix를 좀더 fancy하게 표현하기 위함\n",
        "from qiskit.circuit.library import UnitaryGate #사용자 정의 양자게이트를 만든는 용도, qiskit.extensions에서 qiskit.circuit.library로 변경됨"
      ],
      "cell_type": "code",
      "metadata": {
        "id": "xWi97Myd5ln_"
      },
      "execution_count": null,
      "outputs": []
    },
    {
      "cell_type": "markdown",
      "source": [
        "**Qustion 1: Implementing CNOT (Simulator vs. Hardware)**\n"
      ],
      "metadata": {
        "id": "iNocCnkzqscj"
      }
    },
    {
      "cell_type": "code",
      "source": [
        "qc1 = QuantumCircuit(2, 2) #Instantiate a circuit with two qubits and two classical bits\n",
        "qc1.cx(0, 1) #Apply the CNOT gate with control qubit 0 and target qubit 1\n",
        "\n",
        "# Measure all the qubits\n",
        "for i in range(len(qc1.qubits)):\n",
        "  qc1.measure(i, i)\n",
        "###for\n",
        "\n",
        "#Draw the circuit to visualize it\n",
        "qc1.draw(\"mpl\")"
      ],
      "metadata": {
        "id": "8db4JkSUqHoh"
      },
      "execution_count": null,
      "outputs": []
    },
    {
      "source": [
        "aer_backend = Aer.get_backend('qasm_simulator') #choose your backend\n",
        "job = aer_backend.run(qc1, shots=1024) #create the job object\n",
        "result = job.result() #create the result object\n",
        "counts = result.get_counts() #get the counts dictionary\n",
        "plot_histogram(counts) #plot the histogram of counts"
      ],
      "cell_type": "code",
      "metadata": {
        "id": "CNmDyeFv6L1N"
      },
      "execution_count": null,
      "outputs": []
    },
    {
      "cell_type": "code",
      "source": [
        "ionq_backend = ionq_provider.get_backend('ionq_simulator') #choose your backend\n",
        "ionq_backend"
      ],
      "metadata": {
        "id": "DUtBTxU-60lM"
      },
      "execution_count": null,
      "outputs": []
    },
    {
      "cell_type": "code",
      "source": [
        "from qiskit import transpile\n",
        "# Transpile the circuit for the IonQ backend\n",
        "# This is the crucial step to resolve the error\n",
        "transpiled_qc = transpile(qc1, backend=ionq_backend, optimization_level=3)"
      ],
      "metadata": {
        "id": "CBkFp6Hx7u_9"
      },
      "execution_count": null,
      "outputs": []
    },
    {
      "cell_type": "code",
      "source": [
        "job = ionq_backend.run(transpiled_qc, shots=100) #create the job object\n",
        "\n",
        "# Check if job is complete\n",
        "from qiskit.providers.jobstatus import JobStatus\n",
        "import time\n",
        "while job.status() is not JobStatus.DONE:\n",
        "  print(\"Job Status is \", job.status())\n",
        "  time.sleep(5)\n",
        "###while\n",
        "\n",
        "result = job.result() #create the result object\n",
        "counts = result.get_counts() #get the counts dictionary\n",
        "plot_histogram(counts) #plot the histogram of counts"
      ],
      "metadata": {
        "id": "a4ItV581txL3"
      },
      "execution_count": null,
      "outputs": []
    },
    {
      "cell_type": "code",
      "source": [
        "# First we will create our very own, new quantum gate\n",
        "\n",
        "my_circuit = QuantumCircuit(2) # Our gate is a two-qubit gate, so initialize a two-qubit quantum circuit\n",
        "my_circuit.x(0) # our gate has a NOT gate\n",
        "my_circuit.cx(0, 1)# our gate then has a CNOT gate\n",
        "my_circuit.x(0) # then we have a NOT Gate\n",
        "my_circuit.draw(\"mpl\") #Visualization"
      ],
      "metadata": {
        "id": "P9gV16yityyg"
      },
      "execution_count": null,
      "outputs": []
    },
    {
      "cell_type": "code",
      "source": [
        "#convert your circuit to a gate\n",
        "xcx = my_circuit.to_gate(label=\"XCX\")\n",
        "type(xcx)"
      ],
      "metadata": {
        "id": "bwro4UaOw93s"
      },
      "execution_count": null,
      "outputs": []
    },
    {
      "cell_type": "code",
      "source": [
        "qc2 = QuantumCircuit(2, 2) #Instantiate a circuit with two qubits and two clasical bits\n",
        "qc2.append(xcx, [0, 1])\n",
        "\n",
        "# Measure all the qubits\n",
        "for i in range(len(qc2.qubits)):\n",
        "  qc2.measure(i, i)\n",
        "###for\n",
        "\n",
        "qc2.draw(\"mpl\")"
      ],
      "metadata": {
        "id": "PaCeM7lIxbS3"
      },
      "execution_count": null,
      "outputs": []
    },
    {
      "cell_type": "code",
      "source": [
        "from qiskit import transpile\n",
        "# Transpile the circuit for the IonQ backend\n",
        "# This is the crucial step to resolve the error\n",
        "transpiled2_qc = transpile(qc2, backend=ionq_backend, optimization_level=3)"
      ],
      "metadata": {
        "id": "YnjmRTpZ8EdW"
      },
      "execution_count": null,
      "outputs": []
    },
    {
      "cell_type": "code",
      "source": [
        "job = ionq_backend.run(transpiled_qc, shots=100) #create the job object\n",
        "\n",
        "\n",
        "# Check if job is complete\n",
        "from qiskit.providers.jobstatus import JobStatus\n",
        "import time\n",
        "while job.status() is not JobStatus.DONE:\n",
        "  print(\"Job Status is \", job.status())\n",
        "  time.sleep(5)\n",
        "###while\n",
        "\n",
        "result = job.result() #create the result object\n",
        "counts = result.get_counts() #get the counts\n",
        "plot_histogram(counts)"
      ],
      "metadata": {
        "id": "v5WHUpyUyFMw"
      },
      "execution_count": null,
      "outputs": []
    },
    {
      "cell_type": "code",
      "source": [
        "#First we will create the regular V-gate\n",
        "matrix = [[0.5 * (1 - 1j), 0.5 * (1 - 1j) * 1j],\n",
        "          [0.5 * (1 - 1j) * 1j, 0.5 * (1 - 1j)]] #enter the marix the V-gate\n",
        "v = UnitaryGate(matrix, 'V') #Defining V\n",
        "#Trying out our V-gate\n",
        "qc3 = QuantumCircuit(1) #Initialise Quantum Circuit\n",
        "qc3.unitary(v, 0) #Act unitary on circuit\n",
        "print(qc3.draw()) #Visualize circuit\n",
        "#matrix of V-gate\n",
        "aer_backend = Aer.get_backend('unitary_simulator') #use unitary_simulator as backend\n",
        "job = aer_backend.run(qc3, shots=1024) #create job object\n",
        "result = job.result() #create result object\n",
        "matrix = result.get_unitary() #get the unitary martix corresponding to the circuit\n",
        "array_to_latex(matrix)#illustrate the matrix"
      ],
      "metadata": {
        "id": "5ozjTAAq0Dhw"
      },
      "execution_count": null,
      "outputs": []
    },
    {
      "cell_type": "code",
      "source": [
        "controlled_v = v.control() #define the controlled-v operation\n",
        "# Trying out the controlled-v gate\n",
        "qc4 = QuantumCircuit(2) #Define a Quantum Circuit\n",
        "qc4.append(controlled_v, [0, 1]) #Append the controlled_v gate\n",
        "qc4.draw(\"mpl\") #Visualize"
      ],
      "metadata": {
        "id": "HNN6poa12bv9"
      },
      "execution_count": null,
      "outputs": []
    },
    {
      "cell_type": "code",
      "source": [
        "v_dagger = v.adjoint() #define v-dagger\n",
        "controlled_v_dagger = v_dagger.control() #define the controlled-v-dagger\n",
        "\n",
        "#Trying it out\n",
        "qc5 = QuantumCircuit(1) #Define a quantum circuit\n",
        "qc5.unitary(v_dagger, 0) #implement v-dagger\n",
        "print(qc5.draw()) #implement v-dagger\n",
        "\n",
        "#matrix of V-dagger\n",
        "aer_unitary_backend = Aer.get_backend('unitary_simulator') #use unitary_simulator as backend\n",
        "job = aer_unitary_backend.run(qc5, shots=1024) #create job object\n",
        "result = job.result() #create result object\n",
        "matrix = result.get_unitary() #get the unitary martix corresponding to the circuit\n",
        "array_to_latex(matrix)#illustrate the matrix\n"
      ],
      "metadata": {
        "id": "TpeusTra6FGe"
      },
      "execution_count": null,
      "outputs": []
    },
    {
      "cell_type": "code",
      "source": [
        "qc7 = QuantumCircuit(3) # A Toffoli gate is a 3-qubit gate. So define a 3-qubit quantum circuit\n",
        "qc7.append(controlled_v, [1, 2]) # Append your controlled-V operation\n",
        "qc7.cx(0, 1) # CNOT\n",
        "qc7.append(controlled_v_dagger, [1, 2]) # Controlled-V dagger\n",
        "qc7.cx(0, 1) # CNOT\n",
        "qc7.append(controlled_v, [0, 2]) # One more controole-V\n",
        "qc7.draw(\"mpl\") # Visualize"
      ],
      "metadata": {
        "id": "MFTwCYZ69zBD"
      },
      "execution_count": null,
      "outputs": []
    },
    {
      "cell_type": "code",
      "source": [
        "qc7.decompose().draw(\"mpl\")"
      ],
      "metadata": {
        "id": "033illniIMRH"
      },
      "execution_count": null,
      "outputs": []
    },
    {
      "cell_type": "code",
      "source": [
        "qc7.decompose().decompose().draw(\"mpl\")"
      ],
      "metadata": {
        "id": "F9fnIKW3Iuu0"
      },
      "execution_count": null,
      "outputs": []
    },
    {
      "cell_type": "code",
      "source": [
        "qc7.decompose().decompose().decompose().draw(\"mpl\")"
      ],
      "metadata": {
        "id": "WL9b9N80IzYy"
      },
      "execution_count": null,
      "outputs": []
    },
    {
      "cell_type": "code",
      "source": [
        "qc7.decompose().decompose().decompose().decompose().draw(\"mpl\")"
      ],
      "metadata": {
        "id": "iSblEQLeI8oD"
      },
      "execution_count": null,
      "outputs": []
    },
    {
      "cell_type": "code",
      "source": [
        "#End of Codes"
      ],
      "metadata": {
        "id": "lJbYAPxyJBH_"
      },
      "execution_count": null,
      "outputs": []
    }
  ]
}