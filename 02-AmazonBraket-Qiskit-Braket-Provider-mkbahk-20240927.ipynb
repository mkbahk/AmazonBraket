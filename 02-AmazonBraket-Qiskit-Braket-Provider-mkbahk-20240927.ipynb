{
 "cells": [
  {
   "cell_type": "markdown",
   "id": "a477c993",
   "metadata": {
    "slideshow": {
     "slide_type": "slide"
    }
   },
   "source": [
    "# How to run Qiskit on Amazon Braket"
   ]
  },
  {
   "cell_type": "code",
   "execution_count": 17,
   "id": "61672bbc-7602-427d-a93d-29c02efef7c7",
   "metadata": {
    "tags": []
   },
   "outputs": [
    {
     "name": "stdout",
     "output_type": "stream",
     "text": [
      "Package                           Version\n",
      "--------------------------------- --------------\n",
      "aiobotocore                       2.14.0\n",
      "aiofiles                          22.1.0\n",
      "aiohappyeyeballs                  2.4.0\n",
      "aiohttp                           3.10.5\n",
      "aioitertools                      0.11.0\n",
      "aiosignal                         1.3.1\n",
      "aiosqlite                         0.20.0\n",
      "amazon-braket-default-simulator   1.26.0\n",
      "amazon-braket-schemas             1.22.1\n",
      "amazon-braket-sdk                 1.87.1\n",
      "annotated-types                   0.7.0\n",
      "antlr4-python3-runtime            4.9.2\n",
      "anyio                             4.4.0\n",
      "argon2-cffi                       23.1.0\n",
      "argon2-cffi-bindings              21.2.0\n",
      "arrow                             1.3.0\n",
      "astroid                           3.2.4\n",
      "asttokens                         2.4.1\n",
      "async-lru                         2.0.4\n",
      "async-timeout                     4.0.3\n",
      "attrs                             23.2.0\n",
      "autopep8                          2.0.4\n",
      "autovizwidget                     0.21.0\n",
      "awscli                            1.34.16\n",
      "Babel                             2.14.0\n",
      "backoff                           2.2.1\n",
      "backports.entry-points-selectable 1.3.0\n",
      "beautifulsoup4                    4.12.3\n",
      "bleach                            6.1.0\n",
      "boltons                           24.0.0\n",
      "boto3                             1.35.28\n",
      "botocore                          1.35.28\n",
      "braket_managed_plugin             0.1.4\n",
      "Brotli                            1.1.0\n",
      "cached-property                   1.5.2\n",
      "certifi                           2024.8.30\n",
      "cffi                              1.17.1\n",
      "charset-normalizer                3.3.2\n",
      "cloudpickle                       3.0.0\n",
      "colorama                          0.4.6\n",
      "comm                              0.2.2\n",
      "cryptography                      39.0.0\n",
      "Cython                            3.0.11\n",
      "debugpy                           1.8.5\n",
      "decorator                         5.1.1\n",
      "defusedxml                        0.7.1\n",
      "dill                              0.3.8\n",
      "docker                            7.1.0\n",
      "docstring-to-markdown             0.15\n",
      "docutils                          0.16\n",
      "entrypoints                       0.4\n",
      "environment-kernels               1.2.0\n",
      "exceptiongroup                    1.2.2\n",
      "executing                         2.1.0\n",
      "fastjsonschema                    2.20.0\n",
      "fqdn                              1.5.1\n",
      "frozenlist                        1.4.1\n",
      "fsspec                            2024.9.0\n",
      "gitdb                             4.0.11\n",
      "GitPython                         3.1.43\n",
      "google-pasta                      0.2.0\n",
      "gssapi                            1.8.3\n",
      "h11                               0.14.0\n",
      "h2                                4.1.0\n",
      "hdijupyterutils                   0.21.0\n",
      "hpack                             4.0.0\n",
      "httpcore                          1.0.5\n",
      "httpx                             0.27.2\n",
      "hyperframe                        6.0.1\n",
      "idna                              3.8\n",
      "importlib-metadata                6.11.0\n",
      "importlib_resources               6.4.5\n",
      "ipykernel                         5.5.6\n",
      "ipython                           8.27.0\n",
      "ipython_genutils                  0.2.0\n",
      "ipywidgets                        8.1.5\n",
      "isoduration                       20.11.0\n",
      "isort                             5.13.2\n",
      "jedi                              0.19.1\n",
      "Jinja2                            3.1.4\n",
      "jmespath                          1.0.1\n",
      "json5                             0.9.25\n",
      "jsonpointer                       3.0.0\n",
      "jsonschema                        4.23.0\n",
      "jsonschema-specifications         2023.12.1\n",
      "jupyter                           1.1.1\n",
      "jupyter_client                    7.4.9\n",
      "jupyter-console                   6.6.3\n",
      "jupyter_core                      5.7.2\n",
      "jupyter-events                    0.10.0\n",
      "jupyter-lsp                       2.2.5\n",
      "jupyter_server                    2.14.2\n",
      "jupyter_server_fileid             0.9.3\n",
      "jupyter-server-mathjax            0.2.6\n",
      "jupyter-server-proxy              3.2.1\n",
      "jupyter_server_terminals          0.5.3\n",
      "jupyter_server_ydoc               0.8.0\n",
      "jupyter-ydoc                      0.2.5\n",
      "jupyterlab                        3.6.8\n",
      "jupyterlab-git                    0.41.0\n",
      "jupyterlab-lsp                    4.3.0\n",
      "jupyterlab_pygments               0.3.0\n",
      "jupyterlab_server                 2.27.3\n",
      "jupyterlab_widgets                3.0.13\n",
      "krb5                              0.6.0\n",
      "markdown-it-py                    3.0.0\n",
      "MarkupSafe                        2.1.5\n",
      "matplotlib-inline                 0.1.7\n",
      "mccabe                            0.7.0\n",
      "mdurl                             0.1.2\n",
      "mistune                           2.0.5\n",
      "mock                              4.0.3\n",
      "mpmath                            1.3.0\n",
      "multidict                         6.1.0\n",
      "multiprocess                      0.70.16\n",
      "mypy-extensions                   1.0.0\n",
      "nb_conda                          2.2.1\n",
      "nb_conda_kernels                  2.3.1\n",
      "nbclassic                         0.5.1\n",
      "nbclient                          0.10.0\n",
      "nbconvert                         7.2.9\n",
      "nbdime                            3.2.1\n",
      "nbexamples                        0.0.0\n",
      "nbformat                          5.10.4\n",
      "nest_asyncio                      1.6.0\n",
      "networkx                          3.3\n",
      "notebook                          6.5.7\n",
      "notebook_shim                     0.2.4\n",
      "numpy                             2.1.1\n",
      "openpulse                         1.0.0\n",
      "openqasm3                         1.0.0\n",
      "opt_einsum                        3.4.0\n",
      "oqpy                              0.3.6\n",
      "overrides                         7.7.0\n",
      "packaging                         24.1\n",
      "pandas                            1.5.3\n",
      "pandocfilters                     1.5.0\n",
      "parso                             0.8.4\n",
      "pathos                            0.3.2\n",
      "pexpect                           4.9.0\n",
      "pickleshare                       0.7.5\n",
      "pid                               3.0.4\n",
      "pip                               24.2\n",
      "pkgutil_resolve_name              1.3.10\n",
      "platformdirs                      4.3.2\n",
      "plotly                            5.24.0\n",
      "pluggy                            1.5.0\n",
      "pox                               0.3.4\n",
      "ppft                              1.7.6.8\n",
      "prometheus_client                 0.20.0\n",
      "prompt_toolkit                    3.0.47\n",
      "protobuf                          4.25.3\n",
      "psutil                            6.0.0\n",
      "psycopg2                          2.9.3\n",
      "ptyprocess                        0.7.0\n",
      "pure_eval                         0.2.3\n",
      "py4j                              0.10.9.5\n",
      "pyasn1                            0.6.1\n",
      "pycodestyle                       2.12.1\n",
      "pycparser                         2.22\n",
      "pydantic                          2.9.2\n",
      "pydantic_core                     2.23.4\n",
      "pydocstyle                        6.3.0\n",
      "pyflakes                          3.2.0\n",
      "pygal                             3.0.5\n",
      "Pygments                          2.18.0\n",
      "pykerberos                        1.2.4\n",
      "pylint                            3.2.7\n",
      "PyQt5                             5.12.3\n",
      "PyQt5_sip                         4.19.18\n",
      "PyQtChart                         5.12\n",
      "PyQtWebEngine                     5.12.1\n",
      "PySocks                           1.7.1\n",
      "pyspark                           3.3.0\n",
      "pyspnego                          0.11.1\n",
      "python-dateutil                   2.9.0.post0\n",
      "python-json-logger                2.0.7\n",
      "python-lsp-jsonrpc                1.1.2\n",
      "python-lsp-server                 1.12.0\n",
      "pytoolconfig                      1.3.1\n",
      "pytz                              2024.2\n",
      "PyYAML                            6.0.2\n",
      "pyzmq                             26.2.0\n",
      "referencing                       0.35.1\n",
      "requests                          2.32.3\n",
      "requests-kerberos                 0.14.0\n",
      "rfc3339-validator                 0.1.4\n",
      "rfc3986-validator                 0.1.1\n",
      "rich                              13.8.1\n",
      "rope                              1.13.0\n",
      "rpds-py                           0.20.0\n",
      "rsa                               4.7.2\n",
      "ruamel.yaml                       0.18.6\n",
      "ruamel.yaml.clib                  0.2.8\n",
      "s3fs                              2024.9.0\n",
      "s3transfer                        0.10.2\n",
      "sagemaker                         2.231.0\n",
      "sagemaker-core                    1.0.4\n",
      "sagemaker-experiments             0.1.45\n",
      "sagemaker_nbi_agent               1.0\n",
      "sagemaker_pyspark                 1.4.5\n",
      "schema                            0.7.7\n",
      "scipy                             1.14.1\n",
      "Send2Trash                        1.8.3\n",
      "setuptools                        70.0.0\n",
      "simpervisor                       1.0.0\n",
      "six                               1.16.0\n",
      "smdebug-rulesconfig               1.0.1\n",
      "smmap                             5.0.1\n",
      "sniffio                           1.3.1\n",
      "snowballstemmer                   2.2.0\n",
      "soupsieve                         2.5\n",
      "sparkmagic                        0.21.0\n",
      "stack-data                        0.6.2\n",
      "sympy                             1.13.3\n",
      "tblib                             3.0.0\n",
      "tenacity                          9.0.0\n",
      "terminado                         0.18.1\n",
      "tinycss2                          1.3.0\n",
      "tomli                             2.0.1\n",
      "tomlkit                           0.13.2\n",
      "tornado                           6.4.1\n",
      "tqdm                              4.66.5\n",
      "traitlets                         5.14.3\n",
      "types-python-dateutil             2.9.0.20240906\n",
      "typing_extensions                 4.12.2\n",
      "typing-utils                      0.1.0\n",
      "ujson                             5.10.0\n",
      "uri-template                      1.3.0\n",
      "urllib3                           2.2.3\n",
      "wcwidth                           0.2.13\n",
      "webcolors                         24.8.0\n",
      "webencodings                      0.5.1\n",
      "websocket-client                  1.8.0\n",
      "wheel                             0.44.0\n",
      "widgetsnbextension                4.0.13\n",
      "wrapt                             1.16.0\n",
      "y-py                              0.6.2\n",
      "yarl                              1.11.1\n",
      "ypy-websocket                     0.8.4\n",
      "zipp                              3.20.1\n",
      "zstandard                         0.23.0\n"
     ]
    }
   ],
   "source": [
    "!pip list"
   ]
  },
  {
   "cell_type": "code",
   "execution_count": 18,
   "id": "3abf0d12-d1fc-435e-addd-4907de4ae306",
   "metadata": {
    "tags": []
   },
   "outputs": [
    {
     "name": "stdout",
     "output_type": "stream",
     "text": [
      "Collecting qiskit_braket_provider\n",
      "  Downloading qiskit_braket_provider-0.4.1-py3-none-any.whl.metadata (3.7 kB)\n",
      "Requirement already satisfied: certifi>=2021.5.30 in /home/ec2-user/anaconda3/envs/JupyterSystemEnv/lib/python3.10/site-packages (from qiskit_braket_provider) (2024.8.30)\n",
      "Collecting qiskit>=0.34.2 (from qiskit_braket_provider)\n",
      "  Downloading qiskit-1.2.2-cp38-abi3-manylinux_2_17_x86_64.manylinux2014_x86_64.whl.metadata (12 kB)\n",
      "Collecting qiskit-ionq>=0.5.2 (from qiskit_braket_provider)\n",
      "  Downloading qiskit_ionq-0.5.6-py3-none-any.whl.metadata (7.8 kB)\n",
      "Requirement already satisfied: amazon-braket-sdk>=1.76.0 in /home/ec2-user/anaconda3/envs/JupyterSystemEnv/lib/python3.10/site-packages (from qiskit_braket_provider) (1.87.1)\n",
      "Requirement already satisfied: setuptools>=40.1.0 in /home/ec2-user/anaconda3/envs/JupyterSystemEnv/lib/python3.10/site-packages (from qiskit_braket_provider) (70.0.0)\n",
      "Requirement already satisfied: numpy>=1.3 in /home/ec2-user/anaconda3/envs/JupyterSystemEnv/lib/python3.10/site-packages (from qiskit_braket_provider) (2.1.1)\n",
      "Requirement already satisfied: amazon-braket-schemas>=1.21.3 in /home/ec2-user/anaconda3/envs/JupyterSystemEnv/lib/python3.10/site-packages (from amazon-braket-sdk>=1.76.0->qiskit_braket_provider) (1.22.1)\n",
      "Requirement already satisfied: amazon-braket-default-simulator>=1.26.0 in /home/ec2-user/anaconda3/envs/JupyterSystemEnv/lib/python3.10/site-packages (from amazon-braket-sdk>=1.76.0->qiskit_braket_provider) (1.26.0)\n",
      "Requirement already satisfied: oqpy~=0.3.5 in /home/ec2-user/anaconda3/envs/JupyterSystemEnv/lib/python3.10/site-packages (from amazon-braket-sdk>=1.76.0->qiskit_braket_provider) (0.3.6)\n",
      "Requirement already satisfied: backoff in /home/ec2-user/anaconda3/envs/JupyterSystemEnv/lib/python3.10/site-packages (from amazon-braket-sdk>=1.76.0->qiskit_braket_provider) (2.2.1)\n",
      "Requirement already satisfied: boltons in /home/ec2-user/anaconda3/envs/JupyterSystemEnv/lib/python3.10/site-packages (from amazon-braket-sdk>=1.76.0->qiskit_braket_provider) (24.0.0)\n",
      "Requirement already satisfied: boto3>=1.28.53 in /home/ec2-user/anaconda3/envs/JupyterSystemEnv/lib/python3.10/site-packages (from amazon-braket-sdk>=1.76.0->qiskit_braket_provider) (1.35.28)\n",
      "Requirement already satisfied: cloudpickle>=3 in /home/ec2-user/anaconda3/envs/JupyterSystemEnv/lib/python3.10/site-packages (from amazon-braket-sdk>=1.76.0->qiskit_braket_provider) (3.0.0)\n",
      "Requirement already satisfied: nest-asyncio in /home/ec2-user/anaconda3/envs/JupyterSystemEnv/lib/python3.10/site-packages (from amazon-braket-sdk>=1.76.0->qiskit_braket_provider) (1.6.0)\n",
      "Requirement already satisfied: networkx in /home/ec2-user/anaconda3/envs/JupyterSystemEnv/lib/python3.10/site-packages (from amazon-braket-sdk>=1.76.0->qiskit_braket_provider) (3.3)\n",
      "Requirement already satisfied: openpulse in /home/ec2-user/anaconda3/envs/JupyterSystemEnv/lib/python3.10/site-packages (from amazon-braket-sdk>=1.76.0->qiskit_braket_provider) (1.0.0)\n",
      "Requirement already satisfied: openqasm3 in /home/ec2-user/anaconda3/envs/JupyterSystemEnv/lib/python3.10/site-packages (from amazon-braket-sdk>=1.76.0->qiskit_braket_provider) (1.0.0)\n",
      "Requirement already satisfied: sympy in /home/ec2-user/anaconda3/envs/JupyterSystemEnv/lib/python3.10/site-packages (from amazon-braket-sdk>=1.76.0->qiskit_braket_provider) (1.13.3)\n",
      "Requirement already satisfied: backports.entry-points-selectable in /home/ec2-user/anaconda3/envs/JupyterSystemEnv/lib/python3.10/site-packages (from amazon-braket-sdk>=1.76.0->qiskit_braket_provider) (1.3.0)\n",
      "Collecting rustworkx>=0.15.0 (from qiskit>=0.34.2->qiskit_braket_provider)\n",
      "  Downloading rustworkx-0.15.1-cp38-abi3-manylinux_2_17_x86_64.manylinux2014_x86_64.whl.metadata (9.9 kB)\n",
      "Requirement already satisfied: scipy>=1.5 in /home/ec2-user/anaconda3/envs/JupyterSystemEnv/lib/python3.10/site-packages (from qiskit>=0.34.2->qiskit_braket_provider) (1.14.1)\n",
      "Requirement already satisfied: dill>=0.3 in /home/ec2-user/anaconda3/envs/JupyterSystemEnv/lib/python3.10/site-packages (from qiskit>=0.34.2->qiskit_braket_provider) (0.3.8)\n",
      "Requirement already satisfied: python-dateutil>=2.8.0 in /home/ec2-user/anaconda3/envs/JupyterSystemEnv/lib/python3.10/site-packages (from qiskit>=0.34.2->qiskit_braket_provider) (2.9.0.post0)\n",
      "Collecting stevedore>=3.0.0 (from qiskit>=0.34.2->qiskit_braket_provider)\n",
      "  Downloading stevedore-5.3.0-py3-none-any.whl.metadata (2.3 kB)\n",
      "Requirement already satisfied: typing-extensions in /home/ec2-user/anaconda3/envs/JupyterSystemEnv/lib/python3.10/site-packages (from qiskit>=0.34.2->qiskit_braket_provider) (4.12.2)\n",
      "Collecting symengine>=0.11 (from qiskit>=0.34.2->qiskit_braket_provider)\n",
      "  Downloading symengine-0.11.0-cp310-cp310-manylinux_2_12_x86_64.manylinux2010_x86_64.whl.metadata (1.2 kB)\n",
      "Requirement already satisfied: decorator>=5.1.0 in /home/ec2-user/anaconda3/envs/JupyterSystemEnv/lib/python3.10/site-packages (from qiskit-ionq>=0.5.2->qiskit_braket_provider) (5.1.1)\n",
      "Requirement already satisfied: requests>=2.24.0 in /home/ec2-user/anaconda3/envs/JupyterSystemEnv/lib/python3.10/site-packages (from qiskit-ionq>=0.5.2->qiskit_braket_provider) (2.32.3)\n",
      "Collecting retry>=0.9.0 (from qiskit-ionq>=0.5.2->qiskit_braket_provider)\n",
      "  Downloading retry-0.9.2-py2.py3-none-any.whl.metadata (5.8 kB)\n",
      "Requirement already satisfied: importlib-metadata>=4.11.4 in /home/ec2-user/anaconda3/envs/JupyterSystemEnv/lib/python3.10/site-packages (from qiskit-ionq>=0.5.2->qiskit_braket_provider) (6.11.0)\n",
      "Collecting python-dotenv>=1.0.1 (from qiskit-ionq>=0.5.2->qiskit_braket_provider)\n",
      "  Downloading python_dotenv-1.0.1-py3-none-any.whl.metadata (23 kB)\n",
      "Requirement already satisfied: opt-einsum in /home/ec2-user/anaconda3/envs/JupyterSystemEnv/lib/python3.10/site-packages (from amazon-braket-default-simulator>=1.26.0->amazon-braket-sdk>=1.76.0->qiskit_braket_provider) (3.4.0)\n",
      "Requirement already satisfied: pydantic>2 in /home/ec2-user/anaconda3/envs/JupyterSystemEnv/lib/python3.10/site-packages (from amazon-braket-default-simulator>=1.26.0->amazon-braket-sdk>=1.76.0->qiskit_braket_provider) (2.9.2)\n",
      "Requirement already satisfied: antlr4-python3-runtime==4.9.2 in /home/ec2-user/anaconda3/envs/JupyterSystemEnv/lib/python3.10/site-packages (from amazon-braket-default-simulator>=1.26.0->amazon-braket-sdk>=1.76.0->qiskit_braket_provider) (4.9.2)\n",
      "Requirement already satisfied: botocore<1.36.0,>=1.35.28 in /home/ec2-user/anaconda3/envs/JupyterSystemEnv/lib/python3.10/site-packages (from boto3>=1.28.53->amazon-braket-sdk>=1.76.0->qiskit_braket_provider) (1.35.28)\n",
      "Requirement already satisfied: jmespath<2.0.0,>=0.7.1 in /home/ec2-user/anaconda3/envs/JupyterSystemEnv/lib/python3.10/site-packages (from boto3>=1.28.53->amazon-braket-sdk>=1.76.0->qiskit_braket_provider) (1.0.1)\n",
      "Requirement already satisfied: s3transfer<0.11.0,>=0.10.0 in /home/ec2-user/anaconda3/envs/JupyterSystemEnv/lib/python3.10/site-packages (from boto3>=1.28.53->amazon-braket-sdk>=1.76.0->qiskit_braket_provider) (0.10.2)\n",
      "Requirement already satisfied: zipp>=0.5 in /home/ec2-user/anaconda3/envs/JupyterSystemEnv/lib/python3.10/site-packages (from importlib-metadata>=4.11.4->qiskit-ionq>=0.5.2->qiskit_braket_provider) (3.20.1)\n",
      "Requirement already satisfied: mypy-extensions>=0.2.0 in /home/ec2-user/anaconda3/envs/JupyterSystemEnv/lib/python3.10/site-packages (from oqpy~=0.3.5->amazon-braket-sdk>=1.76.0->qiskit_braket_provider) (1.0.0)\n",
      "Requirement already satisfied: six>=1.5 in /home/ec2-user/anaconda3/envs/JupyterSystemEnv/lib/python3.10/site-packages (from python-dateutil>=2.8.0->qiskit>=0.34.2->qiskit_braket_provider) (1.16.0)\n",
      "Requirement already satisfied: charset-normalizer<4,>=2 in /home/ec2-user/anaconda3/envs/JupyterSystemEnv/lib/python3.10/site-packages (from requests>=2.24.0->qiskit-ionq>=0.5.2->qiskit_braket_provider) (3.3.2)\n",
      "Requirement already satisfied: idna<4,>=2.5 in /home/ec2-user/anaconda3/envs/JupyterSystemEnv/lib/python3.10/site-packages (from requests>=2.24.0->qiskit-ionq>=0.5.2->qiskit_braket_provider) (3.8)\n",
      "Requirement already satisfied: urllib3<3,>=1.21.1 in /home/ec2-user/anaconda3/envs/JupyterSystemEnv/lib/python3.10/site-packages (from requests>=2.24.0->qiskit-ionq>=0.5.2->qiskit_braket_provider) (2.2.3)\n",
      "Collecting py<2.0.0,>=1.4.26 (from retry>=0.9.0->qiskit-ionq>=0.5.2->qiskit_braket_provider)\n",
      "  Downloading py-1.11.0-py2.py3-none-any.whl.metadata (2.8 kB)\n",
      "Collecting pbr>=2.0.0 (from stevedore>=3.0.0->qiskit>=0.34.2->qiskit_braket_provider)\n",
      "  Downloading pbr-6.1.0-py2.py3-none-any.whl.metadata (3.4 kB)\n",
      "Requirement already satisfied: mpmath<1.4,>=1.1.0 in /home/ec2-user/anaconda3/envs/JupyterSystemEnv/lib/python3.10/site-packages (from sympy->amazon-braket-sdk>=1.76.0->qiskit_braket_provider) (1.3.0)\n",
      "Requirement already satisfied: annotated-types>=0.6.0 in /home/ec2-user/anaconda3/envs/JupyterSystemEnv/lib/python3.10/site-packages (from pydantic>2->amazon-braket-default-simulator>=1.26.0->amazon-braket-sdk>=1.76.0->qiskit_braket_provider) (0.7.0)\n",
      "Requirement already satisfied: pydantic-core==2.23.4 in /home/ec2-user/anaconda3/envs/JupyterSystemEnv/lib/python3.10/site-packages (from pydantic>2->amazon-braket-default-simulator>=1.26.0->amazon-braket-sdk>=1.76.0->qiskit_braket_provider) (2.23.4)\n",
      "Downloading qiskit_braket_provider-0.4.1-py3-none-any.whl (37 kB)\n",
      "Downloading qiskit-1.2.2-cp38-abi3-manylinux_2_17_x86_64.manylinux2014_x86_64.whl (4.7 MB)\n",
      "\u001b[2K   \u001b[90m━━━━━━━━━━━━━━━━━━━━━━━━━━━━━━━━━━━━━━━━\u001b[0m \u001b[32m4.7/4.7 MB\u001b[0m \u001b[31m19.2 MB/s\u001b[0m eta \u001b[36m0:00:00\u001b[0m:00:01\u001b[0m\n",
      "\u001b[?25hDownloading qiskit_ionq-0.5.6-py3-none-any.whl (41 kB)\n",
      "Downloading python_dotenv-1.0.1-py3-none-any.whl (19 kB)\n",
      "Downloading retry-0.9.2-py2.py3-none-any.whl (8.0 kB)\n",
      "Downloading rustworkx-0.15.1-cp38-abi3-manylinux_2_17_x86_64.manylinux2014_x86_64.whl (2.0 MB)\n",
      "\u001b[2K   \u001b[90m━━━━━━━━━━━━━━━━━━━━━━━━━━━━━━━━━━━━━━━━\u001b[0m \u001b[32m2.0/2.0 MB\u001b[0m \u001b[31m28.7 MB/s\u001b[0m eta \u001b[36m0:00:00\u001b[0m\n",
      "\u001b[?25hDownloading stevedore-5.3.0-py3-none-any.whl (49 kB)\n",
      "Downloading symengine-0.11.0-cp310-cp310-manylinux_2_12_x86_64.manylinux2010_x86_64.whl (39.4 MB)\n",
      "\u001b[2K   \u001b[90m━━━━━━━━━━━━━━━━━━━━━━━━━━━━━━━━━━━━━━━━\u001b[0m \u001b[32m39.4/39.4 MB\u001b[0m \u001b[31m20.3 MB/s\u001b[0m eta \u001b[36m0:00:00\u001b[0m:00:01\u001b[0m00:01\u001b[0m\n",
      "\u001b[?25hDownloading pbr-6.1.0-py2.py3-none-any.whl (108 kB)\n",
      "Downloading py-1.11.0-py2.py3-none-any.whl (98 kB)\n",
      "Installing collected packages: symengine, rustworkx, python-dotenv, py, pbr, stevedore, retry, qiskit, qiskit-ionq, qiskit_braket_provider\n",
      "Successfully installed pbr-6.1.0 py-1.11.0 python-dotenv-1.0.1 qiskit-1.2.2 qiskit-ionq-0.5.6 qiskit_braket_provider-0.4.1 retry-0.9.2 rustworkx-0.15.1 stevedore-5.3.0 symengine-0.11.0\n"
     ]
    }
   ],
   "source": [
    "!pip install qiskit_braket_provider"
   ]
  },
  {
   "cell_type": "code",
   "execution_count": 19,
   "id": "a158150f-2bb6-488d-88e9-6111f8ea05e4",
   "metadata": {
    "tags": []
   },
   "outputs": [
    {
     "name": "stdout",
     "output_type": "stream",
     "text": [
      "Name: qiskit-braket-provider\n",
      "Version: 0.4.1\n",
      "Summary: Qiskit-Braket provider to execute Qiskit programs on AWS quantum computing hardware devices through Amazon Braket.\n",
      "Home-page: UNKNOWN\n",
      "Author: \n",
      "Author-email: \n",
      "License: UNKNOWN\n",
      "Location: /home/ec2-user/anaconda3/envs/JupyterSystemEnv/lib/python3.10/site-packages\n",
      "Requires: amazon-braket-sdk, certifi, numpy, qiskit, qiskit-ionq, setuptools\n",
      "Required-by: \n"
     ]
    }
   ],
   "source": [
    "!pip show qiskit_braket_provider"
   ]
  },
  {
   "cell_type": "code",
   "execution_count": 1,
   "id": "3a9504c9",
   "metadata": {
    "tags": []
   },
   "outputs": [],
   "source": [
    "# Use Braket SDK Cost Tracking to estimate the cost to run this example\n",
    "from braket.tracking import Tracker\n",
    "t = Tracker().start()"
   ]
  },
  {
   "cell_type": "markdown",
   "id": "c885d164",
   "metadata": {},
   "source": [
    "If you're like many people who learned quantum computing in the past several years, you might have learned how to program quantum circuits with [Qiskit](https://qiskit.org): the open-source quantum Software Development Kit (SDK) first released in 2017. With the [Qiskit-Braket provider](https://github.com/qiskit-community/qiskit-braket-provider/blob/main/docs/tutorials/0_tutorial_qiskit-braket-provider_overview.ipynb), you can run your Qiskit code across any of the gate-based devices on the [Amazon Braket](https://aws.amazon.com/braket/) quantum computing service.\n",
    "\n",
    "**Note**: if you're running this in your local development environment (i.e. not from the Braket console), you'll need to make sure you've got your AWS account configured properly first to access Braket devices. Check out [this tutorial](https://aws.amazon.com/blogs/quantum-computing/setting-up-your-local-development-environment-in-amazon-braket/) for a walkthrough."
   ]
  },
  {
   "cell_type": "markdown",
   "id": "b23c5287",
   "metadata": {
    "slideshow": {
     "slide_type": "slide"
    }
   },
   "source": [
    "## Access Braket devices from Qiskit \n",
    "\n",
    " There are quite a few different backend devices on Amazon Braket, so we'll walk through them one by one and give an example of recommended use cases for each."
   ]
  },
  {
   "cell_type": "markdown",
   "id": "a94feb7b",
   "metadata": {},
   "source": [
    "### Quantum simulators\n",
    "Let's start with the ***local simulator***. This is a quantum full state vector simulator which runs *locally* -- that means wherever you're running this Jupyter notebook (e.g. your local development environment or a notebook instance on the Braket console).\n",
    "\n",
    "**Recommended use case:** Noiseless circuits up to ~12 qubits"
   ]
  },
  {
   "cell_type": "code",
   "execution_count": 2,
   "id": "f162ba69",
   "metadata": {
    "tags": []
   },
   "outputs": [],
   "source": [
    "from qiskit_braket_provider import BraketLocalBackend\n",
    "\n",
    "local_simulator = BraketLocalBackend()"
   ]
  },
  {
   "cell_type": "markdown",
   "id": "17e2ab4d",
   "metadata": {},
   "source": [
    "Next, we have the ***local density matrix simulator***. This simulator also runs on your local machine, but allows you to simulate the effects of *noise* on your quantum circuit. Because density matrices are twice the size of state vectors, the number of qubits you can effectively simulate is half the size as the local state vector simulator.\n",
    "\n",
    "**Recommended use case:** Noisy circuits up to ~6 qubits"
   ]
  },
  {
   "cell_type": "code",
   "execution_count": 3,
   "id": "2bfe0170",
   "metadata": {
    "tags": []
   },
   "outputs": [],
   "source": [
    "local_dm_simulator = BraketLocalBackend(name='braket_dm')"
   ]
  },
  {
   "cell_type": "markdown",
   "id": "de912d0e",
   "metadata": {},
   "source": [
    "Now let's look at Braket's *on-demand* simulators: these run on AWS computing resources and have some expanded features in addition to those of the local simulator. We can list all the available Braket simulators with the following code:"
   ]
  },
  {
   "cell_type": "code",
   "execution_count": 4,
   "id": "70a24c64",
   "metadata": {
    "tags": []
   },
   "outputs": [
    {
     "data": {
      "text/plain": [
       "[BraketBackend[SV1], BraketBackend[TN1], BraketBackend[dm1]]"
      ]
     },
     "execution_count": 4,
     "metadata": {},
     "output_type": "execute_result"
    }
   ],
   "source": [
    "from qiskit_braket_provider import BraketProvider\n",
    "\n",
    "provider = BraketProvider()\n",
    "\n",
    "provider.backends(statuses=[\"ONLINE\"], types=[\"SIMULATOR\"])"
   ]
  },
  {
   "cell_type": "markdown",
   "id": "d846e7f2",
   "metadata": {},
   "source": [
    "First up for on-demand simulators is ***SV1***. This is a full state vector simulator which allows you to simulate larger circuits than the local simulator, along with the ability to [batch tasks](https://docs.aws.amazon.com/braket/latest/developerguide/braket-batching-tasks.html) and run them in parallel, as well as use advanced techniques like [adjoint gradient calculations](https://pennylane.ai/blog/2022/12/computing-adjoint-gradients-with-amazon-braket-sv1/) for variational quantum algorithms. \n",
    "\n",
    "**Recommended use case:** Noiseless variational algorithms on up to 34 qubits"
   ]
  },
  {
   "cell_type": "code",
   "execution_count": 5,
   "id": "19024712",
   "metadata": {
    "tags": []
   },
   "outputs": [],
   "source": [
    "sv1 = provider.get_backend(\"SV1\")"
   ]
  },
  {
   "cell_type": "markdown",
   "id": "41c66765",
   "metadata": {},
   "source": [
    "The next on-demand simulator is ***DM1***. This is a density matrix simulator which, like SV1, allows you to simulate a larger number of qubits, as well as take advantage of batch execution. \n",
    "\n",
    "**Recommended use case:** Noisy variational algorithms on up to 17 qubits"
   ]
  },
  {
   "cell_type": "code",
   "execution_count": 6,
   "id": "54e855a5",
   "metadata": {
    "tags": []
   },
   "outputs": [],
   "source": [
    "dm1 = provider.get_backend(\"dm1\")"
   ]
  },
  {
   "cell_type": "markdown",
   "id": "ae97b1a1",
   "metadata": {},
   "source": [
    "Lastly for on-demand simulators, we have ***TN1***. This is a tensor-network simulator, which represents each gate in a circuit as a tensor. TN1 can simulate a larger number of qubits for circuits with local gates or other special structure, but will typically be slower than SV1 or DM1 for circuits with long-range or all-to-all gate structure.\n",
    "\n",
    "**Recommended use case:** Noiseless quantum circuits with local connectivity and up to 50 qubits"
   ]
  },
  {
   "cell_type": "markdown",
   "id": "ad54a536",
   "metadata": {},
   "source": [
    "**Note**: Each AWS resource, (like a file or CPU or QPU) lives in a specific region and may only be accessible from that region. For example, TN1 is only available in the `eu-west-2`, `us-east-1`, and `us-west-2` regions. \n",
    "\n",
    "To change your AWS region if you're running in a managed notebook, you'll need to use the GUI in the top right hand corner of the AWS console to select your new region, then relaunch or create your notebook from the Braket console.\n",
    "\n",
    "To change your AWS region if you're running in your local development environment, you run the following code snippet:\n",
    "```\n",
    "import os\n",
    "os.environ[\"AWS_REGION\"] = \"your-desired-region\"\n",
    "```"
   ]
  },
  {
   "cell_type": "code",
   "execution_count": 7,
   "id": "cd711dcb",
   "metadata": {
    "tags": []
   },
   "outputs": [],
   "source": [
    "# If you've switched to one of the regions where TN1 is accessible, feel free to uncomment the following code\n",
    "# tn1 = provider.get_backend(\"TN1\")"
   ]
  },
  {
   "cell_type": "markdown",
   "id": "dc6910f0",
   "metadata": {},
   "source": [
    "### Quantum Processing Units (QPUs)"
   ]
  },
  {
   "cell_type": "markdown",
   "id": "8bfc8706",
   "metadata": {},
   "source": [
    "Amazon Braket also provides access to a number of third-party quantum hardware devices. The following code shows how to view the supported QPUs which are currently online:"
   ]
  },
  {
   "cell_type": "code",
   "execution_count": 8,
   "id": "f5329bca",
   "metadata": {
    "tags": []
   },
   "outputs": [
    {
     "data": {
      "text/plain": [
       "[BraketBackend[Ankaa-2],\n",
       " BraketBackend[Aria 1],\n",
       " BraketBackend[Forte 1],\n",
       " BraketBackend[Garnet]]"
      ]
     },
     "execution_count": 8,
     "metadata": {},
     "output_type": "execute_result"
    }
   ],
   "source": [
    "provider.backends(statuses=[\"ONLINE\"], types=[\"QPU\"])"
   ]
  },
  {
   "cell_type": "markdown",
   "id": "4c7a21d4",
   "metadata": {},
   "source": [
    "For a closer look at each quantum computer, you can peruse the [Providers Overview](https://aws.amazon.com/braket/quantum-computers/) on the Braket homepage, or the Devices tab on the left side of the Braket console. \n",
    "Currently only gate-based QPUs (IonQ, Rigetti) are supported with the Qiskit-Braket provider. "
   ]
  },
  {
   "cell_type": "markdown",
   "id": "0800b99f",
   "metadata": {
    "slideshow": {
     "slide_type": "slide"
    }
   },
   "source": [
    "## Running circuits on Braket devices\n",
    "\n"
   ]
  },
  {
   "cell_type": "markdown",
   "id": "6bf048f4",
   "metadata": {},
   "source": [
    "Now that we've walked through each of the quantum devices available through the Qiskit-Braket provider, let's take them for a spin! For this example, we'll create a 3-GHZ state on the Rigetti device, but feel free to choose a different QPU from the commented out devices below."
   ]
  },
  {
   "cell_type": "code",
   "execution_count": 9,
   "id": "a5beeb7b",
   "metadata": {
    "tags": []
   },
   "outputs": [
    {
     "name": "stdout",
     "output_type": "stream",
     "text": [
      "BraketBackend[Aspen-M-3]\n"
     ]
    }
   ],
   "source": [
    "qpu_backend = provider.get_backend(\"Aspen-M-3\")\n",
    "# qpu_backend = provider.get_backend(\"Aria\")\n",
    "\n",
    "print(qpu_backend)"
   ]
  },
  {
   "cell_type": "code",
   "execution_count": 21,
   "id": "e9d90ed2",
   "metadata": {
    "tags": []
   },
   "outputs": [
    {
     "ename": "MissingOptionalLibraryError",
     "evalue": "\"The 'pylatexenc' library is required to use 'MatplotlibDrawer'. You can install it with 'pip install pylatexenc'.\"",
     "output_type": "error",
     "traceback": [
      "\u001b[0;31m---------------------------------------------------------------------------\u001b[0m",
      "\u001b[0;31mMissingOptionalLibraryError\u001b[0m               Traceback (most recent call last)",
      "Cell \u001b[0;32mIn[21], line 7\u001b[0m\n\u001b[1;32m      5\u001b[0m circuit\u001b[38;5;241m.\u001b[39mcx(\u001b[38;5;241m0\u001b[39m, \u001b[38;5;241m1\u001b[39m)\n\u001b[1;32m      6\u001b[0m circuit\u001b[38;5;241m.\u001b[39mcx(\u001b[38;5;241m0\u001b[39m, \u001b[38;5;241m2\u001b[39m)\n\u001b[0;32m----> 7\u001b[0m \u001b[43mcircuit\u001b[49m\u001b[38;5;241;43m.\u001b[39;49m\u001b[43mdraw\u001b[49m\u001b[43m(\u001b[49m\u001b[38;5;124;43m\"\u001b[39;49m\u001b[38;5;124;43mmpl\u001b[39;49m\u001b[38;5;124;43m\"\u001b[39;49m\u001b[43m)\u001b[49m\n",
      "File \u001b[0;32m~/anaconda3/envs/Braket/lib/python3.10/site-packages/qiskit/circuit/quantumcircuit.py:3369\u001b[0m, in \u001b[0;36mQuantumCircuit.draw\u001b[0;34m(self, output, scale, filename, style, interactive, plot_barriers, reverse_bits, justify, vertical_compression, idle_wires, with_layout, fold, ax, initial_state, cregbundle, wire_order, expr_len)\u001b[0m\n\u001b[1;32m   3366\u001b[0m \u001b[38;5;66;03m# pylint: disable=cyclic-import\u001b[39;00m\n\u001b[1;32m   3367\u001b[0m \u001b[38;5;28;01mfrom\u001b[39;00m \u001b[38;5;21;01mqiskit\u001b[39;00m\u001b[38;5;21;01m.\u001b[39;00m\u001b[38;5;21;01mvisualization\u001b[39;00m \u001b[38;5;28;01mimport\u001b[39;00m circuit_drawer\n\u001b[0;32m-> 3369\u001b[0m \u001b[38;5;28;01mreturn\u001b[39;00m \u001b[43mcircuit_drawer\u001b[49m\u001b[43m(\u001b[49m\n\u001b[1;32m   3370\u001b[0m \u001b[43m    \u001b[49m\u001b[38;5;28;43mself\u001b[39;49m\u001b[43m,\u001b[49m\n\u001b[1;32m   3371\u001b[0m \u001b[43m    \u001b[49m\u001b[43mscale\u001b[49m\u001b[38;5;241;43m=\u001b[39;49m\u001b[43mscale\u001b[49m\u001b[43m,\u001b[49m\n\u001b[1;32m   3372\u001b[0m \u001b[43m    \u001b[49m\u001b[43mfilename\u001b[49m\u001b[38;5;241;43m=\u001b[39;49m\u001b[43mfilename\u001b[49m\u001b[43m,\u001b[49m\n\u001b[1;32m   3373\u001b[0m \u001b[43m    \u001b[49m\u001b[43mstyle\u001b[49m\u001b[38;5;241;43m=\u001b[39;49m\u001b[43mstyle\u001b[49m\u001b[43m,\u001b[49m\n\u001b[1;32m   3374\u001b[0m \u001b[43m    \u001b[49m\u001b[43moutput\u001b[49m\u001b[38;5;241;43m=\u001b[39;49m\u001b[43moutput\u001b[49m\u001b[43m,\u001b[49m\n\u001b[1;32m   3375\u001b[0m \u001b[43m    \u001b[49m\u001b[43minteractive\u001b[49m\u001b[38;5;241;43m=\u001b[39;49m\u001b[43minteractive\u001b[49m\u001b[43m,\u001b[49m\n\u001b[1;32m   3376\u001b[0m \u001b[43m    \u001b[49m\u001b[43mplot_barriers\u001b[49m\u001b[38;5;241;43m=\u001b[39;49m\u001b[43mplot_barriers\u001b[49m\u001b[43m,\u001b[49m\n\u001b[1;32m   3377\u001b[0m \u001b[43m    \u001b[49m\u001b[43mreverse_bits\u001b[49m\u001b[38;5;241;43m=\u001b[39;49m\u001b[43mreverse_bits\u001b[49m\u001b[43m,\u001b[49m\n\u001b[1;32m   3378\u001b[0m \u001b[43m    \u001b[49m\u001b[43mjustify\u001b[49m\u001b[38;5;241;43m=\u001b[39;49m\u001b[43mjustify\u001b[49m\u001b[43m,\u001b[49m\n\u001b[1;32m   3379\u001b[0m \u001b[43m    \u001b[49m\u001b[43mvertical_compression\u001b[49m\u001b[38;5;241;43m=\u001b[39;49m\u001b[43mvertical_compression\u001b[49m\u001b[43m,\u001b[49m\n\u001b[1;32m   3380\u001b[0m \u001b[43m    \u001b[49m\u001b[43midle_wires\u001b[49m\u001b[38;5;241;43m=\u001b[39;49m\u001b[43midle_wires\u001b[49m\u001b[43m,\u001b[49m\n\u001b[1;32m   3381\u001b[0m \u001b[43m    \u001b[49m\u001b[43mwith_layout\u001b[49m\u001b[38;5;241;43m=\u001b[39;49m\u001b[43mwith_layout\u001b[49m\u001b[43m,\u001b[49m\n\u001b[1;32m   3382\u001b[0m \u001b[43m    \u001b[49m\u001b[43mfold\u001b[49m\u001b[38;5;241;43m=\u001b[39;49m\u001b[43mfold\u001b[49m\u001b[43m,\u001b[49m\n\u001b[1;32m   3383\u001b[0m \u001b[43m    \u001b[49m\u001b[43max\u001b[49m\u001b[38;5;241;43m=\u001b[39;49m\u001b[43max\u001b[49m\u001b[43m,\u001b[49m\n\u001b[1;32m   3384\u001b[0m \u001b[43m    \u001b[49m\u001b[43minitial_state\u001b[49m\u001b[38;5;241;43m=\u001b[39;49m\u001b[43minitial_state\u001b[49m\u001b[43m,\u001b[49m\n\u001b[1;32m   3385\u001b[0m \u001b[43m    \u001b[49m\u001b[43mcregbundle\u001b[49m\u001b[38;5;241;43m=\u001b[39;49m\u001b[43mcregbundle\u001b[49m\u001b[43m,\u001b[49m\n\u001b[1;32m   3386\u001b[0m \u001b[43m    \u001b[49m\u001b[43mwire_order\u001b[49m\u001b[38;5;241;43m=\u001b[39;49m\u001b[43mwire_order\u001b[49m\u001b[43m,\u001b[49m\n\u001b[1;32m   3387\u001b[0m \u001b[43m    \u001b[49m\u001b[43mexpr_len\u001b[49m\u001b[38;5;241;43m=\u001b[39;49m\u001b[43mexpr_len\u001b[49m\u001b[43m,\u001b[49m\n\u001b[1;32m   3388\u001b[0m \u001b[43m\u001b[49m\u001b[43m)\u001b[49m\n",
      "File \u001b[0;32m~/anaconda3/envs/Braket/lib/python3.10/site-packages/qiskit/visualization/circuit/circuit_visualization.py:330\u001b[0m, in \u001b[0;36mcircuit_drawer\u001b[0;34m(circuit, scale, filename, style, output, interactive, plot_barriers, reverse_bits, justify, vertical_compression, idle_wires, with_layout, fold, ax, initial_state, cregbundle, wire_order, expr_len)\u001b[0m\n\u001b[1;32m    315\u001b[0m     \u001b[38;5;28;01mreturn\u001b[39;00m _generate_latex_source(\n\u001b[1;32m    316\u001b[0m         circuit,\n\u001b[1;32m    317\u001b[0m         filename\u001b[38;5;241m=\u001b[39mfilename,\n\u001b[0;32m   (...)\u001b[0m\n\u001b[1;32m    327\u001b[0m         wire_order\u001b[38;5;241m=\u001b[39mcomplete_wire_order,\n\u001b[1;32m    328\u001b[0m     )\n\u001b[1;32m    329\u001b[0m \u001b[38;5;28;01melif\u001b[39;00m output \u001b[38;5;241m==\u001b[39m \u001b[38;5;124m\"\u001b[39m\u001b[38;5;124mmpl\u001b[39m\u001b[38;5;124m\"\u001b[39m:\n\u001b[0;32m--> 330\u001b[0m     image \u001b[38;5;241m=\u001b[39m \u001b[43m_matplotlib_circuit_drawer\u001b[49m\u001b[43m(\u001b[49m\n\u001b[1;32m    331\u001b[0m \u001b[43m        \u001b[49m\u001b[43mcircuit\u001b[49m\u001b[43m,\u001b[49m\n\u001b[1;32m    332\u001b[0m \u001b[43m        \u001b[49m\u001b[43mscale\u001b[49m\u001b[38;5;241;43m=\u001b[39;49m\u001b[43mscale\u001b[49m\u001b[43m,\u001b[49m\n\u001b[1;32m    333\u001b[0m \u001b[43m        \u001b[49m\u001b[43mfilename\u001b[49m\u001b[38;5;241;43m=\u001b[39;49m\u001b[43mfilename\u001b[49m\u001b[43m,\u001b[49m\n\u001b[1;32m    334\u001b[0m \u001b[43m        \u001b[49m\u001b[43mstyle\u001b[49m\u001b[38;5;241;43m=\u001b[39;49m\u001b[43mstyle\u001b[49m\u001b[43m,\u001b[49m\n\u001b[1;32m    335\u001b[0m \u001b[43m        \u001b[49m\u001b[43mplot_barriers\u001b[49m\u001b[38;5;241;43m=\u001b[39;49m\u001b[43mplot_barriers\u001b[49m\u001b[43m,\u001b[49m\n\u001b[1;32m    336\u001b[0m \u001b[43m        \u001b[49m\u001b[43mreverse_bits\u001b[49m\u001b[38;5;241;43m=\u001b[39;49m\u001b[43mreverse_bits\u001b[49m\u001b[43m,\u001b[49m\n\u001b[1;32m    337\u001b[0m \u001b[43m        \u001b[49m\u001b[43mjustify\u001b[49m\u001b[38;5;241;43m=\u001b[39;49m\u001b[43mjustify\u001b[49m\u001b[43m,\u001b[49m\n\u001b[1;32m    338\u001b[0m \u001b[43m        \u001b[49m\u001b[43midle_wires\u001b[49m\u001b[38;5;241;43m=\u001b[39;49m\u001b[43midle_wires\u001b[49m\u001b[43m,\u001b[49m\n\u001b[1;32m    339\u001b[0m \u001b[43m        \u001b[49m\u001b[43mwith_layout\u001b[49m\u001b[38;5;241;43m=\u001b[39;49m\u001b[43mwith_layout\u001b[49m\u001b[43m,\u001b[49m\n\u001b[1;32m    340\u001b[0m \u001b[43m        \u001b[49m\u001b[43mfold\u001b[49m\u001b[38;5;241;43m=\u001b[39;49m\u001b[43mfold\u001b[49m\u001b[43m,\u001b[49m\n\u001b[1;32m    341\u001b[0m \u001b[43m        \u001b[49m\u001b[43max\u001b[49m\u001b[38;5;241;43m=\u001b[39;49m\u001b[43max\u001b[49m\u001b[43m,\u001b[49m\n\u001b[1;32m    342\u001b[0m \u001b[43m        \u001b[49m\u001b[43minitial_state\u001b[49m\u001b[38;5;241;43m=\u001b[39;49m\u001b[43minitial_state\u001b[49m\u001b[43m,\u001b[49m\n\u001b[1;32m    343\u001b[0m \u001b[43m        \u001b[49m\u001b[43mcregbundle\u001b[49m\u001b[38;5;241;43m=\u001b[39;49m\u001b[43mcregbundle\u001b[49m\u001b[43m,\u001b[49m\n\u001b[1;32m    344\u001b[0m \u001b[43m        \u001b[49m\u001b[43mwire_order\u001b[49m\u001b[38;5;241;43m=\u001b[39;49m\u001b[43mcomplete_wire_order\u001b[49m\u001b[43m,\u001b[49m\n\u001b[1;32m    345\u001b[0m \u001b[43m        \u001b[49m\u001b[43mexpr_len\u001b[49m\u001b[38;5;241;43m=\u001b[39;49m\u001b[43mexpr_len\u001b[49m\u001b[43m,\u001b[49m\n\u001b[1;32m    346\u001b[0m \u001b[43m    \u001b[49m\u001b[43m)\u001b[49m\n\u001b[1;32m    347\u001b[0m \u001b[38;5;28;01melse\u001b[39;00m:\n\u001b[1;32m    348\u001b[0m     \u001b[38;5;28;01mraise\u001b[39;00m VisualizationError(\n\u001b[1;32m    349\u001b[0m         \u001b[38;5;124mf\u001b[39m\u001b[38;5;124m\"\u001b[39m\u001b[38;5;124mInvalid output type \u001b[39m\u001b[38;5;132;01m{\u001b[39;00moutput\u001b[38;5;132;01m}\u001b[39;00m\u001b[38;5;124m selected. The only valid choices \u001b[39m\u001b[38;5;124m\"\u001b[39m\n\u001b[1;32m    350\u001b[0m         \u001b[38;5;124m\"\u001b[39m\u001b[38;5;124mare text, latex, latex_source, and mpl\u001b[39m\u001b[38;5;124m\"\u001b[39m\n\u001b[1;32m    351\u001b[0m     )\n",
      "File \u001b[0;32m~/anaconda3/envs/Braket/lib/python3.10/site-packages/qiskit/visualization/circuit/circuit_visualization.py:710\u001b[0m, in \u001b[0;36m_matplotlib_circuit_drawer\u001b[0;34m(circuit, scale, filename, style, plot_barriers, reverse_bits, justify, idle_wires, with_layout, fold, ax, initial_state, cregbundle, wire_order, expr_len)\u001b[0m\n\u001b[1;32m    707\u001b[0m \u001b[38;5;28;01mif\u001b[39;00m fold \u001b[38;5;129;01mis\u001b[39;00m \u001b[38;5;28;01mNone\u001b[39;00m:\n\u001b[1;32m    708\u001b[0m     fold \u001b[38;5;241m=\u001b[39m \u001b[38;5;241m25\u001b[39m\n\u001b[0;32m--> 710\u001b[0m qcd \u001b[38;5;241m=\u001b[39m \u001b[43m_matplotlib\u001b[49m\u001b[38;5;241;43m.\u001b[39;49m\u001b[43mMatplotlibDrawer\u001b[49m\u001b[43m(\u001b[49m\n\u001b[1;32m    711\u001b[0m \u001b[43m    \u001b[49m\u001b[43mqubits\u001b[49m\u001b[43m,\u001b[49m\n\u001b[1;32m    712\u001b[0m \u001b[43m    \u001b[49m\u001b[43mclbits\u001b[49m\u001b[43m,\u001b[49m\n\u001b[1;32m    713\u001b[0m \u001b[43m    \u001b[49m\u001b[43mnodes\u001b[49m\u001b[43m,\u001b[49m\n\u001b[1;32m    714\u001b[0m \u001b[43m    \u001b[49m\u001b[43mcircuit\u001b[49m\u001b[43m,\u001b[49m\n\u001b[1;32m    715\u001b[0m \u001b[43m    \u001b[49m\u001b[43mscale\u001b[49m\u001b[38;5;241;43m=\u001b[39;49m\u001b[43mscale\u001b[49m\u001b[43m,\u001b[49m\n\u001b[1;32m    716\u001b[0m \u001b[43m    \u001b[49m\u001b[43mstyle\u001b[49m\u001b[38;5;241;43m=\u001b[39;49m\u001b[43mstyle\u001b[49m\u001b[43m,\u001b[49m\n\u001b[1;32m    717\u001b[0m \u001b[43m    \u001b[49m\u001b[43mreverse_bits\u001b[49m\u001b[38;5;241;43m=\u001b[39;49m\u001b[43mreverse_bits\u001b[49m\u001b[43m,\u001b[49m\n\u001b[1;32m    718\u001b[0m \u001b[43m    \u001b[49m\u001b[43mplot_barriers\u001b[49m\u001b[38;5;241;43m=\u001b[39;49m\u001b[43mplot_barriers\u001b[49m\u001b[43m,\u001b[49m\n\u001b[1;32m    719\u001b[0m \u001b[43m    \u001b[49m\u001b[43mfold\u001b[49m\u001b[38;5;241;43m=\u001b[39;49m\u001b[43mfold\u001b[49m\u001b[43m,\u001b[49m\n\u001b[1;32m    720\u001b[0m \u001b[43m    \u001b[49m\u001b[43max\u001b[49m\u001b[38;5;241;43m=\u001b[39;49m\u001b[43max\u001b[49m\u001b[43m,\u001b[49m\n\u001b[1;32m    721\u001b[0m \u001b[43m    \u001b[49m\u001b[43minitial_state\u001b[49m\u001b[38;5;241;43m=\u001b[39;49m\u001b[43minitial_state\u001b[49m\u001b[43m,\u001b[49m\n\u001b[1;32m    722\u001b[0m \u001b[43m    \u001b[49m\u001b[43mcregbundle\u001b[49m\u001b[38;5;241;43m=\u001b[39;49m\u001b[43mcregbundle\u001b[49m\u001b[43m,\u001b[49m\n\u001b[1;32m    723\u001b[0m \u001b[43m    \u001b[49m\u001b[43mwith_layout\u001b[49m\u001b[38;5;241;43m=\u001b[39;49m\u001b[43mwith_layout\u001b[49m\u001b[43m,\u001b[49m\n\u001b[1;32m    724\u001b[0m \u001b[43m    \u001b[49m\u001b[43mexpr_len\u001b[49m\u001b[38;5;241;43m=\u001b[39;49m\u001b[43mexpr_len\u001b[49m\u001b[43m,\u001b[49m\n\u001b[1;32m    725\u001b[0m \u001b[43m\u001b[49m\u001b[43m)\u001b[49m\n\u001b[1;32m    726\u001b[0m \u001b[38;5;28;01mreturn\u001b[39;00m qcd\u001b[38;5;241m.\u001b[39mdraw(filename)\n",
      "File \u001b[0;32m~/anaconda3/envs/Braket/lib/python3.10/site-packages/qiskit/utils/classtools.py:111\u001b[0m, in \u001b[0;36m_WrappedMethod.__get__.<locals>.out\u001b[0;34m(*args, **kwargs)\u001b[0m\n\u001b[1;32m    108\u001b[0m \u001b[38;5;129m@functools\u001b[39m\u001b[38;5;241m.\u001b[39mwraps(method)\n\u001b[1;32m    109\u001b[0m \u001b[38;5;28;01mdef\u001b[39;00m \u001b[38;5;21mout\u001b[39m(\u001b[38;5;241m*\u001b[39margs, \u001b[38;5;241m*\u001b[39m\u001b[38;5;241m*\u001b[39mkwargs):\n\u001b[1;32m    110\u001b[0m     \u001b[38;5;28;01mfor\u001b[39;00m callback \u001b[38;5;129;01min\u001b[39;00m \u001b[38;5;28mself\u001b[39m\u001b[38;5;241m.\u001b[39m_before:\n\u001b[0;32m--> 111\u001b[0m         \u001b[43mcallback\u001b[49m\u001b[38;5;241;43m.\u001b[39;49m\u001b[38;5;21;43m__get__\u001b[39;49m\u001b[43m(\u001b[49m\u001b[43mobj\u001b[49m\u001b[43m,\u001b[49m\u001b[43m \u001b[49m\u001b[43mobjtype\u001b[49m\u001b[43m)\u001b[49m\u001b[43m(\u001b[49m\u001b[38;5;241;43m*\u001b[39;49m\u001b[43margs\u001b[49m\u001b[43m,\u001b[49m\u001b[43m \u001b[49m\u001b[38;5;241;43m*\u001b[39;49m\u001b[38;5;241;43m*\u001b[39;49m\u001b[43mkwargs\u001b[49m\u001b[43m)\u001b[49m\n\u001b[1;32m    112\u001b[0m     retval \u001b[38;5;241m=\u001b[39m method(\u001b[38;5;241m*\u001b[39margs, \u001b[38;5;241m*\u001b[39m\u001b[38;5;241m*\u001b[39mkwargs)\n\u001b[1;32m    113\u001b[0m     \u001b[38;5;28;01mfor\u001b[39;00m callback \u001b[38;5;129;01min\u001b[39;00m \u001b[38;5;28mself\u001b[39m\u001b[38;5;241m.\u001b[39m_after:\n",
      "File \u001b[0;32m~/anaconda3/envs/Braket/lib/python3.10/site-packages/qiskit/utils/lazy_tester.py:41\u001b[0m, in \u001b[0;36m_RequireNow.__call__\u001b[0;34m(self, *_args, **_kwargs)\u001b[0m\n\u001b[1;32m     40\u001b[0m \u001b[38;5;28;01mdef\u001b[39;00m \u001b[38;5;21m__call__\u001b[39m(\u001b[38;5;28mself\u001b[39m, \u001b[38;5;241m*\u001b[39m_args, \u001b[38;5;241m*\u001b[39m\u001b[38;5;241m*\u001b[39m_kwargs):\n\u001b[0;32m---> 41\u001b[0m     \u001b[38;5;28;43mself\u001b[39;49m\u001b[38;5;241;43m.\u001b[39;49m\u001b[43m_tester\u001b[49m\u001b[38;5;241;43m.\u001b[39;49m\u001b[43mrequire_now\u001b[49m\u001b[43m(\u001b[49m\u001b[38;5;28;43mself\u001b[39;49m\u001b[38;5;241;43m.\u001b[39;49m\u001b[43m_feature\u001b[49m\u001b[43m)\u001b[49m\n",
      "File \u001b[0;32m~/anaconda3/envs/Braket/lib/python3.10/site-packages/qiskit/utils/lazy_tester.py:221\u001b[0m, in \u001b[0;36mLazyDependencyManager.require_now\u001b[0;34m(self, feature)\u001b[0m\n\u001b[1;32m    219\u001b[0m \u001b[38;5;28;01mif\u001b[39;00m \u001b[38;5;28mself\u001b[39m:\n\u001b[1;32m    220\u001b[0m     \u001b[38;5;28;01mreturn\u001b[39;00m\n\u001b[0;32m--> 221\u001b[0m \u001b[38;5;28;01mraise\u001b[39;00m MissingOptionalLibraryError(\n\u001b[1;32m    222\u001b[0m     libname\u001b[38;5;241m=\u001b[39m\u001b[38;5;28mself\u001b[39m\u001b[38;5;241m.\u001b[39m_name, name\u001b[38;5;241m=\u001b[39mfeature, pip_install\u001b[38;5;241m=\u001b[39m\u001b[38;5;28mself\u001b[39m\u001b[38;5;241m.\u001b[39m_install, msg\u001b[38;5;241m=\u001b[39m\u001b[38;5;28mself\u001b[39m\u001b[38;5;241m.\u001b[39m_msg\n\u001b[1;32m    223\u001b[0m )\n",
      "\u001b[0;31mMissingOptionalLibraryError\u001b[0m: \"The 'pylatexenc' library is required to use 'MatplotlibDrawer'. You can install it with 'pip install pylatexenc'.\""
     ]
    }
   ],
   "source": [
    "from qiskit import QuantumCircuit\n",
    "\n",
    "circuit = QuantumCircuit(3)\n",
    "circuit.h(0)\n",
    "circuit.cx(0, 1)\n",
    "circuit.cx(0, 2)\n",
    "circuit.draw(\"mpl\")"
   ]
  },
  {
   "cell_type": "code",
   "execution_count": 11,
   "id": "32fd1f51",
   "metadata": {
    "slideshow": {
     "slide_type": "slide"
    },
    "tags": []
   },
   "outputs": [],
   "source": [
    "# run circuit\n",
    "qpu_backend=sv1\n",
    "qpu_task = qpu_backend.run(circuit, shots=10)"
   ]
  },
  {
   "cell_type": "markdown",
   "id": "9515c95b",
   "metadata": {},
   "source": [
    "Each quantum task you run is assigned a unique ARN (Amazon Resource Name), which you can save and use to retrieve the data for your quantum task after its run, even if you close your notebook."
   ]
  },
  {
   "cell_type": "code",
   "execution_count": 12,
   "id": "d6f5d0da",
   "metadata": {
    "tags": []
   },
   "outputs": [
    {
     "data": {
      "text/plain": [
       "'arn:aws:braket:us-east-1:746669231099:quantum-task/5c69ec16-8e8c-4826-8904-5f135d7e96b7'"
      ]
     },
     "execution_count": 12,
     "metadata": {},
     "output_type": "execute_result"
    }
   ],
   "source": [
    "task_id = qpu_task.task_id()\n",
    "task_id"
   ]
  },
  {
   "cell_type": "markdown",
   "id": "3b7ee5ac",
   "metadata": {},
   "source": [
    "Now, Braket has a separate feature called \\\"Hybrid *Jobs*\\\", which is beyond the scope of this notebook, but which you can read about in the [developer guide](https://docs.aws.amazon.com/braket/latest/developerguide/braket-jobs.html)."
   ]
  },
  {
   "cell_type": "code",
   "execution_count": 13,
   "id": "dec44bb5",
   "metadata": {
    "tags": []
   },
   "outputs": [],
   "source": [
    "# Retrieve quantum task data\n",
    "retrieved_task = qpu_backend.retrieve_job(task_id=task_id)"
   ]
  },
  {
   "cell_type": "markdown",
   "id": "355472d4",
   "metadata": {},
   "source": [
    "Then you can check the status of the task to see if it's finished:"
   ]
  },
  {
   "cell_type": "code",
   "execution_count": 14,
   "id": "bb84627d",
   "metadata": {
    "tags": []
   },
   "outputs": [
    {
     "data": {
      "text/plain": [
       "<JobStatus.DONE: 'job has successfully run'>"
      ]
     },
     "execution_count": 14,
     "metadata": {},
     "output_type": "execute_result"
    }
   ],
   "source": [
    "retrieved_task.status()"
   ]
  },
  {
   "cell_type": "markdown",
   "id": "7c2d97be",
   "metadata": {},
   "source": [
    "**Note:** different devices may have different availability windows, so while your task may not run right away, rest assured it will be added to the queue to be run when the device is back online."
   ]
  },
  {
   "cell_type": "markdown",
   "id": "d6f54cb5",
   "metadata": {},
   "source": [
    "When your task is finished, you can retrieve the data:"
   ]
  },
  {
   "cell_type": "code",
   "execution_count": 15,
   "id": "c510eb22",
   "metadata": {
    "tags": []
   },
   "outputs": [],
   "source": [
    "data = retrieved_task.result()"
   ]
  },
  {
   "cell_type": "code",
   "execution_count": 16,
   "id": "90660ecd",
   "metadata": {
    "tags": []
   },
   "outputs": [
    {
     "data": {
      "image/png": "[encoded data removed]",
      "text/plain": [
       "<Figure size 640x480 with 1 Axes>"
      ]
     },
     "execution_count": 16,
     "metadata": {},
     "output_type": "execute_result"
    }
   ],
   "source": [
    "from qiskit.visualization import plot_histogram\n",
    "plot_histogram(data.get_counts())"
   ]
  }
 ],
 "metadata": {
  "kernelspec": {
   "display_name": "conda_braket",
   "language": "python",
   "name": "conda_braket"
  },
  "language_info": {
   "codemirror_mode": {
    "name": "ipython",
    "version": 3
   },
   "file_extension": ".py",
   "mimetype": "text/x-python",
   "name": "python",
   "nbconvert_exporter": "python",
   "pygments_lexer": "ipython3",
   "version": "3.10.14"
  }
 },
 "nbformat": 4,
 "nbformat_minor": 5
}
