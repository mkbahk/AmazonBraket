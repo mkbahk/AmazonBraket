{
 "cells": [
  {
   "cell_type": "code",
   "execution_count": 47,
   "id": "1d2184da-ec05-471e-8b60-4d6dcaf6e0f2",
   "metadata": {
    "tags": []
   },
   "outputs": [
    {
     "name": "stdout",
     "output_type": "stream",
     "text": [
      "Requirement already satisfied: pennylane in /home/ec2-user/anaconda3/envs/JupyterSystemEnv/lib/python3.10/site-packages (0.38.0)\n",
      "Requirement already satisfied: numpy<2.0 in /home/ec2-user/anaconda3/envs/JupyterSystemEnv/lib/python3.10/site-packages (from pennylane) (1.26.4)\n",
      "Requirement already satisfied: scipy in /home/ec2-user/anaconda3/envs/JupyterSystemEnv/lib/python3.10/site-packages (from pennylane) (1.14.1)\n",
      "Requirement already satisfied: networkx in /home/ec2-user/anaconda3/envs/JupyterSystemEnv/lib/python3.10/site-packages (from pennylane) (3.3)\n",
      "Requirement already satisfied: rustworkx>=0.14.0 in /home/ec2-user/anaconda3/envs/JupyterSystemEnv/lib/python3.10/site-packages (from pennylane) (0.15.1)\n",
      "Requirement already satisfied: autograd in /home/ec2-user/anaconda3/envs/JupyterSystemEnv/lib/python3.10/site-packages (from pennylane) (1.7.0)\n",
      "Requirement already satisfied: toml in /home/ec2-user/anaconda3/envs/JupyterSystemEnv/lib/python3.10/site-packages (from pennylane) (0.10.2)\n",
      "Requirement already satisfied: appdirs in /home/ec2-user/anaconda3/envs/JupyterSystemEnv/lib/python3.10/site-packages (from pennylane) (1.4.4)\n",
      "Requirement already satisfied: autoray>=0.6.11 in /home/ec2-user/anaconda3/envs/JupyterSystemEnv/lib/python3.10/site-packages (from pennylane) (0.6.12)\n",
      "Requirement already satisfied: cachetools in /home/ec2-user/anaconda3/envs/JupyterSystemEnv/lib/python3.10/site-packages (from pennylane) (5.5.0)\n",
      "Requirement already satisfied: pennylane-lightning>=0.38 in /home/ec2-user/anaconda3/envs/JupyterSystemEnv/lib/python3.10/site-packages (from pennylane) (0.38.0)\n",
      "Requirement already satisfied: requests in /home/ec2-user/anaconda3/envs/JupyterSystemEnv/lib/python3.10/site-packages (from pennylane) (2.32.3)\n",
      "Requirement already satisfied: typing-extensions in /home/ec2-user/anaconda3/envs/JupyterSystemEnv/lib/python3.10/site-packages (from pennylane) (4.12.2)\n",
      "Requirement already satisfied: packaging in /home/ec2-user/anaconda3/envs/JupyterSystemEnv/lib/python3.10/site-packages (from pennylane) (24.1)\n",
      "Requirement already satisfied: charset-normalizer<4,>=2 in /home/ec2-user/anaconda3/envs/JupyterSystemEnv/lib/python3.10/site-packages (from requests->pennylane) (3.3.2)\n",
      "Requirement already satisfied: idna<4,>=2.5 in /home/ec2-user/anaconda3/envs/JupyterSystemEnv/lib/python3.10/site-packages (from requests->pennylane) (3.8)\n",
      "Requirement already satisfied: urllib3<3,>=1.21.1 in /home/ec2-user/anaconda3/envs/JupyterSystemEnv/lib/python3.10/site-packages (from requests->pennylane) (2.2.2)\n",
      "Requirement already satisfied: certifi>=2017.4.17 in /home/ec2-user/anaconda3/envs/JupyterSystemEnv/lib/python3.10/site-packages (from requests->pennylane) (2024.8.30)\n"
     ]
    }
   ],
   "source": [
    "!pip install pennylane"
   ]
  },
  {
   "cell_type": "code",
   "execution_count": 48,
   "id": "9d909a46-0bbf-4874-a4b1-b6cab6e33664",
   "metadata": {
    "tags": []
   },
   "outputs": [
    {
     "name": "stdout",
     "output_type": "stream",
     "text": [
      "Requirement already satisfied: amazon-braket-sdk in /home/ec2-user/anaconda3/envs/JupyterSystemEnv/lib/python3.10/site-packages (1.87.1)\n",
      "Requirement already satisfied: amazon-braket-schemas>=1.21.3 in /home/ec2-user/anaconda3/envs/JupyterSystemEnv/lib/python3.10/site-packages (from amazon-braket-sdk) (1.22.1)\n",
      "Requirement already satisfied: amazon-braket-default-simulator>=1.26.0 in /home/ec2-user/anaconda3/envs/JupyterSystemEnv/lib/python3.10/site-packages (from amazon-braket-sdk) (1.26.0)\n",
      "Requirement already satisfied: oqpy~=0.3.5 in /home/ec2-user/anaconda3/envs/JupyterSystemEnv/lib/python3.10/site-packages (from amazon-braket-sdk) (0.3.6)\n",
      "Requirement already satisfied: backoff in /home/ec2-user/anaconda3/envs/JupyterSystemEnv/lib/python3.10/site-packages (from amazon-braket-sdk) (2.2.1)\n",
      "Requirement already satisfied: boltons in /home/ec2-user/anaconda3/envs/JupyterSystemEnv/lib/python3.10/site-packages (from amazon-braket-sdk) (24.0.0)\n",
      "Requirement already satisfied: boto3>=1.28.53 in /home/ec2-user/anaconda3/envs/JupyterSystemEnv/lib/python3.10/site-packages (from amazon-braket-sdk) (1.35.16)\n",
      "Requirement already satisfied: cloudpickle>=3 in /home/ec2-user/anaconda3/envs/JupyterSystemEnv/lib/python3.10/site-packages (from amazon-braket-sdk) (3.0.0)\n",
      "Requirement already satisfied: nest-asyncio in /home/ec2-user/anaconda3/envs/JupyterSystemEnv/lib/python3.10/site-packages (from amazon-braket-sdk) (1.6.0)\n",
      "Requirement already satisfied: networkx in /home/ec2-user/anaconda3/envs/JupyterSystemEnv/lib/python3.10/site-packages (from amazon-braket-sdk) (3.3)\n",
      "Requirement already satisfied: numpy in /home/ec2-user/anaconda3/envs/JupyterSystemEnv/lib/python3.10/site-packages (from amazon-braket-sdk) (1.26.4)\n",
      "Requirement already satisfied: openpulse in /home/ec2-user/anaconda3/envs/JupyterSystemEnv/lib/python3.10/site-packages (from amazon-braket-sdk) (1.0.0)\n",
      "Requirement already satisfied: openqasm3 in /home/ec2-user/anaconda3/envs/JupyterSystemEnv/lib/python3.10/site-packages (from amazon-braket-sdk) (1.0.0)\n",
      "Requirement already satisfied: sympy in /home/ec2-user/anaconda3/envs/JupyterSystemEnv/lib/python3.10/site-packages (from amazon-braket-sdk) (1.13.3)\n",
      "Requirement already satisfied: backports.entry-points-selectable in /home/ec2-user/anaconda3/envs/JupyterSystemEnv/lib/python3.10/site-packages (from amazon-braket-sdk) (1.3.0)\n",
      "Requirement already satisfied: opt-einsum in /home/ec2-user/anaconda3/envs/JupyterSystemEnv/lib/python3.10/site-packages (from amazon-braket-default-simulator>=1.26.0->amazon-braket-sdk) (3.4.0)\n",
      "Requirement already satisfied: pydantic>2 in /home/ec2-user/anaconda3/envs/JupyterSystemEnv/lib/python3.10/site-packages (from amazon-braket-default-simulator>=1.26.0->amazon-braket-sdk) (2.9.1)\n",
      "Requirement already satisfied: scipy in /home/ec2-user/anaconda3/envs/JupyterSystemEnv/lib/python3.10/site-packages (from amazon-braket-default-simulator>=1.26.0->amazon-braket-sdk) (1.14.1)\n",
      "Requirement already satisfied: antlr4-python3-runtime==4.9.2 in /home/ec2-user/anaconda3/envs/JupyterSystemEnv/lib/python3.10/site-packages (from amazon-braket-default-simulator>=1.26.0->amazon-braket-sdk) (4.9.2)\n",
      "Requirement already satisfied: botocore<1.36.0,>=1.35.16 in /home/ec2-user/anaconda3/envs/JupyterSystemEnv/lib/python3.10/site-packages (from boto3>=1.28.53->amazon-braket-sdk) (1.35.16)\n",
      "Requirement already satisfied: jmespath<2.0.0,>=0.7.1 in /home/ec2-user/anaconda3/envs/JupyterSystemEnv/lib/python3.10/site-packages (from boto3>=1.28.53->amazon-braket-sdk) (1.0.1)\n",
      "Requirement already satisfied: s3transfer<0.11.0,>=0.10.0 in /home/ec2-user/anaconda3/envs/JupyterSystemEnv/lib/python3.10/site-packages (from boto3>=1.28.53->amazon-braket-sdk) (0.10.2)\n",
      "Requirement already satisfied: mypy-extensions>=0.2.0 in /home/ec2-user/anaconda3/envs/JupyterSystemEnv/lib/python3.10/site-packages (from oqpy~=0.3.5->amazon-braket-sdk) (1.0.0)\n",
      "Requirement already satisfied: mpmath<1.4,>=1.1.0 in /home/ec2-user/anaconda3/envs/JupyterSystemEnv/lib/python3.10/site-packages (from sympy->amazon-braket-sdk) (1.3.0)\n",
      "Requirement already satisfied: python-dateutil<3.0.0,>=2.1 in /home/ec2-user/anaconda3/envs/JupyterSystemEnv/lib/python3.10/site-packages (from botocore<1.36.0,>=1.35.16->boto3>=1.28.53->amazon-braket-sdk) (2.9.0)\n",
      "Requirement already satisfied: urllib3!=2.2.0,<3,>=1.25.4 in /home/ec2-user/anaconda3/envs/JupyterSystemEnv/lib/python3.10/site-packages (from botocore<1.36.0,>=1.35.16->boto3>=1.28.53->amazon-braket-sdk) (2.2.2)\n",
      "Requirement already satisfied: annotated-types>=0.6.0 in /home/ec2-user/anaconda3/envs/JupyterSystemEnv/lib/python3.10/site-packages (from pydantic>2->amazon-braket-default-simulator>=1.26.0->amazon-braket-sdk) (0.7.0)\n",
      "Requirement already satisfied: pydantic-core==2.23.3 in /home/ec2-user/anaconda3/envs/JupyterSystemEnv/lib/python3.10/site-packages (from pydantic>2->amazon-braket-default-simulator>=1.26.0->amazon-braket-sdk) (2.23.3)\n",
      "Requirement already satisfied: typing-extensions>=4.6.1 in /home/ec2-user/anaconda3/envs/JupyterSystemEnv/lib/python3.10/site-packages (from pydantic>2->amazon-braket-default-simulator>=1.26.0->amazon-braket-sdk) (4.12.2)\n",
      "Requirement already satisfied: six>=1.5 in /home/ec2-user/anaconda3/envs/JupyterSystemEnv/lib/python3.10/site-packages (from python-dateutil<3.0.0,>=2.1->botocore<1.36.0,>=1.35.16->boto3>=1.28.53->amazon-braket-sdk) (1.16.0)\n"
     ]
    }
   ],
   "source": [
    "!pip install amazon-braket-sdk"
   ]
  },
  {
   "cell_type": "code",
   "execution_count": 49,
   "id": "e7e0fc62-18c9-40a0-ac1e-85bc69074d5b",
   "metadata": {
    "tags": []
   },
   "outputs": [
    {
     "name": "stdout",
     "output_type": "stream",
     "text": [
      "Name: amazon-braket-sdk\n",
      "Version: 1.87.1\n",
      "Summary: An open source library for interacting with quantum computing devices on Amazon Braket\n",
      "Home-page: https://github.com/amazon-braket/amazon-braket-sdk-python\n",
      "Author: Amazon Web Services\n",
      "Author-email: \n",
      "License: Apache License 2.0\n",
      "Location: /home/ec2-user/anaconda3/envs/JupyterSystemEnv/lib/python3.10/site-packages\n",
      "Requires: amazon-braket-default-simulator, amazon-braket-schemas, backoff, backports.entry-points-selectable, boltons, boto3, cloudpickle, nest-asyncio, networkx, numpy, openpulse, openqasm3, oqpy, sympy\n",
      "Required-by: amazon-braket-pennylane-plugin\n"
     ]
    }
   ],
   "source": [
    "!pip show amazon-braket-sdk"
   ]
  },
  {
   "cell_type": "code",
   "execution_count": 50,
   "id": "149cb689-f458-42ec-922d-4965b6447d59",
   "metadata": {
    "tags": []
   },
   "outputs": [
    {
     "name": "stdout",
     "output_type": "stream",
     "text": [
      "Requirement already satisfied: amazon-braket-pennylane-plugin in /home/ec2-user/anaconda3/envs/JupyterSystemEnv/lib/python3.10/site-packages (1.30.1)\n",
      "Requirement already satisfied: amazon-braket-sdk>=1.87.0 in /home/ec2-user/anaconda3/envs/JupyterSystemEnv/lib/python3.10/site-packages (from amazon-braket-pennylane-plugin) (1.87.1)\n",
      "Requirement already satisfied: autoray>=0.6.11 in /home/ec2-user/anaconda3/envs/JupyterSystemEnv/lib/python3.10/site-packages (from amazon-braket-pennylane-plugin) (0.6.12)\n",
      "Requirement already satisfied: pennylane>=0.34.0 in /home/ec2-user/anaconda3/envs/JupyterSystemEnv/lib/python3.10/site-packages (from amazon-braket-pennylane-plugin) (0.38.0)\n",
      "Requirement already satisfied: amazon-braket-schemas>=1.21.3 in /home/ec2-user/anaconda3/envs/JupyterSystemEnv/lib/python3.10/site-packages (from amazon-braket-sdk>=1.87.0->amazon-braket-pennylane-plugin) (1.22.1)\n",
      "Requirement already satisfied: amazon-braket-default-simulator>=1.26.0 in /home/ec2-user/anaconda3/envs/JupyterSystemEnv/lib/python3.10/site-packages (from amazon-braket-sdk>=1.87.0->amazon-braket-pennylane-plugin) (1.26.0)\n",
      "Requirement already satisfied: oqpy~=0.3.5 in /home/ec2-user/anaconda3/envs/JupyterSystemEnv/lib/python3.10/site-packages (from amazon-braket-sdk>=1.87.0->amazon-braket-pennylane-plugin) (0.3.6)\n",
      "Requirement already satisfied: backoff in /home/ec2-user/anaconda3/envs/JupyterSystemEnv/lib/python3.10/site-packages (from amazon-braket-sdk>=1.87.0->amazon-braket-pennylane-plugin) (2.2.1)\n",
      "Requirement already satisfied: boltons in /home/ec2-user/anaconda3/envs/JupyterSystemEnv/lib/python3.10/site-packages (from amazon-braket-sdk>=1.87.0->amazon-braket-pennylane-plugin) (24.0.0)\n",
      "Requirement already satisfied: boto3>=1.28.53 in /home/ec2-user/anaconda3/envs/JupyterSystemEnv/lib/python3.10/site-packages (from amazon-braket-sdk>=1.87.0->amazon-braket-pennylane-plugin) (1.35.16)\n",
      "Requirement already satisfied: cloudpickle>=3 in /home/ec2-user/anaconda3/envs/JupyterSystemEnv/lib/python3.10/site-packages (from amazon-braket-sdk>=1.87.0->amazon-braket-pennylane-plugin) (3.0.0)\n",
      "Requirement already satisfied: nest-asyncio in /home/ec2-user/anaconda3/envs/JupyterSystemEnv/lib/python3.10/site-packages (from amazon-braket-sdk>=1.87.0->amazon-braket-pennylane-plugin) (1.6.0)\n",
      "Requirement already satisfied: networkx in /home/ec2-user/anaconda3/envs/JupyterSystemEnv/lib/python3.10/site-packages (from amazon-braket-sdk>=1.87.0->amazon-braket-pennylane-plugin) (3.3)\n",
      "Requirement already satisfied: numpy in /home/ec2-user/anaconda3/envs/JupyterSystemEnv/lib/python3.10/site-packages (from amazon-braket-sdk>=1.87.0->amazon-braket-pennylane-plugin) (1.26.4)\n",
      "Requirement already satisfied: openpulse in /home/ec2-user/anaconda3/envs/JupyterSystemEnv/lib/python3.10/site-packages (from amazon-braket-sdk>=1.87.0->amazon-braket-pennylane-plugin) (1.0.0)\n",
      "Requirement already satisfied: openqasm3 in /home/ec2-user/anaconda3/envs/JupyterSystemEnv/lib/python3.10/site-packages (from amazon-braket-sdk>=1.87.0->amazon-braket-pennylane-plugin) (1.0.0)\n",
      "Requirement already satisfied: sympy in /home/ec2-user/anaconda3/envs/JupyterSystemEnv/lib/python3.10/site-packages (from amazon-braket-sdk>=1.87.0->amazon-braket-pennylane-plugin) (1.13.3)\n",
      "Requirement already satisfied: backports.entry-points-selectable in /home/ec2-user/anaconda3/envs/JupyterSystemEnv/lib/python3.10/site-packages (from amazon-braket-sdk>=1.87.0->amazon-braket-pennylane-plugin) (1.3.0)\n",
      "Requirement already satisfied: scipy in /home/ec2-user/anaconda3/envs/JupyterSystemEnv/lib/python3.10/site-packages (from pennylane>=0.34.0->amazon-braket-pennylane-plugin) (1.14.1)\n",
      "Requirement already satisfied: rustworkx>=0.14.0 in /home/ec2-user/anaconda3/envs/JupyterSystemEnv/lib/python3.10/site-packages (from pennylane>=0.34.0->amazon-braket-pennylane-plugin) (0.15.1)\n",
      "Requirement already satisfied: autograd in /home/ec2-user/anaconda3/envs/JupyterSystemEnv/lib/python3.10/site-packages (from pennylane>=0.34.0->amazon-braket-pennylane-plugin) (1.7.0)\n",
      "Requirement already satisfied: toml in /home/ec2-user/anaconda3/envs/JupyterSystemEnv/lib/python3.10/site-packages (from pennylane>=0.34.0->amazon-braket-pennylane-plugin) (0.10.2)\n",
      "Requirement already satisfied: appdirs in /home/ec2-user/anaconda3/envs/JupyterSystemEnv/lib/python3.10/site-packages (from pennylane>=0.34.0->amazon-braket-pennylane-plugin) (1.4.4)\n",
      "Requirement already satisfied: cachetools in /home/ec2-user/anaconda3/envs/JupyterSystemEnv/lib/python3.10/site-packages (from pennylane>=0.34.0->amazon-braket-pennylane-plugin) (5.5.0)\n",
      "Requirement already satisfied: pennylane-lightning>=0.38 in /home/ec2-user/anaconda3/envs/JupyterSystemEnv/lib/python3.10/site-packages (from pennylane>=0.34.0->amazon-braket-pennylane-plugin) (0.38.0)\n",
      "Requirement already satisfied: requests in /home/ec2-user/anaconda3/envs/JupyterSystemEnv/lib/python3.10/site-packages (from pennylane>=0.34.0->amazon-braket-pennylane-plugin) (2.32.3)\n",
      "Requirement already satisfied: typing-extensions in /home/ec2-user/anaconda3/envs/JupyterSystemEnv/lib/python3.10/site-packages (from pennylane>=0.34.0->amazon-braket-pennylane-plugin) (4.12.2)\n",
      "Requirement already satisfied: packaging in /home/ec2-user/anaconda3/envs/JupyterSystemEnv/lib/python3.10/site-packages (from pennylane>=0.34.0->amazon-braket-pennylane-plugin) (24.1)\n",
      "Requirement already satisfied: opt-einsum in /home/ec2-user/anaconda3/envs/JupyterSystemEnv/lib/python3.10/site-packages (from amazon-braket-default-simulator>=1.26.0->amazon-braket-sdk>=1.87.0->amazon-braket-pennylane-plugin) (3.4.0)\n",
      "Requirement already satisfied: pydantic>2 in /home/ec2-user/anaconda3/envs/JupyterSystemEnv/lib/python3.10/site-packages (from amazon-braket-default-simulator>=1.26.0->amazon-braket-sdk>=1.87.0->amazon-braket-pennylane-plugin) (2.9.1)\n",
      "Requirement already satisfied: antlr4-python3-runtime==4.9.2 in /home/ec2-user/anaconda3/envs/JupyterSystemEnv/lib/python3.10/site-packages (from amazon-braket-default-simulator>=1.26.0->amazon-braket-sdk>=1.87.0->amazon-braket-pennylane-plugin) (4.9.2)\n",
      "Requirement already satisfied: botocore<1.36.0,>=1.35.16 in /home/ec2-user/anaconda3/envs/JupyterSystemEnv/lib/python3.10/site-packages (from boto3>=1.28.53->amazon-braket-sdk>=1.87.0->amazon-braket-pennylane-plugin) (1.35.16)\n",
      "Requirement already satisfied: jmespath<2.0.0,>=0.7.1 in /home/ec2-user/anaconda3/envs/JupyterSystemEnv/lib/python3.10/site-packages (from boto3>=1.28.53->amazon-braket-sdk>=1.87.0->amazon-braket-pennylane-plugin) (1.0.1)\n",
      "Requirement already satisfied: s3transfer<0.11.0,>=0.10.0 in /home/ec2-user/anaconda3/envs/JupyterSystemEnv/lib/python3.10/site-packages (from boto3>=1.28.53->amazon-braket-sdk>=1.87.0->amazon-braket-pennylane-plugin) (0.10.2)\n",
      "Requirement already satisfied: mypy-extensions>=0.2.0 in /home/ec2-user/anaconda3/envs/JupyterSystemEnv/lib/python3.10/site-packages (from oqpy~=0.3.5->amazon-braket-sdk>=1.87.0->amazon-braket-pennylane-plugin) (1.0.0)\n",
      "Requirement already satisfied: charset-normalizer<4,>=2 in /home/ec2-user/anaconda3/envs/JupyterSystemEnv/lib/python3.10/site-packages (from requests->pennylane>=0.34.0->amazon-braket-pennylane-plugin) (3.3.2)\n",
      "Requirement already satisfied: idna<4,>=2.5 in /home/ec2-user/anaconda3/envs/JupyterSystemEnv/lib/python3.10/site-packages (from requests->pennylane>=0.34.0->amazon-braket-pennylane-plugin) (3.8)\n",
      "Requirement already satisfied: urllib3<3,>=1.21.1 in /home/ec2-user/anaconda3/envs/JupyterSystemEnv/lib/python3.10/site-packages (from requests->pennylane>=0.34.0->amazon-braket-pennylane-plugin) (2.2.2)\n",
      "Requirement already satisfied: certifi>=2017.4.17 in /home/ec2-user/anaconda3/envs/JupyterSystemEnv/lib/python3.10/site-packages (from requests->pennylane>=0.34.0->amazon-braket-pennylane-plugin) (2024.8.30)\n",
      "Requirement already satisfied: mpmath<1.4,>=1.1.0 in /home/ec2-user/anaconda3/envs/JupyterSystemEnv/lib/python3.10/site-packages (from sympy->amazon-braket-sdk>=1.87.0->amazon-braket-pennylane-plugin) (1.3.0)\n",
      "Requirement already satisfied: python-dateutil<3.0.0,>=2.1 in /home/ec2-user/anaconda3/envs/JupyterSystemEnv/lib/python3.10/site-packages (from botocore<1.36.0,>=1.35.16->boto3>=1.28.53->amazon-braket-sdk>=1.87.0->amazon-braket-pennylane-plugin) (2.9.0)\n",
      "Requirement already satisfied: annotated-types>=0.6.0 in /home/ec2-user/anaconda3/envs/JupyterSystemEnv/lib/python3.10/site-packages (from pydantic>2->amazon-braket-default-simulator>=1.26.0->amazon-braket-sdk>=1.87.0->amazon-braket-pennylane-plugin) (0.7.0)\n",
      "Requirement already satisfied: pydantic-core==2.23.3 in /home/ec2-user/anaconda3/envs/JupyterSystemEnv/lib/python3.10/site-packages (from pydantic>2->amazon-braket-default-simulator>=1.26.0->amazon-braket-sdk>=1.87.0->amazon-braket-pennylane-plugin) (2.23.3)\n",
      "Requirement already satisfied: six>=1.5 in /home/ec2-user/anaconda3/envs/JupyterSystemEnv/lib/python3.10/site-packages (from python-dateutil<3.0.0,>=2.1->botocore<1.36.0,>=1.35.16->boto3>=1.28.53->amazon-braket-sdk>=1.87.0->amazon-braket-pennylane-plugin) (1.16.0)\n"
     ]
    }
   ],
   "source": [
    "!pip install amazon-braket-pennylane-plugin"
   ]
  },
  {
   "cell_type": "code",
   "execution_count": 51,
   "id": "7f963f97-0de4-4cfe-b50d-1ea7bde78e34",
   "metadata": {
    "tags": []
   },
   "outputs": [
    {
     "name": "stdout",
     "output_type": "stream",
     "text": [
      "Name: amazon-braket-pennylane-plugin\n",
      "Version: 1.30.1\n",
      "Summary: An open source framework for using Amazon Braket devices with the PennyLane quantum machine learning library\n",
      "Home-page: https://github.com/amazon-braket/amazon-braket-pennylane-plugin-python\n",
      "Author: Amazon Web Services\n",
      "Author-email: \n",
      "License: Apache License 2.0\n",
      "Location: /home/ec2-user/anaconda3/envs/JupyterSystemEnv/lib/python3.10/site-packages\n",
      "Requires: amazon-braket-sdk, autoray, pennylane\n",
      "Required-by: \n"
     ]
    }
   ],
   "source": [
    "!pip show amazon-braket-pennylane-plugin"
   ]
  },
  {
   "cell_type": "code",
   "execution_count": 52,
   "id": "f879f176-2a40-44c1-8f3d-8eb021697e87",
   "metadata": {
    "tags": []
   },
   "outputs": [
    {
     "data": {
      "text/plain": [
       "'1.28.0'"
      ]
     },
     "execution_count": 52,
     "metadata": {},
     "output_type": "execute_result"
    }
   ],
   "source": [
    "from braket import pennylane_plugin\n",
    "pennylane_plugin.__version__"
   ]
  },
  {
   "cell_type": "code",
   "execution_count": 53,
   "id": "cc92b1b9-13a1-4624-9c74-8086bcfbcf86",
   "metadata": {
    "tags": []
   },
   "outputs": [],
   "source": [
    "import pennylane as qml\n",
    "from pennylane import numpy as np"
   ]
  },
  {
   "cell_type": "code",
   "execution_count": 54,
   "id": "31701543-78e6-4883-b98d-8cf2fa6dcee4",
   "metadata": {
    "tags": []
   },
   "outputs": [],
   "source": [
    "dev_local_sim = qml.device(\"braket.local.qubit\", wires=2)\n"
   ]
  },
  {
   "cell_type": "code",
   "execution_count": 55,
   "id": "e161331d-0987-42a1-b759-2be315c61015",
   "metadata": {
    "tags": []
   },
   "outputs": [],
   "source": [
    "dev_managed_sim = qml.device(\n",
    "    \"braket.aws.qubit\",\n",
    "    device_arn=\"arn:aws:braket:::device/quantum-simulator/amazon/sv1\",\n",
    "    wires=2,\n",
    "    shots=1024,\n",
    ")"
   ]
  },
  {
   "cell_type": "code",
   "execution_count": 56,
   "id": "a9bc6c73-97bc-4cb7-97d9-958caa64d1a0",
   "metadata": {
    "tags": []
   },
   "outputs": [],
   "source": [
    "dev_qpu = qml.device(\n",
    "    \"braket.aws.qubit\",\n",
    "    device_arn=\"arn:aws:braket:us-west-1::device/qpu/rigetti/Ankaa-2\",\n",
    "    poll_timeout_seconds=1800,\n",
    "    shots=10000,\n",
    "    wires=2,\n",
    ")"
   ]
  },
  {
   "cell_type": "code",
   "execution_count": 57,
   "id": "a485b4b5-7f49-4e6a-9766-5b83c8cdb508",
   "metadata": {
    "tags": []
   },
   "outputs": [],
   "source": [
    "#@qml.qnode(dev_local_sim)\n",
    "@qml.qnode(dev_managed_sim)\n",
    "#@qml.qnode(dev_qpu)\n",
    "def circuit(a):\n",
    "    qml.Hadamard(wires=0)\n",
    "    qml.CNOT(wires=[0, 1])\n",
    "    qml.RX(a, wires=1)\n",
    "    return qml.expval(qml.PauliZ(1))\n"
   ]
  },
  {
   "cell_type": "code",
   "execution_count": 58,
   "id": "978bff90-4f15-423e-863b-bc5ba2ca7df2",
   "metadata": {
    "tags": []
   },
   "outputs": [
    {
     "name": "stdout",
     "output_type": "stream",
     "text": [
      "-0.017578125\n"
     ]
    }
   ],
   "source": [
    "print(circuit(0.543))"
   ]
  },
  {
   "cell_type": "code",
   "execution_count": null,
   "id": "7823d927-08af-4a00-90b4-f0d6c3bb1718",
   "metadata": {},
   "outputs": [],
   "source": []
  }
 ],
 "metadata": {
  "kernelspec": {
   "display_name": "conda_braket",
   "language": "python",
   "name": "conda_braket"
  },
  "language_info": {
   "codemirror_mode": {
    "name": "ipython",
    "version": 3
   },
   "file_extension": ".py",
   "mimetype": "text/x-python",
   "name": "python",
   "nbconvert_exporter": "python",
   "pygments_lexer": "ipython3",
   "version": "3.10.14"
  }
 },
 "nbformat": 4,
 "nbformat_minor": 5
}
