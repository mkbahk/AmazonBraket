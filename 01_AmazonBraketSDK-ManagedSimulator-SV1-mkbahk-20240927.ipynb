{
 "cells": [
  {
   "cell_type": "code",
   "execution_count": 20,
   "metadata": {
    "tags": []
   },
   "outputs": [
    {
     "name": "stdout",
     "output_type": "stream",
     "text": [
      "Requirement already satisfied: pip in /home/ec2-user/anaconda3/envs/JupyterSystemEnv/lib/python3.10/site-packages (24.2)\n"
     ]
    }
   ],
   "source": [
    "!pip install -U pip"
   ]
  },
  {
   "cell_type": "code",
   "execution_count": 21,
   "metadata": {
    "tags": []
   },
   "outputs": [
    {
     "name": "stdout",
     "output_type": "stream",
     "text": [
      "Package                           Version\n",
      "--------------------------------- --------------\n",
      "aiobotocore                       2.14.0\n",
      "aiofiles                          22.1.0\n",
      "aiohappyeyeballs                  2.4.0\n",
      "aiohttp                           3.10.5\n",
      "aioitertools                      0.11.0\n",
      "aiosignal                         1.3.1\n",
      "aiosqlite                         0.20.0\n",
      "amazon-braket-default-simulator   1.26.0\n",
      "amazon-braket-schemas             1.22.1\n",
      "amazon-braket-sdk                 1.87.1\n",
      "annotated-types                   0.7.0\n",
      "antlr4-python3-runtime            4.9.2\n",
      "anyio                             4.4.0\n",
      "argon2-cffi                       23.1.0\n",
      "argon2-cffi-bindings              21.2.0\n",
      "arrow                             1.3.0\n",
      "astroid                           3.2.4\n",
      "asttokens                         2.4.1\n",
      "async-lru                         2.0.4\n",
      "async-timeout                     4.0.3\n",
      "attrs                             23.2.0\n",
      "autopep8                          2.0.4\n",
      "autovizwidget                     0.21.0\n",
      "awscli                            1.34.16\n",
      "Babel                             2.14.0\n",
      "backoff                           2.2.1\n",
      "backports.entry-points-selectable 1.3.0\n",
      "beautifulsoup4                    4.12.3\n",
      "bleach                            6.1.0\n",
      "boltons                           24.0.0\n",
      "boto3                             1.35.28\n",
      "botocore                          1.35.28\n",
      "braket_managed_plugin             0.1.4\n",
      "Brotli                            1.1.0\n",
      "cached-property                   1.5.2\n",
      "certifi                           2024.8.30\n",
      "cffi                              1.17.1\n",
      "charset-normalizer                3.3.2\n",
      "cloudpickle                       3.0.0\n",
      "colorama                          0.4.6\n",
      "comm                              0.2.2\n",
      "cryptography                      39.0.0\n",
      "Cython                            3.0.11\n",
      "debugpy                           1.8.5\n",
      "decorator                         5.1.1\n",
      "defusedxml                        0.7.1\n",
      "dill                              0.3.8\n",
      "docker                            7.1.0\n",
      "docstring-to-markdown             0.15\n",
      "docutils                          0.16\n",
      "entrypoints                       0.4\n",
      "environment-kernels               1.2.0\n",
      "exceptiongroup                    1.2.2\n",
      "executing                         2.1.0\n",
      "fastjsonschema                    2.20.0\n",
      "fqdn                              1.5.1\n",
      "frozenlist                        1.4.1\n",
      "fsspec                            2024.9.0\n",
      "gitdb                             4.0.11\n",
      "GitPython                         3.1.43\n",
      "google-pasta                      0.2.0\n",
      "gssapi                            1.8.3\n",
      "h11                               0.14.0\n",
      "h2                                4.1.0\n",
      "hdijupyterutils                   0.21.0\n",
      "hpack                             4.0.0\n",
      "httpcore                          1.0.5\n",
      "httpx                             0.27.2\n",
      "hyperframe                        6.0.1\n",
      "idna                              3.8\n",
      "importlib-metadata                6.11.0\n",
      "importlib_resources               6.4.5\n",
      "ipykernel                         5.5.6\n",
      "ipython                           8.27.0\n",
      "ipython_genutils                  0.2.0\n",
      "ipywidgets                        8.1.5\n",
      "isoduration                       20.11.0\n",
      "isort                             5.13.2\n",
      "jedi                              0.19.1\n",
      "Jinja2                            3.1.4\n",
      "jmespath                          1.0.1\n",
      "json5                             0.9.25\n",
      "jsonpointer                       3.0.0\n",
      "jsonschema                        4.23.0\n",
      "jsonschema-specifications         2023.12.1\n",
      "jupyter                           1.1.1\n",
      "jupyter_client                    7.4.9\n",
      "jupyter-console                   6.6.3\n",
      "jupyter_core                      5.7.2\n",
      "jupyter-events                    0.10.0\n",
      "jupyter-lsp                       2.2.5\n",
      "jupyter_server                    2.14.2\n",
      "jupyter_server_fileid             0.9.3\n",
      "jupyter-server-mathjax            0.2.6\n",
      "jupyter-server-proxy              3.2.1\n",
      "jupyter_server_terminals          0.5.3\n",
      "jupyter_server_ydoc               0.8.0\n",
      "jupyter-ydoc                      0.2.5\n",
      "jupyterlab                        3.6.8\n",
      "jupyterlab-git                    0.41.0\n",
      "jupyterlab-lsp                    4.3.0\n",
      "jupyterlab_pygments               0.3.0\n",
      "jupyterlab_server                 2.27.3\n",
      "jupyterlab_widgets                3.0.13\n",
      "krb5                              0.6.0\n",
      "markdown-it-py                    3.0.0\n",
      "MarkupSafe                        2.1.5\n",
      "matplotlib-inline                 0.1.7\n",
      "mccabe                            0.7.0\n",
      "mdurl                             0.1.2\n",
      "mistune                           2.0.5\n",
      "mock                              4.0.3\n",
      "mpmath                            1.3.0\n",
      "multidict                         6.1.0\n",
      "multiprocess                      0.70.16\n",
      "mypy-extensions                   1.0.0\n",
      "nb_conda                          2.2.1\n",
      "nb_conda_kernels                  2.3.1\n",
      "nbclassic                         0.5.1\n",
      "nbclient                          0.10.0\n",
      "nbconvert                         7.2.9\n",
      "nbdime                            3.2.1\n",
      "nbexamples                        0.0.0\n",
      "nbformat                          5.10.4\n",
      "nest_asyncio                      1.6.0\n",
      "networkx                          3.3\n",
      "notebook                          6.5.7\n",
      "notebook_shim                     0.2.4\n",
      "numpy                             2.1.1\n",
      "openpulse                         1.0.0\n",
      "openqasm3                         1.0.0\n",
      "opt_einsum                        3.4.0\n",
      "oqpy                              0.3.6\n",
      "overrides                         7.7.0\n",
      "packaging                         24.1\n",
      "pandas                            1.5.3\n",
      "pandocfilters                     1.5.0\n",
      "parso                             0.8.4\n",
      "pathos                            0.3.2\n",
      "pexpect                           4.9.0\n",
      "pickleshare                       0.7.5\n",
      "pid                               3.0.4\n",
      "pip                               24.2\n",
      "pkgutil_resolve_name              1.3.10\n",
      "platformdirs                      4.3.2\n",
      "plotly                            5.24.0\n",
      "pluggy                            1.5.0\n",
      "pox                               0.3.4\n",
      "ppft                              1.7.6.8\n",
      "prometheus_client                 0.20.0\n",
      "prompt_toolkit                    3.0.47\n",
      "protobuf                          4.25.3\n",
      "psutil                            6.0.0\n",
      "psycopg2                          2.9.3\n",
      "ptyprocess                        0.7.0\n",
      "pure_eval                         0.2.3\n",
      "py4j                              0.10.9.5\n",
      "pyasn1                            0.6.1\n",
      "pycodestyle                       2.12.1\n",
      "pycparser                         2.22\n",
      "pydantic                          2.9.2\n",
      "pydantic_core                     2.23.4\n",
      "pydocstyle                        6.3.0\n",
      "pyflakes                          3.2.0\n",
      "pygal                             3.0.5\n",
      "Pygments                          2.18.0\n",
      "pykerberos                        1.2.4\n",
      "pylint                            3.2.7\n",
      "PyQt5                             5.12.3\n",
      "PyQt5_sip                         4.19.18\n",
      "PyQtChart                         5.12\n",
      "PyQtWebEngine                     5.12.1\n",
      "PySocks                           1.7.1\n",
      "pyspark                           3.3.0\n",
      "pyspnego                          0.11.1\n",
      "python-dateutil                   2.9.0.post0\n",
      "python-json-logger                2.0.7\n",
      "python-lsp-jsonrpc                1.1.2\n",
      "python-lsp-server                 1.12.0\n",
      "pytoolconfig                      1.3.1\n",
      "pytz                              2024.2\n",
      "PyYAML                            6.0.2\n",
      "pyzmq                             26.2.0\n",
      "referencing                       0.35.1\n",
      "requests                          2.32.3\n",
      "requests-kerberos                 0.14.0\n",
      "rfc3339-validator                 0.1.4\n",
      "rfc3986-validator                 0.1.1\n",
      "rich                              13.8.1\n",
      "rope                              1.13.0\n",
      "rpds-py                           0.20.0\n",
      "rsa                               4.7.2\n",
      "ruamel.yaml                       0.18.6\n",
      "ruamel.yaml.clib                  0.2.8\n",
      "s3fs                              2024.9.0\n",
      "s3transfer                        0.10.2\n",
      "sagemaker                         2.231.0\n",
      "sagemaker-core                    1.0.4\n",
      "sagemaker-experiments             0.1.45\n",
      "sagemaker_nbi_agent               1.0\n",
      "sagemaker_pyspark                 1.4.5\n",
      "schema                            0.7.7\n",
      "scipy                             1.14.1\n",
      "Send2Trash                        1.8.3\n",
      "setuptools                        70.0.0\n",
      "simpervisor                       1.0.0\n",
      "six                               1.16.0\n",
      "smdebug-rulesconfig               1.0.1\n",
      "smmap                             5.0.1\n",
      "sniffio                           1.3.1\n",
      "snowballstemmer                   2.2.0\n",
      "soupsieve                         2.5\n",
      "sparkmagic                        0.21.0\n",
      "stack-data                        0.6.2\n",
      "sympy                             1.13.3\n",
      "tblib                             3.0.0\n",
      "tenacity                          9.0.0\n",
      "terminado                         0.18.1\n",
      "tinycss2                          1.3.0\n",
      "tomli                             2.0.1\n",
      "tomlkit                           0.13.2\n",
      "tornado                           6.4.1\n",
      "tqdm                              4.66.5\n",
      "traitlets                         5.14.3\n",
      "types-python-dateutil             2.9.0.20240906\n",
      "typing_extensions                 4.12.2\n",
      "typing-utils                      0.1.0\n",
      "ujson                             5.10.0\n",
      "uri-template                      1.3.0\n",
      "urllib3                           2.2.3\n",
      "wcwidth                           0.2.13\n",
      "webcolors                         24.8.0\n",
      "webencodings                      0.5.1\n",
      "websocket-client                  1.8.0\n",
      "wheel                             0.44.0\n",
      "widgetsnbextension                4.0.13\n",
      "wrapt                             1.16.0\n",
      "y-py                              0.6.2\n",
      "yarl                              1.11.1\n",
      "ypy-websocket                     0.8.4\n",
      "zipp                              3.20.1\n",
      "zstandard                         0.23.0\n"
     ]
    }
   ],
   "source": [
    "!pip list"
   ]
  },
  {
   "cell_type": "code",
   "execution_count": 22,
   "metadata": {
    "tags": []
   },
   "outputs": [
    {
     "name": "stdout",
     "output_type": "stream",
     "text": [
      "Requirement already satisfied: amazon-braket-sdk in /home/ec2-user/anaconda3/envs/JupyterSystemEnv/lib/python3.10/site-packages (1.87.1)\n",
      "Requirement already satisfied: amazon-braket-schemas>=1.21.3 in /home/ec2-user/anaconda3/envs/JupyterSystemEnv/lib/python3.10/site-packages (from amazon-braket-sdk) (1.22.1)\n",
      "Requirement already satisfied: amazon-braket-default-simulator>=1.26.0 in /home/ec2-user/anaconda3/envs/JupyterSystemEnv/lib/python3.10/site-packages (from amazon-braket-sdk) (1.26.0)\n",
      "Requirement already satisfied: oqpy~=0.3.5 in /home/ec2-user/anaconda3/envs/JupyterSystemEnv/lib/python3.10/site-packages (from amazon-braket-sdk) (0.3.6)\n",
      "Requirement already satisfied: backoff in /home/ec2-user/anaconda3/envs/JupyterSystemEnv/lib/python3.10/site-packages (from amazon-braket-sdk) (2.2.1)\n",
      "Requirement already satisfied: boltons in /home/ec2-user/anaconda3/envs/JupyterSystemEnv/lib/python3.10/site-packages (from amazon-braket-sdk) (24.0.0)\n",
      "Requirement already satisfied: boto3>=1.28.53 in /home/ec2-user/anaconda3/envs/JupyterSystemEnv/lib/python3.10/site-packages (from amazon-braket-sdk) (1.35.28)\n",
      "Requirement already satisfied: cloudpickle>=3 in /home/ec2-user/anaconda3/envs/JupyterSystemEnv/lib/python3.10/site-packages (from amazon-braket-sdk) (3.0.0)\n",
      "Requirement already satisfied: nest-asyncio in /home/ec2-user/anaconda3/envs/JupyterSystemEnv/lib/python3.10/site-packages (from amazon-braket-sdk) (1.6.0)\n",
      "Requirement already satisfied: networkx in /home/ec2-user/anaconda3/envs/JupyterSystemEnv/lib/python3.10/site-packages (from amazon-braket-sdk) (3.3)\n",
      "Requirement already satisfied: numpy in /home/ec2-user/anaconda3/envs/JupyterSystemEnv/lib/python3.10/site-packages (from amazon-braket-sdk) (2.1.1)\n",
      "Requirement already satisfied: openpulse in /home/ec2-user/anaconda3/envs/JupyterSystemEnv/lib/python3.10/site-packages (from amazon-braket-sdk) (1.0.0)\n",
      "Requirement already satisfied: openqasm3 in /home/ec2-user/anaconda3/envs/JupyterSystemEnv/lib/python3.10/site-packages (from amazon-braket-sdk) (1.0.0)\n",
      "Requirement already satisfied: sympy in /home/ec2-user/anaconda3/envs/JupyterSystemEnv/lib/python3.10/site-packages (from amazon-braket-sdk) (1.13.3)\n",
      "Requirement already satisfied: backports.entry-points-selectable in /home/ec2-user/anaconda3/envs/JupyterSystemEnv/lib/python3.10/site-packages (from amazon-braket-sdk) (1.3.0)\n",
      "Requirement already satisfied: opt-einsum in /home/ec2-user/anaconda3/envs/JupyterSystemEnv/lib/python3.10/site-packages (from amazon-braket-default-simulator>=1.26.0->amazon-braket-sdk) (3.4.0)\n",
      "Requirement already satisfied: pydantic>2 in /home/ec2-user/anaconda3/envs/JupyterSystemEnv/lib/python3.10/site-packages (from amazon-braket-default-simulator>=1.26.0->amazon-braket-sdk) (2.9.2)\n",
      "Requirement already satisfied: scipy in /home/ec2-user/anaconda3/envs/JupyterSystemEnv/lib/python3.10/site-packages (from amazon-braket-default-simulator>=1.26.0->amazon-braket-sdk) (1.14.1)\n",
      "Requirement already satisfied: antlr4-python3-runtime==4.9.2 in /home/ec2-user/anaconda3/envs/JupyterSystemEnv/lib/python3.10/site-packages (from amazon-braket-default-simulator>=1.26.0->amazon-braket-sdk) (4.9.2)\n",
      "Requirement already satisfied: botocore<1.36.0,>=1.35.28 in /home/ec2-user/anaconda3/envs/JupyterSystemEnv/lib/python3.10/site-packages (from boto3>=1.28.53->amazon-braket-sdk) (1.35.28)\n",
      "Requirement already satisfied: jmespath<2.0.0,>=0.7.1 in /home/ec2-user/anaconda3/envs/JupyterSystemEnv/lib/python3.10/site-packages (from boto3>=1.28.53->amazon-braket-sdk) (1.0.1)\n",
      "Requirement already satisfied: s3transfer<0.11.0,>=0.10.0 in /home/ec2-user/anaconda3/envs/JupyterSystemEnv/lib/python3.10/site-packages (from boto3>=1.28.53->amazon-braket-sdk) (0.10.2)\n",
      "Requirement already satisfied: mypy-extensions>=0.2.0 in /home/ec2-user/anaconda3/envs/JupyterSystemEnv/lib/python3.10/site-packages (from oqpy~=0.3.5->amazon-braket-sdk) (1.0.0)\n",
      "Requirement already satisfied: mpmath<1.4,>=1.1.0 in /home/ec2-user/anaconda3/envs/JupyterSystemEnv/lib/python3.10/site-packages (from sympy->amazon-braket-sdk) (1.3.0)\n",
      "Requirement already satisfied: python-dateutil<3.0.0,>=2.1 in /home/ec2-user/anaconda3/envs/JupyterSystemEnv/lib/python3.10/site-packages (from botocore<1.36.0,>=1.35.28->boto3>=1.28.53->amazon-braket-sdk) (2.9.0.post0)\n",
      "Requirement already satisfied: urllib3!=2.2.0,<3,>=1.25.4 in /home/ec2-user/anaconda3/envs/JupyterSystemEnv/lib/python3.10/site-packages (from botocore<1.36.0,>=1.35.28->boto3>=1.28.53->amazon-braket-sdk) (2.2.3)\n",
      "Requirement already satisfied: annotated-types>=0.6.0 in /home/ec2-user/anaconda3/envs/JupyterSystemEnv/lib/python3.10/site-packages (from pydantic>2->amazon-braket-default-simulator>=1.26.0->amazon-braket-sdk) (0.7.0)\n",
      "Requirement already satisfied: pydantic-core==2.23.4 in /home/ec2-user/anaconda3/envs/JupyterSystemEnv/lib/python3.10/site-packages (from pydantic>2->amazon-braket-default-simulator>=1.26.0->amazon-braket-sdk) (2.23.4)\n",
      "Requirement already satisfied: typing-extensions>=4.6.1 in /home/ec2-user/anaconda3/envs/JupyterSystemEnv/lib/python3.10/site-packages (from pydantic>2->amazon-braket-default-simulator>=1.26.0->amazon-braket-sdk) (4.12.2)\n",
      "Requirement already satisfied: six>=1.5 in /home/ec2-user/anaconda3/envs/JupyterSystemEnv/lib/python3.10/site-packages (from python-dateutil<3.0.0,>=2.1->botocore<1.36.0,>=1.35.28->boto3>=1.28.53->amazon-braket-sdk) (1.16.0)\n"
     ]
    }
   ],
   "source": [
    "!pip install amazon-braket-sdk"
   ]
  },
  {
   "cell_type": "code",
   "execution_count": 23,
   "metadata": {
    "tags": []
   },
   "outputs": [
    {
     "name": "stdout",
     "output_type": "stream",
     "text": [
      "Name: amazon-braket-sdk\n",
      "Version: 1.87.1\n",
      "Summary: An open source library for interacting with quantum computing devices on Amazon Braket\n",
      "Home-page: https://github.com/amazon-braket/amazon-braket-sdk-python\n",
      "Author: Amazon Web Services\n",
      "Author-email: \n",
      "License: Apache License 2.0\n",
      "Location: /home/ec2-user/anaconda3/envs/JupyterSystemEnv/lib/python3.10/site-packages\n",
      "Requires: amazon-braket-default-simulator, amazon-braket-schemas, backoff, backports.entry-points-selectable, boltons, boto3, cloudpickle, nest-asyncio, networkx, numpy, openpulse, openqasm3, oqpy, sympy\n",
      "Required-by: \n"
     ]
    }
   ],
   "source": [
    "!pip show amazon-braket-sdk"
   ]
  },
  {
   "cell_type": "code",
   "execution_count": 24,
   "metadata": {
    "tags": []
   },
   "outputs": [
    {
     "name": "stdout",
     "output_type": "stream",
     "text": [
      "Requirement already satisfied: amazon-braket-sdk in /home/ec2-user/anaconda3/envs/JupyterSystemEnv/lib/python3.10/site-packages (1.87.1)\n",
      "Requirement already satisfied: amazon-braket-schemas>=1.21.3 in /home/ec2-user/anaconda3/envs/JupyterSystemEnv/lib/python3.10/site-packages (from amazon-braket-sdk) (1.22.1)\n",
      "Requirement already satisfied: amazon-braket-default-simulator>=1.26.0 in /home/ec2-user/anaconda3/envs/JupyterSystemEnv/lib/python3.10/site-packages (from amazon-braket-sdk) (1.26.0)\n",
      "Requirement already satisfied: oqpy~=0.3.5 in /home/ec2-user/anaconda3/envs/JupyterSystemEnv/lib/python3.10/site-packages (from amazon-braket-sdk) (0.3.6)\n",
      "Requirement already satisfied: backoff in /home/ec2-user/anaconda3/envs/JupyterSystemEnv/lib/python3.10/site-packages (from amazon-braket-sdk) (2.2.1)\n",
      "Requirement already satisfied: boltons in /home/ec2-user/anaconda3/envs/JupyterSystemEnv/lib/python3.10/site-packages (from amazon-braket-sdk) (24.0.0)\n",
      "Requirement already satisfied: boto3>=1.28.53 in /home/ec2-user/anaconda3/envs/JupyterSystemEnv/lib/python3.10/site-packages (from amazon-braket-sdk) (1.35.28)\n",
      "Requirement already satisfied: cloudpickle>=3 in /home/ec2-user/anaconda3/envs/JupyterSystemEnv/lib/python3.10/site-packages (from amazon-braket-sdk) (3.0.0)\n",
      "Requirement already satisfied: nest-asyncio in /home/ec2-user/anaconda3/envs/JupyterSystemEnv/lib/python3.10/site-packages (from amazon-braket-sdk) (1.6.0)\n",
      "Requirement already satisfied: networkx in /home/ec2-user/anaconda3/envs/JupyterSystemEnv/lib/python3.10/site-packages (from amazon-braket-sdk) (3.3)\n",
      "Requirement already satisfied: numpy in /home/ec2-user/anaconda3/envs/JupyterSystemEnv/lib/python3.10/site-packages (from amazon-braket-sdk) (2.1.1)\n",
      "Requirement already satisfied: openpulse in /home/ec2-user/anaconda3/envs/JupyterSystemEnv/lib/python3.10/site-packages (from amazon-braket-sdk) (1.0.0)\n",
      "Requirement already satisfied: openqasm3 in /home/ec2-user/anaconda3/envs/JupyterSystemEnv/lib/python3.10/site-packages (from amazon-braket-sdk) (1.0.0)\n",
      "Requirement already satisfied: sympy in /home/ec2-user/anaconda3/envs/JupyterSystemEnv/lib/python3.10/site-packages (from amazon-braket-sdk) (1.13.3)\n",
      "Requirement already satisfied: backports.entry-points-selectable in /home/ec2-user/anaconda3/envs/JupyterSystemEnv/lib/python3.10/site-packages (from amazon-braket-sdk) (1.3.0)\n",
      "Requirement already satisfied: opt-einsum in /home/ec2-user/anaconda3/envs/JupyterSystemEnv/lib/python3.10/site-packages (from amazon-braket-default-simulator>=1.26.0->amazon-braket-sdk) (3.4.0)\n",
      "Requirement already satisfied: pydantic>2 in /home/ec2-user/anaconda3/envs/JupyterSystemEnv/lib/python3.10/site-packages (from amazon-braket-default-simulator>=1.26.0->amazon-braket-sdk) (2.9.2)\n",
      "Requirement already satisfied: scipy in /home/ec2-user/anaconda3/envs/JupyterSystemEnv/lib/python3.10/site-packages (from amazon-braket-default-simulator>=1.26.0->amazon-braket-sdk) (1.14.1)\n",
      "Requirement already satisfied: antlr4-python3-runtime==4.9.2 in /home/ec2-user/anaconda3/envs/JupyterSystemEnv/lib/python3.10/site-packages (from amazon-braket-default-simulator>=1.26.0->amazon-braket-sdk) (4.9.2)\n",
      "Requirement already satisfied: botocore<1.36.0,>=1.35.28 in /home/ec2-user/anaconda3/envs/JupyterSystemEnv/lib/python3.10/site-packages (from boto3>=1.28.53->amazon-braket-sdk) (1.35.28)\n",
      "Requirement already satisfied: jmespath<2.0.0,>=0.7.1 in /home/ec2-user/anaconda3/envs/JupyterSystemEnv/lib/python3.10/site-packages (from boto3>=1.28.53->amazon-braket-sdk) (1.0.1)\n",
      "Requirement already satisfied: s3transfer<0.11.0,>=0.10.0 in /home/ec2-user/anaconda3/envs/JupyterSystemEnv/lib/python3.10/site-packages (from boto3>=1.28.53->amazon-braket-sdk) (0.10.2)\n",
      "Requirement already satisfied: mypy-extensions>=0.2.0 in /home/ec2-user/anaconda3/envs/JupyterSystemEnv/lib/python3.10/site-packages (from oqpy~=0.3.5->amazon-braket-sdk) (1.0.0)\n",
      "Requirement already satisfied: mpmath<1.4,>=1.1.0 in /home/ec2-user/anaconda3/envs/JupyterSystemEnv/lib/python3.10/site-packages (from sympy->amazon-braket-sdk) (1.3.0)\n",
      "Requirement already satisfied: python-dateutil<3.0.0,>=2.1 in /home/ec2-user/anaconda3/envs/JupyterSystemEnv/lib/python3.10/site-packages (from botocore<1.36.0,>=1.35.28->boto3>=1.28.53->amazon-braket-sdk) (2.9.0.post0)\n",
      "Requirement already satisfied: urllib3!=2.2.0,<3,>=1.25.4 in /home/ec2-user/anaconda3/envs/JupyterSystemEnv/lib/python3.10/site-packages (from botocore<1.36.0,>=1.35.28->boto3>=1.28.53->amazon-braket-sdk) (2.2.3)\n",
      "Requirement already satisfied: annotated-types>=0.6.0 in /home/ec2-user/anaconda3/envs/JupyterSystemEnv/lib/python3.10/site-packages (from pydantic>2->amazon-braket-default-simulator>=1.26.0->amazon-braket-sdk) (0.7.0)\n",
      "Requirement already satisfied: pydantic-core==2.23.4 in /home/ec2-user/anaconda3/envs/JupyterSystemEnv/lib/python3.10/site-packages (from pydantic>2->amazon-braket-default-simulator>=1.26.0->amazon-braket-sdk) (2.23.4)\n",
      "Requirement already satisfied: typing-extensions>=4.6.1 in /home/ec2-user/anaconda3/envs/JupyterSystemEnv/lib/python3.10/site-packages (from pydantic>2->amazon-braket-default-simulator>=1.26.0->amazon-braket-sdk) (4.12.2)\n",
      "Requirement already satisfied: six>=1.5 in /home/ec2-user/anaconda3/envs/JupyterSystemEnv/lib/python3.10/site-packages (from python-dateutil<3.0.0,>=2.1->botocore<1.36.0,>=1.35.28->boto3>=1.28.53->amazon-braket-sdk) (1.16.0)\n"
     ]
    }
   ],
   "source": [
    "!pip install amazon-braket-sdk --upgrade --upgrade-strategy eager"
   ]
  },
  {
   "cell_type": "code",
   "execution_count": 25,
   "metadata": {
    "tags": []
   },
   "outputs": [
    {
     "name": "stdout",
     "output_type": "stream",
     "text": [
      "Name: amazon-braket-sdk\n",
      "Version: 1.87.1\n",
      "Summary: An open source library for interacting with quantum computing devices on Amazon Braket\n",
      "Home-page: https://github.com/amazon-braket/amazon-braket-sdk-python\n",
      "Author: Amazon Web Services\n",
      "Author-email: \n",
      "License: Apache License 2.0\n",
      "Location: /home/ec2-user/anaconda3/envs/JupyterSystemEnv/lib/python3.10/site-packages\n",
      "Requires: amazon-braket-default-simulator, amazon-braket-schemas, backoff, backports.entry-points-selectable, boltons, boto3, cloudpickle, nest-asyncio, networkx, numpy, openpulse, openqasm3, oqpy, sympy\n",
      "Required-by: \n"
     ]
    }
   ],
   "source": [
    "!pip show amazon-braket-sdk"
   ]
  },
  {
   "cell_type": "markdown",
   "metadata": {},
   "source": [
    "# Getting started with Amazon Braket\n",
    "\n",
    "In this hello-world tutorial we prepare a maximally entangled Bell state between two qubits. We then run our circuit on a local simulator and obtain the results."
   ]
  },
  {
   "cell_type": "code",
   "execution_count": 39,
   "metadata": {
    "ExecuteTime": {
     "end_time": "2023-08-29T20:32:04.268865Z",
     "start_time": "2023-08-29T20:32:01.949092Z"
    },
    "tags": []
   },
   "outputs": [],
   "source": [
    "# general imports\n",
    "import matplotlib.pyplot as plt\n",
    "%matplotlib inline\n",
    "\n",
    "# AWS imports: Import Braket SDK modules\n",
    "from braket.circuits import Circuit\n",
    "from braket.aws import AwsDevice"
   ]
  },
  {
   "cell_type": "markdown",
   "metadata": {},
   "source": [
    "## Build a circuit\n",
    "\n",
    "Let's build a Bell state with two qubits. By calling `Circuit()` we create an empty circuit, and we can just add gates to the circuit. "
   ]
  },
  {
   "cell_type": "code",
   "execution_count": 40,
   "metadata": {
    "ExecuteTime": {
     "end_time": "2023-08-29T20:32:04.275199Z",
     "start_time": "2023-08-29T20:32:04.271532Z"
    },
    "tags": []
   },
   "outputs": [
    {
     "name": "stdout",
     "output_type": "stream",
     "text": [
      "T  : │  0  │  1  │\n",
      "      ┌───┐       \n",
      "q0 : ─┤ H ├───●───\n",
      "      └───┘   │   \n",
      "            ┌─┴─┐ \n",
      "q1 : ───────┤ X ├─\n",
      "            └───┘ \n",
      "T  : │  0  │  1  │\n"
     ]
    }
   ],
   "source": [
    "# build a Bell state with two qubits. Here 'cnot(control=0, target=1)' can be simplified as 'cnot(0,1)'\n",
    "bell = Circuit().h(0).cnot(control=0, target=1)\n",
    "print(bell)"
   ]
  },
  {
   "cell_type": "code",
   "execution_count": 41,
   "metadata": {
    "tags": []
   },
   "outputs": [
    {
     "name": "stdout",
     "output_type": "stream",
     "text": [
      "T  : │  0  │  1  │\n",
      "      ┌───┐       \n",
      "q0 : ─┤ H ├───●───\n",
      "      └───┘   │   \n",
      "            ┌─┴─┐ \n",
      "q1 : ───────┤ X ├─\n",
      "            └───┘ \n",
      "T  : │  0  │  1  │\n"
     ]
    }
   ],
   "source": [
    "print(bell.diagram())"
   ]
  },
  {
   "cell_type": "markdown",
   "metadata": {},
   "source": [
    "## Submit the circuit to the Amazon Braket Managed Simulator and obtain the results\n",
    "\n",
    "Here we submit our circuit to the Managed Simulator and obtain the results."
   ]
  },
  {
   "cell_type": "code",
   "execution_count": 47,
   "metadata": {
    "ExecuteTime": {
     "end_time": "2023-08-29T20:32:04.490801Z",
     "start_time": "2023-08-29T20:32:04.276611Z"
    },
    "tags": []
   },
   "outputs": [
    {
     "name": "stdout",
     "output_type": "stream",
     "text": [
      "Counter({'00': 525, '11': 475})\n"
     ]
    }
   ],
   "source": [
    "# set up device\n",
    "# device = LocalSimulator()                                                             #Local State Vector Simulator\n",
    "# device = LocalSimulator(\"default\")                                                    #Local State Vector Simulator\n",
    "# device = LocalSimulator(backend=\"default\")                                            #Local State Vector Simulator\n",
    "# device = LocalSimulator(backend=\"braket_sv\")                                          #Local State Vector Simulator\n",
    "# device = LocalSimulator(backend=\"braket_dm\")                                          #Local Density Matrix Simulator\n",
    "# device = LocalSimulator(backend=\"braket_ahs\")                                        #Local Analog Hamiltonian Simulation\n",
    "device = AwsDevice(\"arn:aws:braket:::device/quantum-simulator/amazon/sv1\")              #sv1-managed Simulator\n",
    "# device = AwsDevice('arn:aws:braket:::device/quantum-simulator/amazon/tn1')            #TN1-managed Simulator\n",
    "# device = AwsDevice('arn:aws:braket:::device/quantum-simulator/amazon/dm1')            #DM1-managed Simulator\n",
    "# device = AwsDevice('arn:aws:braket:us-east-1::device/qpu/ionq/Aria-1')                #IonQ\n",
    "# device = AwsDevice('arn:aws:braket:us-east-1::device/qpu/ionq/Aria-2')                #IonQ\n",
    "# device = AwsDevice('arn:aws:braket:us-east-1::device/qpu/ionq/Forte-1')               #IonQ\n",
    "# device = AwsDevice('arn:aws:braket:eu-north-1::device/qpu/iqm/Garnet')                #IQM Garnet\n",
    "# device = AwsDevice('arn:aws:braket:us-east-1::device/qpu/quera/Aquila')               #QuEra Aquila\n",
    "# device = AwsDevice('arn:aws:braket:us-west-1::device/qpu/rigetti/Aspen-M-3')          #Rigetti Aspen-M-3\n",
    "# device = AwsDevice('arn:aws:braket:us-west-1::device/qpu/rigetti/Ankaa-2')            #Rigetti Ankaa-2\n",
    "\n",
    "\n",
    "# run circuit\n",
    "result = device.run(bell, shots=1000).result()\n",
    "# get measurement shots\n",
    "counts = result.measurement_counts\n",
    "# print counts\n",
    "print(counts)"
   ]
  },
  {
   "cell_type": "code",
   "execution_count": 45,
   "metadata": {
    "ExecuteTime": {
     "end_time": "2023-08-29T20:32:04.661340Z",
     "start_time": "2023-08-29T20:32:04.499868Z"
    },
    "tags": []
   },
   "outputs": [
    {
     "data": {
      "image/png": "[encoded data removed]",
      "text/plain": [
       "<Figure size 640x480 with 1 Axes>"
      ]
     },
     "metadata": {},
     "output_type": "display_data"
    }
   ],
   "source": [
    "# plot using Counter\n",
    "plt.bar(counts.keys(), counts.values());\n",
    "plt.xlabel('bitstrings');\n",
    "plt.ylabel('counts');"
   ]
  },
  {
   "cell_type": "code",
   "execution_count": 48,
   "metadata": {
    "tags": []
   },
   "outputs": [
    {
     "name": "stdout",
     "output_type": "stream",
     "text": [
      "arn:aws:braket:us-east-1:746669231099:quantum-task/0403196d-6fd8-4dfb-b655-e27478957848\n"
     ]
    }
   ],
   "source": [
    "print(result.task_metadata.id)"
   ]
  },
  {
   "cell_type": "code",
   "execution_count": null,
   "metadata": {},
   "outputs": [],
   "source": [
    "Amazon S3\n",
    "버킷\n",
    "amazon-braket-us-east-1-746669231099\n",
    "tasks/\n",
    "0403196d-6fd8-4dfb-b655-e27478957848/\n",
    "results.json"
   ]
  }
 ],
 "metadata": {
  "kernelspec": {
   "display_name": "conda_braket",
   "language": "python",
   "name": "conda_braket"
  },
  "language_info": {
   "codemirror_mode": {
    "name": "ipython",
    "version": 3
   },
   "file_extension": ".py",
   "mimetype": "text/x-python",
   "name": "python",
   "nbconvert_exporter": "python",
   "pygments_lexer": "ipython3",
   "version": "3.10.14"
  }
 },
 "nbformat": 4,
 "nbformat_minor": 4
}
