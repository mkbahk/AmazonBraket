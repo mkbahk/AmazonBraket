{
  "cells": [
    {
      "cell_type": "markdown",
      "metadata": {
        "id": "view-in-github",
        "colab_type": "text"
      },
      "source": [
        "<a href=\"https://colab.research.google.com/github/mkbahk/AmazonBraket/blob/main/AmazonBraket_backend_estimator_Xiaofan_20250314.ipynb\" target=\"_parent\"><img src=\"https://colab.research.google.com/assets/colab-badge.svg\" alt=\"Open In Colab\"/></a>"
      ]
    },
    {
      "cell_type": "markdown",
      "metadata": {
        "id": "XPjnxbQk5i_S"
      },
      "source": [
        "First, ensure that you have the following minimum package versions:\n",
        "- `amazon-braket-sdk>=1.90.1`\n",
        "- `qiskit-braket-provider>=0.4.3`"
      ]
    },
    {
      "cell_type": "markdown",
      "source": [
        "from qiskit_braket_provider import BraketProvider\n",
        "\n",
        "from qiskit.primitives import BackendEstimatorV2\n",
        "\n",
        "provider = BraketProvider()\n",
        "\n",
        "estimator = BackendEstimatorV2(backend=provider.get_backend(\"SV1\"))"
      ],
      "metadata": {
        "id": "6mY4xaBd6DMq"
      }
    },
    {
      "cell_type": "code",
      "execution_count": null,
      "metadata": {
        "id": "ToJRyld55i_T"
      },
      "outputs": [],
      "source": [
        "%pip install -U \"amazon-braket-sdk>=1.90.1\" \"qiskit-braket-provider>=0.4.3\""
      ]
    },
    {
      "cell_type": "code",
      "execution_count": null,
      "metadata": {
        "id": "judQnE3r5i_U"
      },
      "outputs": [],
      "source": [
        "from qiskit_braket_provider import BraketProvider\n",
        "\n",
        "provider = BraketProvider()"
      ]
    },
    {
      "cell_type": "code",
      "execution_count": null,
      "metadata": {
        "id": "yYZ2pxQA5i_U"
      },
      "outputs": [],
      "source": [
        "from qiskit.circuit.library import QAOAAnsatz\n",
        "from qiskit.quantum_info import SparsePauliOp\n",
        "\n",
        "entanglement = [tuple(edge) for edge in backend.coupling_map.get_edges()]\n",
        "observable = SparsePauliOp.from_sparse_list(\n",
        "    [(\"ZZ\", [i, j], 0.5) for i, j in entanglement],\n",
        "    num_qubits=backend.num_qubits,\n",
        ")\n",
        "circuit = QAOAAnsatz(observable, reps=2)\n",
        "# the circuit is parametrized, so we will define the parameter values for execution\n",
        "param_values = [0.1, 0.2, 0.3, 0.4]\n",
        "\n",
        "print(f\">>> Observable: {observable.paulis}\")"
      ]
    },
    {
      "cell_type": "code",
      "execution_count": null,
      "metadata": {
        "id": "pFniC0Xm5i_V"
      },
      "outputs": [],
      "source": [
        "from qiskit.transpiler.preset_passmanagers import generate_preset_pass_manager\n",
        "\n",
        "pm = generate_preset_pass_manager(optimization_level=1, backend=backend)\n",
        "isa_circuit = pm.run(circuit)\n",
        "isa_observable = observable.apply_layout(isa_circuit.layout)\n",
        "print(f\">>> Circuit ops (ISA): {isa_circuit.count_ops()}\")"
      ]
    },
    {
      "cell_type": "code",
      "execution_count": null,
      "metadata": {
        "id": "-bG4OjcY5i_V"
      },
      "outputs": [],
      "source": [
        "from qiskit.primitives import BackendEstimatorV2\n",
        "estimator = BackendEstimatorV2(backend=provider.get_backend(\"SV1\"))  # Run on SV1 simulator - replace with desired device\n",
        "job = estimator.run([(isa_circuit, isa_observable, param_values)])\n",
        "print(f\">>> Job ID: {job.job_id()}\")\n",
        "print(f\">>> Job Status: {job.status()}\")"
      ]
    },
    {
      "cell_type": "code",
      "execution_count": null,
      "metadata": {
        "id": "LJ1vJh9P5i_V"
      },
      "outputs": [],
      "source": [
        "job.result()"
      ]
    }
  ],
  "metadata": {
    "kernelspec": {
      "display_name": "bdk-py310",
      "language": "python",
      "name": "python3"
    },
    "language_info": {
      "codemirror_mode": {
        "name": "ipython",
        "version": 3
      },
      "file_extension": ".py",
      "mimetype": "text/x-python",
      "name": "python",
      "nbconvert_exporter": "python",
      "pygments_lexer": "ipython3",
      "version": "3.10.13"
    },
    "colab": {
      "provenance": [],
      "include_colab_link": true
    }
  },
  "nbformat": 4,
  "nbformat_minor": 0
}