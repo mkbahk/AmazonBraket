{
  "nbformat": 4,
  "nbformat_minor": 0,
  "metadata": {
    "colab": {
      "provenance": [],
      "include_colab_link": true
    },
    "kernelspec": {
      "name": "python3",
      "display_name": "Python 3"
    },
    "language_info": {
      "name": "python"
    }
  },
  "cells": [
    {
      "cell_type": "markdown",
      "metadata": {
        "id": "view-in-github",
        "colab_type": "text"
      },
      "source": [
        "<a href=\"https://colab.research.google.com/github/mkbahk/AmazonBraket/blob/main/005_External_Access_to_ClassicalAdder_AmazonBraket_with_qiskit_braket_provider_mkbahk_20241102_ipynb.ipynb\" target=\"_parent\"><img src=\"https://colab.research.google.com/assets/colab-badge.svg\" alt=\"Open In Colab\"/></a>"
      ]
    },
    {
      "cell_type": "markdown",
      "source": [
        "# 작업순서\n",
        "1. Amazon Braket 환경 설정(확인만)\n",
        "2. S3 환경설정(확인만)\n",
        "3. (중요) IAM을 이용한 Access Key 설정 및 권한 부여\n",
        "4. 원격 작업\n",
        "5. 각종 로그 보기\n",
        "6. 작업 환경 정리\n"
      ],
      "metadata": {
        "id": "_S3DWMw_3Ryp"
      }
    },
    {
      "cell_type": "code",
      "source": [
        "!pip install git+https://github.com/qiskit-community/qiskit-braket-provider.git"
      ],
      "metadata": {
        "colab": {
          "base_uri": "https://localhost:8080/",
          "height": 1000
        },
        "id": "ajrS_5a6EuMi",
        "outputId": "7ac6eed2-d386-4006-a0d6-c730a3203710"
      },
      "execution_count": null,
      "outputs": [
        {
          "output_type": "stream",
          "name": "stdout",
          "text": [
            "Collecting git+https://github.com/qiskit-community/qiskit-braket-provider.git\n",
            "  Cloning https://github.com/qiskit-community/qiskit-braket-provider.git to /tmp/pip-req-build-o9c05m1q\n",
            "  Running command git clone --filter=blob:none --quiet https://github.com/qiskit-community/qiskit-braket-provider.git /tmp/pip-req-build-o9c05m1q\n",
            "  Resolved https://github.com/qiskit-community/qiskit-braket-provider.git to commit 1fd281925027ecfa690f5400f12a8dfac59ee014\n",
            "  Preparing metadata (setup.py) ... \u001b[?25l\u001b[?25hdone\n",
            "Requirement already satisfied: certifi>=2021.5.30 in /usr/local/lib/python3.11/dist-packages (from qiskit_braket_provider==0.4.6) (2025.7.14)\n",
            "Collecting qiskit<2.0,>=0.34.2 (from qiskit_braket_provider==0.4.6)\n",
            "  Downloading qiskit-1.4.3-cp39-abi3-manylinux_2_17_x86_64.manylinux2014_x86_64.whl.metadata (12 kB)\n",
            "Collecting qiskit-ionq>=0.5.2 (from qiskit_braket_provider==0.4.6)\n",
            "  Downloading qiskit_ionq-0.5.13-py3-none-any.whl.metadata (8.1 kB)\n",
            "Collecting amazon-braket-sdk>=1.76.0 (from qiskit_braket_provider==0.4.6)\n",
            "  Downloading amazon_braket_sdk-1.96.0-py3-none-any.whl.metadata (14 kB)\n",
            "Requirement already satisfied: setuptools>=40.1.0 in /usr/local/lib/python3.11/dist-packages (from qiskit_braket_provider==0.4.6) (75.2.0)\n",
            "Requirement already satisfied: numpy>=1.3 in /usr/local/lib/python3.11/dist-packages (from qiskit_braket_provider==0.4.6) (2.0.2)\n",
            "Collecting amazon-braket-schemas>=1.23.0 (from amazon-braket-sdk>=1.76.0->qiskit_braket_provider==0.4.6)\n",
            "  Downloading amazon_braket_schemas-1.24.2-py3-none-any.whl.metadata (6.1 kB)\n",
            "Collecting amazon-braket-default-simulator>=1.26.0 (from amazon-braket-sdk>=1.76.0->qiskit_braket_provider==0.4.6)\n",
            "  Downloading amazon_braket_default_simulator-1.26.7-py3-none-any.whl.metadata (6.4 kB)\n",
            "Collecting oqpy~=0.3.5 (from amazon-braket-sdk>=1.76.0->qiskit_braket_provider==0.4.6)\n",
            "  Downloading oqpy-0.3.7-py3-none-any.whl.metadata (8.3 kB)\n",
            "Collecting backoff (from amazon-braket-sdk>=1.76.0->qiskit_braket_provider==0.4.6)\n",
            "  Downloading backoff-2.2.1-py3-none-any.whl.metadata (14 kB)\n",
            "Collecting boltons (from amazon-braket-sdk>=1.76.0->qiskit_braket_provider==0.4.6)\n",
            "  Downloading boltons-25.0.0-py3-none-any.whl.metadata (6.5 kB)\n",
            "Collecting boto3>=1.28.53 (from amazon-braket-sdk>=1.76.0->qiskit_braket_provider==0.4.6)\n",
            "  Downloading boto3-1.39.12-py3-none-any.whl.metadata (6.7 kB)\n",
            "Collecting cloudpickle==2.2.1 (from amazon-braket-sdk>=1.76.0->qiskit_braket_provider==0.4.6)\n",
            "  Downloading cloudpickle-2.2.1-py3-none-any.whl.metadata (6.9 kB)\n",
            "Requirement already satisfied: nest-asyncio in /usr/local/lib/python3.11/dist-packages (from amazon-braket-sdk>=1.76.0->qiskit_braket_provider==0.4.6) (1.6.0)\n",
            "Requirement already satisfied: networkx in /usr/local/lib/python3.11/dist-packages (from amazon-braket-sdk>=1.76.0->qiskit_braket_provider==0.4.6) (3.5)\n",
            "Collecting openpulse (from amazon-braket-sdk>=1.76.0->qiskit_braket_provider==0.4.6)\n",
            "  Downloading openpulse-1.0.1-py3-none-any.whl.metadata (2.0 kB)\n",
            "Collecting openqasm3 (from amazon-braket-sdk>=1.76.0->qiskit_braket_provider==0.4.6)\n",
            "  Downloading openqasm3-1.0.1-py3-none-any.whl.metadata (6.0 kB)\n",
            "Requirement already satisfied: sympy in /usr/local/lib/python3.11/dist-packages (from amazon-braket-sdk>=1.76.0->qiskit_braket_provider==0.4.6) (1.13.1)\n",
            "Collecting backports.entry-points-selectable (from amazon-braket-sdk>=1.76.0->qiskit_braket_provider==0.4.6)\n",
            "  Downloading backports.entry_points_selectable-1.3.0-py3-none-any.whl.metadata (4.1 kB)\n",
            "Collecting rustworkx>=0.15.0 (from qiskit<2.0,>=0.34.2->qiskit_braket_provider==0.4.6)\n",
            "  Downloading rustworkx-0.16.0-cp39-abi3-manylinux_2_17_x86_64.manylinux2014_x86_64.whl.metadata (10 kB)\n",
            "Requirement already satisfied: scipy>=1.5 in /usr/local/lib/python3.11/dist-packages (from qiskit<2.0,>=0.34.2->qiskit_braket_provider==0.4.6) (1.16.0)\n",
            "Requirement already satisfied: dill>=0.3 in /usr/local/lib/python3.11/dist-packages (from qiskit<2.0,>=0.34.2->qiskit_braket_provider==0.4.6) (0.3.7)\n",
            "Requirement already satisfied: python-dateutil>=2.8.0 in /usr/local/lib/python3.11/dist-packages (from qiskit<2.0,>=0.34.2->qiskit_braket_provider==0.4.6) (2.9.0.post0)\n",
            "Collecting stevedore>=3.0.0 (from qiskit<2.0,>=0.34.2->qiskit_braket_provider==0.4.6)\n",
            "  Downloading stevedore-5.4.1-py3-none-any.whl.metadata (2.3 kB)\n",
            "Requirement already satisfied: typing-extensions in /usr/local/lib/python3.11/dist-packages (from qiskit<2.0,>=0.34.2->qiskit_braket_provider==0.4.6) (4.14.1)\n",
            "Collecting symengine<0.14,>=0.11 (from qiskit<2.0,>=0.34.2->qiskit_braket_provider==0.4.6)\n",
            "  Downloading symengine-0.13.0-cp311-cp311-manylinux_2_17_x86_64.manylinux2014_x86_64.whl.metadata (1.2 kB)\n",
            "Collecting decorator>=5.1.0 (from qiskit-ionq>=0.5.2->qiskit_braket_provider==0.4.6)\n",
            "  Downloading decorator-5.2.1-py3-none-any.whl.metadata (3.9 kB)\n",
            "Requirement already satisfied: requests>=2.24.0 in /usr/local/lib/python3.11/dist-packages (from qiskit-ionq>=0.5.2->qiskit_braket_provider==0.4.6) (2.32.3)\n",
            "Requirement already satisfied: importlib-metadata>=4.11.4 in /usr/local/lib/python3.11/dist-packages (from qiskit-ionq>=0.5.2->qiskit_braket_provider==0.4.6) (8.7.0)\n",
            "Collecting python-dotenv>=1.0.1 (from qiskit-ionq>=0.5.2->qiskit_braket_provider==0.4.6)\n",
            "  Downloading python_dotenv-1.1.1-py3-none-any.whl.metadata (24 kB)\n",
            "Requirement already satisfied: opt_einsum in /usr/local/lib/python3.11/dist-packages (from amazon-braket-default-simulator>=1.26.0->amazon-braket-sdk>=1.76.0->qiskit_braket_provider==0.4.6) (3.4.0)\n",
            "Requirement already satisfied: pydantic>2 in /usr/local/lib/python3.11/dist-packages (from amazon-braket-default-simulator>=1.26.0->amazon-braket-sdk>=1.76.0->qiskit_braket_provider==0.4.6) (2.11.7)\n",
            "Collecting antlr4-python3-runtime==4.9.2 (from amazon-braket-default-simulator>=1.26.0->amazon-braket-sdk>=1.76.0->qiskit_braket_provider==0.4.6)\n",
            "  Downloading antlr4-python3-runtime-4.9.2.tar.gz (117 kB)\n",
            "\u001b[2K     \u001b[90m━━━━━━━━━━━━━━━━━━━━━━━━━━━━━━━━━━━━━━━\u001b[0m \u001b[32m117.2/117.2 kB\u001b[0m \u001b[31m3.9 MB/s\u001b[0m eta \u001b[36m0:00:00\u001b[0m\n",
            "\u001b[?25h  Preparing metadata (setup.py) ... \u001b[?25l\u001b[?25hdone\n",
            "Collecting botocore<1.40.0,>=1.39.12 (from boto3>=1.28.53->amazon-braket-sdk>=1.76.0->qiskit_braket_provider==0.4.6)\n",
            "  Downloading botocore-1.39.12-py3-none-any.whl.metadata (5.7 kB)\n",
            "Collecting jmespath<2.0.0,>=0.7.1 (from boto3>=1.28.53->amazon-braket-sdk>=1.76.0->qiskit_braket_provider==0.4.6)\n",
            "  Downloading jmespath-1.0.1-py3-none-any.whl.metadata (7.6 kB)\n",
            "Collecting s3transfer<0.14.0,>=0.13.0 (from boto3>=1.28.53->amazon-braket-sdk>=1.76.0->qiskit_braket_provider==0.4.6)\n",
            "  Downloading s3transfer-0.13.1-py3-none-any.whl.metadata (1.7 kB)\n",
            "Requirement already satisfied: zipp>=3.20 in /usr/local/lib/python3.11/dist-packages (from importlib-metadata>=4.11.4->qiskit-ionq>=0.5.2->qiskit_braket_provider==0.4.6) (3.23.0)\n",
            "Collecting mypy-extensions>=0.2.0 (from oqpy~=0.3.5->amazon-braket-sdk>=1.76.0->qiskit_braket_provider==0.4.6)\n",
            "  Downloading mypy_extensions-1.1.0-py3-none-any.whl.metadata (1.1 kB)\n",
            "Requirement already satisfied: six>=1.5 in /usr/local/lib/python3.11/dist-packages (from python-dateutil>=2.8.0->qiskit<2.0,>=0.34.2->qiskit_braket_provider==0.4.6) (1.17.0)\n",
            "Requirement already satisfied: charset-normalizer<4,>=2 in /usr/local/lib/python3.11/dist-packages (from requests>=2.24.0->qiskit-ionq>=0.5.2->qiskit_braket_provider==0.4.6) (3.4.2)\n",
            "Requirement already satisfied: idna<4,>=2.5 in /usr/local/lib/python3.11/dist-packages (from requests>=2.24.0->qiskit-ionq>=0.5.2->qiskit_braket_provider==0.4.6) (3.10)\n",
            "Requirement already satisfied: urllib3<3,>=1.21.1 in /usr/local/lib/python3.11/dist-packages (from requests>=2.24.0->qiskit-ionq>=0.5.2->qiskit_braket_provider==0.4.6) (2.5.0)\n",
            "Collecting pbr>=2.0.0 (from stevedore>=3.0.0->qiskit<2.0,>=0.34.2->qiskit_braket_provider==0.4.6)\n",
            "  Downloading pbr-6.1.1-py2.py3-none-any.whl.metadata (3.4 kB)\n",
            "Requirement already satisfied: mpmath<1.4,>=1.1.0 in /usr/local/lib/python3.11/dist-packages (from sympy->amazon-braket-sdk>=1.76.0->qiskit_braket_provider==0.4.6) (1.3.0)\n",
            "Requirement already satisfied: annotated-types>=0.6.0 in /usr/local/lib/python3.11/dist-packages (from pydantic>2->amazon-braket-default-simulator>=1.26.0->amazon-braket-sdk>=1.76.0->qiskit_braket_provider==0.4.6) (0.7.0)\n",
            "Requirement already satisfied: pydantic-core==2.33.2 in /usr/local/lib/python3.11/dist-packages (from pydantic>2->amazon-braket-default-simulator>=1.26.0->amazon-braket-sdk>=1.76.0->qiskit_braket_provider==0.4.6) (2.33.2)\n",
            "Requirement already satisfied: typing-inspection>=0.4.0 in /usr/local/lib/python3.11/dist-packages (from pydantic>2->amazon-braket-default-simulator>=1.26.0->amazon-braket-sdk>=1.76.0->qiskit_braket_provider==0.4.6) (0.4.1)\n",
            "Downloading amazon_braket_sdk-1.96.0-py3-none-any.whl (328 kB)\n",
            "\u001b[2K   \u001b[90m━━━━━━━━━━━━━━━━━━━━━━━━━━━━━━━━━━━━━━━━\u001b[0m \u001b[32m328.1/328.1 kB\u001b[0m \u001b[31m13.8 MB/s\u001b[0m eta \u001b[36m0:00:00\u001b[0m\n",
            "\u001b[?25hDownloading cloudpickle-2.2.1-py3-none-any.whl (25 kB)\n",
            "Downloading qiskit-1.4.3-cp39-abi3-manylinux_2_17_x86_64.manylinux2014_x86_64.whl (6.8 MB)\n",
            "\u001b[2K   \u001b[90m━━━━━━━━━━━━━━━━━━━━━━━━━━━━━━━━━━━━━━━━\u001b[0m \u001b[32m6.8/6.8 MB\u001b[0m \u001b[31m81.6 MB/s\u001b[0m eta \u001b[36m0:00:00\u001b[0m\n",
            "\u001b[?25hDownloading qiskit_ionq-0.5.13-py3-none-any.whl (47 kB)\n",
            "\u001b[2K   \u001b[90m━━━━━━━━━━━━━━━━━━━━━━━━━━━━━━━━━━━━━━━━\u001b[0m \u001b[32m47.7/47.7 kB\u001b[0m \u001b[31m4.3 MB/s\u001b[0m eta \u001b[36m0:00:00\u001b[0m\n",
            "\u001b[?25hDownloading amazon_braket_default_simulator-1.26.7-py3-none-any.whl (225 kB)\n",
            "\u001b[2K   \u001b[90m━━━━━━━━━━━━━━━━━━━━━━━━━━━━━━━━━━━━━━━━\u001b[0m \u001b[32m225.4/225.4 kB\u001b[0m \u001b[31m18.3 MB/s\u001b[0m eta \u001b[36m0:00:00\u001b[0m\n",
            "\u001b[?25hDownloading amazon_braket_schemas-1.24.2-py3-none-any.whl (137 kB)\n",
            "\u001b[2K   \u001b[90m━━━━━━━━━━━━━━━━━━━━━━━━━━━━━━━━━━━━━━━━\u001b[0m \u001b[32m137.2/137.2 kB\u001b[0m \u001b[31m10.8 MB/s\u001b[0m eta \u001b[36m0:00:00\u001b[0m\n",
            "\u001b[?25hDownloading boto3-1.39.12-py3-none-any.whl (139 kB)\n",
            "\u001b[2K   \u001b[90m━━━━━━━━━━━━━━━━━━━━━━━━━━━━━━━━━━━━━━━━\u001b[0m \u001b[32m139.9/139.9 kB\u001b[0m \u001b[31m11.6 MB/s\u001b[0m eta \u001b[36m0:00:00\u001b[0m\n",
            "\u001b[?25hDownloading decorator-5.2.1-py3-none-any.whl (9.2 kB)\n",
            "Downloading oqpy-0.3.7-py3-none-any.whl (36 kB)\n",
            "Downloading openpulse-1.0.1-py3-none-any.whl (537 kB)\n",
            "\u001b[2K   \u001b[90m━━━━━━━━━━━━━━━━━━━━━━━━━━━━━━━━━━━━━━━━\u001b[0m \u001b[32m537.8/537.8 kB\u001b[0m \u001b[31m35.8 MB/s\u001b[0m eta \u001b[36m0:00:00\u001b[0m\n",
            "\u001b[?25hDownloading openqasm3-1.0.1-py3-none-any.whl (541 kB)\n",
            "\u001b[2K   \u001b[90m━━━━━━━━━━━━━━━━━━━━━━━━━━━━━━━━━━━━━━━━\u001b[0m \u001b[32m541.5/541.5 kB\u001b[0m \u001b[31m37.4 MB/s\u001b[0m eta \u001b[36m0:00:00\u001b[0m\n",
            "\u001b[?25hDownloading python_dotenv-1.1.1-py3-none-any.whl (20 kB)\n",
            "Downloading rustworkx-0.16.0-cp39-abi3-manylinux_2_17_x86_64.manylinux2014_x86_64.whl (2.1 MB)\n",
            "\u001b[2K   \u001b[90m━━━━━━━━━━━━━━━━━━━━━━━━━━━━━━━━━━━━━━━━\u001b[0m \u001b[32m2.1/2.1 MB\u001b[0m \u001b[31m72.2 MB/s\u001b[0m eta \u001b[36m0:00:00\u001b[0m\n",
            "\u001b[?25hDownloading stevedore-5.4.1-py3-none-any.whl (49 kB)\n",
            "\u001b[2K   \u001b[90m━━━━━━━━━━━━━━━━━━━━━━━━━━━━━━━━━━━━━━━━\u001b[0m \u001b[32m49.5/49.5 kB\u001b[0m \u001b[31m4.2 MB/s\u001b[0m eta \u001b[36m0:00:00\u001b[0m\n",
            "\u001b[?25hDownloading symengine-0.13.0-cp311-cp311-manylinux_2_17_x86_64.manylinux2014_x86_64.whl (49.7 MB)\n",
            "\u001b[2K   \u001b[90m━━━━━━━━━━━━━━━━━━━━━━━━━━━━━━━━━━━━━━━━\u001b[0m \u001b[32m49.7/49.7 MB\u001b[0m \u001b[31m14.7 MB/s\u001b[0m eta \u001b[36m0:00:00\u001b[0m\n",
            "\u001b[?25hDownloading backoff-2.2.1-py3-none-any.whl (15 kB)\n",
            "Downloading backports.entry_points_selectable-1.3.0-py3-none-any.whl (6.2 kB)\n",
            "Downloading boltons-25.0.0-py3-none-any.whl (194 kB)\n",
            "\u001b[2K   \u001b[90m━━━━━━━━━━━━━━━━━━━━━━━━━━━━━━━━━━━━━━━━\u001b[0m \u001b[32m194.2/194.2 kB\u001b[0m \u001b[31m17.0 MB/s\u001b[0m eta \u001b[36m0:00:00\u001b[0m\n",
            "\u001b[?25hDownloading botocore-1.39.12-py3-none-any.whl (13.9 MB)\n",
            "\u001b[2K   \u001b[90m━━━━━━━━━━━━━━━━━━━━━━━━━━━━━━━━━━━━━━━━\u001b[0m \u001b[32m13.9/13.9 MB\u001b[0m \u001b[31m102.0 MB/s\u001b[0m eta \u001b[36m0:00:00\u001b[0m\n",
            "\u001b[?25hDownloading jmespath-1.0.1-py3-none-any.whl (20 kB)\n",
            "Downloading mypy_extensions-1.1.0-py3-none-any.whl (5.0 kB)\n",
            "Downloading pbr-6.1.1-py2.py3-none-any.whl (108 kB)\n",
            "\u001b[2K   \u001b[90m━━━━━━━━━━━━━━━━━━━━━━━━━━━━━━━━━━━━━━━━\u001b[0m \u001b[32m109.0/109.0 kB\u001b[0m \u001b[31m10.0 MB/s\u001b[0m eta \u001b[36m0:00:00\u001b[0m\n",
            "\u001b[?25hDownloading s3transfer-0.13.1-py3-none-any.whl (85 kB)\n",
            "\u001b[2K   \u001b[90m━━━━━━━━━━━━━━━━━━━━━━━━━━━━━━━━━━━━━━━━\u001b[0m \u001b[32m85.3/85.3 kB\u001b[0m \u001b[31m7.3 MB/s\u001b[0m eta \u001b[36m0:00:00\u001b[0m\n",
            "\u001b[?25hBuilding wheels for collected packages: qiskit_braket_provider, antlr4-python3-runtime\n",
            "  Building wheel for qiskit_braket_provider (setup.py) ... \u001b[?25l\u001b[?25hdone\n",
            "  Created wheel for qiskit_braket_provider: filename=qiskit_braket_provider-0.4.6-py3-none-any.whl size=44749 sha256=507426deaa298ec5b33b3a4c45d82b86224557e6a694c55778c35d2c9006c95d\n",
            "  Stored in directory: /tmp/pip-ephem-wheel-cache-yda4d8vy/wheels/35/e2/b5/246ba0791fe726e4ccb4f215b862114d485c1036ac43366bc2\n",
            "  Building wheel for antlr4-python3-runtime (setup.py) ... \u001b[?25l\u001b[?25hdone\n",
            "  Created wheel for antlr4-python3-runtime: filename=antlr4_python3_runtime-4.9.2-py3-none-any.whl size=144544 sha256=8538d514a5f44413b645b8539b0fb92c562aa8a0e426a499b5d078594c2205df\n",
            "  Stored in directory: /root/.cache/pip/wheels/02/5e/de/90c5aab11b66f94cf3f381ec55aaf3f2008213a7056310e25f\n",
            "Successfully built qiskit_braket_provider antlr4-python3-runtime\n",
            "Installing collected packages: openqasm3, antlr4-python3-runtime, symengine, rustworkx, python-dotenv, pbr, mypy-extensions, jmespath, decorator, cloudpickle, boltons, backports.entry-points-selectable, backoff, stevedore, openpulse, botocore, s3transfer, qiskit, oqpy, amazon-braket-schemas, qiskit-ionq, boto3, amazon-braket-default-simulator, amazon-braket-sdk, qiskit_braket_provider\n",
            "  Attempting uninstall: antlr4-python3-runtime\n",
            "    Found existing installation: antlr4-python3-runtime 4.9.3\n",
            "    Uninstalling antlr4-python3-runtime-4.9.3:\n",
            "      Successfully uninstalled antlr4-python3-runtime-4.9.3\n",
            "  Attempting uninstall: decorator\n",
            "    Found existing installation: decorator 4.4.2\n",
            "    Uninstalling decorator-4.4.2:\n",
            "      Successfully uninstalled decorator-4.4.2\n",
            "  Attempting uninstall: cloudpickle\n",
            "    Found existing installation: cloudpickle 3.1.1\n",
            "    Uninstalling cloudpickle-3.1.1:\n",
            "      Successfully uninstalled cloudpickle-3.1.1\n",
            "\u001b[31mERROR: pip's dependency resolver does not currently take into account all the packages that are installed. This behaviour is the source of the following dependency conflicts.\n",
            "ipython 7.34.0 requires jedi>=0.16, which is not installed.\n",
            "dask 2025.5.0 requires cloudpickle>=3.0.0, but you have cloudpickle 2.2.1 which is incompatible.\n",
            "distributed 2025.5.0 requires cloudpickle>=3.0.0, but you have cloudpickle 2.2.1 which is incompatible.\n",
            "moviepy 1.0.3 requires decorator<5.0,>=4.0.2, but you have decorator 5.2.1 which is incompatible.\u001b[0m\u001b[31m\n",
            "\u001b[0mSuccessfully installed amazon-braket-default-simulator-1.26.7 amazon-braket-schemas-1.24.2 amazon-braket-sdk-1.96.0 antlr4-python3-runtime-4.9.2 backoff-2.2.1 backports.entry-points-selectable-1.3.0 boltons-25.0.0 boto3-1.39.12 botocore-1.39.12 cloudpickle-2.2.1 decorator-5.2.1 jmespath-1.0.1 mypy-extensions-1.1.0 openpulse-1.0.1 openqasm3-1.0.1 oqpy-0.3.7 pbr-6.1.1 python-dotenv-1.1.1 qiskit-1.4.3 qiskit-ionq-0.5.13 qiskit_braket_provider-0.4.6 rustworkx-0.16.0 s3transfer-0.13.1 stevedore-5.4.1 symengine-0.13.0\n"
          ]
        },
        {
          "output_type": "display_data",
          "data": {
            "application/vnd.colab-display-data+json": {
              "pip_warning": {
                "packages": [
                  "decorator"
                ]
              },
              "id": "24b3bc94777c4dfe9bcbdf6ecc0a0116"
            }
          },
          "metadata": {}
        }
      ]
    },
    {
      "cell_type": "code",
      "execution_count": null,
      "metadata": {
        "id": "7SvhhzmlRgZ9"
      },
      "outputs": [],
      "source": [
        "#!pip install amazon-braket-sdk==1.94.0\n",
        "#!python3 -m pip install boto3\n",
        "#!python3 -m pip install botocore"
      ]
    },
    {
      "cell_type": "code",
      "source": [
        "%pip show qiskit\n",
        "%pip show qiskit-braket-provider\n",
        "%pip show amazon-braket-sdk"
      ],
      "metadata": {
        "colab": {
          "base_uri": "https://localhost:8080/"
        },
        "id": "ln8M8X8_Ns0m",
        "outputId": "c6e06e86-c141-443d-9748-545ad71c9a35"
      },
      "execution_count": null,
      "outputs": [
        {
          "output_type": "stream",
          "name": "stdout",
          "text": [
            "Name: qiskit\n",
            "Version: 1.4.3\n",
            "Summary: An open-source SDK for working with quantum computers at the level of extended quantum circuits, operators, and primitives.\n",
            "Home-page: https://www.ibm.com/quantum/qiskit\n",
            "Author: \n",
            "Author-email: Qiskit Development Team <qiskit@us.ibm.com>\n",
            "License: Apache 2.0\n",
            "Location: /usr/local/lib/python3.11/dist-packages\n",
            "Requires: dill, numpy, python-dateutil, rustworkx, scipy, stevedore, symengine, sympy, typing-extensions\n",
            "Required-by: qiskit-ionq, qiskit_braket_provider\n",
            "Name: qiskit_braket_provider\n",
            "Version: 0.4.6\n",
            "Summary: Qiskit-Braket provider to execute Qiskit programs on AWS quantum computing hardware devices through Amazon Braket.\n",
            "Home-page: \n",
            "Author: \n",
            "Author-email: \n",
            "License: \n",
            "Location: /usr/local/lib/python3.11/dist-packages\n",
            "Requires: amazon-braket-sdk, certifi, numpy, qiskit, qiskit-ionq, setuptools\n",
            "Required-by: \n",
            "Name: amazon-braket-sdk\n",
            "Version: 1.96.0\n",
            "Summary: An open source library for interacting with quantum computing devices on Amazon Braket\n",
            "Home-page: https://github.com/amazon-braket/amazon-braket-sdk-python\n",
            "Author: Amazon Web Services\n",
            "Author-email: \n",
            "License: Apache License 2.0\n",
            "Location: /usr/local/lib/python3.11/dist-packages\n",
            "Requires: amazon-braket-default-simulator, amazon-braket-schemas, backoff, backports.entry-points-selectable, boltons, boto3, cloudpickle, nest-asyncio, networkx, numpy, openpulse, openqasm3, oqpy, sympy\n",
            "Required-by: qiskit_braket_provider\n"
          ]
        }
      ]
    },
    {
      "cell_type": "code",
      "source": [
        "from braket.experimental_capabilities import EnableExperimentalCapability"
      ],
      "metadata": {
        "id": "5aV5BiKt8LXd"
      },
      "execution_count": null,
      "outputs": []
    },
    {
      "cell_type": "code",
      "source": [
        "# Use Braket SDK Cost Tracking to estimate the cost to run this example\n",
        "from braket.tracking import Tracker\n",
        "t = Tracker().start()"
      ],
      "metadata": {
        "id": "fXoKI14o86aj"
      },
      "execution_count": null,
      "outputs": []
    },
    {
      "cell_type": "code",
      "source": [
        "import os\n",
        "# Set environment variables for AWS credentials\n",
        "os.environ['AWS_ACCESS_KEY_ID'] = \"\"\n",
        "os.environ['AWS_SECRET_ACCESS_KEY'] = \"\"\n",
        "os.environ['AWS_DEFAULT_REGION'] = \"us-east-1\"\n",
        "\n",
        "# You can optionally set the s3 bucket and prefix using environment variables\n",
        "#os.environ['AWS_BRAKET_S3_BUCKET'] = \"snuqc\"\n",
        "#os.environ['AWS_BRAKET_S3_PREFIX'] = \"amazonbraket\""
      ],
      "metadata": {
        "id": "YT-ELFqIS8Cg"
      },
      "execution_count": null,
      "outputs": []
    },
    {
      "cell_type": "code",
      "source": [
        "from qiskit_braket_provider import BraketLocalBackend\n",
        "\n",
        "local_simulator = BraketLocalBackend()\n",
        "#local_sv_simulator = BraketLocalBackend(name='braket_sv')\n",
        "#local_dm_simulator = BraketLocalBackend(name='braket_dm')"
      ],
      "metadata": {
        "id": "KQ52xN1af5Xl"
      },
      "execution_count": null,
      "outputs": []
    },
    {
      "cell_type": "code",
      "source": [
        "from qiskit_braket_provider import BraketProvider\n",
        "\n",
        "provider = BraketProvider()\n",
        "#provider.backends(statuses=[\"ONLINE\"], types=[\"SIMULATOR\"])\n",
        "#provider.backends(statuses=[\"ONLINE\"], types=[\"QPU\"])\n",
        "provider.backends(statuses=[\"ONLINE\"], types=[\"SIMULATOR\", \"QPU\"])"
      ],
      "metadata": {
        "colab": {
          "base_uri": "https://localhost:8080/"
        },
        "id": "kIiG5YzQd4Il",
        "outputId": "e7450366-60b4-45c5-c97b-08ca92a013d6"
      },
      "execution_count": null,
      "outputs": [
        {
          "output_type": "execute_result",
          "data": {
            "text/plain": [
              "[BraketBackend[Ankaa-3],\n",
              " BraketBackend[Aria 1],\n",
              " BraketBackend[Garnet],\n",
              " BraketBackend[SV1],\n",
              " BraketBackend[TN1],\n",
              " BraketBackend[dm1]]"
            ]
          },
          "metadata": {},
          "execution_count": 8
        }
      ]
    },
    {
      "cell_type": "code",
      "source": [
        "#backend = provider.get_backend(\"Aria 1\")\n",
        "#backend = provider.get_backend(\"Aria 2\")\n",
        "#backend = provider.get_backend(\"Forte 1\")\n",
        "\n",
        "#backend= provider.get_backend(\"Ankaa-2\")\n",
        "#backend = provider.get_backend(\"Aspen-M-3\")\n",
        "\n",
        "#Ibackend = provider.get_backend(\"Garnet\")\n",
        "\n",
        "backend = provider.get_backend(\"SV1\")\n",
        "#backend = provider.get_backend(\"dm1\")\n",
        "#backend = provider.get_backend(\"TN1\")"
      ],
      "metadata": {
        "id": "xGdf665MeDa1"
      },
      "execution_count": null,
      "outputs": []
    },
    {
      "cell_type": "code",
      "source": [
        "from qiskit import QuantumCircuit\n",
        "\n",
        "##양자 회로 생성\n",
        "qc = QuantumCircuit(5, 5)  # 5개의 양자 비트와 2개의 클래식 비트를 사용합니다.\n",
        "\n",
        "# 입력 비트 설정 (A=1, B=1)\n",
        "qc.x(0)  # A 비트를 1로 설정\n",
        "qc.x(1)  # B 비트를 1로 설정\n",
        "qc.barrier()\n",
        "\n",
        "# 반-가산기 회로 구현\n",
        "qc.cx(0, 3) # XOR 게이트 (A와 B의 논리합)\n",
        "qc.cx(1, 3) # XOR 게이트 (A와 B의 논리합)\n",
        "qc.ccx(0, 1, 4) # AND 게이트 (A와 B의 논리곱)\n",
        "qc.cx(2, 3) # XOR 게이트 (A와 B의 논리합)\n",
        "qc.ccx(0, 2, 4) # AND 게이트 (A와 B의 논리곱)\n",
        "qc.ccx(1, 2, 4) # AND 게이트 (A와 B의 논리곱)\n",
        "qc.barrier()\n",
        "\n",
        "# 결과를 측정하여 Sum과 Carry 출력을 얻습니다.\n",
        "qc.measure(0, 4)  # 큐비트를 클래식 비트 4에 매핑\n",
        "qc.measure(1, 3)  # 큐비트를 클래식 비트 3에 매핑\n",
        "qc.measure(2, 2)  # 보조비트를 클래식 비트 2에 매핑\n",
        "qc.measure(3, 1)  # Sum(Result) 비트를 클래식 비트 1에 매핑\n",
        "qc.measure(4, 0)  # Carry 비트를 클래식 비트 0에 매핑"
      ],
      "metadata": {
        "id": "t0tXM48IVua2",
        "outputId": "8460b60c-7dce-40c7-9e45-4ae1bace2821",
        "colab": {
          "base_uri": "https://localhost:8080/"
        }
      },
      "execution_count": null,
      "outputs": [
        {
          "output_type": "execute_result",
          "data": {
            "text/plain": [
              "<qiskit.circuit.instructionset.InstructionSet at 0x786ad00a9ff0>"
            ]
          },
          "metadata": {},
          "execution_count": 15
        }
      ]
    },
    {
      "cell_type": "code",
      "source": [
        "qc.draw()"
      ],
      "metadata": {
        "id": "2KODLorCw-A7",
        "outputId": "2c28af84-ff6e-4065-cb3e-004dbaa81c2e",
        "colab": {
          "base_uri": "https://localhost:8080/",
          "height": 217
        }
      },
      "execution_count": null,
      "outputs": [
        {
          "output_type": "execute_result",
          "data": {
            "text/plain": [
              "     ┌───┐ ░                                ░ ┌─┐            \n",
              "q_0: ┤ X ├─░───■─────────■─────────■────────░─┤M├────────────\n",
              "     ├───┤ ░   │         │         │        ░ └╥┘┌─┐         \n",
              "q_1: ┤ X ├─░───┼────■────■─────────┼────■───░──╫─┤M├─────────\n",
              "     └───┘ ░   │    │    │         │    │   ░  ║ └╥┘┌─┐      \n",
              "q_2: ──────░───┼────┼────┼────■────■────■───░──╫──╫─┤M├──────\n",
              "           ░ ┌─┴─┐┌─┴─┐  │  ┌─┴─┐  │    │   ░  ║  ║ └╥┘┌─┐   \n",
              "q_3: ──────░─┤ X ├┤ X ├──┼──┤ X ├──┼────┼───░──╫──╫──╫─┤M├───\n",
              "           ░ └───┘└───┘┌─┴─┐└───┘┌─┴─┐┌─┴─┐ ░  ║  ║  ║ └╥┘┌─┐\n",
              "q_4: ──────░───────────┤ X ├─────┤ X ├┤ X ├─░──╫──╫──╫──╫─┤M├\n",
              "           ░           └───┘     └───┘└───┘ ░  ║  ║  ║  ║ └╥┘\n",
              "c: 5/══════════════════════════════════════════╩══╩══╩══╩══╩═\n",
              "                                               4  3  2  1  0 "
            ],
            "text/html": [
              "<pre style=\"word-wrap: normal;white-space: pre;background: #fff0;line-height: 1.1;font-family: &quot;Courier New&quot;,Courier,monospace\">     ┌───┐ ░                                ░ ┌─┐            \n",
              "q_0: ┤ X ├─░───■─────────■─────────■────────░─┤M├────────────\n",
              "     ├───┤ ░   │         │         │        ░ └╥┘┌─┐         \n",
              "q_1: ┤ X ├─░───┼────■────■─────────┼────■───░──╫─┤M├─────────\n",
              "     └───┘ ░   │    │    │         │    │   ░  ║ └╥┘┌─┐      \n",
              "q_2: ──────░───┼────┼────┼────■────■────■───░──╫──╫─┤M├──────\n",
              "           ░ ┌─┴─┐┌─┴─┐  │  ┌─┴─┐  │    │   ░  ║  ║ └╥┘┌─┐   \n",
              "q_3: ──────░─┤ X ├┤ X ├──┼──┤ X ├──┼────┼───░──╫──╫──╫─┤M├───\n",
              "           ░ └───┘└───┘┌─┴─┐└───┘┌─┴─┐┌─┴─┐ ░  ║  ║  ║ └╥┘┌─┐\n",
              "q_4: ──────░───────────┤ X ├─────┤ X ├┤ X ├─░──╫──╫──╫──╫─┤M├\n",
              "           ░           └───┘     └───┘└───┘ ░  ║  ║  ║  ║ └╥┘\n",
              "c: 5/══════════════════════════════════════════╩══╩══╩══╩══╩═\n",
              "                                               4  3  2  1  0 </pre>"
            ]
          },
          "metadata": {},
          "execution_count": 19
        }
      ]
    },
    {
      "cell_type": "code",
      "source": [
        "from qiskit.compiler import transpile, assemble\n",
        "trans_qc = transpile(qc, backend)\n",
        "trans_qc.draw()"
      ],
      "metadata": {
        "colab": {
          "base_uri": "https://localhost:8080/",
          "height": 217
        },
        "id": "7XeFTYu-emzY",
        "outputId": "b8ad3ecd-164d-421f-907d-8b95405aaf93"
      },
      "execution_count": null,
      "outputs": [
        {
          "output_type": "execute_result",
          "data": {
            "text/plain": [
              "     ┌───┐ ░                                ░             ┌─┐\n",
              "q_0: ┤ X ├─░───■─────────■─────────■────────░─────────────┤M├\n",
              "     ├───┤ ░   │         │         │        ░          ┌─┐└╥┘\n",
              "q_1: ┤ X ├─░───┼────■────■─────────┼────■───░──────────┤M├─╫─\n",
              "     └───┘ ░   │    │    │         │    │   ░       ┌─┐└╥┘ ║ \n",
              "q_2: ──────░───┼────┼────┼────■────■────■───░───────┤M├─╫──╫─\n",
              "           ░ ┌─┴─┐┌─┴─┐  │  ┌─┴─┐  │    │   ░    ┌─┐└╥┘ ║  ║ \n",
              "q_3: ──────░─┤ X ├┤ X ├──┼──┤ X ├──┼────┼───░────┤M├─╫──╫──╫─\n",
              "           ░ └───┘└───┘┌─┴─┐└───┘┌─┴─┐┌─┴─┐ ░ ┌─┐└╥┘ ║  ║  ║ \n",
              "q_4: ──────░───────────┤ X ├─────┤ X ├┤ X ├─░─┤M├─╫──╫──╫──╫─\n",
              "           ░           └───┘     └───┘└───┘ ░ └╥┘ ║  ║  ║  ║ \n",
              "c: 5/══════════════════════════════════════════╩══╩══╩══╩══╩═\n",
              "                                               0  1  2  3  4 "
            ],
            "text/html": [
              "<pre style=\"word-wrap: normal;white-space: pre;background: #fff0;line-height: 1.1;font-family: &quot;Courier New&quot;,Courier,monospace\">     ┌───┐ ░                                ░             ┌─┐\n",
              "q_0: ┤ X ├─░───■─────────■─────────■────────░─────────────┤M├\n",
              "     ├───┤ ░   │         │         │        ░          ┌─┐└╥┘\n",
              "q_1: ┤ X ├─░───┼────■────■─────────┼────■───░──────────┤M├─╫─\n",
              "     └───┘ ░   │    │    │         │    │   ░       ┌─┐└╥┘ ║ \n",
              "q_2: ──────░───┼────┼────┼────■────■────■───░───────┤M├─╫──╫─\n",
              "           ░ ┌─┴─┐┌─┴─┐  │  ┌─┴─┐  │    │   ░    ┌─┐└╥┘ ║  ║ \n",
              "q_3: ──────░─┤ X ├┤ X ├──┼──┤ X ├──┼────┼───░────┤M├─╫──╫──╫─\n",
              "           ░ └───┘└───┘┌─┴─┐└───┘┌─┴─┐┌─┴─┐ ░ ┌─┐└╥┘ ║  ║  ║ \n",
              "q_4: ──────░───────────┤ X ├─────┤ X ├┤ X ├─░─┤M├─╫──╫──╫──╫─\n",
              "           ░           └───┘     └───┘└───┘ ░ └╥┘ ║  ║  ║  ║ \n",
              "c: 5/══════════════════════════════════════════╩══╩══╩══╩══╩═\n",
              "                                               0  1  2  3  4 </pre>"
            ]
          },
          "metadata": {},
          "execution_count": 20
        }
      ]
    },
    {
      "cell_type": "code",
      "source": [
        "from qiskit.providers.jobstatus import JobStatus\n",
        "import time\n",
        "\n",
        "job = backend.run(trans_qc, shots=1024)\n",
        "\n",
        "print(\"Job ID is\", job.job_id(),\"\\n\")\n",
        "\n",
        "# 제출된 잡에 대한 지속적인 실행 상태 확인\n",
        "#while job.status() is not JobStatus.DONE:\n",
        "#\tprint(\"Job status is\", job.status() )\n",
        "#\ttime.sleep(2)\n",
        "###while"
      ],
      "metadata": {
        "colab": {
          "base_uri": "https://localhost:8080/"
        },
        "id": "fbj-_FDLV2wL",
        "outputId": "5da89b9b-1ef7-4e10-eb1f-1449f0383f44"
      },
      "execution_count": null,
      "outputs": [
        {
          "output_type": "stream",
          "name": "stderr",
          "text": [
            "/usr/local/lib/python3.11/dist-packages/qiskit_braket_provider/providers/adapter.py:582: UserWarning: The Qiskit circuit contains barrier instructions that are ignored.\n",
            "  warnings.warn(\n"
          ]
        },
        {
          "output_type": "stream",
          "name": "stdout",
          "text": [
            "Job ID is arn:aws:braket:us-east-1:590183937332:quantum-task/5a625007-cde0-4ef9-a08b-fba83a02024d \n",
            "\n"
          ]
        }
      ]
    },
    {
      "cell_type": "code",
      "source": [
        "print(\"Job status is\", job.status() )"
      ],
      "metadata": {
        "id": "6TpCediwnwe9",
        "outputId": "5f2f3897-24b8-41db-b4c7-43da2931f8f0",
        "colab": {
          "base_uri": "https://localhost:8080/"
        }
      },
      "execution_count": null,
      "outputs": [
        {
          "output_type": "stream",
          "name": "stdout",
          "text": [
            "Job status is JobStatus.DONE\n"
          ]
        }
      ]
    },
    {
      "cell_type": "code",
      "source": [
        "# 중간에 세션이 종료된 경우 기존에 실행이 완료된 Job을 복구하는 방법\n",
        "#job = backend.retrieve_job(\"arn:aws:braket:us-east-1:746669231099:quantum-task/f6fab6be-1590-4da0-914a-fade74efc485\")"
      ],
      "metadata": {
        "id": "uiCBc1tfnSMC"
      },
      "execution_count": null,
      "outputs": []
    },
    {
      "cell_type": "code",
      "source": [
        "result = job.result()\n",
        "result"
      ],
      "metadata": {
        "id": "Ur_wQg-kxLLq",
        "outputId": "18fae88d-9ebf-4095-e972-753778dddb44",
        "colab": {
          "base_uri": "https://localhost:8080/"
        }
      },
      "execution_count": null,
      "outputs": [
        {
          "output_type": "execute_result",
          "data": {
            "text/plain": [
              "Result(backend_name='SV1', backend_version='2', qobj_id='0', job_id='arn:aws:braket:us-east-1:590183937332:quantum-task/5a625007-cde0-4ef9-a08b-fba83a02024d', success=True, results=[ExperimentResult(shots=1024, success=True, meas_level=2, data=ExperimentResultData(counts={'10011': 1024}, memory=['10011', '10011', '10011', '10011', '10011', '10011', '10011', '10011', '10011', '10011', '10011', '10011', '10011', '10011', '10011', '10011', '10011', '10011', '10011', '10011', '10011', '10011', '10011', '10011', '10011', '10011', '10011', '10011', '10011', '10011', '10011', '10011', '10011', '10011', '10011', '10011', '10011', '10011', '10011', '10011', '10011', '10011', '10011', '10011', '10011', '10011', '10011', '10011', '10011', '10011', '10011', '10011', '10011', '10011', '10011', '10011', '10011', '10011', '10011', '10011', '10011', '10011', '10011', '10011', '10011', '10011', '10011', '10011', '10011', '10011', '10011', '10011', '10011', '10011', '10011', '10011', '10011', '10011', '10011', '10011', '10011', '10011', '10011', '10011', '10011', '10011', '10011', '10011', '10011', '10011', '10011', '10011', '10011', '10011', '10011', '10011', '10011', '10011', '10011', '10011', '10011', '10011', '10011', '10011', '10011', '10011', '10011', '10011', '10011', '10011', '10011', '10011', '10011', '10011', '10011', '10011', '10011', '10011', '10011', '10011', '10011', '10011', '10011', '10011', '10011', '10011', '10011', '10011', '10011', '10011', '10011', '10011', '10011', '10011', '10011', '10011', '10011', '10011', '10011', '10011', '10011', '10011', '10011', '10011', '10011', '10011', '10011', '10011', '10011', '10011', '10011', '10011', '10011', '10011', '10011', '10011', '10011', '10011', '10011', '10011', '10011', '10011', '10011', '10011', '10011', '10011', '10011', '10011', '10011', '10011', '10011', '10011', '10011', '10011', '10011', '10011', '10011', '10011', '10011', '10011', '10011', '10011', '10011', '10011', '10011', '10011', '10011', '10011', '10011', '10011', '10011', '10011', '10011', '10011', '10011', '10011', '10011', '10011', '10011', '10011', '10011', '10011', '10011', '10011', '10011', '10011', '10011', '10011', '10011', '10011', '10011', '10011', '10011', '10011', '10011', '10011', '10011', '10011', '10011', '10011', '10011', '10011', '10011', '10011', '10011', '10011', '10011', '10011', '10011', '10011', '10011', '10011', '10011', '10011', '10011', '10011', '10011', '10011', '10011', '10011', '10011', '10011', '10011', '10011', '10011', '10011', '10011', '10011', '10011', '10011', '10011', '10011', '10011', '10011', '10011', '10011', '10011', '10011', '10011', '10011', '10011', '10011', '10011', '10011', '10011', '10011', '10011', '10011', '10011', '10011', '10011', '10011', '10011', '10011', '10011', '10011', '10011', '10011', '10011', '10011', '10011', '10011', '10011', '10011', '10011', '10011', '10011', '10011', '10011', '10011', '10011', '10011', '10011', '10011', '10011', '10011', '10011', '10011', '10011', '10011', '10011', '10011', '10011', '10011', '10011', '10011', '10011', '10011', '10011', '10011', '10011', '10011', '10011', '10011', '10011', '10011', '10011', '10011', '10011', '10011', '10011', '10011', '10011', '10011', '10011', '10011', '10011', '10011', '10011', '10011', '10011', '10011', '10011', '10011', '10011', '10011', '10011', '10011', '10011', '10011', '10011', '10011', '10011', '10011', '10011', '10011', '10011', '10011', '10011', '10011', '10011', '10011', '10011', '10011', '10011', '10011', '10011', '10011', '10011', '10011', '10011', '10011', '10011', '10011', '10011', '10011', '10011', '10011', '10011', '10011', '10011', '10011', '10011', '10011', '10011', '10011', '10011', '10011', '10011', '10011', '10011', '10011', '10011', '10011', '10011', '10011', '10011', '10011', '10011', '10011', '10011', '10011', '10011', '10011', '10011', '10011', '10011', '10011', '10011', '10011', '10011', '10011', '10011', '10011', '10011', '10011', '10011', '10011', '10011', '10011', '10011', '10011', '10011', '10011', '10011', '10011', '10011', '10011', '10011', '10011', '10011', '10011', '10011', '10011', '10011', '10011', '10011', '10011', '10011', '10011', '10011', '10011', '10011', '10011', '10011', '10011', '10011', '10011', '10011', '10011', '10011', '10011', '10011', '10011', '10011', '10011', '10011', '10011', '10011', '10011', '10011', '10011', '10011', '10011', '10011', '10011', '10011', '10011', '10011', '10011', '10011', '10011', '10011', '10011', '10011', '10011', '10011', '10011', '10011', '10011', '10011', '10011', '10011', '10011', '10011', '10011', '10011', '10011', '10011', '10011', '10011', '10011', '10011', '10011', '10011', '10011', '10011', '10011', '10011', '10011', '10011', '10011', '10011', '10011', '10011', '10011', '10011', '10011', '10011', '10011', '10011', '10011', '10011', '10011', '10011', '10011', '10011', '10011', '10011', '10011', '10011', '10011', '10011', '10011', '10011', '10011', '10011', '10011', '10011', '10011', '10011', '10011', '10011', '10011', '10011', '10011', '10011', '10011', '10011', '10011', '10011', '10011', '10011', '10011', '10011', '10011', '10011', '10011', '10011', '10011', '10011', '10011', '10011', '10011', '10011', '10011', '10011', '10011', '10011', '10011', '10011', '10011', '10011', '10011', '10011', '10011', '10011', '10011', '10011', '10011', '10011', '10011', '10011', '10011', '10011', '10011', '10011', '10011', '10011', '10011', '10011', '10011', '10011', '10011', '10011', '10011', '10011', '10011', '10011', '10011', '10011', '10011', '10011', '10011', '10011', '10011', '10011', '10011', '10011', '10011', '10011', '10011', '10011', '10011', '10011', '10011', '10011', '10011', '10011', '10011', '10011', '10011', '10011', '10011', '10011', '10011', '10011', '10011', '10011', '10011', '10011', '10011', '10011', '10011', '10011', '10011', '10011', '10011', '10011', '10011', '10011', '10011', '10011', '10011', '10011', '10011', '10011', '10011', '10011', '10011', '10011', '10011', '10011', '10011', '10011', '10011', '10011', '10011', '10011', '10011', '10011', '10011', '10011', '10011', '10011', '10011', '10011', '10011', '10011', '10011', '10011', '10011', '10011', '10011', '10011', '10011', '10011', '10011', '10011', '10011', '10011', '10011', '10011', '10011', '10011', '10011', '10011', '10011', '10011', '10011', '10011', '10011', '10011', '10011', '10011', '10011', '10011', '10011', '10011', '10011', '10011', '10011', '10011', '10011', '10011', '10011', '10011', '10011', '10011', '10011', '10011', '10011', '10011', '10011', '10011', '10011', '10011', '10011', '10011', '10011', '10011', '10011', '10011', '10011', '10011', '10011', '10011', '10011', '10011', '10011', '10011', '10011', '10011', '10011', '10011', '10011', '10011', '10011', '10011', '10011', '10011', '10011', '10011', '10011', '10011', '10011', '10011', '10011', '10011', '10011', '10011', '10011', '10011', '10011', '10011', '10011', '10011', '10011', '10011', '10011', '10011', '10011', '10011', '10011', '10011', '10011', '10011', '10011', '10011', '10011', '10011', '10011', '10011', '10011', '10011', '10011', '10011', '10011', '10011', '10011', '10011', '10011', '10011', '10011', '10011', '10011', '10011', '10011', '10011', '10011', '10011', '10011', '10011', '10011', '10011', '10011', '10011', '10011', '10011', '10011', '10011', '10011', '10011', '10011', '10011', '10011', '10011', '10011', '10011', '10011', '10011', '10011', '10011', '10011', '10011', '10011', '10011', '10011', '10011', '10011', '10011', '10011', '10011', '10011', '10011', '10011', '10011', '10011', '10011', '10011', '10011', '10011', '10011', '10011', '10011', '10011', '10011', '10011', '10011', '10011', '10011', '10011', '10011', '10011', '10011', '10011', '10011', '10011', '10011', '10011', '10011', '10011', '10011', '10011', '10011', '10011', '10011', '10011', '10011', '10011', '10011', '10011', '10011', '10011', '10011', '10011', '10011', '10011', '10011', '10011', '10011', '10011', '10011', '10011', '10011', '10011', '10011', '10011', '10011', '10011', '10011', '10011', '10011', '10011', '10011', '10011', '10011', '10011', '10011', '10011', '10011', '10011', '10011', '10011', '10011', '10011', '10011', '10011', '10011', '10011', '10011', '10011', '10011', '10011', '10011', '10011', '10011', '10011', '10011', '10011', '10011', '10011', '10011', '10011', '10011', '10011', '10011', '10011', '10011', '10011', '10011', '10011', '10011', '10011', '10011', '10011', '10011', '10011', '10011', '10011', '10011', '10011', '10011', '10011', '10011', '10011', '10011', '10011', '10011', '10011', '10011', '10011', '10011', '10011', '10011', '10011', '10011', '10011', '10011', '10011', '10011', '10011', '10011', '10011', '10011', '10011', '10011', '10011', '10011', '10011', '10011', '10011', '10011', '10011', '10011', '10011', '10011', '10011', '10011', '10011', '10011', '10011', '10011', '10011', '10011', '10011', '10011', '10011', '10011', '10011', '10011', '10011', '10011', '10011', '10011', '10011', '10011', '10011', '10011', '10011', '10011', '10011', '10011', '10011', '10011', '10011', '10011', '10011', '10011', '10011', '10011', '10011', '10011', '10011', '10011', '10011', '10011', '10011', '10011', '10011', '10011', '10011', '10011', '10011', '10011', '10011', '10011', '10011', '10011', '10011', '10011', '10011', '10011', '10011', '10011', '10011', '10011', '10011', '10011', '10011', '10011', '10011', '10011', '10011', '10011', '10011', '10011', '10011', '10011', '10011', '10011', '10011', '10011', '10011']), status=COMPLETED)], date=None, status=JobStatus.DONE, header=None)"
            ]
          },
          "metadata": {},
          "execution_count": 23
        }
      ]
    },
    {
      "cell_type": "code",
      "source": [
        "# 결과 출력\n",
        "counts = result.get_counts()\n",
        "print(counts)"
      ],
      "metadata": {
        "id": "zwAc_6uRjjPa",
        "outputId": "e19fad0e-988b-411c-86d5-e002bcdcc5f5",
        "colab": {
          "base_uri": "https://localhost:8080/"
        }
      },
      "execution_count": null,
      "outputs": [
        {
          "output_type": "stream",
          "name": "stdout",
          "text": [
            "{'10011': 1024}\n"
          ]
        }
      ]
    },
    {
      "cell_type": "code",
      "source": [
        "from qiskit.visualization import plot_histogram\n",
        "plot_histogram(data=counts)"
      ],
      "metadata": {
        "colab": {
          "base_uri": "https://localhost:8080/",
          "height": 462
        },
        "id": "hYn_-AuCWCHY",
        "outputId": "810e94f3-62b1-4276-8c70-a38aa1289cbb"
      },
      "execution_count": null,
      "outputs": [
        {
          "output_type": "execute_result",
          "data": {
            "text/plain": [
              "<Figure size 640x480 with 1 Axes>"
            ],
            "image/png": "[encoded data removed]"
          },
          "metadata": {},
          "execution_count": 25
        }
      ]
    },
    {
      "cell_type": "code",
      "source": [
        "print(\"Quantum Task Summary\\n\")\n",
        "print(t.quantum_tasks_statistics())\n",
        "print('\\nNote: Charges shown are estimates based on your Amazon Braket simulator and quantum processing unit (QPU) task usage. \\nEstimated charges shown may differ from your actual charges. \\nEstimated charges do not factor in any discounts or credits, \\nand you may experience additional charges based on your use of other services such as Amazon Elastic Compute Cloud (Amazon EC2).')\n",
        "print(f\"\\nEstimated cost to run this example: {t.qpu_tasks_cost() + t.simulator_tasks_cost():.2f} USD\")"
      ],
      "metadata": {
        "colab": {
          "base_uri": "https://localhost:8080/"
        },
        "id": "vOjIFGML9IXu",
        "outputId": "2db2ab4b-c92c-46d7-cf66-e522a6092684"
      },
      "execution_count": null,
      "outputs": [
        {
          "output_type": "stream",
          "name": "stdout",
          "text": [
            "Quantum Task Summary\n",
            "\n",
            "{'arn:aws:braket:::device/quantum-simulator/amazon/sv1': {'shots': 2048, 'tasks': {'COMPLETED': 2}, 'execution_duration': datetime.timedelta(microseconds=3000), 'billed_execution_duration': datetime.timedelta(seconds=3)}}\n",
            "\n",
            "Note: Charges shown are estimates based on your Amazon Braket simulator and quantum processing unit (QPU) task usage. \n",
            "Estimated charges shown may differ from your actual charges. \n",
            "Estimated charges do not factor in any discounts or credits, \n",
            "and you may experience additional charges based on your use of other services such as Amazon Elastic Compute Cloud (Amazon EC2).\n",
            "\n",
            "Estimated cost to run this example: 0.00 USD\n"
          ]
        }
      ]
    }
  ]
}